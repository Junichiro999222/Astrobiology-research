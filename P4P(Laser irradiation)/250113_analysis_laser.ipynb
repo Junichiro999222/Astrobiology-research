{
 "cells": [
  {
   "cell_type": "code",
   "execution_count": 37,
   "id": "c17aa878-0740-4bbb-a801-41ebf881203e",
   "metadata": {},
   "outputs": [],
   "source": [
    "def read_binary_with_structure(file_path, x_range=0, y_range=0):\n",
    "\n",
    "    with open(file_path, \"rb\") as f:\n",
    "        # === 1. 時間を読み取る ===\n",
    "        ttime = np.fromfile(f, dtype=np.float32, count=2)[1]\n",
    "\n",
    "        # === 2. nx, ny を読み取る ===\n",
    "        nx, ny = np.fromfile(f, dtype=np.int32, count=2)\n",
    "        # print(\"step_time:\",ttime,\"[s]\")\n",
    "        # print(\"nx\",nx,\"ny\",ny)\n",
    "\n",
    "        # 範囲インデックス\n",
    "        if  x_range==0 and y_range==0:\n",
    "          x_min, x_max = [0,nx]\n",
    "          y_min, y_max = [0,ny]\n",
    "        else:    \n",
    "          x_min, x_max = x_range\n",
    "          y_min, y_max = y_range\n",
    "        # print(\"x_min\",x_min,\"x_max\",x_max,\"y_min\",y_min,\"y_max\",y_max)\n",
    "        # print(\"x_range\",range(x_min, x_max))\n",
    "        # === 3. x4, y4 の読み取り ===\n",
    "        x4 = np.fromfile(f, dtype=np.float32, count=nx+1)*1e-2\n",
    "        y4 = np.fromfile(f, dtype=np.float32, count=ny+1)[1:]*1e-2\n",
    "        u4 = np.fromfile(f, dtype=np.float32, count=(nx+1)*(ny+1)).reshape((nx+1,ny+1), order='F')[:,1:]*1e-2\n",
    "        v4 = np.fromfile(f, dtype=np.float32, count=(nx+1)*(ny+1)).reshape((nx+1,ny+1), order='F')[:,1:]*1e-2\n",
    "\n",
    "        # print(\"x4_len\",len(x4))\n",
    "        # print(\"y4_len\",len(y4))\n",
    "        # print(\"x4\",x4[0:3])\n",
    "        # print(\"y4\",y4[0:3])\n",
    "\n",
    "        # === 4. 2次元配列 (rh4, p4, te4, ti4, zi4) の読み取り ===\n",
    "        def read_2d_array():\n",
    "            return np.fromfile(f, dtype=np.float32, count=(nx) * (ny)).reshape((nx,ny), order='F')[:,1:]\n",
    "        rh4 = read_2d_array()\n",
    "        p4 = read_2d_array()*1e-1\n",
    "        te4 = read_2d_array()\n",
    "        ti4 = read_2d_array()        \n",
    "        zi4 = read_2d_array()\n",
    "        # print(\"p4_shape\",p4.shape)\n",
    "\n",
    "\n",
    "        # === 5. mtldb (整数型2次元配列) の読み取り ===\n",
    "        mtldb = np.fromfile(f, dtype=np.int32, count=(nx) * (ny)).reshape((nx,ny), order='F')[:,1:]\n",
    "\n",
    "        # === 6. その他 (aaomtl, wlaserwrite, flsr) の読み取り ===\n",
    "        aaomtl = np.fromfile(f, dtype=np.float32, count=3)\n",
    "        wlaserwrite = np.fromfile(f, dtype=np.float32, count=1)[0]\n",
    "        flsr = np.fromfile(f, dtype=np.float32, count=1)[0]\n",
    "        # print(\"aaomtl\",aaomtl)\n",
    "        # print(\"wlaserwrite\",wlaserwrite)\n",
    "        # print(\"flsr\",flsr)\n",
    "        nrx1 = np.fromfile(f, dtype=np.float32,count=1)[0]\n",
    "        nrx2 = np.fromfile(f, dtype=np.float32,count=1)[0]\n",
    "        nrx3 = np.fromfile(f, dtype=np.float32,count=1)[0]\n",
    "        nrx4 = np.fromfile(f, dtype=np.float32,count=1)[0]\n",
    "        nrx5 = np.fromfile(f, dtype=np.float32,count=1)[0]\n",
    "        jjfine = np.fromfile(f, dtype=np.float32,count=1)[0]\n",
    "        rtthick = np.fromfile(f, dtype=np.float32,count=1)[0]*1e-2\n",
    "        xleft = np.fromfile(f, dtype=np.float32,count=1)[0]*1e-2\n",
    "        xright = np.fromfile(f, dtype=np.float32,count=1)[0]*1e-2\n",
    "        finemesh = np.fromfile(f, dtype=np.float32,count=1)[0]*1e-2\n",
    "        y_out = np.fromfile(f, dtype=np.float32,count=1)[0]*1e-2\n",
    "        rhsp14 = read_2d_array()\n",
    "        rhsp24 = read_2d_array()\n",
    "        rhsp34 = read_2d_array()\n",
    "        x4 = x4-rtthick\n",
    "        \n",
    "\n",
    "        xc = np.zeros((nx, ny-1), dtype=np.float32)\n",
    "        yc = np.zeros((nx, ny-1), dtype=np.float32)\n",
    "        uc = np.zeros((nx, ny-1), dtype=np.float32)\n",
    "        vc = np.zeros((nx, ny-1), dtype=np.float32)\n",
    "        ent = np.zeros((nx, ny-1), dtype=np.float32)\n",
    "        one = np.ones((nx, ny-1), dtype=np.float32)\n",
    "\n",
    "        for j in range(0, ny-1):\n",
    "          for i in range(0, nx):\n",
    "            xc[i,j]=(x4[i]+x4[i+1])*0.5\n",
    "            yc[i,j]=(y4[j]+y4[j+1])*0.5\n",
    "            uc[i,j]=(u4[i,j]+u4[i+1,j]+u4[i,j+1]+u4[i+1,j+1])*0.25\n",
    "            vc[i,j]=(v4[i,j]+v4[i+1,j]+v4[i,j+1]+v4[i+1,j+1])*0.25\n",
    "            if mtldb[i,j] == 1 :\n",
    "              ent[i,j]=rh4[i,j]/1.6726e-24*zi4[i,j]/aaomtl[0]\n",
    "            if mtldb[i,j] == 2 :\n",
    "              ent[i,j]=rh4[i,j]/1.6726e-24*zi4[i,j]/aaomtl[1]\n",
    "            if mtldb[i,j] == 3 :\n",
    "              ent[i,j]=rh4[i,j]/1.6726e-24*zi4[i,j]/aaomtl[2]\n",
    "        # print(\"xc_shape\",xc.shape)\n",
    "        # print(\"yc_shape\",yc.shape)\n",
    "        # print(\"xc\",xc[0:3,0:3])\n",
    "        # print(\"yc\",yc[0:3,0:3])\n",
    "\n",
    "        # 指定範囲を抽出\n",
    "        xc = xc[x_min:x_max+1,y_min:y_max+1]\n",
    "        yc = yc[x_min:x_max+1,y_min:y_max+1]\n",
    "        ent = ent[x_min:x_max+1,y_min:y_max+1]\n",
    "        rh4 = rh4[x_min:x_max+1, y_min:y_max+1]\n",
    "        p4 = p4[x_min:x_max+1, y_min:y_max+1]\n",
    "        te4 = te4[x_min:x_max+1, y_min:y_max+1]\n",
    "        ti4 = ti4[x_min:x_max+1, y_min:y_max+1]\n",
    "        zi4 = zi4[x_min:x_max+1, y_min:y_max+1]\n",
    "        mtldb = mtldb[x_min:x_max+1, y_min:y_max+1]\n",
    "        one = one[x_min:x_max+1, y_min:y_max+1]\n",
    "        rh14 = rh4[x_min:x_max+1, y_min:y_max+1]\n",
    "        rh24 = rh4[x_min:x_max+1, y_min:y_max+1]\n",
    "        rh34 = rh4[x_min:x_max+1, y_min:y_max+1]\n",
    "\n",
    "        # print(\"xc_shape\",xc.shape)\n",
    "        # print(\"yc_shape\",yc.shape)\n",
    "\n",
    "    # データを辞書形式で返す\n",
    "    return {\n",
    "        \"time\": ttime,\n",
    "        \"nx\": nx,\n",
    "        \"ny\": ny,\n",
    "        \"x\": xc,\n",
    "        \"y\": yc,\n",
    "        \"u\": u4,\n",
    "        \"v\": v4,\n",
    "        \"rho\": rh4,\n",
    "        \"en\": ent,\n",
    "        \"P\": p4,\n",
    "        \"te\": te4,\n",
    "        \"ti\": ti4,\n",
    "        \"zi\": zi4,\n",
    "        \"mtl\": mtldb,\n",
    "        \"Target_mol\":aaomtl[1],\n",
    "        \"Projectile_mol\":aaomtl[2],\n",
    "        \"ambience_mol\": aaomtl[0],\n",
    "        \"wlaserwrite\": wlaserwrite,\n",
    "        \"flsr\": flsr,\n",
    "        \"one\": one,\n",
    "        \"nrx1\":nrx1,\n",
    "        \"nrx2\":nrx2,\n",
    "        \"nrx3\":nrx3,\n",
    "        \"nrx4\":nrx4,\n",
    "        \"nrx5\":nrx5,\n",
    "        \"jjfine\":jjfine,\n",
    "        \"rtthick\":rtthick,\n",
    "        \"xleft\":xleft,\n",
    "        \"xright\":xright,\n",
    "        \"finemesh\":finemesh,\n",
    "        \"y_out\":y_out,\n",
    "        \"rhosp1\": rhsp14,\n",
    "        \"rhosp2\": rhsp24,\n",
    "        \"rhosp1\": rhsp34,\n",
    "        \n",
    "    }\n",
    "#Output units\n",
    "# x, y : 座標(m)\n",
    "# u, v : 流速 (m/s)\n",
    "# rho : 密度 (g/cc)\n",
    "# en : 電子数密度(個/cc)\n",
    "# P : 圧力 (Pa)\n",
    "# te : 電子温度 (eV)\n",
    "# ti : イオン温度(eV)\n",
    "# zi : 電離度\n",
    "# mtl : 物質追跡"
   ]
  },
  {
   "cell_type": "code",
   "execution_count": 39,
   "id": "857cc0db-6809-44ef-bcfe-358fcbf750c7",
   "metadata": {},
   "outputs": [
    {
     "data": {
      "text/plain": [
       "0.0"
      ]
     },
     "execution_count": 39,
     "metadata": {},
     "output_type": "execute_result"
    }
   ],
   "source": [
    "rtthick"
   ]
  },
  {
   "cell_type": "code",
   "execution_count": 44,
   "id": "1d5cd3a4-66de-4cfb-aaa6-3cd47edc9589",
   "metadata": {
    "scrolled": true
   },
   "outputs": [
    {
     "name": "stdout",
     "output_type": "stream",
     "text": [
      "\n",
      "\n",
      "#################################\n",
      "#### P4P_images.py ####\n",
      "#################################\n",
      "\n",
      "file_number : 302\n"
     ]
    },
    {
     "name": "stderr",
     "output_type": "stream",
     "text": [
      "/tmp/ipykernel_92904/2186676940.py:69: RuntimeWarning: invalid value encountered in scalar divide\n",
      "  grid_x = rtthick/(nrx3-nrx2)\n"
     ]
    },
    {
     "name": "stdout",
     "output_type": "stream",
     "text": [
      "target_density : 1.67e+01 [g/cc]\n",
      "projectile_density : 1.00e+00 [g/cc]\n",
      "ambience_initial_ionization_degree: 0.030200502\n",
      "Target_initial_ionization_degree: 6.1757\n",
      "projectile_initial_ionization_degree: 1.2348983\n",
      "xleft: -54.5 [um],  xright: 262.6 [um], y_max: 297.5 [um]\n",
      "extract_xleft: -50 [um], extract_xright: 200 [um], extract_y_max: 200 [um]\n",
      "If the extract region reaches the extended zone, this estimate of the extract resion is not precise.\n",
      "\n",
      "----- start loading -----\n",
      "step: 0      file: ./BIN_laser_18/u0000.bin      time: 0.0 [s]\n",
      "-------------------------\n",
      "step: 1      file: ./BIN_laser_18/u0001.bin      time: 0.0 [s]\n",
      "-------------------------\n",
      "step: 2      file: ./BIN_laser_18/u0002.bin      time: 5.200791e-11 [s]\n",
      "-------------------------\n",
      "step: 3      file: ./BIN_laser_18/u0003.bin      time: 1.01946465e-10 [s]\n",
      "-------------------------\n",
      "step: 4      file: ./BIN_laser_18/u0004.bin      time: 1.5464345e-10 [s]\n",
      "-------------------------\n",
      "step: 5      file: ./BIN_laser_18/u0005.bin      time: 2.0044394e-10 [s]\n",
      "-------------------------\n",
      "step: 6      file: ./BIN_laser_18/u0006.bin      time: 2.5208058e-10 [s]\n",
      "-------------------------\n"
     ]
    },
    {
     "name": "stderr",
     "output_type": "stream",
     "text": [
      "/tmp/ipykernel_92904/2186676940.py:232: RuntimeWarning: More than 20 figures have been opened. Figures created through the pyplot interface (`matplotlib.pyplot.figure`) are retained until explicitly closed and may consume too much memory. (To control this warning, see the rcParam `figure.max_open_warning`). Consider using `matplotlib.pyplot.close()`.\n",
      "  fig=plt.figure(figsize=(8,6))\n"
     ]
    },
    {
     "name": "stdout",
     "output_type": "stream",
     "text": [
      "step: 7      file: ./BIN_laser_18/u0007.bin      time: 3.0021108e-10 [s]\n",
      "-------------------------\n",
      "step: 8      file: ./BIN_laser_18/u0008.bin      time: 3.509397e-10 [s]\n",
      "-------------------------\n",
      "step: 9      file: ./BIN_laser_18/u0009.bin      time: 4.0100873e-10 [s]\n",
      "-------------------------\n",
      "step: 10      file: ./BIN_laser_18/u0010.bin      time: 4.5001142e-10 [s]\n",
      "-------------------------\n",
      "step: 11      file: ./BIN_laser_18/u0011.bin      time: 5.0069626e-10 [s]\n",
      "-------------------------\n",
      "step: 12      file: ./BIN_laser_18/u0012.bin      time: 5.503842e-10 [s]\n",
      "-------------------------\n",
      "step: 13      file: ./BIN_laser_18/u0013.bin      time: 6.000151e-10 [s]\n",
      "-------------------------\n",
      "step: 14      file: ./BIN_laser_18/u0014.bin      time: 6.502036e-10 [s]\n",
      "-------------------------\n",
      "step: 15      file: ./BIN_laser_18/u0015.bin      time: 7.00265e-10 [s]\n",
      "-------------------------\n",
      "step: 16      file: ./BIN_laser_18/u0016.bin      time: 7.500997e-10 [s]\n",
      "-------------------------\n",
      "step: 17      file: ./BIN_laser_18/u0017.bin      time: 8.0018664e-10 [s]\n",
      "-------------------------\n",
      "step: 18      file: ./BIN_laser_18/u0018.bin      time: 8.50241e-10 [s]\n",
      "-------------------------\n",
      "step: 19      file: ./BIN_laser_18/u0019.bin      time: 9.0028546e-10 [s]\n",
      "-------------------------\n",
      "step: 20      file: ./BIN_laser_18/u0020.bin      time: 9.500244e-10 [s]\n",
      "-------------------------\n",
      "step: 21      file: ./BIN_laser_18/u0021.bin      time: 1.0002742e-09 [s]\n",
      "-------------------------\n",
      "step: 22      file: ./BIN_laser_18/u0022.bin      time: 1.0502705e-09 [s]\n",
      "-------------------------\n",
      "step: 23      file: ./BIN_laser_18/u0023.bin      time: 1.1001092e-09 [s]\n",
      "-------------------------\n",
      "step: 24      file: ./BIN_laser_18/u0024.bin      time: 1.150175e-09 [s]\n",
      "-------------------------\n",
      "step: 25      file: ./BIN_laser_18/u0025.bin      time: 1.2000185e-09 [s]\n",
      "-------------------------\n",
      "step: 26      file: ./BIN_laser_18/u0026.bin      time: 1.2500557e-09 [s]\n",
      "-------------------------\n",
      "step: 27      file: ./BIN_laser_18/u0027.bin      time: 1.3000263e-09 [s]\n",
      "-------------------------\n",
      "step: 28      file: ./BIN_laser_18/u0028.bin      time: 1.3502198e-09 [s]\n",
      "-------------------------\n",
      "step: 29      file: ./BIN_laser_18/u0029.bin      time: 1.4002866e-09 [s]\n",
      "-------------------------\n",
      "step: 30      file: ./BIN_laser_18/u0030.bin      time: 1.4502138e-09 [s]\n",
      "-------------------------\n",
      "step: 31      file: ./BIN_laser_18/u0031.bin      time: 1.5002616e-09 [s]\n",
      "-------------------------\n",
      "step: 32      file: ./BIN_laser_18/u0032.bin      time: 1.5500665e-09 [s]\n",
      "-------------------------\n",
      "step: 33      file: ./BIN_laser_18/u0033.bin      time: 1.6002487e-09 [s]\n",
      "-------------------------\n",
      "step: 34      file: ./BIN_laser_18/u0034.bin      time: 1.6500652e-09 [s]\n",
      "-------------------------\n",
      "step: 35      file: ./BIN_laser_18/u0035.bin      time: 1.7000732e-09 [s]\n",
      "-------------------------\n",
      "step: 36      file: ./BIN_laser_18/u0036.bin      time: 1.7500914e-09 [s]\n",
      "-------------------------\n",
      "step: 37      file: ./BIN_laser_18/u0037.bin      time: 1.8001883e-09 [s]\n",
      "-------------------------\n",
      "step: 38      file: ./BIN_laser_18/u0038.bin      time: 1.8500869e-09 [s]\n",
      "-------------------------\n",
      "step: 39      file: ./BIN_laser_18/u0039.bin      time: 1.9000541e-09 [s]\n",
      "-------------------------\n",
      "step: 40      file: ./BIN_laser_18/u0040.bin      time: 1.9500872e-09 [s]\n",
      "-------------------------\n",
      "step: 41      file: ./BIN_laser_18/u0041.bin      time: 2.000169e-09 [s]\n",
      "-------------------------\n",
      "step: 42      file: ./BIN_laser_18/u0042.bin      time: 2.0502473e-09 [s]\n",
      "-------------------------\n",
      "step: 43      file: ./BIN_laser_18/u0043.bin      time: 2.1001563e-09 [s]\n",
      "-------------------------\n",
      "step: 44      file: ./BIN_laser_18/u0044.bin      time: 2.150137e-09 [s]\n",
      "-------------------------\n",
      "step: 45      file: ./BIN_laser_18/u0045.bin      time: 2.2001878e-09 [s]\n",
      "-------------------------\n",
      "step: 46      file: ./BIN_laser_18/u0046.bin      time: 2.2501754e-09 [s]\n",
      "-------------------------\n",
      "step: 47      file: ./BIN_laser_18/u0047.bin      time: 2.300157e-09 [s]\n",
      "-------------------------\n",
      "step: 48      file: ./BIN_laser_18/u0048.bin      time: 2.3500377e-09 [s]\n",
      "-------------------------\n",
      "step: 49      file: ./BIN_laser_18/u0049.bin      time: 2.4000386e-09 [s]\n",
      "-------------------------\n",
      "step: 50      file: ./BIN_laser_18/u0050.bin      time: 2.450015e-09 [s]\n",
      "-------------------------\n",
      "step: 51      file: ./BIN_laser_18/u0051.bin      time: 2.5002187e-09 [s]\n",
      "-------------------------\n",
      "step: 52      file: ./BIN_laser_18/u0052.bin      time: 2.5501532e-09 [s]\n",
      "-------------------------\n",
      "step: 53      file: ./BIN_laser_18/u0053.bin      time: 2.6000777e-09 [s]\n",
      "-------------------------\n",
      "step: 54      file: ./BIN_laser_18/u0054.bin      time: 2.6501195e-09 [s]\n",
      "-------------------------\n",
      "step: 55      file: ./BIN_laser_18/u0055.bin      time: 2.7002083e-09 [s]\n",
      "-------------------------\n",
      "step: 56      file: ./BIN_laser_18/u0056.bin      time: 2.7501972e-09 [s]\n",
      "-------------------------\n",
      "step: 57      file: ./BIN_laser_18/u0057.bin      time: 2.8001947e-09 [s]\n",
      "-------------------------\n",
      "step: 58      file: ./BIN_laser_18/u0058.bin      time: 2.850059e-09 [s]\n",
      "-------------------------\n",
      "step: 59      file: ./BIN_laser_18/u0059.bin      time: 2.9000813e-09 [s]\n",
      "-------------------------\n",
      "step: 60      file: ./BIN_laser_18/u0060.bin      time: 2.9501421e-09 [s]\n",
      "-------------------------\n",
      "step: 61      file: ./BIN_laser_18/u0061.bin      time: 3.0001084e-09 [s]\n",
      "-------------------------\n",
      "step: 62      file: ./BIN_laser_18/u0062.bin      time: 3.0500393e-09 [s]\n",
      "-------------------------\n",
      "step: 63      file: ./BIN_laser_18/u0063.bin      time: 3.1000598e-09 [s]\n",
      "-------------------------\n",
      "step: 64      file: ./BIN_laser_18/u0064.bin      time: 3.1500702e-09 [s]\n",
      "-------------------------\n",
      "step: 65      file: ./BIN_laser_18/u0065.bin      time: 3.200045e-09 [s]\n",
      "-------------------------\n",
      "step: 66      file: ./BIN_laser_18/u0066.bin      time: 3.2501637e-09 [s]\n",
      "-------------------------\n",
      "step: 67      file: ./BIN_laser_18/u0067.bin      time: 3.3001109e-09 [s]\n",
      "-------------------------\n",
      "step: 68      file: ./BIN_laser_18/u0068.bin      time: 3.3500065e-09 [s]\n",
      "-------------------------\n",
      "step: 69      file: ./BIN_laser_18/u0069.bin      time: 3.4001437e-09 [s]\n",
      "-------------------------\n",
      "step: 70      file: ./BIN_laser_18/u0070.bin      time: 3.4501075e-09 [s]\n",
      "-------------------------\n",
      "step: 71      file: ./BIN_laser_18/u0071.bin      time: 3.500117e-09 [s]\n",
      "-------------------------\n",
      "step: 72      file: ./BIN_laser_18/u0072.bin      time: 3.5500318e-09 [s]\n",
      "-------------------------\n",
      "step: 73      file: ./BIN_laser_18/u0073.bin      time: 3.6000116e-09 [s]\n",
      "-------------------------\n",
      "step: 74      file: ./BIN_laser_18/u0074.bin      time: 3.6501322e-09 [s]\n",
      "-------------------------\n",
      "step: 75      file: ./BIN_laser_18/u0075.bin      time: 3.7001509e-09 [s]\n",
      "-------------------------\n",
      "step: 76      file: ./BIN_laser_18/u0076.bin      time: 3.750123e-09 [s]\n",
      "-------------------------\n",
      "step: 77      file: ./BIN_laser_18/u0077.bin      time: 3.8000145e-09 [s]\n",
      "-------------------------\n",
      "step: 78      file: ./BIN_laser_18/u0078.bin      time: 3.8500545e-09 [s]\n",
      "-------------------------\n",
      "step: 79      file: ./BIN_laser_18/u0079.bin      time: 3.9000345e-09 [s]\n",
      "-------------------------\n",
      "step: 80      file: ./BIN_laser_18/u0080.bin      time: 3.950167e-09 [s]\n",
      "-------------------------\n",
      "step: 81      file: ./BIN_laser_18/u0081.bin      time: 4.000056e-09 [s]\n",
      "-------------------------\n",
      "step: 82      file: ./BIN_laser_18/u0082.bin      time: 4.0501065e-09 [s]\n",
      "-------------------------\n",
      "step: 83      file: ./BIN_laser_18/u0083.bin      time: 4.1001265e-09 [s]\n",
      "-------------------------\n",
      "step: 84      file: ./BIN_laser_18/u0084.bin      time: 4.1501313e-09 [s]\n",
      "-------------------------\n",
      "step: 85      file: ./BIN_laser_18/u0085.bin      time: 4.200123e-09 [s]\n",
      "-------------------------\n",
      "step: 86      file: ./BIN_laser_18/u0086.bin      time: 4.2501225e-09 [s]\n",
      "-------------------------\n",
      "step: 87      file: ./BIN_laser_18/u0087.bin      time: 4.30013e-09 [s]\n",
      "-------------------------\n",
      "step: 88      file: ./BIN_laser_18/u0088.bin      time: 4.3501687e-09 [s]\n",
      "-------------------------\n",
      "step: 89      file: ./BIN_laser_18/u0089.bin      time: 4.400038e-09 [s]\n",
      "-------------------------\n",
      "step: 90      file: ./BIN_laser_18/u0090.bin      time: 4.450155e-09 [s]\n",
      "-------------------------\n",
      "step: 91      file: ./BIN_laser_18/u0091.bin      time: 4.500121e-09 [s]\n",
      "-------------------------\n",
      "step: 92      file: ./BIN_laser_18/u0092.bin      time: 4.5501447e-09 [s]\n",
      "-------------------------\n",
      "step: 93      file: ./BIN_laser_18/u0093.bin      time: 4.6000066e-09 [s]\n",
      "-------------------------\n",
      "step: 94      file: ./BIN_laser_18/u0094.bin      time: 4.650118e-09 [s]\n",
      "-------------------------\n",
      "step: 95      file: ./BIN_laser_18/u0095.bin      time: 4.700077e-09 [s]\n",
      "-------------------------\n",
      "step: 96      file: ./BIN_laser_18/u0096.bin      time: 4.7500923e-09 [s]\n",
      "-------------------------\n",
      "step: 97      file: ./BIN_laser_18/u0097.bin      time: 4.800152e-09 [s]\n",
      "-------------------------\n",
      "step: 98      file: ./BIN_laser_18/u0098.bin      time: 4.8500617e-09 [s]\n",
      "-------------------------\n",
      "step: 99      file: ./BIN_laser_18/u0099.bin      time: 4.900011e-09 [s]\n",
      "-------------------------\n",
      "step: 100      file: ./BIN_laser_18/u0100.bin      time: 4.95001e-09 [s]\n",
      "-------------------------\n",
      "step: 101      file: ./BIN_laser_18/u0101.bin      time: 5.0000697e-09 [s]\n",
      "-------------------------\n",
      "step: 102      file: ./BIN_laser_18/u0102.bin      time: 5.0501896e-09 [s]\n",
      "-------------------------\n",
      "step: 103      file: ./BIN_laser_18/u0103.bin      time: 5.100167e-09 [s]\n",
      "-------------------------\n",
      "step: 104      file: ./BIN_laser_18/u0104.bin      time: 5.1500035e-09 [s]\n",
      "-------------------------\n",
      "step: 105      file: ./BIN_laser_18/u0105.bin      time: 5.2001026e-09 [s]\n",
      "-------------------------\n",
      "step: 106      file: ./BIN_laser_18/u0106.bin      time: 5.2500666e-09 [s]\n",
      "-------------------------\n",
      "step: 107      file: ./BIN_laser_18/u0107.bin      time: 5.3001026e-09 [s]\n",
      "-------------------------\n",
      "step: 108      file: ./BIN_laser_18/u0108.bin      time: 5.350009e-09 [s]\n",
      "-------------------------\n",
      "step: 109      file: ./BIN_laser_18/u0109.bin      time: 5.400191e-09 [s]\n",
      "-------------------------\n",
      "step: 110      file: ./BIN_laser_18/u0110.bin      time: 5.450042e-09 [s]\n",
      "-------------------------\n",
      "step: 111      file: ./BIN_laser_18/u0111.bin      time: 5.5001723e-09 [s]\n",
      "-------------------------\n",
      "step: 112      file: ./BIN_laser_18/u0112.bin      time: 5.550173e-09 [s]\n",
      "-------------------------\n",
      "step: 113      file: ./BIN_laser_18/u0113.bin      time: 5.6000444e-09 [s]\n",
      "-------------------------\n",
      "step: 114      file: ./BIN_laser_18/u0114.bin      time: 5.6501888e-09 [s]\n",
      "-------------------------\n",
      "step: 115      file: ./BIN_laser_18/u0115.bin      time: 5.7002e-09 [s]\n",
      "-------------------------\n",
      "step: 116      file: ./BIN_laser_18/u0116.bin      time: 5.750073e-09 [s]\n",
      "-------------------------\n",
      "step: 117      file: ./BIN_laser_18/u0117.bin      time: 5.8000182e-09 [s]\n",
      "-------------------------\n",
      "step: 118      file: ./BIN_laser_18/u0118.bin      time: 5.8500293e-09 [s]\n",
      "-------------------------\n",
      "step: 119      file: ./BIN_laser_18/u0119.bin      time: 5.900105e-09 [s]\n",
      "-------------------------\n",
      "step: 120      file: ./BIN_laser_18/u0120.bin      time: 5.9500374e-09 [s]\n",
      "-------------------------\n",
      "step: 121      file: ./BIN_laser_18/u0121.bin      time: 6.0000303e-09 [s]\n",
      "-------------------------\n",
      "step: 122      file: ./BIN_laser_18/u0122.bin      time: 6.0500844e-09 [s]\n",
      "-------------------------\n",
      "step: 123      file: ./BIN_laser_18/u0123.bin      time: 6.100202e-09 [s]\n",
      "-------------------------\n",
      "step: 124      file: ./BIN_laser_18/u0124.bin      time: 6.1501773e-09 [s]\n",
      "-------------------------\n",
      "step: 125      file: ./BIN_laser_18/u0125.bin      time: 6.2000094e-09 [s]\n",
      "-------------------------\n",
      "step: 126      file: ./BIN_laser_18/u0126.bin      time: 6.2501173e-09 [s]\n",
      "-------------------------\n",
      "step: 127      file: ./BIN_laser_18/u0127.bin      time: 6.300089e-09 [s]\n",
      "-------------------------\n",
      "step: 128      file: ./BIN_laser_18/u0128.bin      time: 6.350132e-09 [s]\n",
      "-------------------------\n",
      "step: 129      file: ./BIN_laser_18/u0129.bin      time: 6.40004e-09 [s]\n",
      "-------------------------\n",
      "step: 130      file: ./BIN_laser_18/u0130.bin      time: 6.4500236e-09 [s]\n",
      "-------------------------\n",
      "step: 131      file: ./BIN_laser_18/u0131.bin      time: 6.5000836e-09 [s]\n",
      "-------------------------\n",
      "step: 132      file: ./BIN_laser_18/u0132.bin      time: 6.550016e-09 [s]\n",
      "-------------------------\n",
      "step: 133      file: ./BIN_laser_18/u0133.bin      time: 6.6000294e-09 [s]\n",
      "-------------------------\n",
      "step: 134      file: ./BIN_laser_18/u0134.bin      time: 6.6501316e-09 [s]\n",
      "-------------------------\n",
      "step: 135      file: ./BIN_laser_18/u0135.bin      time: 6.7001116e-09 [s]\n",
      "-------------------------\n",
      "step: 136      file: ./BIN_laser_18/u0136.bin      time: 6.7501684e-09 [s]\n",
      "-------------------------\n",
      "step: 137      file: ./BIN_laser_18/u0137.bin      time: 6.8000543e-09 [s]\n",
      "-------------------------\n",
      "step: 138      file: ./BIN_laser_18/u0138.bin      time: 6.8500903e-09 [s]\n",
      "-------------------------\n",
      "step: 139      file: ./BIN_laser_18/u0139.bin      time: 6.900154e-09 [s]\n",
      "-------------------------\n",
      "step: 140      file: ./BIN_laser_18/u0140.bin      time: 6.9500277e-09 [s]\n",
      "-------------------------\n",
      "step: 141      file: ./BIN_laser_18/u0141.bin      time: 7.0002026e-09 [s]\n",
      "-------------------------\n",
      "step: 142      file: ./BIN_laser_18/u0142.bin      time: 7.0501405e-09 [s]\n",
      "-------------------------\n",
      "step: 143      file: ./BIN_laser_18/u0143.bin      time: 7.100132e-09 [s]\n",
      "-------------------------\n",
      "step: 144      file: ./BIN_laser_18/u0144.bin      time: 7.1500317e-09 [s]\n",
      "-------------------------\n",
      "step: 145      file: ./BIN_laser_18/u0145.bin      time: 7.200079e-09 [s]\n",
      "-------------------------\n",
      "step: 146      file: ./BIN_laser_18/u0146.bin      time: 7.2500757e-09 [s]\n",
      "-------------------------\n",
      "step: 147      file: ./BIN_laser_18/u0147.bin      time: 7.300018e-09 [s]\n",
      "-------------------------\n",
      "step: 148      file: ./BIN_laser_18/u0148.bin      time: 7.3501147e-09 [s]\n",
      "-------------------------\n",
      "step: 149      file: ./BIN_laser_18/u0149.bin      time: 7.4001507e-09 [s]\n",
      "-------------------------\n",
      "step: 150      file: ./BIN_laser_18/u0150.bin      time: 7.4501267e-09 [s]\n",
      "-------------------------\n",
      "step: 151      file: ./BIN_laser_18/u0151.bin      time: 7.500046e-09 [s]\n",
      "-------------------------\n",
      "step: 152      file: ./BIN_laser_18/u0152.bin      time: 7.550129e-09 [s]\n",
      "-------------------------\n",
      "step: 153      file: ./BIN_laser_18/u0153.bin      time: 7.60018e-09 [s]\n",
      "-------------------------\n",
      "step: 154      file: ./BIN_laser_18/u0154.bin      time: 7.650212e-09 [s]\n",
      "-------------------------\n",
      "step: 155      file: ./BIN_laser_18/u0155.bin      time: 7.700029e-09 [s]\n",
      "-------------------------\n",
      "step: 156      file: ./BIN_laser_18/u0156.bin      time: 7.750075e-09 [s]\n",
      "-------------------------\n",
      "step: 157      file: ./BIN_laser_18/u0157.bin      time: 7.800151e-09 [s]\n",
      "-------------------------\n",
      "step: 158      file: ./BIN_laser_18/u0158.bin      time: 7.8500415e-09 [s]\n",
      "-------------------------\n",
      "step: 159      file: ./BIN_laser_18/u0159.bin      time: 7.9002e-09 [s]\n",
      "-------------------------\n",
      "step: 160      file: ./BIN_laser_18/u0160.bin      time: 7.950195e-09 [s]\n",
      "-------------------------\n",
      "step: 161      file: ./BIN_laser_18/u0161.bin      time: 8.000037e-09 [s]\n",
      "-------------------------\n",
      "step: 162      file: ./BIN_laser_18/u0162.bin      time: 8.050181e-09 [s]\n",
      "-------------------------\n",
      "step: 163      file: ./BIN_laser_18/u0163.bin      time: 8.100194e-09 [s]\n",
      "-------------------------\n",
      "step: 164      file: ./BIN_laser_18/u0164.bin      time: 8.150087e-09 [s]\n",
      "-------------------------\n",
      "step: 165      file: ./BIN_laser_18/u0165.bin      time: 8.20009e-09 [s]\n",
      "-------------------------\n",
      "step: 166      file: ./BIN_laser_18/u0166.bin      time: 8.2502165e-09 [s]\n",
      "-------------------------\n",
      "step: 167      file: ./BIN_laser_18/u0167.bin      time: 8.300017e-09 [s]\n",
      "-------------------------\n",
      "step: 168      file: ./BIN_laser_18/u0168.bin      time: 8.350012e-09 [s]\n",
      "-------------------------\n",
      "step: 169      file: ./BIN_laser_18/u0169.bin      time: 8.4000416e-09 [s]\n",
      "-------------------------\n",
      "step: 170      file: ./BIN_laser_18/u0170.bin      time: 8.450161e-09 [s]\n",
      "-------------------------\n",
      "step: 171      file: ./BIN_laser_18/u0171.bin      time: 8.500166e-09 [s]\n",
      "-------------------------\n",
      "step: 172      file: ./BIN_laser_18/u0172.bin      time: 8.550063e-09 [s]\n",
      "-------------------------\n",
      "step: 173      file: ./BIN_laser_18/u0173.bin      time: 8.60006e-09 [s]\n",
      "-------------------------\n",
      "step: 174      file: ./BIN_laser_18/u0174.bin      time: 8.65014e-09 [s]\n",
      "-------------------------\n",
      "step: 175      file: ./BIN_laser_18/u0175.bin      time: 8.700086e-09 [s]\n",
      "-------------------------\n",
      "step: 176      file: ./BIN_laser_18/u0176.bin      time: 8.750202e-09 [s]\n",
      "-------------------------\n",
      "step: 177      file: ./BIN_laser_18/u0177.bin      time: 8.800017e-09 [s]\n",
      "-------------------------\n",
      "step: 178      file: ./BIN_laser_18/u0178.bin      time: 8.85009e-09 [s]\n",
      "-------------------------\n",
      "step: 179      file: ./BIN_laser_18/u0179.bin      time: 8.900196e-09 [s]\n",
      "-------------------------\n",
      "step: 180      file: ./BIN_laser_18/u0180.bin      time: 8.950088e-09 [s]\n",
      "-------------------------\n",
      "step: 181      file: ./BIN_laser_18/u0181.bin      time: 9.000053e-09 [s]\n",
      "-------------------------\n",
      "step: 182      file: ./BIN_laser_18/u0182.bin      time: 9.0501135e-09 [s]\n",
      "-------------------------\n",
      "step: 183      file: ./BIN_laser_18/u0183.bin      time: 9.100289e-09 [s]\n",
      "-------------------------\n",
      "step: 184      file: ./BIN_laser_18/u0184.bin      time: 9.150005e-09 [s]\n",
      "-------------------------\n",
      "step: 185      file: ./BIN_laser_18/u0185.bin      time: 9.200159e-09 [s]\n",
      "-------------------------\n",
      "step: 186      file: ./BIN_laser_18/u0186.bin      time: 9.250166e-09 [s]\n",
      "-------------------------\n",
      "step: 187      file: ./BIN_laser_18/u0187.bin      time: 9.300026e-09 [s]\n",
      "-------------------------\n",
      "step: 188      file: ./BIN_laser_18/u0188.bin      time: 9.350059e-09 [s]\n",
      "-------------------------\n",
      "step: 189      file: ./BIN_laser_18/u0189.bin      time: 9.400284e-09 [s]\n",
      "-------------------------\n",
      "step: 190      file: ./BIN_laser_18/u0190.bin      time: 9.450029e-09 [s]\n",
      "-------------------------\n",
      "step: 191      file: ./BIN_laser_18/u0191.bin      time: 9.500313e-09 [s]\n",
      "-------------------------\n",
      "step: 192      file: ./BIN_laser_18/u0192.bin      time: 9.5500905e-09 [s]\n",
      "-------------------------\n",
      "step: 193      file: ./BIN_laser_18/u0193.bin      time: 9.600054e-09 [s]\n",
      "-------------------------\n",
      "step: 194      file: ./BIN_laser_18/u0194.bin      time: 9.6502095e-09 [s]\n",
      "-------------------------\n",
      "step: 195      file: ./BIN_laser_18/u0195.bin      time: 9.700172e-09 [s]\n",
      "-------------------------\n",
      "step: 196      file: ./BIN_laser_18/u0196.bin      time: 9.750313e-09 [s]\n",
      "-------------------------\n",
      "step: 197      file: ./BIN_laser_18/u0197.bin      time: 9.800224e-09 [s]\n",
      "-------------------------\n",
      "step: 198      file: ./BIN_laser_18/u0198.bin      time: 9.850296e-09 [s]\n",
      "-------------------------\n",
      "step: 199      file: ./BIN_laser_18/u0199.bin      time: 9.900095e-09 [s]\n",
      "-------------------------\n",
      "step: 200      file: ./BIN_laser_18/u0200.bin      time: 9.9500355e-09 [s]\n",
      "-------------------------\n",
      "step: 201      file: ./BIN_laser_18/u0201.bin      time: 1.0000117e-08 [s]\n",
      "-------------------------\n",
      "step: 202      file: ./BIN_laser_18/u0202.bin      time: 1.0050346e-08 [s]\n",
      "-------------------------\n",
      "step: 203      file: ./BIN_laser_18/u0203.bin      time: 1.0100236e-08 [s]\n",
      "-------------------------\n",
      "step: 204      file: ./BIN_laser_18/u0204.bin      time: 1.01502575e-08 [s]\n",
      "-------------------------\n",
      "step: 205      file: ./BIN_laser_18/u0205.bin      time: 1.0200423e-08 [s]\n",
      "-------------------------\n",
      "step: 206      file: ./BIN_laser_18/u0206.bin      time: 1.0250204e-08 [s]\n",
      "-------------------------\n",
      "step: 207      file: ./BIN_laser_18/u0207.bin      time: 1.0300133e-08 [s]\n",
      "-------------------------\n",
      "step: 208      file: ./BIN_laser_18/u0208.bin      time: 1.0350244e-08 [s]\n",
      "-------------------------\n",
      "step: 209      file: ./BIN_laser_18/u0209.bin      time: 1.0400578e-08 [s]\n",
      "-------------------------\n",
      "step: 210      file: ./BIN_laser_18/u0210.bin      time: 1.0450517e-08 [s]\n",
      "-------------------------\n",
      "step: 211      file: ./BIN_laser_18/u0211.bin      time: 1.0500616e-08 [s]\n",
      "-------------------------\n",
      "step: 212      file: ./BIN_laser_18/u0212.bin      time: 1.0550107e-08 [s]\n",
      "-------------------------\n",
      "step: 213      file: ./BIN_laser_18/u0213.bin      time: 1.0600179e-08 [s]\n",
      "-------------------------\n",
      "step: 214      file: ./BIN_laser_18/u0214.bin      time: 1.0650637e-08 [s]\n",
      "-------------------------\n",
      "step: 215      file: ./BIN_laser_18/u0215.bin      time: 1.0700392e-08 [s]\n",
      "-------------------------\n",
      "step: 216      file: ./BIN_laser_18/u0216.bin      time: 1.07505524e-08 [s]\n",
      "-------------------------\n",
      "step: 217      file: ./BIN_laser_18/u0217.bin      time: 1.08000275e-08 [s]\n",
      "-------------------------\n",
      "step: 218      file: ./BIN_laser_18/u0218.bin      time: 1.0850269e-08 [s]\n",
      "-------------------------\n",
      "step: 219      file: ./BIN_laser_18/u0219.bin      time: 1.0900544e-08 [s]\n",
      "-------------------------\n",
      "step: 220      file: ./BIN_laser_18/u0220.bin      time: 1.09501e-08 [s]\n",
      "-------------------------\n",
      "step: 221      file: ./BIN_laser_18/u0221.bin      time: 1.1000656e-08 [s]\n",
      "-------------------------\n",
      "step: 222      file: ./BIN_laser_18/u0222.bin      time: 1.1050579e-08 [s]\n",
      "-------------------------\n",
      "step: 223      file: ./BIN_laser_18/u0223.bin      time: 1.1100754e-08 [s]\n",
      "-------------------------\n",
      "step: 224      file: ./BIN_laser_18/u0224.bin      time: 1.1150327e-08 [s]\n",
      "-------------------------\n",
      "step: 225      file: ./BIN_laser_18/u0225.bin      time: 1.1200218e-08 [s]\n",
      "-------------------------\n",
      "step: 226      file: ./BIN_laser_18/u0226.bin      time: 1.1250448e-08 [s]\n",
      "-------------------------\n",
      "step: 227      file: ./BIN_laser_18/u0227.bin      time: 1.1300036e-08 [s]\n",
      "-------------------------\n",
      "step: 228      file: ./BIN_laser_18/u0228.bin      time: 1.1350949e-08 [s]\n",
      "-------------------------\n",
      "step: 229      file: ./BIN_laser_18/u0229.bin      time: 1.1400214e-08 [s]\n",
      "-------------------------\n",
      "step: 230      file: ./BIN_laser_18/u0230.bin      time: 1.1450922e-08 [s]\n",
      "-------------------------\n",
      "step: 231      file: ./BIN_laser_18/u0231.bin      time: 1.1500937e-08 [s]\n",
      "-------------------------\n",
      "step: 232      file: ./BIN_laser_18/u0232.bin      time: 1.1550077e-08 [s]\n",
      "-------------------------\n",
      "step: 233      file: ./BIN_laser_18/u0233.bin      time: 1.1600499e-08 [s]\n",
      "-------------------------\n",
      "step: 234      file: ./BIN_laser_18/u0234.bin      time: 1.1651117e-08 [s]\n",
      "-------------------------\n",
      "step: 235      file: ./BIN_laser_18/u0235.bin      time: 1.170078e-08 [s]\n",
      "-------------------------\n",
      "step: 236      file: ./BIN_laser_18/u0236.bin      time: 1.1750643e-08 [s]\n",
      "-------------------------\n",
      "step: 237      file: ./BIN_laser_18/u0237.bin      time: 1.1800574e-08 [s]\n",
      "-------------------------\n",
      "step: 238      file: ./BIN_laser_18/u0238.bin      time: 1.1850362e-08 [s]\n",
      "-------------------------\n",
      "step: 239      file: ./BIN_laser_18/u0239.bin      time: 1.190115e-08 [s]\n",
      "-------------------------\n",
      "step: 240      file: ./BIN_laser_18/u0240.bin      time: 1.1950165e-08 [s]\n",
      "-------------------------\n",
      "step: 241      file: ./BIN_laser_18/u0241.bin      time: 1.200018e-08 [s]\n",
      "-------------------------\n",
      "step: 242      file: ./BIN_laser_18/u0242.bin      time: 1.205137e-08 [s]\n",
      "-------------------------\n",
      "step: 243      file: ./BIN_laser_18/u0243.bin      time: 1.2100817e-08 [s]\n",
      "-------------------------\n",
      "step: 244      file: ./BIN_laser_18/u0244.bin      time: 1.2151209e-08 [s]\n",
      "-------------------------\n",
      "step: 245      file: ./BIN_laser_18/u0245.bin      time: 1.2200885e-08 [s]\n",
      "-------------------------\n",
      "step: 246      file: ./BIN_laser_18/u0246.bin      time: 1.2251179e-08 [s]\n",
      "-------------------------\n",
      "step: 247      file: ./BIN_laser_18/u0247.bin      time: 1.2300551e-08 [s]\n",
      "-------------------------\n",
      "step: 248      file: ./BIN_laser_18/u0248.bin      time: 1.2350687e-08 [s]\n",
      "-------------------------\n",
      "step: 249      file: ./BIN_laser_18/u0249.bin      time: 1.2400169e-08 [s]\n",
      "-------------------------\n",
      "step: 250      file: ./BIN_laser_18/u0250.bin      time: 1.2450516e-08 [s]\n",
      "-------------------------\n",
      "step: 251      file: ./BIN_laser_18/u0251.bin      time: 1.2501629e-08 [s]\n",
      "-------------------------\n",
      "step: 252      file: ./BIN_laser_18/u0252.bin      time: 1.2550007e-08 [s]\n",
      "-------------------------\n",
      "step: 253      file: ./BIN_laser_18/u0253.bin      time: 1.2600505e-08 [s]\n",
      "-------------------------\n",
      "step: 254      file: ./BIN_laser_18/u0254.bin      time: 1.2651531e-08 [s]\n",
      "-------------------------\n",
      "step: 255      file: ./BIN_laser_18/u0255.bin      time: 1.2700668e-08 [s]\n",
      "-------------------------\n",
      "step: 256      file: ./BIN_laser_18/u0256.bin      time: 1.2751346e-08 [s]\n",
      "-------------------------\n",
      "step: 257      file: ./BIN_laser_18/u0257.bin      time: 1.2801112e-08 [s]\n",
      "-------------------------\n",
      "step: 258      file: ./BIN_laser_18/u0258.bin      time: 1.285134e-08 [s]\n",
      "-------------------------\n",
      "step: 259      file: ./BIN_laser_18/u0259.bin      time: 1.2900206e-08 [s]\n",
      "-------------------------\n",
      "step: 260      file: ./BIN_laser_18/u0260.bin      time: 1.29501005e-08 [s]\n",
      "-------------------------\n",
      "step: 261      file: ./BIN_laser_18/u0261.bin      time: 1.3001664e-08 [s]\n",
      "-------------------------\n",
      "step: 262      file: ./BIN_laser_18/u0262.bin      time: 1.30507765e-08 [s]\n",
      "-------------------------\n",
      "step: 263      file: ./BIN_laser_18/u0263.bin      time: 1.31013955e-08 [s]\n",
      "-------------------------\n",
      "step: 264      file: ./BIN_laser_18/u0264.bin      time: 1.31512765e-08 [s]\n",
      "-------------------------\n",
      "step: 265      file: ./BIN_laser_18/u0265.bin      time: 1.32009355e-08 [s]\n",
      "-------------------------\n",
      "step: 266      file: ./BIN_laser_18/u0266.bin      time: 1.325148e-08 [s]\n",
      "-------------------------\n",
      "step: 267      file: ./BIN_laser_18/u0267.bin      time: 1.3300327e-08 [s]\n",
      "-------------------------\n",
      "step: 268      file: ./BIN_laser_18/u0268.bin      time: 1.3350092e-08 [s]\n",
      "-------------------------\n",
      "step: 269      file: ./BIN_laser_18/u0269.bin      time: 1.3400587e-08 [s]\n",
      "-------------------------\n",
      "step: 270      file: ./BIN_laser_18/u0270.bin      time: 1.3450746e-08 [s]\n",
      "-------------------------\n",
      "step: 271      file: ./BIN_laser_18/u0271.bin      time: 1.3500372e-08 [s]\n",
      "-------------------------\n",
      "step: 272      file: ./BIN_laser_18/u0272.bin      time: 1.3550446e-08 [s]\n",
      "-------------------------\n",
      "step: 273      file: ./BIN_laser_18/u0273.bin      time: 1.3601251e-08 [s]\n",
      "-------------------------\n",
      "step: 274      file: ./BIN_laser_18/u0274.bin      time: 1.3650172e-08 [s]\n",
      "-------------------------\n",
      "step: 275      file: ./BIN_laser_18/u0275.bin      time: 1.3700911e-08 [s]\n",
      "-------------------------\n",
      "step: 276      file: ./BIN_laser_18/u0276.bin      time: 1.37510785e-08 [s]\n",
      "-------------------------\n",
      "step: 277      file: ./BIN_laser_18/u0277.bin      time: 1.3800496e-08 [s]\n",
      "-------------------------\n",
      "step: 278      file: ./BIN_laser_18/u0278.bin      time: 1.3851631e-08 [s]\n",
      "-------------------------\n",
      "step: 279      file: ./BIN_laser_18/u0279.bin      time: 1.3901644e-08 [s]\n",
      "-------------------------\n",
      "step: 280      file: ./BIN_laser_18/u0280.bin      time: 1.3951496e-08 [s]\n",
      "-------------------------\n",
      "step: 281      file: ./BIN_laser_18/u0281.bin      time: 1.4001065e-08 [s]\n",
      "-------------------------\n",
      "step: 282      file: ./BIN_laser_18/u0282.bin      time: 1.4051172e-08 [s]\n",
      "-------------------------\n",
      "step: 283      file: ./BIN_laser_18/u0283.bin      time: 1.4101184e-08 [s]\n",
      "-------------------------\n",
      "step: 284      file: ./BIN_laser_18/u0284.bin      time: 1.4150631e-08 [s]\n",
      "-------------------------\n",
      "step: 285      file: ./BIN_laser_18/u0285.bin      time: 1.4201156e-08 [s]\n",
      "-------------------------\n",
      "step: 286      file: ./BIN_laser_18/u0286.bin      time: 1.4250762e-08 [s]\n",
      "-------------------------\n",
      "step: 287      file: ./BIN_laser_18/u0287.bin      time: 1.4300275e-08 [s]\n",
      "-------------------------\n",
      "step: 288      file: ./BIN_laser_18/u0288.bin      time: 1.4350348e-08 [s]\n",
      "-------------------------\n",
      "step: 289      file: ./BIN_laser_18/u0289.bin      time: 1.4401378e-08 [s]\n",
      "-------------------------\n",
      "step: 290      file: ./BIN_laser_18/u0290.bin      time: 1.4451244e-08 [s]\n",
      "-------------------------\n",
      "step: 291      file: ./BIN_laser_18/u0291.bin      time: 1.4500644e-08 [s]\n",
      "-------------------------\n",
      "step: 292      file: ./BIN_laser_18/u0292.bin      time: 1.4550406e-08 [s]\n",
      "-------------------------\n",
      "step: 293      file: ./BIN_laser_18/u0293.bin      time: 1.4600832e-08 [s]\n",
      "-------------------------\n",
      "step: 294      file: ./BIN_laser_18/u0294.bin      time: 1.4650686e-08 [s]\n",
      "-------------------------\n",
      "step: 295      file: ./BIN_laser_18/u0295.bin      time: 1.47001336e-08 [s]\n",
      "-------------------------\n",
      "step: 296      file: ./BIN_laser_18/u0296.bin      time: 1.4750697e-08 [s]\n",
      "-------------------------\n",
      "step: 297      file: ./BIN_laser_18/u0297.bin      time: 1.4801534e-08 [s]\n",
      "-------------------------\n",
      "step: 298      file: ./BIN_laser_18/u0298.bin      time: 1.48503805e-08 [s]\n",
      "-------------------------\n",
      "step: 299      file: ./BIN_laser_18/u0299.bin      time: 1.4900903e-08 [s]\n",
      "-------------------------\n",
      "step: 300      file: ./BIN_laser_18/u0300.bin      time: 1.4950965e-08 [s]\n",
      "-------------------------\n",
      "step: 301      file: ./BIN_laser_18/u0301.bin      time: 1.500041e-08 [s]\n",
      "-------------------------\n",
      "Found 302 images. Creating/updating GIF...\n",
      "GIF created/updated successfully: ./Python/P4P_images/P4P_DenPre_BIN_laser_18.gif\n",
      "Found 302 images. Creating/updating GIF...\n",
      "GIF created/updated successfully: ./Python/P4P_images/P4P_IETmp_BIN_laser_18.gif\n",
      "Found 302 images. Creating/updating GIF...\n",
      "GIF created/updated successfully: ./Python/P4P_images/P4P_ZiMtl_BIN_laser_18.gif\n"
     ]
    },
    {
     "data": {
      "text/plain": [
       "<Figure size 800x600 with 0 Axes>"
      ]
     },
     "metadata": {},
     "output_type": "display_data"
    },
    {
     "data": {
      "text/plain": [
       "<Figure size 800x600 with 0 Axes>"
      ]
     },
     "metadata": {},
     "output_type": "display_data"
    },
    {
     "data": {
      "text/plain": [
       "<Figure size 800x600 with 0 Axes>"
      ]
     },
     "metadata": {},
     "output_type": "display_data"
    },
    {
     "data": {
      "text/plain": [
       "<Figure size 800x600 with 0 Axes>"
      ]
     },
     "metadata": {},
     "output_type": "display_data"
    },
    {
     "data": {
      "text/plain": [
       "<Figure size 800x600 with 0 Axes>"
      ]
     },
     "metadata": {},
     "output_type": "display_data"
    },
    {
     "data": {
      "text/plain": [
       "<Figure size 800x600 with 0 Axes>"
      ]
     },
     "metadata": {},
     "output_type": "display_data"
    },
    {
     "data": {
      "text/plain": [
       "<Figure size 800x600 with 0 Axes>"
      ]
     },
     "metadata": {},
     "output_type": "display_data"
    },
    {
     "data": {
      "text/plain": [
       "<Figure size 800x600 with 0 Axes>"
      ]
     },
     "metadata": {},
     "output_type": "display_data"
    },
    {
     "data": {
      "text/plain": [
       "<Figure size 800x600 with 0 Axes>"
      ]
     },
     "metadata": {},
     "output_type": "display_data"
    },
    {
     "data": {
      "text/plain": [
       "<Figure size 800x600 with 0 Axes>"
      ]
     },
     "metadata": {},
     "output_type": "display_data"
    },
    {
     "data": {
      "text/plain": [
       "<Figure size 800x600 with 0 Axes>"
      ]
     },
     "metadata": {},
     "output_type": "display_data"
    },
    {
     "data": {
      "text/plain": [
       "<Figure size 800x600 with 0 Axes>"
      ]
     },
     "metadata": {},
     "output_type": "display_data"
    },
    {
     "data": {
      "text/plain": [
       "<Figure size 800x600 with 0 Axes>"
      ]
     },
     "metadata": {},
     "output_type": "display_data"
    },
    {
     "data": {
      "text/plain": [
       "<Figure size 800x600 with 0 Axes>"
      ]
     },
     "metadata": {},
     "output_type": "display_data"
    },
    {
     "data": {
      "text/plain": [
       "<Figure size 800x600 with 0 Axes>"
      ]
     },
     "metadata": {},
     "output_type": "display_data"
    },
    {
     "data": {
      "text/plain": [
       "<Figure size 800x600 with 0 Axes>"
      ]
     },
     "metadata": {},
     "output_type": "display_data"
    },
    {
     "data": {
      "text/plain": [
       "<Figure size 800x600 with 0 Axes>"
      ]
     },
     "metadata": {},
     "output_type": "display_data"
    },
    {
     "data": {
      "text/plain": [
       "<Figure size 800x600 with 0 Axes>"
      ]
     },
     "metadata": {},
     "output_type": "display_data"
    },
    {
     "data": {
      "text/plain": [
       "<Figure size 800x600 with 0 Axes>"
      ]
     },
     "metadata": {},
     "output_type": "display_data"
    },
    {
     "data": {
      "text/plain": [
       "<Figure size 800x600 with 0 Axes>"
      ]
     },
     "metadata": {},
     "output_type": "display_data"
    },
    {
     "data": {
      "text/plain": [
       "<Figure size 800x600 with 0 Axes>"
      ]
     },
     "metadata": {},
     "output_type": "display_data"
    },
    {
     "data": {
      "text/plain": [
       "<Figure size 800x600 with 0 Axes>"
      ]
     },
     "metadata": {},
     "output_type": "display_data"
    },
    {
     "data": {
      "text/plain": [
       "<Figure size 800x600 with 0 Axes>"
      ]
     },
     "metadata": {},
     "output_type": "display_data"
    },
    {
     "data": {
      "text/plain": [
       "<Figure size 800x600 with 0 Axes>"
      ]
     },
     "metadata": {},
     "output_type": "display_data"
    },
    {
     "data": {
      "text/plain": [
       "<Figure size 800x600 with 0 Axes>"
      ]
     },
     "metadata": {},
     "output_type": "display_data"
    },
    {
     "data": {
      "text/plain": [
       "<Figure size 800x600 with 0 Axes>"
      ]
     },
     "metadata": {},
     "output_type": "display_data"
    },
    {
     "data": {
      "text/plain": [
       "<Figure size 800x600 with 0 Axes>"
      ]
     },
     "metadata": {},
     "output_type": "display_data"
    },
    {
     "data": {
      "text/plain": [
       "<Figure size 800x600 with 0 Axes>"
      ]
     },
     "metadata": {},
     "output_type": "display_data"
    },
    {
     "data": {
      "text/plain": [
       "<Figure size 800x600 with 0 Axes>"
      ]
     },
     "metadata": {},
     "output_type": "display_data"
    },
    {
     "data": {
      "text/plain": [
       "<Figure size 800x600 with 0 Axes>"
      ]
     },
     "metadata": {},
     "output_type": "display_data"
    },
    {
     "data": {
      "text/plain": [
       "<Figure size 800x600 with 0 Axes>"
      ]
     },
     "metadata": {},
     "output_type": "display_data"
    },
    {
     "data": {
      "text/plain": [
       "<Figure size 800x600 with 0 Axes>"
      ]
     },
     "metadata": {},
     "output_type": "display_data"
    },
    {
     "data": {
      "text/plain": [
       "<Figure size 800x600 with 0 Axes>"
      ]
     },
     "metadata": {},
     "output_type": "display_data"
    },
    {
     "data": {
      "text/plain": [
       "<Figure size 800x600 with 0 Axes>"
      ]
     },
     "metadata": {},
     "output_type": "display_data"
    },
    {
     "data": {
      "text/plain": [
       "<Figure size 800x600 with 0 Axes>"
      ]
     },
     "metadata": {},
     "output_type": "display_data"
    },
    {
     "data": {
      "text/plain": [
       "<Figure size 800x600 with 0 Axes>"
      ]
     },
     "metadata": {},
     "output_type": "display_data"
    },
    {
     "data": {
      "text/plain": [
       "<Figure size 800x600 with 0 Axes>"
      ]
     },
     "metadata": {},
     "output_type": "display_data"
    },
    {
     "data": {
      "text/plain": [
       "<Figure size 800x600 with 0 Axes>"
      ]
     },
     "metadata": {},
     "output_type": "display_data"
    },
    {
     "data": {
      "text/plain": [
       "<Figure size 800x600 with 0 Axes>"
      ]
     },
     "metadata": {},
     "output_type": "display_data"
    },
    {
     "data": {
      "text/plain": [
       "<Figure size 800x600 with 0 Axes>"
      ]
     },
     "metadata": {},
     "output_type": "display_data"
    },
    {
     "data": {
      "text/plain": [
       "<Figure size 800x600 with 0 Axes>"
      ]
     },
     "metadata": {},
     "output_type": "display_data"
    },
    {
     "data": {
      "text/plain": [
       "<Figure size 800x600 with 0 Axes>"
      ]
     },
     "metadata": {},
     "output_type": "display_data"
    },
    {
     "data": {
      "text/plain": [
       "<Figure size 800x600 with 0 Axes>"
      ]
     },
     "metadata": {},
     "output_type": "display_data"
    },
    {
     "data": {
      "text/plain": [
       "<Figure size 800x600 with 0 Axes>"
      ]
     },
     "metadata": {},
     "output_type": "display_data"
    },
    {
     "data": {
      "text/plain": [
       "<Figure size 800x600 with 0 Axes>"
      ]
     },
     "metadata": {},
     "output_type": "display_data"
    },
    {
     "data": {
      "text/plain": [
       "<Figure size 800x600 with 0 Axes>"
      ]
     },
     "metadata": {},
     "output_type": "display_data"
    },
    {
     "data": {
      "text/plain": [
       "<Figure size 800x600 with 0 Axes>"
      ]
     },
     "metadata": {},
     "output_type": "display_data"
    },
    {
     "data": {
      "text/plain": [
       "<Figure size 800x600 with 0 Axes>"
      ]
     },
     "metadata": {},
     "output_type": "display_data"
    },
    {
     "data": {
      "text/plain": [
       "<Figure size 800x600 with 0 Axes>"
      ]
     },
     "metadata": {},
     "output_type": "display_data"
    },
    {
     "data": {
      "text/plain": [
       "<Figure size 800x600 with 0 Axes>"
      ]
     },
     "metadata": {},
     "output_type": "display_data"
    },
    {
     "data": {
      "text/plain": [
       "<Figure size 800x600 with 0 Axes>"
      ]
     },
     "metadata": {},
     "output_type": "display_data"
    },
    {
     "data": {
      "text/plain": [
       "<Figure size 800x600 with 0 Axes>"
      ]
     },
     "metadata": {},
     "output_type": "display_data"
    },
    {
     "data": {
      "text/plain": [
       "<Figure size 800x600 with 0 Axes>"
      ]
     },
     "metadata": {},
     "output_type": "display_data"
    },
    {
     "data": {
      "text/plain": [
       "<Figure size 800x600 with 0 Axes>"
      ]
     },
     "metadata": {},
     "output_type": "display_data"
    },
    {
     "data": {
      "text/plain": [
       "<Figure size 800x600 with 0 Axes>"
      ]
     },
     "metadata": {},
     "output_type": "display_data"
    },
    {
     "data": {
      "text/plain": [
       "<Figure size 800x600 with 0 Axes>"
      ]
     },
     "metadata": {},
     "output_type": "display_data"
    },
    {
     "data": {
      "text/plain": [
       "<Figure size 800x600 with 0 Axes>"
      ]
     },
     "metadata": {},
     "output_type": "display_data"
    },
    {
     "data": {
      "text/plain": [
       "<Figure size 800x600 with 0 Axes>"
      ]
     },
     "metadata": {},
     "output_type": "display_data"
    },
    {
     "data": {
      "text/plain": [
       "<Figure size 800x600 with 0 Axes>"
      ]
     },
     "metadata": {},
     "output_type": "display_data"
    },
    {
     "data": {
      "text/plain": [
       "<Figure size 800x600 with 0 Axes>"
      ]
     },
     "metadata": {},
     "output_type": "display_data"
    },
    {
     "data": {
      "text/plain": [
       "<Figure size 800x600 with 0 Axes>"
      ]
     },
     "metadata": {},
     "output_type": "display_data"
    },
    {
     "data": {
      "text/plain": [
       "<Figure size 800x600 with 0 Axes>"
      ]
     },
     "metadata": {},
     "output_type": "display_data"
    },
    {
     "data": {
      "text/plain": [
       "<Figure size 800x600 with 0 Axes>"
      ]
     },
     "metadata": {},
     "output_type": "display_data"
    },
    {
     "data": {
      "text/plain": [
       "<Figure size 800x600 with 0 Axes>"
      ]
     },
     "metadata": {},
     "output_type": "display_data"
    },
    {
     "data": {
      "text/plain": [
       "<Figure size 800x600 with 0 Axes>"
      ]
     },
     "metadata": {},
     "output_type": "display_data"
    },
    {
     "data": {
      "text/plain": [
       "<Figure size 800x600 with 0 Axes>"
      ]
     },
     "metadata": {},
     "output_type": "display_data"
    },
    {
     "data": {
      "text/plain": [
       "<Figure size 800x600 with 0 Axes>"
      ]
     },
     "metadata": {},
     "output_type": "display_data"
    },
    {
     "data": {
      "text/plain": [
       "<Figure size 800x600 with 0 Axes>"
      ]
     },
     "metadata": {},
     "output_type": "display_data"
    },
    {
     "data": {
      "text/plain": [
       "<Figure size 800x600 with 0 Axes>"
      ]
     },
     "metadata": {},
     "output_type": "display_data"
    },
    {
     "data": {
      "text/plain": [
       "<Figure size 800x600 with 0 Axes>"
      ]
     },
     "metadata": {},
     "output_type": "display_data"
    },
    {
     "data": {
      "text/plain": [
       "<Figure size 800x600 with 0 Axes>"
      ]
     },
     "metadata": {},
     "output_type": "display_data"
    },
    {
     "data": {
      "text/plain": [
       "<Figure size 800x600 with 0 Axes>"
      ]
     },
     "metadata": {},
     "output_type": "display_data"
    },
    {
     "data": {
      "text/plain": [
       "<Figure size 800x600 with 0 Axes>"
      ]
     },
     "metadata": {},
     "output_type": "display_data"
    },
    {
     "data": {
      "text/plain": [
       "<Figure size 800x600 with 0 Axes>"
      ]
     },
     "metadata": {},
     "output_type": "display_data"
    },
    {
     "data": {
      "text/plain": [
       "<Figure size 800x600 with 0 Axes>"
      ]
     },
     "metadata": {},
     "output_type": "display_data"
    },
    {
     "data": {
      "text/plain": [
       "<Figure size 800x600 with 0 Axes>"
      ]
     },
     "metadata": {},
     "output_type": "display_data"
    },
    {
     "data": {
      "text/plain": [
       "<Figure size 800x600 with 0 Axes>"
      ]
     },
     "metadata": {},
     "output_type": "display_data"
    },
    {
     "data": {
      "text/plain": [
       "<Figure size 800x600 with 0 Axes>"
      ]
     },
     "metadata": {},
     "output_type": "display_data"
    },
    {
     "data": {
      "text/plain": [
       "<Figure size 800x600 with 0 Axes>"
      ]
     },
     "metadata": {},
     "output_type": "display_data"
    },
    {
     "data": {
      "text/plain": [
       "<Figure size 800x600 with 0 Axes>"
      ]
     },
     "metadata": {},
     "output_type": "display_data"
    },
    {
     "data": {
      "text/plain": [
       "<Figure size 800x600 with 0 Axes>"
      ]
     },
     "metadata": {},
     "output_type": "display_data"
    },
    {
     "data": {
      "text/plain": [
       "<Figure size 800x600 with 0 Axes>"
      ]
     },
     "metadata": {},
     "output_type": "display_data"
    },
    {
     "data": {
      "text/plain": [
       "<Figure size 800x600 with 0 Axes>"
      ]
     },
     "metadata": {},
     "output_type": "display_data"
    },
    {
     "data": {
      "text/plain": [
       "<Figure size 800x600 with 0 Axes>"
      ]
     },
     "metadata": {},
     "output_type": "display_data"
    },
    {
     "data": {
      "text/plain": [
       "<Figure size 800x600 with 0 Axes>"
      ]
     },
     "metadata": {},
     "output_type": "display_data"
    },
    {
     "data": {
      "text/plain": [
       "<Figure size 800x600 with 0 Axes>"
      ]
     },
     "metadata": {},
     "output_type": "display_data"
    },
    {
     "data": {
      "text/plain": [
       "<Figure size 800x600 with 0 Axes>"
      ]
     },
     "metadata": {},
     "output_type": "display_data"
    },
    {
     "data": {
      "text/plain": [
       "<Figure size 800x600 with 0 Axes>"
      ]
     },
     "metadata": {},
     "output_type": "display_data"
    },
    {
     "data": {
      "text/plain": [
       "<Figure size 800x600 with 0 Axes>"
      ]
     },
     "metadata": {},
     "output_type": "display_data"
    },
    {
     "data": {
      "text/plain": [
       "<Figure size 800x600 with 0 Axes>"
      ]
     },
     "metadata": {},
     "output_type": "display_data"
    },
    {
     "data": {
      "text/plain": [
       "<Figure size 800x600 with 0 Axes>"
      ]
     },
     "metadata": {},
     "output_type": "display_data"
    },
    {
     "data": {
      "text/plain": [
       "<Figure size 800x600 with 0 Axes>"
      ]
     },
     "metadata": {},
     "output_type": "display_data"
    },
    {
     "data": {
      "text/plain": [
       "<Figure size 800x600 with 0 Axes>"
      ]
     },
     "metadata": {},
     "output_type": "display_data"
    },
    {
     "data": {
      "text/plain": [
       "<Figure size 800x600 with 0 Axes>"
      ]
     },
     "metadata": {},
     "output_type": "display_data"
    },
    {
     "data": {
      "text/plain": [
       "<Figure size 800x600 with 0 Axes>"
      ]
     },
     "metadata": {},
     "output_type": "display_data"
    },
    {
     "data": {
      "text/plain": [
       "<Figure size 800x600 with 0 Axes>"
      ]
     },
     "metadata": {},
     "output_type": "display_data"
    },
    {
     "data": {
      "text/plain": [
       "<Figure size 800x600 with 0 Axes>"
      ]
     },
     "metadata": {},
     "output_type": "display_data"
    },
    {
     "data": {
      "text/plain": [
       "<Figure size 800x600 with 0 Axes>"
      ]
     },
     "metadata": {},
     "output_type": "display_data"
    },
    {
     "data": {
      "text/plain": [
       "<Figure size 800x600 with 0 Axes>"
      ]
     },
     "metadata": {},
     "output_type": "display_data"
    },
    {
     "data": {
      "text/plain": [
       "<Figure size 800x600 with 0 Axes>"
      ]
     },
     "metadata": {},
     "output_type": "display_data"
    },
    {
     "data": {
      "text/plain": [
       "<Figure size 800x600 with 0 Axes>"
      ]
     },
     "metadata": {},
     "output_type": "display_data"
    },
    {
     "data": {
      "text/plain": [
       "<Figure size 800x600 with 0 Axes>"
      ]
     },
     "metadata": {},
     "output_type": "display_data"
    },
    {
     "data": {
      "text/plain": [
       "<Figure size 800x600 with 0 Axes>"
      ]
     },
     "metadata": {},
     "output_type": "display_data"
    },
    {
     "data": {
      "text/plain": [
       "<Figure size 800x600 with 0 Axes>"
      ]
     },
     "metadata": {},
     "output_type": "display_data"
    },
    {
     "data": {
      "text/plain": [
       "<Figure size 800x600 with 0 Axes>"
      ]
     },
     "metadata": {},
     "output_type": "display_data"
    },
    {
     "data": {
      "text/plain": [
       "<Figure size 800x600 with 0 Axes>"
      ]
     },
     "metadata": {},
     "output_type": "display_data"
    },
    {
     "data": {
      "text/plain": [
       "<Figure size 800x600 with 0 Axes>"
      ]
     },
     "metadata": {},
     "output_type": "display_data"
    },
    {
     "data": {
      "text/plain": [
       "<Figure size 800x600 with 0 Axes>"
      ]
     },
     "metadata": {},
     "output_type": "display_data"
    },
    {
     "data": {
      "text/plain": [
       "<Figure size 800x600 with 0 Axes>"
      ]
     },
     "metadata": {},
     "output_type": "display_data"
    },
    {
     "data": {
      "text/plain": [
       "<Figure size 800x600 with 0 Axes>"
      ]
     },
     "metadata": {},
     "output_type": "display_data"
    },
    {
     "data": {
      "text/plain": [
       "<Figure size 800x600 with 0 Axes>"
      ]
     },
     "metadata": {},
     "output_type": "display_data"
    },
    {
     "data": {
      "text/plain": [
       "<Figure size 800x600 with 0 Axes>"
      ]
     },
     "metadata": {},
     "output_type": "display_data"
    },
    {
     "data": {
      "text/plain": [
       "<Figure size 800x600 with 0 Axes>"
      ]
     },
     "metadata": {},
     "output_type": "display_data"
    },
    {
     "data": {
      "text/plain": [
       "<Figure size 800x600 with 0 Axes>"
      ]
     },
     "metadata": {},
     "output_type": "display_data"
    },
    {
     "data": {
      "text/plain": [
       "<Figure size 800x600 with 0 Axes>"
      ]
     },
     "metadata": {},
     "output_type": "display_data"
    },
    {
     "data": {
      "text/plain": [
       "<Figure size 800x600 with 0 Axes>"
      ]
     },
     "metadata": {},
     "output_type": "display_data"
    },
    {
     "data": {
      "text/plain": [
       "<Figure size 800x600 with 0 Axes>"
      ]
     },
     "metadata": {},
     "output_type": "display_data"
    },
    {
     "data": {
      "text/plain": [
       "<Figure size 800x600 with 0 Axes>"
      ]
     },
     "metadata": {},
     "output_type": "display_data"
    },
    {
     "data": {
      "text/plain": [
       "<Figure size 800x600 with 0 Axes>"
      ]
     },
     "metadata": {},
     "output_type": "display_data"
    },
    {
     "data": {
      "text/plain": [
       "<Figure size 800x600 with 0 Axes>"
      ]
     },
     "metadata": {},
     "output_type": "display_data"
    },
    {
     "data": {
      "text/plain": [
       "<Figure size 800x600 with 0 Axes>"
      ]
     },
     "metadata": {},
     "output_type": "display_data"
    },
    {
     "data": {
      "text/plain": [
       "<Figure size 800x600 with 0 Axes>"
      ]
     },
     "metadata": {},
     "output_type": "display_data"
    },
    {
     "data": {
      "text/plain": [
       "<Figure size 800x600 with 0 Axes>"
      ]
     },
     "metadata": {},
     "output_type": "display_data"
    },
    {
     "data": {
      "text/plain": [
       "<Figure size 800x600 with 0 Axes>"
      ]
     },
     "metadata": {},
     "output_type": "display_data"
    },
    {
     "data": {
      "text/plain": [
       "<Figure size 800x600 with 0 Axes>"
      ]
     },
     "metadata": {},
     "output_type": "display_data"
    },
    {
     "data": {
      "text/plain": [
       "<Figure size 800x600 with 0 Axes>"
      ]
     },
     "metadata": {},
     "output_type": "display_data"
    },
    {
     "data": {
      "text/plain": [
       "<Figure size 800x600 with 0 Axes>"
      ]
     },
     "metadata": {},
     "output_type": "display_data"
    },
    {
     "data": {
      "text/plain": [
       "<Figure size 800x600 with 0 Axes>"
      ]
     },
     "metadata": {},
     "output_type": "display_data"
    },
    {
     "data": {
      "text/plain": [
       "<Figure size 800x600 with 0 Axes>"
      ]
     },
     "metadata": {},
     "output_type": "display_data"
    },
    {
     "data": {
      "text/plain": [
       "<Figure size 800x600 with 0 Axes>"
      ]
     },
     "metadata": {},
     "output_type": "display_data"
    },
    {
     "data": {
      "text/plain": [
       "<Figure size 800x600 with 0 Axes>"
      ]
     },
     "metadata": {},
     "output_type": "display_data"
    },
    {
     "data": {
      "text/plain": [
       "<Figure size 800x600 with 0 Axes>"
      ]
     },
     "metadata": {},
     "output_type": "display_data"
    },
    {
     "data": {
      "text/plain": [
       "<Figure size 800x600 with 0 Axes>"
      ]
     },
     "metadata": {},
     "output_type": "display_data"
    },
    {
     "data": {
      "text/plain": [
       "<Figure size 800x600 with 0 Axes>"
      ]
     },
     "metadata": {},
     "output_type": "display_data"
    },
    {
     "data": {
      "text/plain": [
       "<Figure size 800x600 with 0 Axes>"
      ]
     },
     "metadata": {},
     "output_type": "display_data"
    },
    {
     "data": {
      "text/plain": [
       "<Figure size 800x600 with 0 Axes>"
      ]
     },
     "metadata": {},
     "output_type": "display_data"
    },
    {
     "data": {
      "text/plain": [
       "<Figure size 800x600 with 0 Axes>"
      ]
     },
     "metadata": {},
     "output_type": "display_data"
    },
    {
     "data": {
      "text/plain": [
       "<Figure size 800x600 with 0 Axes>"
      ]
     },
     "metadata": {},
     "output_type": "display_data"
    },
    {
     "data": {
      "text/plain": [
       "<Figure size 800x600 with 0 Axes>"
      ]
     },
     "metadata": {},
     "output_type": "display_data"
    },
    {
     "data": {
      "text/plain": [
       "<Figure size 800x600 with 0 Axes>"
      ]
     },
     "metadata": {},
     "output_type": "display_data"
    },
    {
     "data": {
      "text/plain": [
       "<Figure size 800x600 with 0 Axes>"
      ]
     },
     "metadata": {},
     "output_type": "display_data"
    },
    {
     "data": {
      "text/plain": [
       "<Figure size 800x600 with 0 Axes>"
      ]
     },
     "metadata": {},
     "output_type": "display_data"
    },
    {
     "data": {
      "text/plain": [
       "<Figure size 800x600 with 0 Axes>"
      ]
     },
     "metadata": {},
     "output_type": "display_data"
    },
    {
     "data": {
      "text/plain": [
       "<Figure size 800x600 with 0 Axes>"
      ]
     },
     "metadata": {},
     "output_type": "display_data"
    },
    {
     "data": {
      "text/plain": [
       "<Figure size 800x600 with 0 Axes>"
      ]
     },
     "metadata": {},
     "output_type": "display_data"
    },
    {
     "data": {
      "text/plain": [
       "<Figure size 800x600 with 0 Axes>"
      ]
     },
     "metadata": {},
     "output_type": "display_data"
    },
    {
     "data": {
      "text/plain": [
       "<Figure size 800x600 with 0 Axes>"
      ]
     },
     "metadata": {},
     "output_type": "display_data"
    },
    {
     "data": {
      "text/plain": [
       "<Figure size 800x600 with 0 Axes>"
      ]
     },
     "metadata": {},
     "output_type": "display_data"
    },
    {
     "data": {
      "text/plain": [
       "<Figure size 800x600 with 0 Axes>"
      ]
     },
     "metadata": {},
     "output_type": "display_data"
    },
    {
     "data": {
      "text/plain": [
       "<Figure size 800x600 with 0 Axes>"
      ]
     },
     "metadata": {},
     "output_type": "display_data"
    },
    {
     "data": {
      "text/plain": [
       "<Figure size 800x600 with 0 Axes>"
      ]
     },
     "metadata": {},
     "output_type": "display_data"
    },
    {
     "data": {
      "text/plain": [
       "<Figure size 800x600 with 0 Axes>"
      ]
     },
     "metadata": {},
     "output_type": "display_data"
    },
    {
     "data": {
      "text/plain": [
       "<Figure size 800x600 with 0 Axes>"
      ]
     },
     "metadata": {},
     "output_type": "display_data"
    },
    {
     "data": {
      "text/plain": [
       "<Figure size 800x600 with 0 Axes>"
      ]
     },
     "metadata": {},
     "output_type": "display_data"
    },
    {
     "data": {
      "text/plain": [
       "<Figure size 800x600 with 0 Axes>"
      ]
     },
     "metadata": {},
     "output_type": "display_data"
    },
    {
     "data": {
      "text/plain": [
       "<Figure size 800x600 with 0 Axes>"
      ]
     },
     "metadata": {},
     "output_type": "display_data"
    },
    {
     "data": {
      "text/plain": [
       "<Figure size 800x600 with 0 Axes>"
      ]
     },
     "metadata": {},
     "output_type": "display_data"
    },
    {
     "data": {
      "text/plain": [
       "<Figure size 800x600 with 0 Axes>"
      ]
     },
     "metadata": {},
     "output_type": "display_data"
    },
    {
     "data": {
      "text/plain": [
       "<Figure size 800x600 with 0 Axes>"
      ]
     },
     "metadata": {},
     "output_type": "display_data"
    },
    {
     "data": {
      "text/plain": [
       "<Figure size 800x600 with 0 Axes>"
      ]
     },
     "metadata": {},
     "output_type": "display_data"
    },
    {
     "data": {
      "text/plain": [
       "<Figure size 800x600 with 0 Axes>"
      ]
     },
     "metadata": {},
     "output_type": "display_data"
    },
    {
     "data": {
      "text/plain": [
       "<Figure size 800x600 with 0 Axes>"
      ]
     },
     "metadata": {},
     "output_type": "display_data"
    },
    {
     "data": {
      "text/plain": [
       "<Figure size 800x600 with 0 Axes>"
      ]
     },
     "metadata": {},
     "output_type": "display_data"
    },
    {
     "data": {
      "text/plain": [
       "<Figure size 800x600 with 0 Axes>"
      ]
     },
     "metadata": {},
     "output_type": "display_data"
    },
    {
     "data": {
      "text/plain": [
       "<Figure size 800x600 with 0 Axes>"
      ]
     },
     "metadata": {},
     "output_type": "display_data"
    },
    {
     "data": {
      "text/plain": [
       "<Figure size 800x600 with 0 Axes>"
      ]
     },
     "metadata": {},
     "output_type": "display_data"
    },
    {
     "data": {
      "text/plain": [
       "<Figure size 800x600 with 0 Axes>"
      ]
     },
     "metadata": {},
     "output_type": "display_data"
    },
    {
     "data": {
      "text/plain": [
       "<Figure size 800x600 with 0 Axes>"
      ]
     },
     "metadata": {},
     "output_type": "display_data"
    },
    {
     "data": {
      "text/plain": [
       "<Figure size 800x600 with 0 Axes>"
      ]
     },
     "metadata": {},
     "output_type": "display_data"
    },
    {
     "data": {
      "text/plain": [
       "<Figure size 800x600 with 0 Axes>"
      ]
     },
     "metadata": {},
     "output_type": "display_data"
    },
    {
     "data": {
      "text/plain": [
       "<Figure size 800x600 with 0 Axes>"
      ]
     },
     "metadata": {},
     "output_type": "display_data"
    },
    {
     "data": {
      "text/plain": [
       "<Figure size 800x600 with 0 Axes>"
      ]
     },
     "metadata": {},
     "output_type": "display_data"
    },
    {
     "data": {
      "text/plain": [
       "<Figure size 800x600 with 0 Axes>"
      ]
     },
     "metadata": {},
     "output_type": "display_data"
    },
    {
     "data": {
      "text/plain": [
       "<Figure size 800x600 with 0 Axes>"
      ]
     },
     "metadata": {},
     "output_type": "display_data"
    },
    {
     "data": {
      "text/plain": [
       "<Figure size 800x600 with 0 Axes>"
      ]
     },
     "metadata": {},
     "output_type": "display_data"
    },
    {
     "data": {
      "text/plain": [
       "<Figure size 800x600 with 0 Axes>"
      ]
     },
     "metadata": {},
     "output_type": "display_data"
    },
    {
     "data": {
      "text/plain": [
       "<Figure size 800x600 with 0 Axes>"
      ]
     },
     "metadata": {},
     "output_type": "display_data"
    },
    {
     "data": {
      "text/plain": [
       "<Figure size 800x600 with 0 Axes>"
      ]
     },
     "metadata": {},
     "output_type": "display_data"
    },
    {
     "data": {
      "text/plain": [
       "<Figure size 800x600 with 0 Axes>"
      ]
     },
     "metadata": {},
     "output_type": "display_data"
    },
    {
     "data": {
      "text/plain": [
       "<Figure size 800x600 with 0 Axes>"
      ]
     },
     "metadata": {},
     "output_type": "display_data"
    },
    {
     "data": {
      "text/plain": [
       "<Figure size 800x600 with 0 Axes>"
      ]
     },
     "metadata": {},
     "output_type": "display_data"
    },
    {
     "data": {
      "text/plain": [
       "<Figure size 800x600 with 0 Axes>"
      ]
     },
     "metadata": {},
     "output_type": "display_data"
    },
    {
     "data": {
      "text/plain": [
       "<Figure size 800x600 with 0 Axes>"
      ]
     },
     "metadata": {},
     "output_type": "display_data"
    },
    {
     "data": {
      "text/plain": [
       "<Figure size 800x600 with 0 Axes>"
      ]
     },
     "metadata": {},
     "output_type": "display_data"
    },
    {
     "data": {
      "text/plain": [
       "<Figure size 800x600 with 0 Axes>"
      ]
     },
     "metadata": {},
     "output_type": "display_data"
    },
    {
     "data": {
      "text/plain": [
       "<Figure size 800x600 with 0 Axes>"
      ]
     },
     "metadata": {},
     "output_type": "display_data"
    },
    {
     "data": {
      "text/plain": [
       "<Figure size 800x600 with 0 Axes>"
      ]
     },
     "metadata": {},
     "output_type": "display_data"
    },
    {
     "data": {
      "text/plain": [
       "<Figure size 800x600 with 0 Axes>"
      ]
     },
     "metadata": {},
     "output_type": "display_data"
    },
    {
     "data": {
      "text/plain": [
       "<Figure size 800x600 with 0 Axes>"
      ]
     },
     "metadata": {},
     "output_type": "display_data"
    },
    {
     "data": {
      "text/plain": [
       "<Figure size 800x600 with 0 Axes>"
      ]
     },
     "metadata": {},
     "output_type": "display_data"
    },
    {
     "data": {
      "text/plain": [
       "<Figure size 800x600 with 0 Axes>"
      ]
     },
     "metadata": {},
     "output_type": "display_data"
    },
    {
     "data": {
      "text/plain": [
       "<Figure size 800x600 with 0 Axes>"
      ]
     },
     "metadata": {},
     "output_type": "display_data"
    },
    {
     "data": {
      "text/plain": [
       "<Figure size 800x600 with 0 Axes>"
      ]
     },
     "metadata": {},
     "output_type": "display_data"
    },
    {
     "data": {
      "text/plain": [
       "<Figure size 800x600 with 0 Axes>"
      ]
     },
     "metadata": {},
     "output_type": "display_data"
    },
    {
     "data": {
      "text/plain": [
       "<Figure size 800x600 with 0 Axes>"
      ]
     },
     "metadata": {},
     "output_type": "display_data"
    },
    {
     "data": {
      "text/plain": [
       "<Figure size 800x600 with 0 Axes>"
      ]
     },
     "metadata": {},
     "output_type": "display_data"
    },
    {
     "data": {
      "text/plain": [
       "<Figure size 800x600 with 0 Axes>"
      ]
     },
     "metadata": {},
     "output_type": "display_data"
    },
    {
     "data": {
      "text/plain": [
       "<Figure size 800x600 with 0 Axes>"
      ]
     },
     "metadata": {},
     "output_type": "display_data"
    },
    {
     "data": {
      "text/plain": [
       "<Figure size 800x600 with 0 Axes>"
      ]
     },
     "metadata": {},
     "output_type": "display_data"
    },
    {
     "data": {
      "text/plain": [
       "<Figure size 800x600 with 0 Axes>"
      ]
     },
     "metadata": {},
     "output_type": "display_data"
    },
    {
     "data": {
      "text/plain": [
       "<Figure size 800x600 with 0 Axes>"
      ]
     },
     "metadata": {},
     "output_type": "display_data"
    },
    {
     "data": {
      "text/plain": [
       "<Figure size 800x600 with 0 Axes>"
      ]
     },
     "metadata": {},
     "output_type": "display_data"
    },
    {
     "data": {
      "text/plain": [
       "<Figure size 800x600 with 0 Axes>"
      ]
     },
     "metadata": {},
     "output_type": "display_data"
    },
    {
     "data": {
      "text/plain": [
       "<Figure size 800x600 with 0 Axes>"
      ]
     },
     "metadata": {},
     "output_type": "display_data"
    },
    {
     "data": {
      "text/plain": [
       "<Figure size 800x600 with 0 Axes>"
      ]
     },
     "metadata": {},
     "output_type": "display_data"
    },
    {
     "data": {
      "text/plain": [
       "<Figure size 800x600 with 0 Axes>"
      ]
     },
     "metadata": {},
     "output_type": "display_data"
    },
    {
     "data": {
      "text/plain": [
       "<Figure size 800x600 with 0 Axes>"
      ]
     },
     "metadata": {},
     "output_type": "display_data"
    },
    {
     "data": {
      "text/plain": [
       "<Figure size 800x600 with 0 Axes>"
      ]
     },
     "metadata": {},
     "output_type": "display_data"
    },
    {
     "data": {
      "text/plain": [
       "<Figure size 800x600 with 0 Axes>"
      ]
     },
     "metadata": {},
     "output_type": "display_data"
    },
    {
     "data": {
      "text/plain": [
       "<Figure size 800x600 with 0 Axes>"
      ]
     },
     "metadata": {},
     "output_type": "display_data"
    },
    {
     "data": {
      "text/plain": [
       "<Figure size 800x600 with 0 Axes>"
      ]
     },
     "metadata": {},
     "output_type": "display_data"
    },
    {
     "data": {
      "text/plain": [
       "<Figure size 800x600 with 0 Axes>"
      ]
     },
     "metadata": {},
     "output_type": "display_data"
    },
    {
     "data": {
      "text/plain": [
       "<Figure size 800x600 with 0 Axes>"
      ]
     },
     "metadata": {},
     "output_type": "display_data"
    },
    {
     "data": {
      "text/plain": [
       "<Figure size 800x600 with 0 Axes>"
      ]
     },
     "metadata": {},
     "output_type": "display_data"
    },
    {
     "data": {
      "text/plain": [
       "<Figure size 800x600 with 0 Axes>"
      ]
     },
     "metadata": {},
     "output_type": "display_data"
    },
    {
     "data": {
      "text/plain": [
       "<Figure size 800x600 with 0 Axes>"
      ]
     },
     "metadata": {},
     "output_type": "display_data"
    },
    {
     "data": {
      "text/plain": [
       "<Figure size 800x600 with 0 Axes>"
      ]
     },
     "metadata": {},
     "output_type": "display_data"
    },
    {
     "data": {
      "text/plain": [
       "<Figure size 800x600 with 0 Axes>"
      ]
     },
     "metadata": {},
     "output_type": "display_data"
    },
    {
     "data": {
      "text/plain": [
       "<Figure size 800x600 with 0 Axes>"
      ]
     },
     "metadata": {},
     "output_type": "display_data"
    },
    {
     "data": {
      "text/plain": [
       "<Figure size 800x600 with 0 Axes>"
      ]
     },
     "metadata": {},
     "output_type": "display_data"
    },
    {
     "data": {
      "text/plain": [
       "<Figure size 800x600 with 0 Axes>"
      ]
     },
     "metadata": {},
     "output_type": "display_data"
    },
    {
     "data": {
      "text/plain": [
       "<Figure size 800x600 with 0 Axes>"
      ]
     },
     "metadata": {},
     "output_type": "display_data"
    },
    {
     "data": {
      "text/plain": [
       "<Figure size 800x600 with 0 Axes>"
      ]
     },
     "metadata": {},
     "output_type": "display_data"
    },
    {
     "data": {
      "text/plain": [
       "<Figure size 800x600 with 0 Axes>"
      ]
     },
     "metadata": {},
     "output_type": "display_data"
    },
    {
     "data": {
      "text/plain": [
       "<Figure size 800x600 with 0 Axes>"
      ]
     },
     "metadata": {},
     "output_type": "display_data"
    },
    {
     "data": {
      "text/plain": [
       "<Figure size 800x600 with 0 Axes>"
      ]
     },
     "metadata": {},
     "output_type": "display_data"
    },
    {
     "data": {
      "text/plain": [
       "<Figure size 800x600 with 0 Axes>"
      ]
     },
     "metadata": {},
     "output_type": "display_data"
    },
    {
     "data": {
      "text/plain": [
       "<Figure size 800x600 with 0 Axes>"
      ]
     },
     "metadata": {},
     "output_type": "display_data"
    },
    {
     "data": {
      "text/plain": [
       "<Figure size 800x600 with 0 Axes>"
      ]
     },
     "metadata": {},
     "output_type": "display_data"
    },
    {
     "data": {
      "text/plain": [
       "<Figure size 800x600 with 0 Axes>"
      ]
     },
     "metadata": {},
     "output_type": "display_data"
    },
    {
     "data": {
      "text/plain": [
       "<Figure size 800x600 with 0 Axes>"
      ]
     },
     "metadata": {},
     "output_type": "display_data"
    },
    {
     "data": {
      "text/plain": [
       "<Figure size 800x600 with 0 Axes>"
      ]
     },
     "metadata": {},
     "output_type": "display_data"
    },
    {
     "data": {
      "text/plain": [
       "<Figure size 800x600 with 0 Axes>"
      ]
     },
     "metadata": {},
     "output_type": "display_data"
    },
    {
     "data": {
      "text/plain": [
       "<Figure size 800x600 with 0 Axes>"
      ]
     },
     "metadata": {},
     "output_type": "display_data"
    },
    {
     "data": {
      "text/plain": [
       "<Figure size 800x600 with 0 Axes>"
      ]
     },
     "metadata": {},
     "output_type": "display_data"
    },
    {
     "data": {
      "text/plain": [
       "<Figure size 800x600 with 0 Axes>"
      ]
     },
     "metadata": {},
     "output_type": "display_data"
    },
    {
     "data": {
      "text/plain": [
       "<Figure size 800x600 with 0 Axes>"
      ]
     },
     "metadata": {},
     "output_type": "display_data"
    },
    {
     "data": {
      "text/plain": [
       "<Figure size 800x600 with 0 Axes>"
      ]
     },
     "metadata": {},
     "output_type": "display_data"
    },
    {
     "data": {
      "text/plain": [
       "<Figure size 800x600 with 0 Axes>"
      ]
     },
     "metadata": {},
     "output_type": "display_data"
    },
    {
     "data": {
      "text/plain": [
       "<Figure size 800x600 with 0 Axes>"
      ]
     },
     "metadata": {},
     "output_type": "display_data"
    },
    {
     "data": {
      "text/plain": [
       "<Figure size 800x600 with 0 Axes>"
      ]
     },
     "metadata": {},
     "output_type": "display_data"
    },
    {
     "data": {
      "text/plain": [
       "<Figure size 800x600 with 0 Axes>"
      ]
     },
     "metadata": {},
     "output_type": "display_data"
    },
    {
     "data": {
      "text/plain": [
       "<Figure size 800x600 with 0 Axes>"
      ]
     },
     "metadata": {},
     "output_type": "display_data"
    },
    {
     "data": {
      "text/plain": [
       "<Figure size 800x600 with 0 Axes>"
      ]
     },
     "metadata": {},
     "output_type": "display_data"
    },
    {
     "data": {
      "text/plain": [
       "<Figure size 800x600 with 0 Axes>"
      ]
     },
     "metadata": {},
     "output_type": "display_data"
    },
    {
     "data": {
      "text/plain": [
       "<Figure size 800x600 with 0 Axes>"
      ]
     },
     "metadata": {},
     "output_type": "display_data"
    },
    {
     "data": {
      "text/plain": [
       "<Figure size 800x600 with 0 Axes>"
      ]
     },
     "metadata": {},
     "output_type": "display_data"
    },
    {
     "data": {
      "text/plain": [
       "<Figure size 800x600 with 0 Axes>"
      ]
     },
     "metadata": {},
     "output_type": "display_data"
    },
    {
     "data": {
      "text/plain": [
       "<Figure size 800x600 with 0 Axes>"
      ]
     },
     "metadata": {},
     "output_type": "display_data"
    },
    {
     "data": {
      "text/plain": [
       "<Figure size 800x600 with 0 Axes>"
      ]
     },
     "metadata": {},
     "output_type": "display_data"
    },
    {
     "data": {
      "text/plain": [
       "<Figure size 800x600 with 0 Axes>"
      ]
     },
     "metadata": {},
     "output_type": "display_data"
    },
    {
     "data": {
      "text/plain": [
       "<Figure size 800x600 with 0 Axes>"
      ]
     },
     "metadata": {},
     "output_type": "display_data"
    },
    {
     "data": {
      "text/plain": [
       "<Figure size 800x600 with 0 Axes>"
      ]
     },
     "metadata": {},
     "output_type": "display_data"
    },
    {
     "data": {
      "text/plain": [
       "<Figure size 800x600 with 0 Axes>"
      ]
     },
     "metadata": {},
     "output_type": "display_data"
    },
    {
     "data": {
      "text/plain": [
       "<Figure size 800x600 with 0 Axes>"
      ]
     },
     "metadata": {},
     "output_type": "display_data"
    },
    {
     "data": {
      "text/plain": [
       "<Figure size 800x600 with 0 Axes>"
      ]
     },
     "metadata": {},
     "output_type": "display_data"
    },
    {
     "data": {
      "text/plain": [
       "<Figure size 800x600 with 0 Axes>"
      ]
     },
     "metadata": {},
     "output_type": "display_data"
    },
    {
     "data": {
      "text/plain": [
       "<Figure size 800x600 with 0 Axes>"
      ]
     },
     "metadata": {},
     "output_type": "display_data"
    },
    {
     "data": {
      "text/plain": [
       "<Figure size 800x600 with 0 Axes>"
      ]
     },
     "metadata": {},
     "output_type": "display_data"
    },
    {
     "data": {
      "text/plain": [
       "<Figure size 800x600 with 0 Axes>"
      ]
     },
     "metadata": {},
     "output_type": "display_data"
    },
    {
     "data": {
      "text/plain": [
       "<Figure size 800x600 with 0 Axes>"
      ]
     },
     "metadata": {},
     "output_type": "display_data"
    },
    {
     "data": {
      "text/plain": [
       "<Figure size 800x600 with 0 Axes>"
      ]
     },
     "metadata": {},
     "output_type": "display_data"
    },
    {
     "data": {
      "text/plain": [
       "<Figure size 800x600 with 0 Axes>"
      ]
     },
     "metadata": {},
     "output_type": "display_data"
    },
    {
     "data": {
      "text/plain": [
       "<Figure size 800x600 with 0 Axes>"
      ]
     },
     "metadata": {},
     "output_type": "display_data"
    },
    {
     "data": {
      "text/plain": [
       "<Figure size 800x600 with 0 Axes>"
      ]
     },
     "metadata": {},
     "output_type": "display_data"
    },
    {
     "data": {
      "text/plain": [
       "<Figure size 800x600 with 0 Axes>"
      ]
     },
     "metadata": {},
     "output_type": "display_data"
    },
    {
     "data": {
      "text/plain": [
       "<Figure size 800x600 with 0 Axes>"
      ]
     },
     "metadata": {},
     "output_type": "display_data"
    },
    {
     "data": {
      "text/plain": [
       "<Figure size 800x600 with 0 Axes>"
      ]
     },
     "metadata": {},
     "output_type": "display_data"
    },
    {
     "data": {
      "text/plain": [
       "<Figure size 800x600 with 0 Axes>"
      ]
     },
     "metadata": {},
     "output_type": "display_data"
    },
    {
     "data": {
      "text/plain": [
       "<Figure size 800x600 with 0 Axes>"
      ]
     },
     "metadata": {},
     "output_type": "display_data"
    },
    {
     "data": {
      "text/plain": [
       "<Figure size 800x600 with 0 Axes>"
      ]
     },
     "metadata": {},
     "output_type": "display_data"
    },
    {
     "data": {
      "text/plain": [
       "<Figure size 800x600 with 0 Axes>"
      ]
     },
     "metadata": {},
     "output_type": "display_data"
    },
    {
     "data": {
      "text/plain": [
       "<Figure size 800x600 with 0 Axes>"
      ]
     },
     "metadata": {},
     "output_type": "display_data"
    },
    {
     "data": {
      "text/plain": [
       "<Figure size 800x600 with 0 Axes>"
      ]
     },
     "metadata": {},
     "output_type": "display_data"
    },
    {
     "data": {
      "text/plain": [
       "<Figure size 800x600 with 0 Axes>"
      ]
     },
     "metadata": {},
     "output_type": "display_data"
    },
    {
     "data": {
      "text/plain": [
       "<Figure size 800x600 with 0 Axes>"
      ]
     },
     "metadata": {},
     "output_type": "display_data"
    },
    {
     "data": {
      "text/plain": [
       "<Figure size 800x600 with 0 Axes>"
      ]
     },
     "metadata": {},
     "output_type": "display_data"
    },
    {
     "data": {
      "text/plain": [
       "<Figure size 800x600 with 0 Axes>"
      ]
     },
     "metadata": {},
     "output_type": "display_data"
    },
    {
     "data": {
      "text/plain": [
       "<Figure size 800x600 with 0 Axes>"
      ]
     },
     "metadata": {},
     "output_type": "display_data"
    },
    {
     "data": {
      "text/plain": [
       "<Figure size 800x600 with 0 Axes>"
      ]
     },
     "metadata": {},
     "output_type": "display_data"
    },
    {
     "data": {
      "text/plain": [
       "<Figure size 800x600 with 0 Axes>"
      ]
     },
     "metadata": {},
     "output_type": "display_data"
    },
    {
     "data": {
      "text/plain": [
       "<Figure size 800x600 with 0 Axes>"
      ]
     },
     "metadata": {},
     "output_type": "display_data"
    },
    {
     "data": {
      "text/plain": [
       "<Figure size 800x600 with 0 Axes>"
      ]
     },
     "metadata": {},
     "output_type": "display_data"
    },
    {
     "data": {
      "text/plain": [
       "<Figure size 800x600 with 0 Axes>"
      ]
     },
     "metadata": {},
     "output_type": "display_data"
    },
    {
     "data": {
      "text/plain": [
       "<Figure size 800x600 with 0 Axes>"
      ]
     },
     "metadata": {},
     "output_type": "display_data"
    },
    {
     "data": {
      "text/plain": [
       "<Figure size 800x600 with 0 Axes>"
      ]
     },
     "metadata": {},
     "output_type": "display_data"
    },
    {
     "data": {
      "text/plain": [
       "<Figure size 800x600 with 0 Axes>"
      ]
     },
     "metadata": {},
     "output_type": "display_data"
    },
    {
     "data": {
      "text/plain": [
       "<Figure size 800x600 with 0 Axes>"
      ]
     },
     "metadata": {},
     "output_type": "display_data"
    },
    {
     "data": {
      "text/plain": [
       "<Figure size 800x600 with 0 Axes>"
      ]
     },
     "metadata": {},
     "output_type": "display_data"
    },
    {
     "data": {
      "text/plain": [
       "<Figure size 800x600 with 0 Axes>"
      ]
     },
     "metadata": {},
     "output_type": "display_data"
    },
    {
     "data": {
      "text/plain": [
       "<Figure size 800x600 with 0 Axes>"
      ]
     },
     "metadata": {},
     "output_type": "display_data"
    },
    {
     "data": {
      "text/plain": [
       "<Figure size 800x600 with 0 Axes>"
      ]
     },
     "metadata": {},
     "output_type": "display_data"
    },
    {
     "data": {
      "text/plain": [
       "<Figure size 800x600 with 0 Axes>"
      ]
     },
     "metadata": {},
     "output_type": "display_data"
    },
    {
     "data": {
      "text/plain": [
       "<Figure size 800x600 with 0 Axes>"
      ]
     },
     "metadata": {},
     "output_type": "display_data"
    },
    {
     "data": {
      "text/plain": [
       "<Figure size 800x600 with 0 Axes>"
      ]
     },
     "metadata": {},
     "output_type": "display_data"
    },
    {
     "data": {
      "text/plain": [
       "<Figure size 800x600 with 0 Axes>"
      ]
     },
     "metadata": {},
     "output_type": "display_data"
    },
    {
     "data": {
      "text/plain": [
       "<Figure size 800x600 with 0 Axes>"
      ]
     },
     "metadata": {},
     "output_type": "display_data"
    },
    {
     "data": {
      "text/plain": [
       "<Figure size 800x600 with 0 Axes>"
      ]
     },
     "metadata": {},
     "output_type": "display_data"
    },
    {
     "data": {
      "text/plain": [
       "<Figure size 800x600 with 0 Axes>"
      ]
     },
     "metadata": {},
     "output_type": "display_data"
    },
    {
     "data": {
      "text/plain": [
       "<Figure size 800x600 with 0 Axes>"
      ]
     },
     "metadata": {},
     "output_type": "display_data"
    },
    {
     "data": {
      "text/plain": [
       "<Figure size 800x600 with 0 Axes>"
      ]
     },
     "metadata": {},
     "output_type": "display_data"
    },
    {
     "data": {
      "text/plain": [
       "<Figure size 800x600 with 0 Axes>"
      ]
     },
     "metadata": {},
     "output_type": "display_data"
    },
    {
     "data": {
      "text/plain": [
       "<Figure size 800x600 with 0 Axes>"
      ]
     },
     "metadata": {},
     "output_type": "display_data"
    },
    {
     "data": {
      "text/plain": [
       "<Figure size 800x600 with 0 Axes>"
      ]
     },
     "metadata": {},
     "output_type": "display_data"
    },
    {
     "data": {
      "text/plain": [
       "<Figure size 800x600 with 0 Axes>"
      ]
     },
     "metadata": {},
     "output_type": "display_data"
    },
    {
     "data": {
      "text/plain": [
       "<Figure size 800x600 with 0 Axes>"
      ]
     },
     "metadata": {},
     "output_type": "display_data"
    },
    {
     "data": {
      "text/plain": [
       "<Figure size 800x600 with 0 Axes>"
      ]
     },
     "metadata": {},
     "output_type": "display_data"
    },
    {
     "data": {
      "text/plain": [
       "<Figure size 800x600 with 0 Axes>"
      ]
     },
     "metadata": {},
     "output_type": "display_data"
    },
    {
     "data": {
      "text/plain": [
       "<Figure size 800x600 with 0 Axes>"
      ]
     },
     "metadata": {},
     "output_type": "display_data"
    },
    {
     "data": {
      "text/plain": [
       "<Figure size 800x600 with 0 Axes>"
      ]
     },
     "metadata": {},
     "output_type": "display_data"
    },
    {
     "data": {
      "text/plain": [
       "<Figure size 800x600 with 0 Axes>"
      ]
     },
     "metadata": {},
     "output_type": "display_data"
    },
    {
     "data": {
      "text/plain": [
       "<Figure size 800x600 with 0 Axes>"
      ]
     },
     "metadata": {},
     "output_type": "display_data"
    },
    {
     "data": {
      "text/plain": [
       "<Figure size 800x600 with 0 Axes>"
      ]
     },
     "metadata": {},
     "output_type": "display_data"
    },
    {
     "data": {
      "text/plain": [
       "<Figure size 800x600 with 0 Axes>"
      ]
     },
     "metadata": {},
     "output_type": "display_data"
    },
    {
     "data": {
      "text/plain": [
       "<Figure size 800x600 with 0 Axes>"
      ]
     },
     "metadata": {},
     "output_type": "display_data"
    },
    {
     "data": {
      "text/plain": [
       "<Figure size 800x600 with 0 Axes>"
      ]
     },
     "metadata": {},
     "output_type": "display_data"
    },
    {
     "data": {
      "text/plain": [
       "<Figure size 800x600 with 0 Axes>"
      ]
     },
     "metadata": {},
     "output_type": "display_data"
    },
    {
     "data": {
      "text/plain": [
       "<Figure size 800x600 with 0 Axes>"
      ]
     },
     "metadata": {},
     "output_type": "display_data"
    },
    {
     "data": {
      "text/plain": [
       "<Figure size 800x600 with 0 Axes>"
      ]
     },
     "metadata": {},
     "output_type": "display_data"
    },
    {
     "data": {
      "text/plain": [
       "<Figure size 800x600 with 0 Axes>"
      ]
     },
     "metadata": {},
     "output_type": "display_data"
    },
    {
     "data": {
      "text/plain": [
       "<Figure size 800x600 with 0 Axes>"
      ]
     },
     "metadata": {},
     "output_type": "display_data"
    },
    {
     "data": {
      "text/plain": [
       "<Figure size 800x600 with 0 Axes>"
      ]
     },
     "metadata": {},
     "output_type": "display_data"
    },
    {
     "data": {
      "text/plain": [
       "<Figure size 800x600 with 0 Axes>"
      ]
     },
     "metadata": {},
     "output_type": "display_data"
    },
    {
     "data": {
      "text/plain": [
       "<Figure size 800x600 with 0 Axes>"
      ]
     },
     "metadata": {},
     "output_type": "display_data"
    },
    {
     "data": {
      "text/plain": [
       "<Figure size 800x600 with 0 Axes>"
      ]
     },
     "metadata": {},
     "output_type": "display_data"
    },
    {
     "data": {
      "text/plain": [
       "<Figure size 800x600 with 0 Axes>"
      ]
     },
     "metadata": {},
     "output_type": "display_data"
    },
    {
     "data": {
      "text/plain": [
       "<Figure size 800x600 with 0 Axes>"
      ]
     },
     "metadata": {},
     "output_type": "display_data"
    },
    {
     "data": {
      "text/plain": [
       "<Figure size 800x600 with 0 Axes>"
      ]
     },
     "metadata": {},
     "output_type": "display_data"
    },
    {
     "data": {
      "text/plain": [
       "<Figure size 800x600 with 0 Axes>"
      ]
     },
     "metadata": {},
     "output_type": "display_data"
    },
    {
     "data": {
      "text/plain": [
       "<Figure size 800x600 with 0 Axes>"
      ]
     },
     "metadata": {},
     "output_type": "display_data"
    },
    {
     "data": {
      "text/plain": [
       "<Figure size 800x600 with 0 Axes>"
      ]
     },
     "metadata": {},
     "output_type": "display_data"
    },
    {
     "data": {
      "text/plain": [
       "<Figure size 800x600 with 0 Axes>"
      ]
     },
     "metadata": {},
     "output_type": "display_data"
    },
    {
     "data": {
      "text/plain": [
       "<Figure size 800x600 with 0 Axes>"
      ]
     },
     "metadata": {},
     "output_type": "display_data"
    },
    {
     "data": {
      "text/plain": [
       "<Figure size 800x600 with 0 Axes>"
      ]
     },
     "metadata": {},
     "output_type": "display_data"
    },
    {
     "data": {
      "text/plain": [
       "<Figure size 800x600 with 0 Axes>"
      ]
     },
     "metadata": {},
     "output_type": "display_data"
    },
    {
     "data": {
      "text/plain": [
       "<Figure size 800x600 with 0 Axes>"
      ]
     },
     "metadata": {},
     "output_type": "display_data"
    },
    {
     "data": {
      "text/plain": [
       "<Figure size 800x600 with 0 Axes>"
      ]
     },
     "metadata": {},
     "output_type": "display_data"
    },
    {
     "data": {
      "text/plain": [
       "<Figure size 800x600 with 0 Axes>"
      ]
     },
     "metadata": {},
     "output_type": "display_data"
    },
    {
     "data": {
      "text/plain": [
       "<Figure size 800x600 with 0 Axes>"
      ]
     },
     "metadata": {},
     "output_type": "display_data"
    },
    {
     "data": {
      "text/plain": [
       "<Figure size 800x600 with 0 Axes>"
      ]
     },
     "metadata": {},
     "output_type": "display_data"
    },
    {
     "data": {
      "text/plain": [
       "<Figure size 800x600 with 0 Axes>"
      ]
     },
     "metadata": {},
     "output_type": "display_data"
    },
    {
     "data": {
      "text/plain": [
       "<Figure size 800x600 with 0 Axes>"
      ]
     },
     "metadata": {},
     "output_type": "display_data"
    },
    {
     "data": {
      "text/plain": [
       "<Figure size 800x600 with 0 Axes>"
      ]
     },
     "metadata": {},
     "output_type": "display_data"
    },
    {
     "data": {
      "text/plain": [
       "<Figure size 800x600 with 0 Axes>"
      ]
     },
     "metadata": {},
     "output_type": "display_data"
    },
    {
     "data": {
      "text/plain": [
       "<Figure size 800x600 with 0 Axes>"
      ]
     },
     "metadata": {},
     "output_type": "display_data"
    },
    {
     "data": {
      "text/plain": [
       "<Figure size 800x600 with 0 Axes>"
      ]
     },
     "metadata": {},
     "output_type": "display_data"
    },
    {
     "data": {
      "text/plain": [
       "<Figure size 800x600 with 0 Axes>"
      ]
     },
     "metadata": {},
     "output_type": "display_data"
    },
    {
     "data": {
      "text/plain": [
       "<Figure size 800x600 with 0 Axes>"
      ]
     },
     "metadata": {},
     "output_type": "display_data"
    },
    {
     "data": {
      "text/plain": [
       "<Figure size 800x600 with 0 Axes>"
      ]
     },
     "metadata": {},
     "output_type": "display_data"
    },
    {
     "data": {
      "text/plain": [
       "<Figure size 800x600 with 0 Axes>"
      ]
     },
     "metadata": {},
     "output_type": "display_data"
    },
    {
     "data": {
      "text/plain": [
       "<Figure size 800x600 with 0 Axes>"
      ]
     },
     "metadata": {},
     "output_type": "display_data"
    },
    {
     "data": {
      "text/plain": [
       "<Figure size 800x600 with 0 Axes>"
      ]
     },
     "metadata": {},
     "output_type": "display_data"
    },
    {
     "data": {
      "text/plain": [
       "<Figure size 800x600 with 0 Axes>"
      ]
     },
     "metadata": {},
     "output_type": "display_data"
    },
    {
     "data": {
      "text/plain": [
       "<Figure size 800x600 with 0 Axes>"
      ]
     },
     "metadata": {},
     "output_type": "display_data"
    },
    {
     "data": {
      "text/plain": [
       "<Figure size 800x600 with 0 Axes>"
      ]
     },
     "metadata": {},
     "output_type": "display_data"
    },
    {
     "data": {
      "text/plain": [
       "<Figure size 800x600 with 0 Axes>"
      ]
     },
     "metadata": {},
     "output_type": "display_data"
    },
    {
     "data": {
      "text/plain": [
       "<Figure size 800x600 with 0 Axes>"
      ]
     },
     "metadata": {},
     "output_type": "display_data"
    },
    {
     "data": {
      "text/plain": [
       "<Figure size 800x600 with 0 Axes>"
      ]
     },
     "metadata": {},
     "output_type": "display_data"
    },
    {
     "data": {
      "text/plain": [
       "<Figure size 800x600 with 0 Axes>"
      ]
     },
     "metadata": {},
     "output_type": "display_data"
    },
    {
     "data": {
      "text/plain": [
       "<Figure size 800x600 with 0 Axes>"
      ]
     },
     "metadata": {},
     "output_type": "display_data"
    },
    {
     "data": {
      "text/plain": [
       "<Figure size 800x600 with 0 Axes>"
      ]
     },
     "metadata": {},
     "output_type": "display_data"
    },
    {
     "data": {
      "text/plain": [
       "<Figure size 800x600 with 0 Axes>"
      ]
     },
     "metadata": {},
     "output_type": "display_data"
    },
    {
     "data": {
      "text/plain": [
       "<Figure size 800x600 with 0 Axes>"
      ]
     },
     "metadata": {},
     "output_type": "display_data"
    },
    {
     "data": {
      "text/plain": [
       "<Figure size 800x600 with 0 Axes>"
      ]
     },
     "metadata": {},
     "output_type": "display_data"
    },
    {
     "data": {
      "text/plain": [
       "<Figure size 800x600 with 0 Axes>"
      ]
     },
     "metadata": {},
     "output_type": "display_data"
    },
    {
     "data": {
      "text/plain": [
       "<Figure size 800x600 with 0 Axes>"
      ]
     },
     "metadata": {},
     "output_type": "display_data"
    },
    {
     "data": {
      "text/plain": [
       "<Figure size 800x600 with 0 Axes>"
      ]
     },
     "metadata": {},
     "output_type": "display_data"
    },
    {
     "data": {
      "text/plain": [
       "<Figure size 800x600 with 0 Axes>"
      ]
     },
     "metadata": {},
     "output_type": "display_data"
    },
    {
     "data": {
      "text/plain": [
       "<Figure size 800x600 with 0 Axes>"
      ]
     },
     "metadata": {},
     "output_type": "display_data"
    },
    {
     "data": {
      "text/plain": [
       "<Figure size 800x600 with 0 Axes>"
      ]
     },
     "metadata": {},
     "output_type": "display_data"
    },
    {
     "data": {
      "text/plain": [
       "<Figure size 800x600 with 0 Axes>"
      ]
     },
     "metadata": {},
     "output_type": "display_data"
    },
    {
     "data": {
      "text/plain": [
       "<Figure size 800x600 with 0 Axes>"
      ]
     },
     "metadata": {},
     "output_type": "display_data"
    },
    {
     "data": {
      "text/plain": [
       "<Figure size 800x600 with 0 Axes>"
      ]
     },
     "metadata": {},
     "output_type": "display_data"
    },
    {
     "data": {
      "text/plain": [
       "<Figure size 800x600 with 0 Axes>"
      ]
     },
     "metadata": {},
     "output_type": "display_data"
    },
    {
     "data": {
      "text/plain": [
       "<Figure size 800x600 with 0 Axes>"
      ]
     },
     "metadata": {},
     "output_type": "display_data"
    },
    {
     "data": {
      "text/plain": [
       "<Figure size 800x600 with 0 Axes>"
      ]
     },
     "metadata": {},
     "output_type": "display_data"
    },
    {
     "data": {
      "text/plain": [
       "<Figure size 800x600 with 0 Axes>"
      ]
     },
     "metadata": {},
     "output_type": "display_data"
    },
    {
     "data": {
      "text/plain": [
       "<Figure size 800x600 with 0 Axes>"
      ]
     },
     "metadata": {},
     "output_type": "display_data"
    },
    {
     "data": {
      "text/plain": [
       "<Figure size 800x600 with 0 Axes>"
      ]
     },
     "metadata": {},
     "output_type": "display_data"
    },
    {
     "data": {
      "text/plain": [
       "<Figure size 800x600 with 0 Axes>"
      ]
     },
     "metadata": {},
     "output_type": "display_data"
    },
    {
     "data": {
      "text/plain": [
       "<Figure size 800x600 with 0 Axes>"
      ]
     },
     "metadata": {},
     "output_type": "display_data"
    },
    {
     "data": {
      "text/plain": [
       "<Figure size 800x600 with 0 Axes>"
      ]
     },
     "metadata": {},
     "output_type": "display_data"
    },
    {
     "data": {
      "text/plain": [
       "<Figure size 800x600 with 0 Axes>"
      ]
     },
     "metadata": {},
     "output_type": "display_data"
    },
    {
     "data": {
      "text/plain": [
       "<Figure size 800x600 with 0 Axes>"
      ]
     },
     "metadata": {},
     "output_type": "display_data"
    },
    {
     "data": {
      "text/plain": [
       "<Figure size 800x600 with 0 Axes>"
      ]
     },
     "metadata": {},
     "output_type": "display_data"
    },
    {
     "data": {
      "text/plain": [
       "<Figure size 800x600 with 0 Axes>"
      ]
     },
     "metadata": {},
     "output_type": "display_data"
    },
    {
     "data": {
      "text/plain": [
       "<Figure size 800x600 with 0 Axes>"
      ]
     },
     "metadata": {},
     "output_type": "display_data"
    },
    {
     "data": {
      "text/plain": [
       "<Figure size 800x600 with 0 Axes>"
      ]
     },
     "metadata": {},
     "output_type": "display_data"
    },
    {
     "data": {
      "text/plain": [
       "<Figure size 800x600 with 0 Axes>"
      ]
     },
     "metadata": {},
     "output_type": "display_data"
    },
    {
     "data": {
      "text/plain": [
       "<Figure size 800x600 with 0 Axes>"
      ]
     },
     "metadata": {},
     "output_type": "display_data"
    },
    {
     "data": {
      "text/plain": [
       "<Figure size 800x600 with 0 Axes>"
      ]
     },
     "metadata": {},
     "output_type": "display_data"
    },
    {
     "data": {
      "text/plain": [
       "<Figure size 800x600 with 0 Axes>"
      ]
     },
     "metadata": {},
     "output_type": "display_data"
    },
    {
     "data": {
      "text/plain": [
       "<Figure size 800x600 with 0 Axes>"
      ]
     },
     "metadata": {},
     "output_type": "display_data"
    },
    {
     "data": {
      "text/plain": [
       "<Figure size 800x600 with 0 Axes>"
      ]
     },
     "metadata": {},
     "output_type": "display_data"
    },
    {
     "data": {
      "text/plain": [
       "<Figure size 800x600 with 0 Axes>"
      ]
     },
     "metadata": {},
     "output_type": "display_data"
    },
    {
     "data": {
      "text/plain": [
       "<Figure size 800x600 with 0 Axes>"
      ]
     },
     "metadata": {},
     "output_type": "display_data"
    },
    {
     "data": {
      "text/plain": [
       "<Figure size 800x600 with 0 Axes>"
      ]
     },
     "metadata": {},
     "output_type": "display_data"
    },
    {
     "data": {
      "text/plain": [
       "<Figure size 800x600 with 0 Axes>"
      ]
     },
     "metadata": {},
     "output_type": "display_data"
    },
    {
     "data": {
      "text/plain": [
       "<Figure size 800x600 with 0 Axes>"
      ]
     },
     "metadata": {},
     "output_type": "display_data"
    },
    {
     "data": {
      "text/plain": [
       "<Figure size 800x600 with 0 Axes>"
      ]
     },
     "metadata": {},
     "output_type": "display_data"
    },
    {
     "data": {
      "text/plain": [
       "<Figure size 800x600 with 0 Axes>"
      ]
     },
     "metadata": {},
     "output_type": "display_data"
    },
    {
     "data": {
      "text/plain": [
       "<Figure size 800x600 with 0 Axes>"
      ]
     },
     "metadata": {},
     "output_type": "display_data"
    },
    {
     "data": {
      "text/plain": [
       "<Figure size 800x600 with 0 Axes>"
      ]
     },
     "metadata": {},
     "output_type": "display_data"
    },
    {
     "data": {
      "text/plain": [
       "<Figure size 800x600 with 0 Axes>"
      ]
     },
     "metadata": {},
     "output_type": "display_data"
    },
    {
     "data": {
      "text/plain": [
       "<Figure size 800x600 with 0 Axes>"
      ]
     },
     "metadata": {},
     "output_type": "display_data"
    },
    {
     "data": {
      "text/plain": [
       "<Figure size 800x600 with 0 Axes>"
      ]
     },
     "metadata": {},
     "output_type": "display_data"
    },
    {
     "data": {
      "text/plain": [
       "<Figure size 800x600 with 0 Axes>"
      ]
     },
     "metadata": {},
     "output_type": "display_data"
    },
    {
     "data": {
      "text/plain": [
       "<Figure size 800x600 with 0 Axes>"
      ]
     },
     "metadata": {},
     "output_type": "display_data"
    },
    {
     "data": {
      "text/plain": [
       "<Figure size 800x600 with 0 Axes>"
      ]
     },
     "metadata": {},
     "output_type": "display_data"
    },
    {
     "data": {
      "text/plain": [
       "<Figure size 800x600 with 0 Axes>"
      ]
     },
     "metadata": {},
     "output_type": "display_data"
    },
    {
     "data": {
      "text/plain": [
       "<Figure size 800x600 with 0 Axes>"
      ]
     },
     "metadata": {},
     "output_type": "display_data"
    },
    {
     "data": {
      "text/plain": [
       "<Figure size 800x600 with 0 Axes>"
      ]
     },
     "metadata": {},
     "output_type": "display_data"
    },
    {
     "data": {
      "text/plain": [
       "<Figure size 800x600 with 0 Axes>"
      ]
     },
     "metadata": {},
     "output_type": "display_data"
    },
    {
     "data": {
      "text/plain": [
       "<Figure size 800x600 with 0 Axes>"
      ]
     },
     "metadata": {},
     "output_type": "display_data"
    },
    {
     "data": {
      "text/plain": [
       "<Figure size 800x600 with 0 Axes>"
      ]
     },
     "metadata": {},
     "output_type": "display_data"
    },
    {
     "data": {
      "text/plain": [
       "<Figure size 800x600 with 0 Axes>"
      ]
     },
     "metadata": {},
     "output_type": "display_data"
    },
    {
     "data": {
      "text/plain": [
       "<Figure size 800x600 with 0 Axes>"
      ]
     },
     "metadata": {},
     "output_type": "display_data"
    },
    {
     "data": {
      "text/plain": [
       "<Figure size 800x600 with 0 Axes>"
      ]
     },
     "metadata": {},
     "output_type": "display_data"
    },
    {
     "data": {
      "text/plain": [
       "<Figure size 800x600 with 0 Axes>"
      ]
     },
     "metadata": {},
     "output_type": "display_data"
    },
    {
     "data": {
      "text/plain": [
       "<Figure size 800x600 with 0 Axes>"
      ]
     },
     "metadata": {},
     "output_type": "display_data"
    },
    {
     "data": {
      "text/plain": [
       "<Figure size 800x600 with 0 Axes>"
      ]
     },
     "metadata": {},
     "output_type": "display_data"
    },
    {
     "data": {
      "text/plain": [
       "<Figure size 800x600 with 0 Axes>"
      ]
     },
     "metadata": {},
     "output_type": "display_data"
    },
    {
     "data": {
      "text/plain": [
       "<Figure size 800x600 with 0 Axes>"
      ]
     },
     "metadata": {},
     "output_type": "display_data"
    },
    {
     "data": {
      "text/plain": [
       "<Figure size 800x600 with 0 Axes>"
      ]
     },
     "metadata": {},
     "output_type": "display_data"
    },
    {
     "data": {
      "text/plain": [
       "<Figure size 800x600 with 0 Axes>"
      ]
     },
     "metadata": {},
     "output_type": "display_data"
    },
    {
     "data": {
      "text/plain": [
       "<Figure size 800x600 with 0 Axes>"
      ]
     },
     "metadata": {},
     "output_type": "display_data"
    },
    {
     "data": {
      "text/plain": [
       "<Figure size 800x600 with 0 Axes>"
      ]
     },
     "metadata": {},
     "output_type": "display_data"
    },
    {
     "data": {
      "text/plain": [
       "<Figure size 800x600 with 0 Axes>"
      ]
     },
     "metadata": {},
     "output_type": "display_data"
    },
    {
     "data": {
      "text/plain": [
       "<Figure size 800x600 with 0 Axes>"
      ]
     },
     "metadata": {},
     "output_type": "display_data"
    },
    {
     "data": {
      "text/plain": [
       "<Figure size 800x600 with 0 Axes>"
      ]
     },
     "metadata": {},
     "output_type": "display_data"
    },
    {
     "data": {
      "text/plain": [
       "<Figure size 800x600 with 0 Axes>"
      ]
     },
     "metadata": {},
     "output_type": "display_data"
    },
    {
     "data": {
      "text/plain": [
       "<Figure size 800x600 with 0 Axes>"
      ]
     },
     "metadata": {},
     "output_type": "display_data"
    },
    {
     "data": {
      "text/plain": [
       "<Figure size 800x600 with 0 Axes>"
      ]
     },
     "metadata": {},
     "output_type": "display_data"
    },
    {
     "data": {
      "text/plain": [
       "<Figure size 800x600 with 0 Axes>"
      ]
     },
     "metadata": {},
     "output_type": "display_data"
    },
    {
     "data": {
      "text/plain": [
       "<Figure size 800x600 with 0 Axes>"
      ]
     },
     "metadata": {},
     "output_type": "display_data"
    },
    {
     "data": {
      "text/plain": [
       "<Figure size 800x600 with 0 Axes>"
      ]
     },
     "metadata": {},
     "output_type": "display_data"
    },
    {
     "data": {
      "text/plain": [
       "<Figure size 800x600 with 0 Axes>"
      ]
     },
     "metadata": {},
     "output_type": "display_data"
    },
    {
     "data": {
      "text/plain": [
       "<Figure size 800x600 with 0 Axes>"
      ]
     },
     "metadata": {},
     "output_type": "display_data"
    },
    {
     "data": {
      "text/plain": [
       "<Figure size 800x600 with 0 Axes>"
      ]
     },
     "metadata": {},
     "output_type": "display_data"
    },
    {
     "data": {
      "text/plain": [
       "<Figure size 800x600 with 0 Axes>"
      ]
     },
     "metadata": {},
     "output_type": "display_data"
    },
    {
     "data": {
      "text/plain": [
       "<Figure size 800x600 with 0 Axes>"
      ]
     },
     "metadata": {},
     "output_type": "display_data"
    },
    {
     "data": {
      "text/plain": [
       "<Figure size 800x600 with 0 Axes>"
      ]
     },
     "metadata": {},
     "output_type": "display_data"
    },
    {
     "data": {
      "text/plain": [
       "<Figure size 800x600 with 0 Axes>"
      ]
     },
     "metadata": {},
     "output_type": "display_data"
    },
    {
     "data": {
      "text/plain": [
       "<Figure size 800x600 with 0 Axes>"
      ]
     },
     "metadata": {},
     "output_type": "display_data"
    },
    {
     "data": {
      "text/plain": [
       "<Figure size 800x600 with 0 Axes>"
      ]
     },
     "metadata": {},
     "output_type": "display_data"
    },
    {
     "data": {
      "text/plain": [
       "<Figure size 800x600 with 0 Axes>"
      ]
     },
     "metadata": {},
     "output_type": "display_data"
    },
    {
     "data": {
      "text/plain": [
       "<Figure size 800x600 with 0 Axes>"
      ]
     },
     "metadata": {},
     "output_type": "display_data"
    },
    {
     "data": {
      "text/plain": [
       "<Figure size 800x600 with 0 Axes>"
      ]
     },
     "metadata": {},
     "output_type": "display_data"
    },
    {
     "data": {
      "text/plain": [
       "<Figure size 800x600 with 0 Axes>"
      ]
     },
     "metadata": {},
     "output_type": "display_data"
    },
    {
     "data": {
      "text/plain": [
       "<Figure size 800x600 with 0 Axes>"
      ]
     },
     "metadata": {},
     "output_type": "display_data"
    },
    {
     "data": {
      "text/plain": [
       "<Figure size 800x600 with 0 Axes>"
      ]
     },
     "metadata": {},
     "output_type": "display_data"
    },
    {
     "data": {
      "text/plain": [
       "<Figure size 800x600 with 0 Axes>"
      ]
     },
     "metadata": {},
     "output_type": "display_data"
    },
    {
     "data": {
      "text/plain": [
       "<Figure size 800x600 with 0 Axes>"
      ]
     },
     "metadata": {},
     "output_type": "display_data"
    },
    {
     "data": {
      "text/plain": [
       "<Figure size 800x600 with 0 Axes>"
      ]
     },
     "metadata": {},
     "output_type": "display_data"
    },
    {
     "data": {
      "text/plain": [
       "<Figure size 800x600 with 0 Axes>"
      ]
     },
     "metadata": {},
     "output_type": "display_data"
    },
    {
     "data": {
      "text/plain": [
       "<Figure size 800x600 with 0 Axes>"
      ]
     },
     "metadata": {},
     "output_type": "display_data"
    },
    {
     "data": {
      "text/plain": [
       "<Figure size 800x600 with 0 Axes>"
      ]
     },
     "metadata": {},
     "output_type": "display_data"
    },
    {
     "data": {
      "text/plain": [
       "<Figure size 800x600 with 0 Axes>"
      ]
     },
     "metadata": {},
     "output_type": "display_data"
    },
    {
     "data": {
      "text/plain": [
       "<Figure size 800x600 with 0 Axes>"
      ]
     },
     "metadata": {},
     "output_type": "display_data"
    },
    {
     "data": {
      "text/plain": [
       "<Figure size 800x600 with 0 Axes>"
      ]
     },
     "metadata": {},
     "output_type": "display_data"
    },
    {
     "data": {
      "text/plain": [
       "<Figure size 800x600 with 0 Axes>"
      ]
     },
     "metadata": {},
     "output_type": "display_data"
    },
    {
     "data": {
      "text/plain": [
       "<Figure size 800x600 with 0 Axes>"
      ]
     },
     "metadata": {},
     "output_type": "display_data"
    },
    {
     "data": {
      "text/plain": [
       "<Figure size 800x600 with 0 Axes>"
      ]
     },
     "metadata": {},
     "output_type": "display_data"
    },
    {
     "data": {
      "text/plain": [
       "<Figure size 800x600 with 0 Axes>"
      ]
     },
     "metadata": {},
     "output_type": "display_data"
    },
    {
     "data": {
      "text/plain": [
       "<Figure size 800x600 with 0 Axes>"
      ]
     },
     "metadata": {},
     "output_type": "display_data"
    },
    {
     "data": {
      "text/plain": [
       "<Figure size 800x600 with 0 Axes>"
      ]
     },
     "metadata": {},
     "output_type": "display_data"
    },
    {
     "data": {
      "text/plain": [
       "<Figure size 800x600 with 0 Axes>"
      ]
     },
     "metadata": {},
     "output_type": "display_data"
    },
    {
     "data": {
      "text/plain": [
       "<Figure size 800x600 with 0 Axes>"
      ]
     },
     "metadata": {},
     "output_type": "display_data"
    },
    {
     "data": {
      "text/plain": [
       "<Figure size 800x600 with 0 Axes>"
      ]
     },
     "metadata": {},
     "output_type": "display_data"
    },
    {
     "data": {
      "text/plain": [
       "<Figure size 800x600 with 0 Axes>"
      ]
     },
     "metadata": {},
     "output_type": "display_data"
    },
    {
     "data": {
      "text/plain": [
       "<Figure size 800x600 with 0 Axes>"
      ]
     },
     "metadata": {},
     "output_type": "display_data"
    },
    {
     "data": {
      "text/plain": [
       "<Figure size 800x600 with 0 Axes>"
      ]
     },
     "metadata": {},
     "output_type": "display_data"
    },
    {
     "data": {
      "text/plain": [
       "<Figure size 800x600 with 0 Axes>"
      ]
     },
     "metadata": {},
     "output_type": "display_data"
    },
    {
     "data": {
      "text/plain": [
       "<Figure size 800x600 with 0 Axes>"
      ]
     },
     "metadata": {},
     "output_type": "display_data"
    },
    {
     "data": {
      "text/plain": [
       "<Figure size 800x600 with 0 Axes>"
      ]
     },
     "metadata": {},
     "output_type": "display_data"
    },
    {
     "data": {
      "text/plain": [
       "<Figure size 800x600 with 0 Axes>"
      ]
     },
     "metadata": {},
     "output_type": "display_data"
    },
    {
     "data": {
      "text/plain": [
       "<Figure size 800x600 with 0 Axes>"
      ]
     },
     "metadata": {},
     "output_type": "display_data"
    },
    {
     "data": {
      "text/plain": [
       "<Figure size 800x600 with 0 Axes>"
      ]
     },
     "metadata": {},
     "output_type": "display_data"
    },
    {
     "data": {
      "text/plain": [
       "<Figure size 800x600 with 0 Axes>"
      ]
     },
     "metadata": {},
     "output_type": "display_data"
    },
    {
     "data": {
      "text/plain": [
       "<Figure size 800x600 with 0 Axes>"
      ]
     },
     "metadata": {},
     "output_type": "display_data"
    },
    {
     "data": {
      "text/plain": [
       "<Figure size 800x600 with 0 Axes>"
      ]
     },
     "metadata": {},
     "output_type": "display_data"
    },
    {
     "data": {
      "text/plain": [
       "<Figure size 800x600 with 0 Axes>"
      ]
     },
     "metadata": {},
     "output_type": "display_data"
    },
    {
     "data": {
      "text/plain": [
       "<Figure size 800x600 with 0 Axes>"
      ]
     },
     "metadata": {},
     "output_type": "display_data"
    },
    {
     "data": {
      "text/plain": [
       "<Figure size 800x600 with 0 Axes>"
      ]
     },
     "metadata": {},
     "output_type": "display_data"
    },
    {
     "data": {
      "text/plain": [
       "<Figure size 800x600 with 0 Axes>"
      ]
     },
     "metadata": {},
     "output_type": "display_data"
    },
    {
     "data": {
      "text/plain": [
       "<Figure size 800x600 with 0 Axes>"
      ]
     },
     "metadata": {},
     "output_type": "display_data"
    },
    {
     "data": {
      "text/plain": [
       "<Figure size 800x600 with 0 Axes>"
      ]
     },
     "metadata": {},
     "output_type": "display_data"
    },
    {
     "data": {
      "text/plain": [
       "<Figure size 800x600 with 0 Axes>"
      ]
     },
     "metadata": {},
     "output_type": "display_data"
    },
    {
     "data": {
      "text/plain": [
       "<Figure size 800x600 with 0 Axes>"
      ]
     },
     "metadata": {},
     "output_type": "display_data"
    },
    {
     "data": {
      "text/plain": [
       "<Figure size 800x600 with 0 Axes>"
      ]
     },
     "metadata": {},
     "output_type": "display_data"
    },
    {
     "data": {
      "text/plain": [
       "<Figure size 800x600 with 0 Axes>"
      ]
     },
     "metadata": {},
     "output_type": "display_data"
    },
    {
     "data": {
      "text/plain": [
       "<Figure size 800x600 with 0 Axes>"
      ]
     },
     "metadata": {},
     "output_type": "display_data"
    },
    {
     "data": {
      "text/plain": [
       "<Figure size 800x600 with 0 Axes>"
      ]
     },
     "metadata": {},
     "output_type": "display_data"
    },
    {
     "data": {
      "text/plain": [
       "<Figure size 800x600 with 0 Axes>"
      ]
     },
     "metadata": {},
     "output_type": "display_data"
    },
    {
     "data": {
      "text/plain": [
       "<Figure size 800x600 with 0 Axes>"
      ]
     },
     "metadata": {},
     "output_type": "display_data"
    },
    {
     "data": {
      "text/plain": [
       "<Figure size 800x600 with 0 Axes>"
      ]
     },
     "metadata": {},
     "output_type": "display_data"
    },
    {
     "data": {
      "text/plain": [
       "<Figure size 800x600 with 0 Axes>"
      ]
     },
     "metadata": {},
     "output_type": "display_data"
    },
    {
     "data": {
      "text/plain": [
       "<Figure size 800x600 with 0 Axes>"
      ]
     },
     "metadata": {},
     "output_type": "display_data"
    },
    {
     "data": {
      "text/plain": [
       "<Figure size 800x600 with 0 Axes>"
      ]
     },
     "metadata": {},
     "output_type": "display_data"
    },
    {
     "data": {
      "text/plain": [
       "<Figure size 800x600 with 0 Axes>"
      ]
     },
     "metadata": {},
     "output_type": "display_data"
    },
    {
     "data": {
      "text/plain": [
       "<Figure size 800x600 with 0 Axes>"
      ]
     },
     "metadata": {},
     "output_type": "display_data"
    },
    {
     "data": {
      "text/plain": [
       "<Figure size 800x600 with 0 Axes>"
      ]
     },
     "metadata": {},
     "output_type": "display_data"
    },
    {
     "data": {
      "text/plain": [
       "<Figure size 800x600 with 0 Axes>"
      ]
     },
     "metadata": {},
     "output_type": "display_data"
    },
    {
     "data": {
      "text/plain": [
       "<Figure size 800x600 with 0 Axes>"
      ]
     },
     "metadata": {},
     "output_type": "display_data"
    },
    {
     "data": {
      "text/plain": [
       "<Figure size 800x600 with 0 Axes>"
      ]
     },
     "metadata": {},
     "output_type": "display_data"
    },
    {
     "data": {
      "text/plain": [
       "<Figure size 800x600 with 0 Axes>"
      ]
     },
     "metadata": {},
     "output_type": "display_data"
    },
    {
     "data": {
      "text/plain": [
       "<Figure size 800x600 with 0 Axes>"
      ]
     },
     "metadata": {},
     "output_type": "display_data"
    },
    {
     "data": {
      "text/plain": [
       "<Figure size 800x600 with 0 Axes>"
      ]
     },
     "metadata": {},
     "output_type": "display_data"
    },
    {
     "data": {
      "text/plain": [
       "<Figure size 800x600 with 0 Axes>"
      ]
     },
     "metadata": {},
     "output_type": "display_data"
    },
    {
     "data": {
      "text/plain": [
       "<Figure size 800x600 with 0 Axes>"
      ]
     },
     "metadata": {},
     "output_type": "display_data"
    },
    {
     "data": {
      "text/plain": [
       "<Figure size 800x600 with 0 Axes>"
      ]
     },
     "metadata": {},
     "output_type": "display_data"
    },
    {
     "data": {
      "text/plain": [
       "<Figure size 800x600 with 0 Axes>"
      ]
     },
     "metadata": {},
     "output_type": "display_data"
    },
    {
     "data": {
      "text/plain": [
       "<Figure size 800x600 with 0 Axes>"
      ]
     },
     "metadata": {},
     "output_type": "display_data"
    },
    {
     "data": {
      "text/plain": [
       "<Figure size 800x600 with 0 Axes>"
      ]
     },
     "metadata": {},
     "output_type": "display_data"
    },
    {
     "data": {
      "text/plain": [
       "<Figure size 800x600 with 0 Axes>"
      ]
     },
     "metadata": {},
     "output_type": "display_data"
    },
    {
     "data": {
      "text/plain": [
       "<Figure size 800x600 with 0 Axes>"
      ]
     },
     "metadata": {},
     "output_type": "display_data"
    },
    {
     "data": {
      "text/plain": [
       "<Figure size 800x600 with 0 Axes>"
      ]
     },
     "metadata": {},
     "output_type": "display_data"
    },
    {
     "data": {
      "text/plain": [
       "<Figure size 800x600 with 0 Axes>"
      ]
     },
     "metadata": {},
     "output_type": "display_data"
    },
    {
     "data": {
      "text/plain": [
       "<Figure size 800x600 with 0 Axes>"
      ]
     },
     "metadata": {},
     "output_type": "display_data"
    },
    {
     "data": {
      "text/plain": [
       "<Figure size 800x600 with 0 Axes>"
      ]
     },
     "metadata": {},
     "output_type": "display_data"
    },
    {
     "data": {
      "text/plain": [
       "<Figure size 800x600 with 0 Axes>"
      ]
     },
     "metadata": {},
     "output_type": "display_data"
    },
    {
     "data": {
      "text/plain": [
       "<Figure size 800x600 with 0 Axes>"
      ]
     },
     "metadata": {},
     "output_type": "display_data"
    },
    {
     "data": {
      "text/plain": [
       "<Figure size 800x600 with 0 Axes>"
      ]
     },
     "metadata": {},
     "output_type": "display_data"
    },
    {
     "data": {
      "text/plain": [
       "<Figure size 800x600 with 0 Axes>"
      ]
     },
     "metadata": {},
     "output_type": "display_data"
    },
    {
     "data": {
      "text/plain": [
       "<Figure size 800x600 with 0 Axes>"
      ]
     },
     "metadata": {},
     "output_type": "display_data"
    },
    {
     "data": {
      "text/plain": [
       "<Figure size 800x600 with 0 Axes>"
      ]
     },
     "metadata": {},
     "output_type": "display_data"
    },
    {
     "data": {
      "text/plain": [
       "<Figure size 800x600 with 0 Axes>"
      ]
     },
     "metadata": {},
     "output_type": "display_data"
    },
    {
     "data": {
      "text/plain": [
       "<Figure size 800x600 with 0 Axes>"
      ]
     },
     "metadata": {},
     "output_type": "display_data"
    },
    {
     "data": {
      "text/plain": [
       "<Figure size 800x600 with 0 Axes>"
      ]
     },
     "metadata": {},
     "output_type": "display_data"
    },
    {
     "data": {
      "text/plain": [
       "<Figure size 800x600 with 0 Axes>"
      ]
     },
     "metadata": {},
     "output_type": "display_data"
    },
    {
     "data": {
      "text/plain": [
       "<Figure size 800x600 with 0 Axes>"
      ]
     },
     "metadata": {},
     "output_type": "display_data"
    },
    {
     "data": {
      "text/plain": [
       "<Figure size 800x600 with 0 Axes>"
      ]
     },
     "metadata": {},
     "output_type": "display_data"
    },
    {
     "data": {
      "text/plain": [
       "<Figure size 800x600 with 0 Axes>"
      ]
     },
     "metadata": {},
     "output_type": "display_data"
    },
    {
     "data": {
      "text/plain": [
       "<Figure size 800x600 with 0 Axes>"
      ]
     },
     "metadata": {},
     "output_type": "display_data"
    },
    {
     "data": {
      "text/plain": [
       "<Figure size 800x600 with 0 Axes>"
      ]
     },
     "metadata": {},
     "output_type": "display_data"
    },
    {
     "data": {
      "text/plain": [
       "<Figure size 800x600 with 0 Axes>"
      ]
     },
     "metadata": {},
     "output_type": "display_data"
    },
    {
     "data": {
      "text/plain": [
       "<Figure size 800x600 with 0 Axes>"
      ]
     },
     "metadata": {},
     "output_type": "display_data"
    },
    {
     "data": {
      "text/plain": [
       "<Figure size 800x600 with 0 Axes>"
      ]
     },
     "metadata": {},
     "output_type": "display_data"
    },
    {
     "data": {
      "text/plain": [
       "<Figure size 800x600 with 0 Axes>"
      ]
     },
     "metadata": {},
     "output_type": "display_data"
    },
    {
     "data": {
      "text/plain": [
       "<Figure size 800x600 with 0 Axes>"
      ]
     },
     "metadata": {},
     "output_type": "display_data"
    },
    {
     "data": {
      "text/plain": [
       "<Figure size 800x600 with 0 Axes>"
      ]
     },
     "metadata": {},
     "output_type": "display_data"
    },
    {
     "data": {
      "text/plain": [
       "<Figure size 800x600 with 0 Axes>"
      ]
     },
     "metadata": {},
     "output_type": "display_data"
    },
    {
     "data": {
      "text/plain": [
       "<Figure size 800x600 with 0 Axes>"
      ]
     },
     "metadata": {},
     "output_type": "display_data"
    },
    {
     "data": {
      "text/plain": [
       "<Figure size 800x600 with 0 Axes>"
      ]
     },
     "metadata": {},
     "output_type": "display_data"
    },
    {
     "data": {
      "text/plain": [
       "<Figure size 800x600 with 0 Axes>"
      ]
     },
     "metadata": {},
     "output_type": "display_data"
    },
    {
     "data": {
      "text/plain": [
       "<Figure size 800x600 with 0 Axes>"
      ]
     },
     "metadata": {},
     "output_type": "display_data"
    },
    {
     "data": {
      "text/plain": [
       "<Figure size 800x600 with 0 Axes>"
      ]
     },
     "metadata": {},
     "output_type": "display_data"
    },
    {
     "data": {
      "text/plain": [
       "<Figure size 800x600 with 0 Axes>"
      ]
     },
     "metadata": {},
     "output_type": "display_data"
    },
    {
     "data": {
      "text/plain": [
       "<Figure size 800x600 with 0 Axes>"
      ]
     },
     "metadata": {},
     "output_type": "display_data"
    },
    {
     "data": {
      "text/plain": [
       "<Figure size 800x600 with 0 Axes>"
      ]
     },
     "metadata": {},
     "output_type": "display_data"
    },
    {
     "data": {
      "text/plain": [
       "<Figure size 800x600 with 0 Axes>"
      ]
     },
     "metadata": {},
     "output_type": "display_data"
    },
    {
     "data": {
      "text/plain": [
       "<Figure size 800x600 with 0 Axes>"
      ]
     },
     "metadata": {},
     "output_type": "display_data"
    },
    {
     "data": {
      "text/plain": [
       "<Figure size 800x600 with 0 Axes>"
      ]
     },
     "metadata": {},
     "output_type": "display_data"
    },
    {
     "data": {
      "text/plain": [
       "<Figure size 800x600 with 0 Axes>"
      ]
     },
     "metadata": {},
     "output_type": "display_data"
    },
    {
     "data": {
      "text/plain": [
       "<Figure size 800x600 with 0 Axes>"
      ]
     },
     "metadata": {},
     "output_type": "display_data"
    },
    {
     "data": {
      "text/plain": [
       "<Figure size 800x600 with 0 Axes>"
      ]
     },
     "metadata": {},
     "output_type": "display_data"
    },
    {
     "data": {
      "text/plain": [
       "<Figure size 800x600 with 0 Axes>"
      ]
     },
     "metadata": {},
     "output_type": "display_data"
    },
    {
     "data": {
      "text/plain": [
       "<Figure size 800x600 with 0 Axes>"
      ]
     },
     "metadata": {},
     "output_type": "display_data"
    },
    {
     "data": {
      "text/plain": [
       "<Figure size 800x600 with 0 Axes>"
      ]
     },
     "metadata": {},
     "output_type": "display_data"
    },
    {
     "data": {
      "text/plain": [
       "<Figure size 800x600 with 0 Axes>"
      ]
     },
     "metadata": {},
     "output_type": "display_data"
    },
    {
     "data": {
      "text/plain": [
       "<Figure size 800x600 with 0 Axes>"
      ]
     },
     "metadata": {},
     "output_type": "display_data"
    },
    {
     "data": {
      "text/plain": [
       "<Figure size 800x600 with 0 Axes>"
      ]
     },
     "metadata": {},
     "output_type": "display_data"
    },
    {
     "data": {
      "text/plain": [
       "<Figure size 800x600 with 0 Axes>"
      ]
     },
     "metadata": {},
     "output_type": "display_data"
    },
    {
     "data": {
      "text/plain": [
       "<Figure size 800x600 with 0 Axes>"
      ]
     },
     "metadata": {},
     "output_type": "display_data"
    },
    {
     "data": {
      "text/plain": [
       "<Figure size 800x600 with 0 Axes>"
      ]
     },
     "metadata": {},
     "output_type": "display_data"
    },
    {
     "data": {
      "text/plain": [
       "<Figure size 800x600 with 0 Axes>"
      ]
     },
     "metadata": {},
     "output_type": "display_data"
    },
    {
     "data": {
      "text/plain": [
       "<Figure size 800x600 with 0 Axes>"
      ]
     },
     "metadata": {},
     "output_type": "display_data"
    },
    {
     "data": {
      "text/plain": [
       "<Figure size 800x600 with 0 Axes>"
      ]
     },
     "metadata": {},
     "output_type": "display_data"
    },
    {
     "data": {
      "text/plain": [
       "<Figure size 800x600 with 0 Axes>"
      ]
     },
     "metadata": {},
     "output_type": "display_data"
    },
    {
     "data": {
      "text/plain": [
       "<Figure size 800x600 with 0 Axes>"
      ]
     },
     "metadata": {},
     "output_type": "display_data"
    },
    {
     "data": {
      "text/plain": [
       "<Figure size 800x600 with 0 Axes>"
      ]
     },
     "metadata": {},
     "output_type": "display_data"
    },
    {
     "data": {
      "text/plain": [
       "<Figure size 800x600 with 0 Axes>"
      ]
     },
     "metadata": {},
     "output_type": "display_data"
    },
    {
     "data": {
      "text/plain": [
       "<Figure size 800x600 with 0 Axes>"
      ]
     },
     "metadata": {},
     "output_type": "display_data"
    },
    {
     "data": {
      "text/plain": [
       "<Figure size 800x600 with 0 Axes>"
      ]
     },
     "metadata": {},
     "output_type": "display_data"
    },
    {
     "data": {
      "text/plain": [
       "<Figure size 800x600 with 0 Axes>"
      ]
     },
     "metadata": {},
     "output_type": "display_data"
    },
    {
     "data": {
      "text/plain": [
       "<Figure size 800x600 with 0 Axes>"
      ]
     },
     "metadata": {},
     "output_type": "display_data"
    },
    {
     "data": {
      "text/plain": [
       "<Figure size 800x600 with 0 Axes>"
      ]
     },
     "metadata": {},
     "output_type": "display_data"
    },
    {
     "data": {
      "text/plain": [
       "<Figure size 800x600 with 0 Axes>"
      ]
     },
     "metadata": {},
     "output_type": "display_data"
    },
    {
     "data": {
      "text/plain": [
       "<Figure size 800x600 with 0 Axes>"
      ]
     },
     "metadata": {},
     "output_type": "display_data"
    },
    {
     "data": {
      "text/plain": [
       "<Figure size 800x600 with 0 Axes>"
      ]
     },
     "metadata": {},
     "output_type": "display_data"
    },
    {
     "data": {
      "text/plain": [
       "<Figure size 800x600 with 0 Axes>"
      ]
     },
     "metadata": {},
     "output_type": "display_data"
    },
    {
     "data": {
      "text/plain": [
       "<Figure size 800x600 with 0 Axes>"
      ]
     },
     "metadata": {},
     "output_type": "display_data"
    },
    {
     "data": {
      "text/plain": [
       "<Figure size 800x600 with 0 Axes>"
      ]
     },
     "metadata": {},
     "output_type": "display_data"
    },
    {
     "data": {
      "text/plain": [
       "<Figure size 800x600 with 0 Axes>"
      ]
     },
     "metadata": {},
     "output_type": "display_data"
    },
    {
     "data": {
      "text/plain": [
       "<Figure size 800x600 with 0 Axes>"
      ]
     },
     "metadata": {},
     "output_type": "display_data"
    },
    {
     "data": {
      "text/plain": [
       "<Figure size 800x600 with 0 Axes>"
      ]
     },
     "metadata": {},
     "output_type": "display_data"
    },
    {
     "data": {
      "text/plain": [
       "<Figure size 800x600 with 0 Axes>"
      ]
     },
     "metadata": {},
     "output_type": "display_data"
    },
    {
     "data": {
      "text/plain": [
       "<Figure size 800x600 with 0 Axes>"
      ]
     },
     "metadata": {},
     "output_type": "display_data"
    },
    {
     "data": {
      "text/plain": [
       "<Figure size 800x600 with 0 Axes>"
      ]
     },
     "metadata": {},
     "output_type": "display_data"
    },
    {
     "data": {
      "text/plain": [
       "<Figure size 800x600 with 0 Axes>"
      ]
     },
     "metadata": {},
     "output_type": "display_data"
    },
    {
     "data": {
      "text/plain": [
       "<Figure size 800x600 with 0 Axes>"
      ]
     },
     "metadata": {},
     "output_type": "display_data"
    },
    {
     "data": {
      "text/plain": [
       "<Figure size 800x600 with 0 Axes>"
      ]
     },
     "metadata": {},
     "output_type": "display_data"
    },
    {
     "data": {
      "text/plain": [
       "<Figure size 800x600 with 0 Axes>"
      ]
     },
     "metadata": {},
     "output_type": "display_data"
    },
    {
     "data": {
      "text/plain": [
       "<Figure size 800x600 with 0 Axes>"
      ]
     },
     "metadata": {},
     "output_type": "display_data"
    },
    {
     "data": {
      "text/plain": [
       "<Figure size 800x600 with 0 Axes>"
      ]
     },
     "metadata": {},
     "output_type": "display_data"
    },
    {
     "data": {
      "text/plain": [
       "<Figure size 800x600 with 0 Axes>"
      ]
     },
     "metadata": {},
     "output_type": "display_data"
    },
    {
     "data": {
      "text/plain": [
       "<Figure size 800x600 with 0 Axes>"
      ]
     },
     "metadata": {},
     "output_type": "display_data"
    },
    {
     "data": {
      "text/plain": [
       "<Figure size 800x600 with 0 Axes>"
      ]
     },
     "metadata": {},
     "output_type": "display_data"
    },
    {
     "data": {
      "text/plain": [
       "<Figure size 800x600 with 0 Axes>"
      ]
     },
     "metadata": {},
     "output_type": "display_data"
    },
    {
     "data": {
      "text/plain": [
       "<Figure size 800x600 with 0 Axes>"
      ]
     },
     "metadata": {},
     "output_type": "display_data"
    },
    {
     "data": {
      "text/plain": [
       "<Figure size 800x600 with 0 Axes>"
      ]
     },
     "metadata": {},
     "output_type": "display_data"
    },
    {
     "data": {
      "text/plain": [
       "<Figure size 800x600 with 0 Axes>"
      ]
     },
     "metadata": {},
     "output_type": "display_data"
    },
    {
     "data": {
      "text/plain": [
       "<Figure size 800x600 with 0 Axes>"
      ]
     },
     "metadata": {},
     "output_type": "display_data"
    },
    {
     "data": {
      "text/plain": [
       "<Figure size 800x600 with 0 Axes>"
      ]
     },
     "metadata": {},
     "output_type": "display_data"
    },
    {
     "data": {
      "text/plain": [
       "<Figure size 800x600 with 0 Axes>"
      ]
     },
     "metadata": {},
     "output_type": "display_data"
    },
    {
     "data": {
      "text/plain": [
       "<Figure size 800x600 with 0 Axes>"
      ]
     },
     "metadata": {},
     "output_type": "display_data"
    },
    {
     "data": {
      "text/plain": [
       "<Figure size 800x600 with 0 Axes>"
      ]
     },
     "metadata": {},
     "output_type": "display_data"
    },
    {
     "data": {
      "text/plain": [
       "<Figure size 800x600 with 0 Axes>"
      ]
     },
     "metadata": {},
     "output_type": "display_data"
    },
    {
     "data": {
      "text/plain": [
       "<Figure size 800x600 with 0 Axes>"
      ]
     },
     "metadata": {},
     "output_type": "display_data"
    },
    {
     "data": {
      "text/plain": [
       "<Figure size 800x600 with 0 Axes>"
      ]
     },
     "metadata": {},
     "output_type": "display_data"
    },
    {
     "data": {
      "text/plain": [
       "<Figure size 800x600 with 0 Axes>"
      ]
     },
     "metadata": {},
     "output_type": "display_data"
    },
    {
     "data": {
      "text/plain": [
       "<Figure size 800x600 with 0 Axes>"
      ]
     },
     "metadata": {},
     "output_type": "display_data"
    },
    {
     "data": {
      "text/plain": [
       "<Figure size 800x600 with 0 Axes>"
      ]
     },
     "metadata": {},
     "output_type": "display_data"
    },
    {
     "data": {
      "text/plain": [
       "<Figure size 800x600 with 0 Axes>"
      ]
     },
     "metadata": {},
     "output_type": "display_data"
    },
    {
     "data": {
      "text/plain": [
       "<Figure size 800x600 with 0 Axes>"
      ]
     },
     "metadata": {},
     "output_type": "display_data"
    },
    {
     "data": {
      "text/plain": [
       "<Figure size 800x600 with 0 Axes>"
      ]
     },
     "metadata": {},
     "output_type": "display_data"
    },
    {
     "data": {
      "text/plain": [
       "<Figure size 800x600 with 0 Axes>"
      ]
     },
     "metadata": {},
     "output_type": "display_data"
    },
    {
     "data": {
      "text/plain": [
       "<Figure size 800x600 with 0 Axes>"
      ]
     },
     "metadata": {},
     "output_type": "display_data"
    },
    {
     "data": {
      "text/plain": [
       "<Figure size 800x600 with 0 Axes>"
      ]
     },
     "metadata": {},
     "output_type": "display_data"
    },
    {
     "data": {
      "text/plain": [
       "<Figure size 800x600 with 0 Axes>"
      ]
     },
     "metadata": {},
     "output_type": "display_data"
    },
    {
     "data": {
      "text/plain": [
       "<Figure size 800x600 with 0 Axes>"
      ]
     },
     "metadata": {},
     "output_type": "display_data"
    },
    {
     "data": {
      "text/plain": [
       "<Figure size 800x600 with 0 Axes>"
      ]
     },
     "metadata": {},
     "output_type": "display_data"
    },
    {
     "data": {
      "text/plain": [
       "<Figure size 800x600 with 0 Axes>"
      ]
     },
     "metadata": {},
     "output_type": "display_data"
    },
    {
     "data": {
      "text/plain": [
       "<Figure size 800x600 with 0 Axes>"
      ]
     },
     "metadata": {},
     "output_type": "display_data"
    },
    {
     "data": {
      "text/plain": [
       "<Figure size 800x600 with 0 Axes>"
      ]
     },
     "metadata": {},
     "output_type": "display_data"
    },
    {
     "data": {
      "text/plain": [
       "<Figure size 800x600 with 0 Axes>"
      ]
     },
     "metadata": {},
     "output_type": "display_data"
    },
    {
     "data": {
      "text/plain": [
       "<Figure size 800x600 with 0 Axes>"
      ]
     },
     "metadata": {},
     "output_type": "display_data"
    },
    {
     "data": {
      "text/plain": [
       "<Figure size 800x600 with 0 Axes>"
      ]
     },
     "metadata": {},
     "output_type": "display_data"
    },
    {
     "data": {
      "text/plain": [
       "<Figure size 800x600 with 0 Axes>"
      ]
     },
     "metadata": {},
     "output_type": "display_data"
    },
    {
     "data": {
      "text/plain": [
       "<Figure size 800x600 with 0 Axes>"
      ]
     },
     "metadata": {},
     "output_type": "display_data"
    },
    {
     "data": {
      "text/plain": [
       "<Figure size 800x600 with 0 Axes>"
      ]
     },
     "metadata": {},
     "output_type": "display_data"
    },
    {
     "data": {
      "text/plain": [
       "<Figure size 800x600 with 0 Axes>"
      ]
     },
     "metadata": {},
     "output_type": "display_data"
    },
    {
     "data": {
      "text/plain": [
       "<Figure size 800x600 with 0 Axes>"
      ]
     },
     "metadata": {},
     "output_type": "display_data"
    },
    {
     "data": {
      "text/plain": [
       "<Figure size 800x600 with 0 Axes>"
      ]
     },
     "metadata": {},
     "output_type": "display_data"
    },
    {
     "data": {
      "text/plain": [
       "<Figure size 800x600 with 0 Axes>"
      ]
     },
     "metadata": {},
     "output_type": "display_data"
    },
    {
     "data": {
      "text/plain": [
       "<Figure size 800x600 with 0 Axes>"
      ]
     },
     "metadata": {},
     "output_type": "display_data"
    },
    {
     "data": {
      "text/plain": [
       "<Figure size 800x600 with 0 Axes>"
      ]
     },
     "metadata": {},
     "output_type": "display_data"
    },
    {
     "data": {
      "text/plain": [
       "<Figure size 800x600 with 0 Axes>"
      ]
     },
     "metadata": {},
     "output_type": "display_data"
    },
    {
     "data": {
      "text/plain": [
       "<Figure size 800x600 with 0 Axes>"
      ]
     },
     "metadata": {},
     "output_type": "display_data"
    },
    {
     "data": {
      "text/plain": [
       "<Figure size 800x600 with 0 Axes>"
      ]
     },
     "metadata": {},
     "output_type": "display_data"
    },
    {
     "data": {
      "text/plain": [
       "<Figure size 800x600 with 0 Axes>"
      ]
     },
     "metadata": {},
     "output_type": "display_data"
    },
    {
     "data": {
      "text/plain": [
       "<Figure size 800x600 with 0 Axes>"
      ]
     },
     "metadata": {},
     "output_type": "display_data"
    },
    {
     "data": {
      "text/plain": [
       "<Figure size 800x600 with 0 Axes>"
      ]
     },
     "metadata": {},
     "output_type": "display_data"
    },
    {
     "data": {
      "text/plain": [
       "<Figure size 800x600 with 0 Axes>"
      ]
     },
     "metadata": {},
     "output_type": "display_data"
    },
    {
     "data": {
      "text/plain": [
       "<Figure size 800x600 with 0 Axes>"
      ]
     },
     "metadata": {},
     "output_type": "display_data"
    },
    {
     "data": {
      "text/plain": [
       "<Figure size 800x600 with 0 Axes>"
      ]
     },
     "metadata": {},
     "output_type": "display_data"
    },
    {
     "data": {
      "text/plain": [
       "<Figure size 800x600 with 0 Axes>"
      ]
     },
     "metadata": {},
     "output_type": "display_data"
    },
    {
     "data": {
      "text/plain": [
       "<Figure size 800x600 with 0 Axes>"
      ]
     },
     "metadata": {},
     "output_type": "display_data"
    },
    {
     "data": {
      "text/plain": [
       "<Figure size 800x600 with 0 Axes>"
      ]
     },
     "metadata": {},
     "output_type": "display_data"
    },
    {
     "data": {
      "text/plain": [
       "<Figure size 800x600 with 0 Axes>"
      ]
     },
     "metadata": {},
     "output_type": "display_data"
    },
    {
     "data": {
      "text/plain": [
       "<Figure size 800x600 with 0 Axes>"
      ]
     },
     "metadata": {},
     "output_type": "display_data"
    },
    {
     "data": {
      "text/plain": [
       "<Figure size 800x600 with 0 Axes>"
      ]
     },
     "metadata": {},
     "output_type": "display_data"
    },
    {
     "data": {
      "text/plain": [
       "<Figure size 800x600 with 0 Axes>"
      ]
     },
     "metadata": {},
     "output_type": "display_data"
    },
    {
     "data": {
      "text/plain": [
       "<Figure size 800x600 with 0 Axes>"
      ]
     },
     "metadata": {},
     "output_type": "display_data"
    },
    {
     "data": {
      "text/plain": [
       "<Figure size 800x600 with 0 Axes>"
      ]
     },
     "metadata": {},
     "output_type": "display_data"
    },
    {
     "data": {
      "text/plain": [
       "<Figure size 800x600 with 0 Axes>"
      ]
     },
     "metadata": {},
     "output_type": "display_data"
    },
    {
     "data": {
      "text/plain": [
       "<Figure size 800x600 with 0 Axes>"
      ]
     },
     "metadata": {},
     "output_type": "display_data"
    },
    {
     "data": {
      "text/plain": [
       "<Figure size 800x600 with 0 Axes>"
      ]
     },
     "metadata": {},
     "output_type": "display_data"
    },
    {
     "data": {
      "text/plain": [
       "<Figure size 800x600 with 0 Axes>"
      ]
     },
     "metadata": {},
     "output_type": "display_data"
    },
    {
     "data": {
      "text/plain": [
       "<Figure size 800x600 with 0 Axes>"
      ]
     },
     "metadata": {},
     "output_type": "display_data"
    },
    {
     "data": {
      "text/plain": [
       "<Figure size 800x600 with 0 Axes>"
      ]
     },
     "metadata": {},
     "output_type": "display_data"
    },
    {
     "data": {
      "text/plain": [
       "<Figure size 800x600 with 0 Axes>"
      ]
     },
     "metadata": {},
     "output_type": "display_data"
    },
    {
     "data": {
      "text/plain": [
       "<Figure size 800x600 with 0 Axes>"
      ]
     },
     "metadata": {},
     "output_type": "display_data"
    },
    {
     "data": {
      "text/plain": [
       "<Figure size 800x600 with 0 Axes>"
      ]
     },
     "metadata": {},
     "output_type": "display_data"
    },
    {
     "data": {
      "text/plain": [
       "<Figure size 800x600 with 0 Axes>"
      ]
     },
     "metadata": {},
     "output_type": "display_data"
    },
    {
     "data": {
      "text/plain": [
       "<Figure size 800x600 with 0 Axes>"
      ]
     },
     "metadata": {},
     "output_type": "display_data"
    },
    {
     "data": {
      "text/plain": [
       "<Figure size 800x600 with 0 Axes>"
      ]
     },
     "metadata": {},
     "output_type": "display_data"
    },
    {
     "data": {
      "text/plain": [
       "<Figure size 800x600 with 0 Axes>"
      ]
     },
     "metadata": {},
     "output_type": "display_data"
    },
    {
     "data": {
      "text/plain": [
       "<Figure size 800x600 with 0 Axes>"
      ]
     },
     "metadata": {},
     "output_type": "display_data"
    },
    {
     "data": {
      "text/plain": [
       "<Figure size 800x600 with 0 Axes>"
      ]
     },
     "metadata": {},
     "output_type": "display_data"
    },
    {
     "data": {
      "text/plain": [
       "<Figure size 800x600 with 0 Axes>"
      ]
     },
     "metadata": {},
     "output_type": "display_data"
    },
    {
     "data": {
      "text/plain": [
       "<Figure size 800x600 with 0 Axes>"
      ]
     },
     "metadata": {},
     "output_type": "display_data"
    },
    {
     "data": {
      "text/plain": [
       "<Figure size 800x600 with 0 Axes>"
      ]
     },
     "metadata": {},
     "output_type": "display_data"
    },
    {
     "data": {
      "text/plain": [
       "<Figure size 800x600 with 0 Axes>"
      ]
     },
     "metadata": {},
     "output_type": "display_data"
    },
    {
     "data": {
      "text/plain": [
       "<Figure size 800x600 with 0 Axes>"
      ]
     },
     "metadata": {},
     "output_type": "display_data"
    },
    {
     "data": {
      "text/plain": [
       "<Figure size 800x600 with 0 Axes>"
      ]
     },
     "metadata": {},
     "output_type": "display_data"
    },
    {
     "data": {
      "text/plain": [
       "<Figure size 800x600 with 0 Axes>"
      ]
     },
     "metadata": {},
     "output_type": "display_data"
    },
    {
     "data": {
      "text/plain": [
       "<Figure size 800x600 with 0 Axes>"
      ]
     },
     "metadata": {},
     "output_type": "display_data"
    },
    {
     "data": {
      "text/plain": [
       "<Figure size 800x600 with 0 Axes>"
      ]
     },
     "metadata": {},
     "output_type": "display_data"
    },
    {
     "data": {
      "text/plain": [
       "<Figure size 800x600 with 0 Axes>"
      ]
     },
     "metadata": {},
     "output_type": "display_data"
    },
    {
     "data": {
      "text/plain": [
       "<Figure size 800x600 with 0 Axes>"
      ]
     },
     "metadata": {},
     "output_type": "display_data"
    },
    {
     "data": {
      "text/plain": [
       "<Figure size 800x600 with 0 Axes>"
      ]
     },
     "metadata": {},
     "output_type": "display_data"
    },
    {
     "data": {
      "text/plain": [
       "<Figure size 800x600 with 0 Axes>"
      ]
     },
     "metadata": {},
     "output_type": "display_data"
    },
    {
     "data": {
      "text/plain": [
       "<Figure size 800x600 with 0 Axes>"
      ]
     },
     "metadata": {},
     "output_type": "display_data"
    },
    {
     "data": {
      "text/plain": [
       "<Figure size 800x600 with 0 Axes>"
      ]
     },
     "metadata": {},
     "output_type": "display_data"
    },
    {
     "data": {
      "text/plain": [
       "<Figure size 800x600 with 0 Axes>"
      ]
     },
     "metadata": {},
     "output_type": "display_data"
    },
    {
     "data": {
      "text/plain": [
       "<Figure size 800x600 with 0 Axes>"
      ]
     },
     "metadata": {},
     "output_type": "display_data"
    },
    {
     "data": {
      "text/plain": [
       "<Figure size 800x600 with 0 Axes>"
      ]
     },
     "metadata": {},
     "output_type": "display_data"
    },
    {
     "data": {
      "text/plain": [
       "<Figure size 800x600 with 0 Axes>"
      ]
     },
     "metadata": {},
     "output_type": "display_data"
    },
    {
     "data": {
      "text/plain": [
       "<Figure size 800x600 with 0 Axes>"
      ]
     },
     "metadata": {},
     "output_type": "display_data"
    },
    {
     "data": {
      "text/plain": [
       "<Figure size 800x600 with 0 Axes>"
      ]
     },
     "metadata": {},
     "output_type": "display_data"
    },
    {
     "data": {
      "text/plain": [
       "<Figure size 800x600 with 0 Axes>"
      ]
     },
     "metadata": {},
     "output_type": "display_data"
    },
    {
     "data": {
      "text/plain": [
       "<Figure size 800x600 with 0 Axes>"
      ]
     },
     "metadata": {},
     "output_type": "display_data"
    },
    {
     "data": {
      "text/plain": [
       "<Figure size 800x600 with 0 Axes>"
      ]
     },
     "metadata": {},
     "output_type": "display_data"
    },
    {
     "data": {
      "text/plain": [
       "<Figure size 800x600 with 0 Axes>"
      ]
     },
     "metadata": {},
     "output_type": "display_data"
    },
    {
     "data": {
      "text/plain": [
       "<Figure size 800x600 with 0 Axes>"
      ]
     },
     "metadata": {},
     "output_type": "display_data"
    },
    {
     "data": {
      "text/plain": [
       "<Figure size 800x600 with 0 Axes>"
      ]
     },
     "metadata": {},
     "output_type": "display_data"
    },
    {
     "data": {
      "text/plain": [
       "<Figure size 800x600 with 0 Axes>"
      ]
     },
     "metadata": {},
     "output_type": "display_data"
    },
    {
     "data": {
      "text/plain": [
       "<Figure size 800x600 with 0 Axes>"
      ]
     },
     "metadata": {},
     "output_type": "display_data"
    },
    {
     "data": {
      "text/plain": [
       "<Figure size 800x600 with 0 Axes>"
      ]
     },
     "metadata": {},
     "output_type": "display_data"
    },
    {
     "data": {
      "text/plain": [
       "<Figure size 800x600 with 0 Axes>"
      ]
     },
     "metadata": {},
     "output_type": "display_data"
    },
    {
     "data": {
      "text/plain": [
       "<Figure size 800x600 with 0 Axes>"
      ]
     },
     "metadata": {},
     "output_type": "display_data"
    },
    {
     "data": {
      "text/plain": [
       "<Figure size 800x600 with 0 Axes>"
      ]
     },
     "metadata": {},
     "output_type": "display_data"
    },
    {
     "data": {
      "text/plain": [
       "<Figure size 800x600 with 0 Axes>"
      ]
     },
     "metadata": {},
     "output_type": "display_data"
    },
    {
     "data": {
      "text/plain": [
       "<Figure size 800x600 with 0 Axes>"
      ]
     },
     "metadata": {},
     "output_type": "display_data"
    },
    {
     "data": {
      "text/plain": [
       "<Figure size 800x600 with 0 Axes>"
      ]
     },
     "metadata": {},
     "output_type": "display_data"
    },
    {
     "data": {
      "text/plain": [
       "<Figure size 800x600 with 0 Axes>"
      ]
     },
     "metadata": {},
     "output_type": "display_data"
    },
    {
     "data": {
      "text/plain": [
       "<Figure size 800x600 with 0 Axes>"
      ]
     },
     "metadata": {},
     "output_type": "display_data"
    },
    {
     "data": {
      "text/plain": [
       "<Figure size 800x600 with 0 Axes>"
      ]
     },
     "metadata": {},
     "output_type": "display_data"
    },
    {
     "data": {
      "text/plain": [
       "<Figure size 800x600 with 0 Axes>"
      ]
     },
     "metadata": {},
     "output_type": "display_data"
    },
    {
     "data": {
      "text/plain": [
       "<Figure size 800x600 with 0 Axes>"
      ]
     },
     "metadata": {},
     "output_type": "display_data"
    },
    {
     "data": {
      "text/plain": [
       "<Figure size 800x600 with 0 Axes>"
      ]
     },
     "metadata": {},
     "output_type": "display_data"
    },
    {
     "data": {
      "text/plain": [
       "<Figure size 800x600 with 0 Axes>"
      ]
     },
     "metadata": {},
     "output_type": "display_data"
    },
    {
     "data": {
      "text/plain": [
       "<Figure size 800x600 with 0 Axes>"
      ]
     },
     "metadata": {},
     "output_type": "display_data"
    },
    {
     "data": {
      "text/plain": [
       "<Figure size 800x600 with 0 Axes>"
      ]
     },
     "metadata": {},
     "output_type": "display_data"
    },
    {
     "data": {
      "text/plain": [
       "<Figure size 800x600 with 0 Axes>"
      ]
     },
     "metadata": {},
     "output_type": "display_data"
    },
    {
     "data": {
      "text/plain": [
       "<Figure size 800x600 with 0 Axes>"
      ]
     },
     "metadata": {},
     "output_type": "display_data"
    },
    {
     "data": {
      "text/plain": [
       "<Figure size 800x600 with 0 Axes>"
      ]
     },
     "metadata": {},
     "output_type": "display_data"
    },
    {
     "data": {
      "text/plain": [
       "<Figure size 800x600 with 0 Axes>"
      ]
     },
     "metadata": {},
     "output_type": "display_data"
    },
    {
     "data": {
      "text/plain": [
       "<Figure size 800x600 with 0 Axes>"
      ]
     },
     "metadata": {},
     "output_type": "display_data"
    },
    {
     "data": {
      "text/plain": [
       "<Figure size 800x600 with 0 Axes>"
      ]
     },
     "metadata": {},
     "output_type": "display_data"
    },
    {
     "data": {
      "text/plain": [
       "<Figure size 800x600 with 0 Axes>"
      ]
     },
     "metadata": {},
     "output_type": "display_data"
    },
    {
     "data": {
      "text/plain": [
       "<Figure size 800x600 with 0 Axes>"
      ]
     },
     "metadata": {},
     "output_type": "display_data"
    },
    {
     "data": {
      "text/plain": [
       "<Figure size 800x600 with 0 Axes>"
      ]
     },
     "metadata": {},
     "output_type": "display_data"
    },
    {
     "data": {
      "text/plain": [
       "<Figure size 800x600 with 0 Axes>"
      ]
     },
     "metadata": {},
     "output_type": "display_data"
    },
    {
     "data": {
      "text/plain": [
       "<Figure size 800x600 with 0 Axes>"
      ]
     },
     "metadata": {},
     "output_type": "display_data"
    },
    {
     "data": {
      "text/plain": [
       "<Figure size 800x600 with 0 Axes>"
      ]
     },
     "metadata": {},
     "output_type": "display_data"
    },
    {
     "data": {
      "text/plain": [
       "<Figure size 800x600 with 0 Axes>"
      ]
     },
     "metadata": {},
     "output_type": "display_data"
    },
    {
     "data": {
      "text/plain": [
       "<Figure size 800x600 with 0 Axes>"
      ]
     },
     "metadata": {},
     "output_type": "display_data"
    },
    {
     "data": {
      "text/plain": [
       "<Figure size 800x600 with 0 Axes>"
      ]
     },
     "metadata": {},
     "output_type": "display_data"
    },
    {
     "data": {
      "text/plain": [
       "<Figure size 800x600 with 0 Axes>"
      ]
     },
     "metadata": {},
     "output_type": "display_data"
    },
    {
     "data": {
      "text/plain": [
       "<Figure size 800x600 with 0 Axes>"
      ]
     },
     "metadata": {},
     "output_type": "display_data"
    },
    {
     "data": {
      "text/plain": [
       "<Figure size 800x600 with 0 Axes>"
      ]
     },
     "metadata": {},
     "output_type": "display_data"
    },
    {
     "data": {
      "text/plain": [
       "<Figure size 800x600 with 0 Axes>"
      ]
     },
     "metadata": {},
     "output_type": "display_data"
    },
    {
     "data": {
      "text/plain": [
       "<Figure size 800x600 with 0 Axes>"
      ]
     },
     "metadata": {},
     "output_type": "display_data"
    },
    {
     "data": {
      "text/plain": [
       "<Figure size 800x600 with 0 Axes>"
      ]
     },
     "metadata": {},
     "output_type": "display_data"
    },
    {
     "data": {
      "text/plain": [
       "<Figure size 800x600 with 0 Axes>"
      ]
     },
     "metadata": {},
     "output_type": "display_data"
    },
    {
     "data": {
      "text/plain": [
       "<Figure size 800x600 with 0 Axes>"
      ]
     },
     "metadata": {},
     "output_type": "display_data"
    },
    {
     "data": {
      "text/plain": [
       "<Figure size 800x600 with 0 Axes>"
      ]
     },
     "metadata": {},
     "output_type": "display_data"
    },
    {
     "data": {
      "text/plain": [
       "<Figure size 800x600 with 0 Axes>"
      ]
     },
     "metadata": {},
     "output_type": "display_data"
    },
    {
     "data": {
      "text/plain": [
       "<Figure size 800x600 with 0 Axes>"
      ]
     },
     "metadata": {},
     "output_type": "display_data"
    },
    {
     "data": {
      "text/plain": [
       "<Figure size 800x600 with 0 Axes>"
      ]
     },
     "metadata": {},
     "output_type": "display_data"
    },
    {
     "data": {
      "text/plain": [
       "<Figure size 800x600 with 0 Axes>"
      ]
     },
     "metadata": {},
     "output_type": "display_data"
    },
    {
     "data": {
      "text/plain": [
       "<Figure size 800x600 with 0 Axes>"
      ]
     },
     "metadata": {},
     "output_type": "display_data"
    },
    {
     "data": {
      "text/plain": [
       "<Figure size 800x600 with 0 Axes>"
      ]
     },
     "metadata": {},
     "output_type": "display_data"
    },
    {
     "data": {
      "text/plain": [
       "<Figure size 800x600 with 0 Axes>"
      ]
     },
     "metadata": {},
     "output_type": "display_data"
    },
    {
     "data": {
      "text/plain": [
       "<Figure size 800x600 with 0 Axes>"
      ]
     },
     "metadata": {},
     "output_type": "display_data"
    },
    {
     "data": {
      "text/plain": [
       "<Figure size 800x600 with 0 Axes>"
      ]
     },
     "metadata": {},
     "output_type": "display_data"
    },
    {
     "data": {
      "text/plain": [
       "<Figure size 800x600 with 0 Axes>"
      ]
     },
     "metadata": {},
     "output_type": "display_data"
    },
    {
     "data": {
      "text/plain": [
       "<Figure size 800x600 with 0 Axes>"
      ]
     },
     "metadata": {},
     "output_type": "display_data"
    },
    {
     "data": {
      "text/plain": [
       "<Figure size 800x600 with 0 Axes>"
      ]
     },
     "metadata": {},
     "output_type": "display_data"
    },
    {
     "data": {
      "text/plain": [
       "<Figure size 800x600 with 0 Axes>"
      ]
     },
     "metadata": {},
     "output_type": "display_data"
    },
    {
     "data": {
      "text/plain": [
       "<Figure size 800x600 with 0 Axes>"
      ]
     },
     "metadata": {},
     "output_type": "display_data"
    },
    {
     "data": {
      "text/plain": [
       "<Figure size 800x600 with 0 Axes>"
      ]
     },
     "metadata": {},
     "output_type": "display_data"
    },
    {
     "data": {
      "text/plain": [
       "<Figure size 800x600 with 0 Axes>"
      ]
     },
     "metadata": {},
     "output_type": "display_data"
    },
    {
     "data": {
      "text/plain": [
       "<Figure size 800x600 with 0 Axes>"
      ]
     },
     "metadata": {},
     "output_type": "display_data"
    },
    {
     "data": {
      "text/plain": [
       "<Figure size 800x600 with 0 Axes>"
      ]
     },
     "metadata": {},
     "output_type": "display_data"
    },
    {
     "data": {
      "text/plain": [
       "<Figure size 800x600 with 0 Axes>"
      ]
     },
     "metadata": {},
     "output_type": "display_data"
    },
    {
     "data": {
      "text/plain": [
       "<Figure size 800x600 with 0 Axes>"
      ]
     },
     "metadata": {},
     "output_type": "display_data"
    },
    {
     "data": {
      "text/plain": [
       "<Figure size 800x600 with 0 Axes>"
      ]
     },
     "metadata": {},
     "output_type": "display_data"
    },
    {
     "data": {
      "text/plain": [
       "<Figure size 800x600 with 0 Axes>"
      ]
     },
     "metadata": {},
     "output_type": "display_data"
    },
    {
     "data": {
      "text/plain": [
       "<Figure size 800x600 with 0 Axes>"
      ]
     },
     "metadata": {},
     "output_type": "display_data"
    },
    {
     "data": {
      "text/plain": [
       "<Figure size 800x600 with 0 Axes>"
      ]
     },
     "metadata": {},
     "output_type": "display_data"
    },
    {
     "data": {
      "text/plain": [
       "<Figure size 800x600 with 0 Axes>"
      ]
     },
     "metadata": {},
     "output_type": "display_data"
    },
    {
     "data": {
      "text/plain": [
       "<Figure size 800x600 with 0 Axes>"
      ]
     },
     "metadata": {},
     "output_type": "display_data"
    },
    {
     "data": {
      "text/plain": [
       "<Figure size 800x600 with 0 Axes>"
      ]
     },
     "metadata": {},
     "output_type": "display_data"
    },
    {
     "data": {
      "text/plain": [
       "<Figure size 800x600 with 0 Axes>"
      ]
     },
     "metadata": {},
     "output_type": "display_data"
    },
    {
     "data": {
      "text/plain": [
       "<Figure size 800x600 with 0 Axes>"
      ]
     },
     "metadata": {},
     "output_type": "display_data"
    },
    {
     "data": {
      "text/plain": [
       "<Figure size 800x600 with 0 Axes>"
      ]
     },
     "metadata": {},
     "output_type": "display_data"
    },
    {
     "data": {
      "text/plain": [
       "<Figure size 800x600 with 0 Axes>"
      ]
     },
     "metadata": {},
     "output_type": "display_data"
    },
    {
     "data": {
      "text/plain": [
       "<Figure size 800x600 with 0 Axes>"
      ]
     },
     "metadata": {},
     "output_type": "display_data"
    },
    {
     "data": {
      "text/plain": [
       "<Figure size 800x600 with 0 Axes>"
      ]
     },
     "metadata": {},
     "output_type": "display_data"
    },
    {
     "data": {
      "text/plain": [
       "<Figure size 800x600 with 0 Axes>"
      ]
     },
     "metadata": {},
     "output_type": "display_data"
    },
    {
     "data": {
      "text/plain": [
       "<Figure size 800x600 with 0 Axes>"
      ]
     },
     "metadata": {},
     "output_type": "display_data"
    },
    {
     "data": {
      "text/plain": [
       "<Figure size 800x600 with 0 Axes>"
      ]
     },
     "metadata": {},
     "output_type": "display_data"
    },
    {
     "data": {
      "text/plain": [
       "<Figure size 800x600 with 0 Axes>"
      ]
     },
     "metadata": {},
     "output_type": "display_data"
    },
    {
     "data": {
      "text/plain": [
       "<Figure size 800x600 with 0 Axes>"
      ]
     },
     "metadata": {},
     "output_type": "display_data"
    },
    {
     "data": {
      "text/plain": [
       "<Figure size 800x600 with 0 Axes>"
      ]
     },
     "metadata": {},
     "output_type": "display_data"
    },
    {
     "data": {
      "text/plain": [
       "<Figure size 800x600 with 0 Axes>"
      ]
     },
     "metadata": {},
     "output_type": "display_data"
    },
    {
     "data": {
      "text/plain": [
       "<Figure size 800x600 with 0 Axes>"
      ]
     },
     "metadata": {},
     "output_type": "display_data"
    },
    {
     "data": {
      "text/plain": [
       "<Figure size 800x600 with 0 Axes>"
      ]
     },
     "metadata": {},
     "output_type": "display_data"
    },
    {
     "data": {
      "text/plain": [
       "<Figure size 800x600 with 0 Axes>"
      ]
     },
     "metadata": {},
     "output_type": "display_data"
    },
    {
     "data": {
      "text/plain": [
       "<Figure size 800x600 with 0 Axes>"
      ]
     },
     "metadata": {},
     "output_type": "display_data"
    },
    {
     "data": {
      "text/plain": [
       "<Figure size 800x600 with 0 Axes>"
      ]
     },
     "metadata": {},
     "output_type": "display_data"
    },
    {
     "data": {
      "text/plain": [
       "<Figure size 800x600 with 0 Axes>"
      ]
     },
     "metadata": {},
     "output_type": "display_data"
    },
    {
     "data": {
      "text/plain": [
       "<Figure size 800x600 with 0 Axes>"
      ]
     },
     "metadata": {},
     "output_type": "display_data"
    },
    {
     "data": {
      "text/plain": [
       "<Figure size 800x600 with 0 Axes>"
      ]
     },
     "metadata": {},
     "output_type": "display_data"
    },
    {
     "data": {
      "text/plain": [
       "<Figure size 800x600 with 0 Axes>"
      ]
     },
     "metadata": {},
     "output_type": "display_data"
    },
    {
     "data": {
      "text/plain": [
       "<Figure size 800x600 with 0 Axes>"
      ]
     },
     "metadata": {},
     "output_type": "display_data"
    },
    {
     "data": {
      "text/plain": [
       "<Figure size 800x600 with 0 Axes>"
      ]
     },
     "metadata": {},
     "output_type": "display_data"
    },
    {
     "data": {
      "text/plain": [
       "<Figure size 800x600 with 0 Axes>"
      ]
     },
     "metadata": {},
     "output_type": "display_data"
    },
    {
     "data": {
      "text/plain": [
       "<Figure size 800x600 with 0 Axes>"
      ]
     },
     "metadata": {},
     "output_type": "display_data"
    },
    {
     "data": {
      "text/plain": [
       "<Figure size 800x600 with 0 Axes>"
      ]
     },
     "metadata": {},
     "output_type": "display_data"
    },
    {
     "data": {
      "text/plain": [
       "<Figure size 800x600 with 0 Axes>"
      ]
     },
     "metadata": {},
     "output_type": "display_data"
    },
    {
     "data": {
      "text/plain": [
       "<Figure size 800x600 with 0 Axes>"
      ]
     },
     "metadata": {},
     "output_type": "display_data"
    },
    {
     "data": {
      "text/plain": [
       "<Figure size 800x600 with 0 Axes>"
      ]
     },
     "metadata": {},
     "output_type": "display_data"
    },
    {
     "data": {
      "text/plain": [
       "<Figure size 800x600 with 0 Axes>"
      ]
     },
     "metadata": {},
     "output_type": "display_data"
    },
    {
     "data": {
      "text/plain": [
       "<Figure size 800x600 with 0 Axes>"
      ]
     },
     "metadata": {},
     "output_type": "display_data"
    },
    {
     "data": {
      "text/plain": [
       "<Figure size 800x600 with 0 Axes>"
      ]
     },
     "metadata": {},
     "output_type": "display_data"
    },
    {
     "data": {
      "text/plain": [
       "<Figure size 800x600 with 0 Axes>"
      ]
     },
     "metadata": {},
     "output_type": "display_data"
    },
    {
     "data": {
      "text/plain": [
       "<Figure size 800x600 with 0 Axes>"
      ]
     },
     "metadata": {},
     "output_type": "display_data"
    },
    {
     "data": {
      "text/plain": [
       "<Figure size 800x600 with 0 Axes>"
      ]
     },
     "metadata": {},
     "output_type": "display_data"
    },
    {
     "data": {
      "text/plain": [
       "<Figure size 800x600 with 0 Axes>"
      ]
     },
     "metadata": {},
     "output_type": "display_data"
    },
    {
     "data": {
      "text/plain": [
       "<Figure size 800x600 with 0 Axes>"
      ]
     },
     "metadata": {},
     "output_type": "display_data"
    },
    {
     "data": {
      "text/plain": [
       "<Figure size 800x600 with 0 Axes>"
      ]
     },
     "metadata": {},
     "output_type": "display_data"
    },
    {
     "data": {
      "text/plain": [
       "<Figure size 800x600 with 0 Axes>"
      ]
     },
     "metadata": {},
     "output_type": "display_data"
    },
    {
     "data": {
      "text/plain": [
       "<Figure size 800x600 with 0 Axes>"
      ]
     },
     "metadata": {},
     "output_type": "display_data"
    },
    {
     "data": {
      "text/plain": [
       "<Figure size 800x600 with 0 Axes>"
      ]
     },
     "metadata": {},
     "output_type": "display_data"
    },
    {
     "data": {
      "text/plain": [
       "<Figure size 800x600 with 0 Axes>"
      ]
     },
     "metadata": {},
     "output_type": "display_data"
    },
    {
     "data": {
      "text/plain": [
       "<Figure size 800x600 with 0 Axes>"
      ]
     },
     "metadata": {},
     "output_type": "display_data"
    },
    {
     "data": {
      "text/plain": [
       "<Figure size 800x600 with 0 Axes>"
      ]
     },
     "metadata": {},
     "output_type": "display_data"
    },
    {
     "data": {
      "text/plain": [
       "<Figure size 800x600 with 0 Axes>"
      ]
     },
     "metadata": {},
     "output_type": "display_data"
    },
    {
     "data": {
      "text/plain": [
       "<Figure size 800x600 with 0 Axes>"
      ]
     },
     "metadata": {},
     "output_type": "display_data"
    },
    {
     "data": {
      "text/plain": [
       "<Figure size 800x600 with 0 Axes>"
      ]
     },
     "metadata": {},
     "output_type": "display_data"
    },
    {
     "data": {
      "text/plain": [
       "<Figure size 800x600 with 0 Axes>"
      ]
     },
     "metadata": {},
     "output_type": "display_data"
    },
    {
     "data": {
      "text/plain": [
       "<Figure size 800x600 with 0 Axes>"
      ]
     },
     "metadata": {},
     "output_type": "display_data"
    },
    {
     "data": {
      "text/plain": [
       "<Figure size 800x600 with 0 Axes>"
      ]
     },
     "metadata": {},
     "output_type": "display_data"
    },
    {
     "data": {
      "text/plain": [
       "<Figure size 800x600 with 0 Axes>"
      ]
     },
     "metadata": {},
     "output_type": "display_data"
    },
    {
     "data": {
      "text/plain": [
       "<Figure size 800x600 with 0 Axes>"
      ]
     },
     "metadata": {},
     "output_type": "display_data"
    },
    {
     "data": {
      "text/plain": [
       "<Figure size 800x600 with 0 Axes>"
      ]
     },
     "metadata": {},
     "output_type": "display_data"
    },
    {
     "data": {
      "text/plain": [
       "<Figure size 800x600 with 0 Axes>"
      ]
     },
     "metadata": {},
     "output_type": "display_data"
    },
    {
     "data": {
      "text/plain": [
       "<Figure size 800x600 with 0 Axes>"
      ]
     },
     "metadata": {},
     "output_type": "display_data"
    },
    {
     "data": {
      "text/plain": [
       "<Figure size 800x600 with 0 Axes>"
      ]
     },
     "metadata": {},
     "output_type": "display_data"
    },
    {
     "data": {
      "text/plain": [
       "<Figure size 800x600 with 0 Axes>"
      ]
     },
     "metadata": {},
     "output_type": "display_data"
    },
    {
     "data": {
      "text/plain": [
       "<Figure size 800x600 with 0 Axes>"
      ]
     },
     "metadata": {},
     "output_type": "display_data"
    },
    {
     "data": {
      "text/plain": [
       "<Figure size 800x600 with 0 Axes>"
      ]
     },
     "metadata": {},
     "output_type": "display_data"
    },
    {
     "data": {
      "text/plain": [
       "<Figure size 800x600 with 0 Axes>"
      ]
     },
     "metadata": {},
     "output_type": "display_data"
    },
    {
     "data": {
      "text/plain": [
       "<Figure size 800x600 with 0 Axes>"
      ]
     },
     "metadata": {},
     "output_type": "display_data"
    },
    {
     "data": {
      "text/plain": [
       "<Figure size 800x600 with 0 Axes>"
      ]
     },
     "metadata": {},
     "output_type": "display_data"
    },
    {
     "data": {
      "text/plain": [
       "<Figure size 800x600 with 0 Axes>"
      ]
     },
     "metadata": {},
     "output_type": "display_data"
    },
    {
     "data": {
      "text/plain": [
       "<Figure size 800x600 with 0 Axes>"
      ]
     },
     "metadata": {},
     "output_type": "display_data"
    },
    {
     "data": {
      "text/plain": [
       "<Figure size 800x600 with 0 Axes>"
      ]
     },
     "metadata": {},
     "output_type": "display_data"
    },
    {
     "data": {
      "text/plain": [
       "<Figure size 800x600 with 0 Axes>"
      ]
     },
     "metadata": {},
     "output_type": "display_data"
    },
    {
     "data": {
      "text/plain": [
       "<Figure size 800x600 with 0 Axes>"
      ]
     },
     "metadata": {},
     "output_type": "display_data"
    },
    {
     "data": {
      "text/plain": [
       "<Figure size 800x600 with 0 Axes>"
      ]
     },
     "metadata": {},
     "output_type": "display_data"
    },
    {
     "data": {
      "text/plain": [
       "<Figure size 800x600 with 0 Axes>"
      ]
     },
     "metadata": {},
     "output_type": "display_data"
    },
    {
     "data": {
      "text/plain": [
       "<Figure size 800x600 with 0 Axes>"
      ]
     },
     "metadata": {},
     "output_type": "display_data"
    },
    {
     "data": {
      "text/plain": [
       "<Figure size 800x600 with 0 Axes>"
      ]
     },
     "metadata": {},
     "output_type": "display_data"
    },
    {
     "data": {
      "text/plain": [
       "<Figure size 800x600 with 0 Axes>"
      ]
     },
     "metadata": {},
     "output_type": "display_data"
    },
    {
     "data": {
      "text/plain": [
       "<Figure size 800x600 with 0 Axes>"
      ]
     },
     "metadata": {},
     "output_type": "display_data"
    },
    {
     "data": {
      "text/plain": [
       "<Figure size 800x600 with 0 Axes>"
      ]
     },
     "metadata": {},
     "output_type": "display_data"
    },
    {
     "data": {
      "text/plain": [
       "<Figure size 800x600 with 0 Axes>"
      ]
     },
     "metadata": {},
     "output_type": "display_data"
    },
    {
     "data": {
      "text/plain": [
       "<Figure size 800x600 with 0 Axes>"
      ]
     },
     "metadata": {},
     "output_type": "display_data"
    },
    {
     "data": {
      "text/plain": [
       "<Figure size 800x600 with 0 Axes>"
      ]
     },
     "metadata": {},
     "output_type": "display_data"
    },
    {
     "data": {
      "text/plain": [
       "<Figure size 800x600 with 0 Axes>"
      ]
     },
     "metadata": {},
     "output_type": "display_data"
    },
    {
     "data": {
      "text/plain": [
       "<Figure size 800x600 with 0 Axes>"
      ]
     },
     "metadata": {},
     "output_type": "display_data"
    },
    {
     "data": {
      "text/plain": [
       "<Figure size 800x600 with 0 Axes>"
      ]
     },
     "metadata": {},
     "output_type": "display_data"
    },
    {
     "data": {
      "text/plain": [
       "<Figure size 800x600 with 0 Axes>"
      ]
     },
     "metadata": {},
     "output_type": "display_data"
    },
    {
     "data": {
      "text/plain": [
       "<Figure size 800x600 with 0 Axes>"
      ]
     },
     "metadata": {},
     "output_type": "display_data"
    },
    {
     "data": {
      "text/plain": [
       "<Figure size 800x600 with 0 Axes>"
      ]
     },
     "metadata": {},
     "output_type": "display_data"
    },
    {
     "data": {
      "text/plain": [
       "<Figure size 800x600 with 0 Axes>"
      ]
     },
     "metadata": {},
     "output_type": "display_data"
    },
    {
     "data": {
      "text/plain": [
       "<Figure size 800x600 with 0 Axes>"
      ]
     },
     "metadata": {},
     "output_type": "display_data"
    },
    {
     "data": {
      "text/plain": [
       "<Figure size 800x600 with 0 Axes>"
      ]
     },
     "metadata": {},
     "output_type": "display_data"
    },
    {
     "data": {
      "text/plain": [
       "<Figure size 800x600 with 0 Axes>"
      ]
     },
     "metadata": {},
     "output_type": "display_data"
    },
    {
     "data": {
      "text/plain": [
       "<Figure size 800x600 with 0 Axes>"
      ]
     },
     "metadata": {},
     "output_type": "display_data"
    },
    {
     "data": {
      "text/plain": [
       "<Figure size 800x600 with 0 Axes>"
      ]
     },
     "metadata": {},
     "output_type": "display_data"
    },
    {
     "data": {
      "text/plain": [
       "<Figure size 800x600 with 0 Axes>"
      ]
     },
     "metadata": {},
     "output_type": "display_data"
    },
    {
     "data": {
      "text/plain": [
       "<Figure size 800x600 with 0 Axes>"
      ]
     },
     "metadata": {},
     "output_type": "display_data"
    },
    {
     "data": {
      "text/plain": [
       "<Figure size 800x600 with 0 Axes>"
      ]
     },
     "metadata": {},
     "output_type": "display_data"
    },
    {
     "data": {
      "text/plain": [
       "<Figure size 800x600 with 0 Axes>"
      ]
     },
     "metadata": {},
     "output_type": "display_data"
    },
    {
     "data": {
      "text/plain": [
       "<Figure size 800x600 with 0 Axes>"
      ]
     },
     "metadata": {},
     "output_type": "display_data"
    },
    {
     "data": {
      "text/plain": [
       "<Figure size 800x600 with 0 Axes>"
      ]
     },
     "metadata": {},
     "output_type": "display_data"
    },
    {
     "data": {
      "text/plain": [
       "<Figure size 800x600 with 0 Axes>"
      ]
     },
     "metadata": {},
     "output_type": "display_data"
    },
    {
     "data": {
      "text/plain": [
       "<Figure size 800x600 with 0 Axes>"
      ]
     },
     "metadata": {},
     "output_type": "display_data"
    },
    {
     "data": {
      "text/plain": [
       "<Figure size 800x600 with 0 Axes>"
      ]
     },
     "metadata": {},
     "output_type": "display_data"
    },
    {
     "data": {
      "text/plain": [
       "<Figure size 800x600 with 0 Axes>"
      ]
     },
     "metadata": {},
     "output_type": "display_data"
    },
    {
     "data": {
      "text/plain": [
       "<Figure size 800x600 with 0 Axes>"
      ]
     },
     "metadata": {},
     "output_type": "display_data"
    },
    {
     "data": {
      "text/plain": [
       "<Figure size 800x600 with 0 Axes>"
      ]
     },
     "metadata": {},
     "output_type": "display_data"
    },
    {
     "data": {
      "text/plain": [
       "<Figure size 800x600 with 0 Axes>"
      ]
     },
     "metadata": {},
     "output_type": "display_data"
    },
    {
     "data": {
      "text/plain": [
       "<Figure size 800x600 with 0 Axes>"
      ]
     },
     "metadata": {},
     "output_type": "display_data"
    },
    {
     "data": {
      "text/plain": [
       "<Figure size 800x600 with 0 Axes>"
      ]
     },
     "metadata": {},
     "output_type": "display_data"
    },
    {
     "data": {
      "text/plain": [
       "<Figure size 800x600 with 0 Axes>"
      ]
     },
     "metadata": {},
     "output_type": "display_data"
    },
    {
     "data": {
      "text/plain": [
       "<Figure size 800x600 with 0 Axes>"
      ]
     },
     "metadata": {},
     "output_type": "display_data"
    },
    {
     "data": {
      "text/plain": [
       "<Figure size 800x600 with 0 Axes>"
      ]
     },
     "metadata": {},
     "output_type": "display_data"
    },
    {
     "data": {
      "text/plain": [
       "<Figure size 800x600 with 0 Axes>"
      ]
     },
     "metadata": {},
     "output_type": "display_data"
    },
    {
     "data": {
      "text/plain": [
       "<Figure size 800x600 with 0 Axes>"
      ]
     },
     "metadata": {},
     "output_type": "display_data"
    },
    {
     "data": {
      "text/plain": [
       "<Figure size 800x600 with 0 Axes>"
      ]
     },
     "metadata": {},
     "output_type": "display_data"
    },
    {
     "data": {
      "text/plain": [
       "<Figure size 800x600 with 0 Axes>"
      ]
     },
     "metadata": {},
     "output_type": "display_data"
    },
    {
     "data": {
      "text/plain": [
       "<Figure size 800x600 with 0 Axes>"
      ]
     },
     "metadata": {},
     "output_type": "display_data"
    },
    {
     "data": {
      "text/plain": [
       "<Figure size 800x600 with 0 Axes>"
      ]
     },
     "metadata": {},
     "output_type": "display_data"
    },
    {
     "data": {
      "text/plain": [
       "<Figure size 800x600 with 0 Axes>"
      ]
     },
     "metadata": {},
     "output_type": "display_data"
    },
    {
     "data": {
      "text/plain": [
       "<Figure size 800x600 with 0 Axes>"
      ]
     },
     "metadata": {},
     "output_type": "display_data"
    },
    {
     "data": {
      "text/plain": [
       "<Figure size 800x600 with 0 Axes>"
      ]
     },
     "metadata": {},
     "output_type": "display_data"
    },
    {
     "data": {
      "text/plain": [
       "<Figure size 800x600 with 0 Axes>"
      ]
     },
     "metadata": {},
     "output_type": "display_data"
    },
    {
     "data": {
      "text/plain": [
       "<Figure size 800x600 with 0 Axes>"
      ]
     },
     "metadata": {},
     "output_type": "display_data"
    },
    {
     "data": {
      "text/plain": [
       "<Figure size 800x600 with 0 Axes>"
      ]
     },
     "metadata": {},
     "output_type": "display_data"
    },
    {
     "data": {
      "text/plain": [
       "<Figure size 800x600 with 0 Axes>"
      ]
     },
     "metadata": {},
     "output_type": "display_data"
    },
    {
     "data": {
      "text/plain": [
       "<Figure size 800x600 with 0 Axes>"
      ]
     },
     "metadata": {},
     "output_type": "display_data"
    },
    {
     "data": {
      "text/plain": [
       "<Figure size 800x600 with 0 Axes>"
      ]
     },
     "metadata": {},
     "output_type": "display_data"
    },
    {
     "data": {
      "text/plain": [
       "<Figure size 800x600 with 0 Axes>"
      ]
     },
     "metadata": {},
     "output_type": "display_data"
    },
    {
     "data": {
      "text/plain": [
       "<Figure size 800x600 with 0 Axes>"
      ]
     },
     "metadata": {},
     "output_type": "display_data"
    },
    {
     "data": {
      "text/plain": [
       "<Figure size 800x600 with 0 Axes>"
      ]
     },
     "metadata": {},
     "output_type": "display_data"
    },
    {
     "data": {
      "text/plain": [
       "<Figure size 800x600 with 0 Axes>"
      ]
     },
     "metadata": {},
     "output_type": "display_data"
    },
    {
     "data": {
      "text/plain": [
       "<Figure size 800x600 with 0 Axes>"
      ]
     },
     "metadata": {},
     "output_type": "display_data"
    },
    {
     "data": {
      "text/plain": [
       "<Figure size 800x600 with 0 Axes>"
      ]
     },
     "metadata": {},
     "output_type": "display_data"
    },
    {
     "data": {
      "text/plain": [
       "<Figure size 800x600 with 0 Axes>"
      ]
     },
     "metadata": {},
     "output_type": "display_data"
    },
    {
     "data": {
      "text/plain": [
       "<Figure size 800x600 with 0 Axes>"
      ]
     },
     "metadata": {},
     "output_type": "display_data"
    },
    {
     "data": {
      "text/plain": [
       "<Figure size 800x600 with 0 Axes>"
      ]
     },
     "metadata": {},
     "output_type": "display_data"
    },
    {
     "data": {
      "text/plain": [
       "<Figure size 800x600 with 0 Axes>"
      ]
     },
     "metadata": {},
     "output_type": "display_data"
    },
    {
     "data": {
      "text/plain": [
       "<Figure size 800x600 with 0 Axes>"
      ]
     },
     "metadata": {},
     "output_type": "display_data"
    },
    {
     "data": {
      "text/plain": [
       "<Figure size 800x600 with 0 Axes>"
      ]
     },
     "metadata": {},
     "output_type": "display_data"
    },
    {
     "data": {
      "text/plain": [
       "<Figure size 800x600 with 0 Axes>"
      ]
     },
     "metadata": {},
     "output_type": "display_data"
    },
    {
     "data": {
      "text/plain": [
       "<Figure size 800x600 with 0 Axes>"
      ]
     },
     "metadata": {},
     "output_type": "display_data"
    },
    {
     "data": {
      "text/plain": [
       "<Figure size 800x600 with 0 Axes>"
      ]
     },
     "metadata": {},
     "output_type": "display_data"
    },
    {
     "data": {
      "text/plain": [
       "<Figure size 800x600 with 0 Axes>"
      ]
     },
     "metadata": {},
     "output_type": "display_data"
    },
    {
     "data": {
      "text/plain": [
       "<Figure size 800x600 with 0 Axes>"
      ]
     },
     "metadata": {},
     "output_type": "display_data"
    }
   ],
   "source": [
    "import matplotlib as mpl\n",
    "#mpl.use('Cairo') #for png, ps, pdf, svg, ...\n",
    "import matplotlib.pyplot as plt\n",
    "import numpy as np\n",
    "import os\n",
    "from mpl_toolkits.axes_grid1 import make_axes_locatable\n",
    "from scipy.optimize import curve_fit\n",
    "import glob\n",
    "from scipy.interpolate import griddata\n",
    "import imageio.v2 as imageio\n",
    "\n",
    "\n",
    "print(\"\\n\\n#################################\")\n",
    "print(\"#### P4P_images.py ####\")\n",
    "print(\"#################################\\n\")\n",
    "\n",
    "\n",
    "# path= os.getcwd()\n",
    "# d_name   = os.path.basename(path)\n",
    "d_name = \"BIN_laser_18\"\n",
    "os.makedirs('./Python/P4P_images/P4P_DenPre_{}'.format(d_name), exist_ok=True)\n",
    "os.makedirs('./Python/P4P_images/P4P_IETmp_{}'.format(d_name), exist_ok=True)\n",
    "os.makedirs('./Python/P4P_images/P4P_ZiMtl_{}'.format(d_name), exist_ok=True)\n",
    "\n",
    "#テスト/本番設定\n",
    "# operation = \"test_1\"\n",
    "# operation = \"test_2\"\n",
    "operation = \"actual\"\n",
    "if operation == \"test_1\":\n",
    "  l = 1\n",
    "  file = 0\n",
    "  file_path = \"./{}/u0000.bin\".format(d_name)\n",
    "if operation == \"test_2\":\n",
    "  l = 1\n",
    "  file_path = \"./{}/u0000.bin\".format(d_name)\n",
    "if operation == \"actual\":\n",
    "  # l = 100\n",
    "  files = sorted([os.path.join(d_name, f) for f in os.listdir(d_name) if f.endswith('.bin')])\n",
    "  l = len(files)\n",
    "  file_path = \"./{}/u0000.bin\".format(d_name)\n",
    "\n",
    "print(\"file_number :\",l)\n",
    "\n",
    "\n",
    "data = read_binary_with_structure(file_path)\n",
    "\n",
    "nx = data['nx']\n",
    "ny = data['ny']\n",
    "x4 = data['x']\n",
    "y4 = data['y']\n",
    "u4 = data['u']\n",
    "all_z = data['zi']\n",
    "mtl = data['mtl']\n",
    "rho = data['rho']\n",
    "nrx1 = data['nrx1']\n",
    "nrx2 = data['nrx2']\n",
    "nrx3 = data['nrx3']\n",
    "nrx4 = data['nrx4']\n",
    "nrx5 = data['nrx5']\n",
    "rtthick = data['rtthick']\n",
    "jjfine = data['jjfine']\n",
    "xleft = data['xleft']\n",
    "xright = data['xright']\n",
    "finemesh = data['finemesh']\n",
    "y_out = data['y_out']\n",
    "\n",
    "\n",
    "#grid(m)\n",
    "grid_x = rtthick/(nrx3-nrx2)\n",
    "grid_y = finemesh/(jjfine-1)\n",
    "\n",
    "#密度と電離度の修正値の抽出\n",
    "Target_all = np.where(mtl == 3)\n",
    "projectile_all = np.where(mtl == 2)\n",
    "ambience_all = np.where(mtl == 1)\n",
    "\n",
    "target_density = rho[0,0]\n",
    "projectile_density = rho[projectile_all[0][0],0]\n",
    "print(\"target_density : {:.2e} [g/cc]\".format(target_density))\n",
    "print(\"projectile_density : {:.2e} [g/cc]\".format(projectile_density))\n",
    "\n",
    "ambience_init_ion_deg = np.max(all_z[ambience_all])\n",
    "Target_init_ion_deg = np.max(all_z[Target_all])\n",
    "projectile_init_ion_deg = np.max(all_z[projectile_all])\n",
    "print('ambience_initial_ionization_degree:',ambience_init_ion_deg)\n",
    "print('Target_initial_ionization_degree:',Target_init_ion_deg)\n",
    "print('projectile_initial_ionization_degree:',projectile_init_ion_deg)\n",
    "\n",
    "#計算領域の抽出\n",
    "python_xleft = np.min(x4)*1e6\n",
    "python_xright = np.max(x4)*1e6\n",
    "python_y_out = np.max(y4)*1e6\n",
    "# python_xleft = (-rthick -xleft -(nxr2-nxr1)*grid_x)*1e9\n",
    "# python_xright = ((nxr4-nxr3)*grid_x +xright)*1e9\n",
    "# python_y_out = (finemesh +y_out)*1e9\n",
    "print(\"xleft:\",round(python_xleft,1),\"[um],  xright:\",round(python_xright,1),\"[um], y_max:\",round(python_y_out,1),\"[um]\")\n",
    "\n",
    "\n",
    "## 抽出したい範囲(cell number)\n",
    "x_min = 0\n",
    "x_max = nx\n",
    "y_max = ny\n",
    "##描画領域(nm)\n",
    "x_nm_min = -50\n",
    "x_nm_max = 200\n",
    "y_nm_max = 200\n",
    "# x_min = round(nxr3-1*solid_ball_radius/grid_x)\n",
    "# x_max = round(nxr3+2*solid_ball_radius/grid_x)\n",
    "# y_max = round(2*solid_ball_radius/grid_y)\n",
    "## 抽出したい範囲(nm)\n",
    "# x_nm_min = round(((x_min-nxr2)*grid_x-100e-9)*1e9,1)\n",
    "# x_nm_max = round(((x_max-nxr2)*grid_x-100e-9)*1e9,1)\n",
    "# y_nm_min = 0\n",
    "# y_nm_max = round((y_max*grid_y)*1e9,1)\n",
    "\n",
    "x_range = (x_min, x_max)\n",
    "y_range = (0, y_max)\n",
    "\n",
    "print(\"extract_xleft:\",x_nm_min,\"[um], extract_xright:\",x_nm_max,\"[um], extract_y_max:\",y_nm_max,\"[um]\")\n",
    "print(\"If the extract region reaches the extended zone, this estimate of the extract resion is not precise.\")\n",
    "\n",
    "\n",
    "print(\"\\n----- start loading -----\")\n",
    "for i in np.arange(0,l,1):\n",
    "\n",
    "  if operation == \"test_1\":\n",
    "    file_path = \"./{}/u{:04d}.bin\".format(d_name, file)\n",
    "  if operation == \"test_2\":\n",
    "    file_path = \"./{}/u{:04d}.bin\".format(d_name, i)\n",
    "  if operation == \"actual\":\n",
    "    file_path = \"./{}/u{:04d}.bin\".format(d_name, i)\n",
    "\n",
    "  print('step:',i,\"     file:\",file_path,\"     time:\",data['time'],\"[s]\")\n",
    "    \n",
    "  # データを読み取る(m to nm)\n",
    "  data = read_binary_with_structure(file_path, x_range, y_range)\n",
    "\n",
    "  all_z = data['zi']\n",
    "  mtl = data['mtl']\n",
    "  all_rho = data['rho']\n",
    "  Target_solid = np.where((mtl == 2)& (all_rho >= target_density))\n",
    "  Target_mix = np.where((mtl == 2)& (all_rho < target_density) &(all_rho >= projectile_density))\n",
    "  Target_plasma = np.where((mtl == 2)& (all_rho < projectile_density))\n",
    "  projectile_solid = np.where((mtl == 3)&(all_rho >= projectile_density))\n",
    "  projectile_plasma = np.where((mtl == 3)&(all_rho < projectile_density))\n",
    "  ambience_all = np.where(mtl == 1)\n",
    "\n",
    "  all_z[Target_solid] = all_z[Target_solid]- Target_init_ion_deg\n",
    "  all_z[Target_mix] = all_z[Target_mix]- projectile_init_ion_deg\n",
    "  all_z[Target_plasma] = all_z[Target_plasma]- ambience_init_ion_deg\n",
    "  all_z[projectile_solid] = all_z[projectile_solid]- projectile_init_ion_deg\n",
    "  all_z[projectile_plasma] = all_z[projectile_plasma]- ambience_init_ion_deg\n",
    "  all_z[ambience_all] = all_z[ambience_all]- ambience_init_ion_deg\n",
    "  \n",
    "  # print(data)\n",
    "  print('-------------------------')\n",
    "  fig=plt.figure(figsize=(8,6))\n",
    "  ax1=fig.add_subplot(111,aspect='equal')\n",
    "  # Set up a pylab figure\n",
    "  # set axis labels\n",
    "  ax1.set_xlabel('x [um]')\n",
    "  ax1.set_ylabel('y [um]')\n",
    "  # set axis limits\n",
    "  ax1.set_ylim([x_nm_min,x_nm_max])\n",
    "  ax1.set_xlim([-y_nm_max,y_nm_max])\n",
    "  # ax1.set_xlim([python_xleft,python_xright])\n",
    "  # ax1.set_ylim([-python_y_out,python_y_out])\n",
    "\n",
    "  # Plot field\n",
    "  p1=ax1.tricontourf(data[\"y\"].flatten()*1e6,data[\"x\"].flatten()*1e6,data[\"P\"].flatten()*1e-9,levels=np.linspace(0,250,15))\n",
    "  p2=ax1.tricontourf(-data[\"y\"].flatten()*1e6,data[\"x\"].flatten()*1e6,data[\"rho\"].flatten(),levels=np.linspace(0,20,21))\n",
    "\n",
    "  # add color bar\n",
    "  # create colorbars to either side of the plot\n",
    "  divider = make_axes_locatable(ax1)\n",
    "  cx1=divider.append_axes(\"right\", size=\"5%\", pad=0.8)\n",
    "  cx2=divider.append_axes(\"left\", size=\"5%\", pad=0.8)\n",
    "  cb3=fig.colorbar(p1,cax=cx1)\n",
    "  cb3.set_label('Pressure [GPa]')\n",
    "  cb4=fig.colorbar(p2,cax=cx2)\n",
    "  cb4.set_label('Density [g/cc]')\n",
    "\n",
    "  # set labels on left for left side colorbar\n",
    "  cx2.yaxis.tick_left()\n",
    "  cx2.yaxis.set_label_position('left')\n",
    "\n",
    "    # set title\n",
    "  ax1.set_title('{: 5.2f} us'.format(data[\"time\"]*1e9))\n",
    "\n",
    "  if operation == \"actual\":\n",
    "    fig.savefig('./Python/P4P_images/P4P_DenPre_{}/P4P_DenPre_{:05d}.png'.format(d_name,i))\n",
    "    # clear axis for next step\n",
    "  plt.clf()\n",
    "\n",
    "  fig=plt.figure(figsize=(8,6))\n",
    "  ax1=fig.add_subplot(111,aspect='equal')\n",
    "  # set axis labels\n",
    "  ax1.set_xlabel('x [um]')\n",
    "  ax1.set_ylabel('y [um]')\n",
    "  # set axis limits\n",
    "  ax1.set_ylim([x_nm_min,x_nm_max])\n",
    "  ax1.set_xlim([-y_nm_max,y_nm_max])\n",
    "  # ax.set_xlim([python_xleft,python_xright])\n",
    "  # ax.set_ylim([-python_y_out,python_y_out])\n",
    "\n",
    "  # Plot field\n",
    "  p5=ax1.tricontourf(data[\"y\"].flatten()*1e6,data[\"x\"].flatten()*1e6,data[\"ti\"].flatten(),levels=np.linspace(0,10,21))\n",
    "  p6=ax1.tricontourf(-data[\"y\"].flatten()*1e6,data[\"x\"].flatten()*1e6,data[\"te\"].flatten(),levels=np.linspace(0,10,21))\n",
    "\n",
    "  # add color bar\n",
    "  # create colorbars to either side of the plot\n",
    "  divider = make_axes_locatable(ax1)\n",
    "  cx5=divider.append_axes(\"right\", size=\"5%\", pad=0.8)\n",
    "  cx6=divider.append_axes(\"left\", size=\"5%\", pad=0.8)\n",
    "  cb7=fig.colorbar(p5,cax=cx5)\n",
    "  cb7.set_label('Ion energy [eV]')\n",
    "  cb8=fig.colorbar(p6,cax=cx6)\n",
    "  cb8.set_label('electron energy [eV]')\n",
    "\n",
    "  # set labels on left for left side colorbar\n",
    "  cx6.yaxis.tick_left()\n",
    "  cx6.yaxis.set_label_position('left')\n",
    "  # set title\n",
    "  ax1.set_title('{: 5.2f} ns'.format(data[\"time\"]*1e9))\n",
    "\n",
    "  if operation == \"actual\":\n",
    "    fig.savefig('./Python/P4P_images/P4P_IETmp_{}/P4P_IETmp_{:05d}.png'.format(d_name,i))\n",
    "    # clear axis for next step\n",
    "  plt.clf()\n",
    "\n",
    "    \n",
    "  fig=plt.figure(figsize=(8,6))\n",
    "  ax1=fig.add_subplot(111,aspect='equal')    \n",
    "  # set axis labels\n",
    "  ax1.set_xlabel('x [um]')\n",
    "  ax1.set_ylabel('y [um]')\n",
    "  # set axis limits\n",
    "  ax1.set_ylim([x_nm_min,x_nm_max])\n",
    "  ax1.set_xlim([-y_nm_max,y_nm_max])\n",
    "  # ax.set_xlim([python_xleft,python_xright])\n",
    "  # ax.set_ylim([-python_y_out,python_y_out])\n",
    "    \n",
    "  p7=ax1.tricontourf(data[\"y\"].flatten()*1e6,data[\"x\"].flatten()*1e6,(data[\"mtl\"]-0.1).flatten(),levels=np.linspace(0,3,4))\n",
    "  p8=ax1.tricontourf(-data[\"y\"].flatten()*1e6,data[\"x\"].flatten()*1e6,all_z.flatten(),levels=np.linspace(-1,1,11))\n",
    "\n",
    "  # add color bar\n",
    "\n",
    "  # create colorbars to either side of the plot\n",
    "  divider = make_axes_locatable(ax1)\n",
    "  cx9=divider.append_axes(\"right\", size=\"5%\", pad=0.8)\n",
    "  cx10=divider.append_axes(\"left\", size=\"5%\", pad=0.8)\n",
    "  cb11=fig.colorbar(p7,cax=cx9)\n",
    "  cb11.set_label('Material')\n",
    "  cb12=fig.colorbar(p8,cax=cx10)\n",
    "  cb12.set_label('Ionization degree')\n",
    "  # set labels on left for left side colorbar\n",
    "  cx10.yaxis.tick_left()\n",
    "  cx10.yaxis.set_label_position('left')\n",
    "  # set title\n",
    "  ax1.set_title('{: 5.2f} ns'.format(data[\"time\"]*1e9))\n",
    "      \n",
    "  # save the figure    \n",
    "  if operation == \"actual\":\n",
    "    fig.savefig('./Python/P4P_images/P4P_ZiMtl_{}/P4P_ZiMtl_{:05d}.png'.format(d_name,i))\n",
    "    # clear axis for next step\n",
    "    plt.clf()\n",
    "\n",
    "  \n",
    "\n",
    "if operation == \"actual\":\n",
    "    # Directory to save images\n",
    "    output_dir_1 = './Python/P4P_images/P4P_DenPre_{}/'.format(d_name)\n",
    "    output_dir_2 = './Python/P4P_images/P4P_IETmp_{}/'.format(d_name)\n",
    "    output_dir_3 = './Python/P4P_images/P4P_ZiMtl_{}/'.format(d_name)\n",
    "    output_gif_1 = './Python/P4P_images/P4P_DenPre_{}.gif'.format(d_name)  # Output GIF path\n",
    "    output_gif_2 = './Python/P4P_images/P4P_IETmp_{}.gif'.format(d_name)  # Output GIF path\n",
    "    output_gif_3 = './Python/P4P_images/P4P_ZiMtl_{}.gif'.format(d_name)  # Output GIF path\n",
    "    fps = 60  # 1秒あたりのフレーム数を指定（30FPSなら高速）\n",
    "    # FPSからフレーム間隔を計算\n",
    "    frame_duration = 1 / fps\n",
    "    \n",
    "  \n",
    "    image_files_1 = sorted([os.path.join(output_dir_1, f) for f in os.listdir(output_dir_1) if f.endswith('.png')])\n",
    "    image_files_2 = sorted([os.path.join(output_dir_2, f) for f in os.listdir(output_dir_2) if f.endswith('.png')])\n",
    "    image_files_3 = sorted([os.path.join(output_dir_3, f) for f in os.listdir(output_dir_3) if f.endswith('.png')])\n",
    "    \n",
    "    if len(image_files_1) > 0:\n",
    "        print(f\"Found {len(image_files_1)} images. Creating/updating GIF...\")\n",
    "        # Read and write images to GIF\n",
    "        images = [imageio.imread(img) for img in image_files_1]\n",
    "        imageio.mimsave(output_gif_1, images, duration=frame_duration, loop=0)     \n",
    "        print(\"GIF created/updated successfully:\", output_gif_1)\n",
    "        \n",
    "        print(f\"Found {len(image_files_2)} images. Creating/updating GIF...\")\n",
    "        # Read and write images to GIF\n",
    "        images = [imageio.imread(img) for img in image_files_2]\n",
    "        imageio.mimsave(output_gif_2, images, duration=frame_duration, loop=0)     \n",
    "        print(\"GIF created/updated successfully:\", output_gif_2)\n",
    "        \n",
    "        print(f\"Found {len(image_files_3)} images. Creating/updating GIF...\")\n",
    "        # Read and write images to GIF\n",
    "        images = [imageio.imread(img) for img in image_files_3]\n",
    "        imageio.mimsave(output_gif_3, images, duration=frame_duration, loop=0)     \n",
    "        print(\"GIF created/updated successfully:\", output_gif_3)\n"
   ]
  },
  {
   "cell_type": "code",
   "execution_count": 33,
   "id": "4a8b736a-6ba2-45f5-8c97-34b0888decd1",
   "metadata": {
    "scrolled": true
   },
   "outputs": [
    {
     "name": "stdout",
     "output_type": "stream",
     "text": [
      "\n",
      "\n",
      "#################################\n",
      "#### P4P_images.py ####\n",
      "#################################\n",
      "\n",
      "file_number : 302\n",
      "target_density : 1.67e+01 [g/cc]\n",
      "projectile_density : 1.00e+00 [g/cc]\n",
      "ambience_initial_ionization_degree: 0.030200502\n",
      "Target_initial_ionization_degree: 6.1757\n",
      "projectile_initial_ionization_degree: 1.2348983\n",
      "xleft: -54.6 [um],  xright: 262.5 [um], y_max: 297.5 [um]\n",
      "extract_xleft: -50 [um], extract_xright: 200 [um], extract_y_max: 200 [um]\n",
      "If the extract region reaches the extended zone, this estimate of the extract resion is not precise.\n",
      "\n",
      "----- start loading -----\n",
      "step: 0      file: ./BIN_laser_900/u0000.bin      time: 0.0 [s]\n",
      "-------------------------\n",
      "step: 1      file: ./BIN_laser_900/u0001.bin      time: 0.0 [s]\n",
      "-------------------------\n",
      "step: 2      file: ./BIN_laser_900/u0002.bin      time: 5.0489682e-11 [s]\n",
      "-------------------------\n",
      "step: 3      file: ./BIN_laser_900/u0003.bin      time: 1.00462666e-10 [s]\n",
      "-------------------------\n",
      "step: 4      file: ./BIN_laser_900/u0004.bin      time: 1.500808e-10 [s]\n",
      "-------------------------\n",
      "step: 5      file: ./BIN_laser_900/u0005.bin      time: 2.0001303e-10 [s]\n",
      "-------------------------\n",
      "step: 6      file: ./BIN_laser_900/u0006.bin      time: 2.5009303e-10 [s]\n",
      "-------------------------\n"
     ]
    },
    {
     "name": "stderr",
     "output_type": "stream",
     "text": [
      "/tmp/ipykernel_92904/4155305331.py:232: RuntimeWarning: More than 20 figures have been opened. Figures created through the pyplot interface (`matplotlib.pyplot.figure`) are retained until explicitly closed and may consume too much memory. (To control this warning, see the rcParam `figure.max_open_warning`). Consider using `matplotlib.pyplot.close()`.\n",
      "  fig=plt.figure(figsize=(8,6))\n"
     ]
    },
    {
     "name": "stdout",
     "output_type": "stream",
     "text": [
      "step: 7      file: ./BIN_laser_900/u0007.bin      time: 3.0013728e-10 [s]\n",
      "-------------------------\n",
      "step: 8      file: ./BIN_laser_900/u0008.bin      time: 3.5004044e-10 [s]\n",
      "-------------------------\n",
      "step: 9      file: ./BIN_laser_900/u0009.bin      time: 4.0010473e-10 [s]\n",
      "-------------------------\n",
      "step: 10      file: ./BIN_laser_900/u0010.bin      time: 4.501645e-10 [s]\n",
      "-------------------------\n",
      "step: 11      file: ./BIN_laser_900/u0011.bin      time: 5.000179e-10 [s]\n",
      "-------------------------\n",
      "step: 12      file: ./BIN_laser_900/u0012.bin      time: 5.5019395e-10 [s]\n",
      "-------------------------\n",
      "step: 13      file: ./BIN_laser_900/u0013.bin      time: 6.000114e-10 [s]\n",
      "-------------------------\n",
      "step: 14      file: ./BIN_laser_900/u0014.bin      time: 6.500769e-10 [s]\n",
      "-------------------------\n",
      "step: 15      file: ./BIN_laser_900/u0015.bin      time: 7.0020756e-10 [s]\n",
      "-------------------------\n",
      "step: 16      file: ./BIN_laser_900/u0016.bin      time: 7.50085e-10 [s]\n",
      "-------------------------\n",
      "step: 17      file: ./BIN_laser_900/u0017.bin      time: 8.0006135e-10 [s]\n",
      "-------------------------\n",
      "step: 18      file: ./BIN_laser_900/u0018.bin      time: 8.501017e-10 [s]\n",
      "-------------------------\n",
      "step: 19      file: ./BIN_laser_900/u0019.bin      time: 9.000653e-10 [s]\n",
      "-------------------------\n",
      "step: 20      file: ./BIN_laser_900/u0020.bin      time: 9.50125e-10 [s]\n",
      "-------------------------\n",
      "step: 21      file: ./BIN_laser_900/u0021.bin      time: 1.0001148e-09 [s]\n",
      "-------------------------\n",
      "step: 22      file: ./BIN_laser_900/u0022.bin      time: 1.0500538e-09 [s]\n",
      "-------------------------\n",
      "step: 23      file: ./BIN_laser_900/u0023.bin      time: 1.1000287e-09 [s]\n",
      "-------------------------\n",
      "step: 24      file: ./BIN_laser_900/u0024.bin      time: 1.1500216e-09 [s]\n",
      "-------------------------\n",
      "step: 25      file: ./BIN_laser_900/u0025.bin      time: 1.2000714e-09 [s]\n",
      "-------------------------\n",
      "step: 26      file: ./BIN_laser_900/u0026.bin      time: 1.25006e-09 [s]\n",
      "-------------------------\n",
      "step: 27      file: ./BIN_laser_900/u0027.bin      time: 1.3001179e-09 [s]\n",
      "-------------------------\n",
      "step: 28      file: ./BIN_laser_900/u0028.bin      time: 1.3500935e-09 [s]\n",
      "-------------------------\n",
      "step: 29      file: ./BIN_laser_900/u0029.bin      time: 1.4001564e-09 [s]\n",
      "-------------------------\n",
      "step: 30      file: ./BIN_laser_900/u0030.bin      time: 1.4501423e-09 [s]\n",
      "-------------------------\n",
      "step: 31      file: ./BIN_laser_900/u0031.bin      time: 1.5001054e-09 [s]\n",
      "-------------------------\n",
      "step: 32      file: ./BIN_laser_900/u0032.bin      time: 1.550102e-09 [s]\n",
      "-------------------------\n",
      "step: 33      file: ./BIN_laser_900/u0033.bin      time: 1.6000254e-09 [s]\n",
      "-------------------------\n",
      "step: 34      file: ./BIN_laser_900/u0034.bin      time: 1.6501119e-09 [s]\n",
      "-------------------------\n",
      "step: 35      file: ./BIN_laser_900/u0035.bin      time: 1.7000661e-09 [s]\n",
      "-------------------------\n",
      "step: 36      file: ./BIN_laser_900/u0036.bin      time: 1.7500962e-09 [s]\n",
      "-------------------------\n",
      "step: 37      file: ./BIN_laser_900/u0037.bin      time: 1.8000521e-09 [s]\n",
      "-------------------------\n",
      "step: 38      file: ./BIN_laser_900/u0038.bin      time: 1.8501332e-09 [s]\n",
      "-------------------------\n",
      "step: 39      file: ./BIN_laser_900/u0039.bin      time: 1.9000121e-09 [s]\n",
      "-------------------------\n",
      "step: 40      file: ./BIN_laser_900/u0040.bin      time: 1.95005e-09 [s]\n",
      "-------------------------\n",
      "step: 41      file: ./BIN_laser_900/u0041.bin      time: 2.000089e-09 [s]\n",
      "-------------------------\n",
      "step: 42      file: ./BIN_laser_900/u0042.bin      time: 2.0501494e-09 [s]\n",
      "-------------------------\n",
      "step: 43      file: ./BIN_laser_900/u0043.bin      time: 2.100078e-09 [s]\n",
      "-------------------------\n",
      "step: 44      file: ./BIN_laser_900/u0044.bin      time: 2.1500741e-09 [s]\n",
      "-------------------------\n",
      "step: 45      file: ./BIN_laser_900/u0045.bin      time: 2.200166e-09 [s]\n",
      "-------------------------\n",
      "step: 46      file: ./BIN_laser_900/u0046.bin      time: 2.2500126e-09 [s]\n",
      "-------------------------\n",
      "step: 47      file: ./BIN_laser_900/u0047.bin      time: 2.300003e-09 [s]\n",
      "-------------------------\n",
      "step: 48      file: ./BIN_laser_900/u0048.bin      time: 2.3501643e-09 [s]\n",
      "-------------------------\n",
      "step: 49      file: ./BIN_laser_900/u0049.bin      time: 2.4001396e-09 [s]\n",
      "-------------------------\n",
      "step: 50      file: ./BIN_laser_900/u0050.bin      time: 2.450135e-09 [s]\n",
      "-------------------------\n",
      "step: 51      file: ./BIN_laser_900/u0051.bin      time: 2.5001583e-09 [s]\n",
      "-------------------------\n",
      "step: 52      file: ./BIN_laser_900/u0052.bin      time: 2.5500249e-09 [s]\n",
      "-------------------------\n",
      "step: 53      file: ./BIN_laser_900/u0053.bin      time: 2.6001263e-09 [s]\n",
      "-------------------------\n",
      "step: 54      file: ./BIN_laser_900/u0054.bin      time: 2.6500782e-09 [s]\n",
      "-------------------------\n",
      "step: 55      file: ./BIN_laser_900/u0055.bin      time: 2.7000673e-09 [s]\n",
      "-------------------------\n",
      "step: 56      file: ./BIN_laser_900/u0056.bin      time: 2.7500964e-09 [s]\n",
      "-------------------------\n",
      "step: 57      file: ./BIN_laser_900/u0057.bin      time: 2.8001617e-09 [s]\n",
      "-------------------------\n",
      "step: 58      file: ./BIN_laser_900/u0058.bin      time: 2.8500504e-09 [s]\n",
      "-------------------------\n",
      "step: 59      file: ./BIN_laser_900/u0059.bin      time: 2.9001639e-09 [s]\n",
      "-------------------------\n",
      "step: 60      file: ./BIN_laser_900/u0060.bin      time: 2.950092e-09 [s]\n",
      "-------------------------\n",
      "step: 61      file: ./BIN_laser_900/u0061.bin      time: 3.0000238e-09 [s]\n",
      "-------------------------\n",
      "step: 62      file: ./BIN_laser_900/u0062.bin      time: 3.0501668e-09 [s]\n",
      "-------------------------\n",
      "step: 63      file: ./BIN_laser_900/u0063.bin      time: 3.1000988e-09 [s]\n",
      "-------------------------\n",
      "step: 64      file: ./BIN_laser_900/u0064.bin      time: 3.1500182e-09 [s]\n",
      "-------------------------\n",
      "step: 65      file: ./BIN_laser_900/u0065.bin      time: 3.200134e-09 [s]\n",
      "-------------------------\n",
      "step: 66      file: ./BIN_laser_900/u0066.bin      time: 3.2500151e-09 [s]\n",
      "-------------------------\n",
      "step: 67      file: ./BIN_laser_900/u0067.bin      time: 3.3000822e-09 [s]\n",
      "-------------------------\n",
      "step: 68      file: ./BIN_laser_900/u0068.bin      time: 3.350115e-09 [s]\n",
      "-------------------------\n",
      "step: 69      file: ./BIN_laser_900/u0069.bin      time: 3.400109e-09 [s]\n",
      "-------------------------\n",
      "step: 70      file: ./BIN_laser_900/u0070.bin      time: 3.4500514e-09 [s]\n",
      "-------------------------\n",
      "step: 71      file: ./BIN_laser_900/u0071.bin      time: 3.5001593e-09 [s]\n",
      "-------------------------\n",
      "step: 72      file: ./BIN_laser_900/u0072.bin      time: 3.5502052e-09 [s]\n",
      "-------------------------\n",
      "step: 73      file: ./BIN_laser_900/u0073.bin      time: 3.6001726e-09 [s]\n",
      "-------------------------\n",
      "step: 74      file: ./BIN_laser_900/u0074.bin      time: 3.6500571e-09 [s]\n",
      "-------------------------\n",
      "step: 75      file: ./BIN_laser_900/u0075.bin      time: 3.7000785e-09 [s]\n",
      "-------------------------\n",
      "step: 76      file: ./BIN_laser_900/u0076.bin      time: 3.750226e-09 [s]\n",
      "-------------------------\n",
      "step: 77      file: ./BIN_laser_900/u0077.bin      time: 3.8000354e-09 [s]\n",
      "-------------------------\n",
      "step: 78      file: ./BIN_laser_900/u0078.bin      time: 3.8501877e-09 [s]\n",
      "-------------------------\n",
      "step: 79      file: ./BIN_laser_900/u0079.bin      time: 3.900219e-09 [s]\n",
      "-------------------------\n",
      "step: 80      file: ./BIN_laser_900/u0080.bin      time: 3.950112e-09 [s]\n",
      "-------------------------\n",
      "step: 81      file: ./BIN_laser_900/u0081.bin      time: 4.000113e-09 [s]\n",
      "-------------------------\n",
      "step: 82      file: ./BIN_laser_900/u0082.bin      time: 4.0502077e-09 [s]\n",
      "-------------------------\n",
      "step: 83      file: ./BIN_laser_900/u0083.bin      time: 4.100161e-09 [s]\n",
      "-------------------------\n",
      "step: 84      file: ./BIN_laser_900/u0084.bin      time: 4.1501975e-09 [s]\n",
      "-------------------------\n",
      "step: 85      file: ./BIN_laser_900/u0085.bin      time: 4.2000816e-09 [s]\n",
      "-------------------------\n",
      "step: 86      file: ./BIN_laser_900/u0086.bin      time: 4.2500443e-09 [s]\n",
      "-------------------------\n",
      "step: 87      file: ./BIN_laser_900/u0087.bin      time: 4.300091e-09 [s]\n",
      "-------------------------\n",
      "step: 88      file: ./BIN_laser_900/u0088.bin      time: 4.350225e-09 [s]\n",
      "-------------------------\n",
      "step: 89      file: ./BIN_laser_900/u0089.bin      time: 4.4001753e-09 [s]\n",
      "-------------------------\n",
      "step: 90      file: ./BIN_laser_900/u0090.bin      time: 4.450207e-09 [s]\n",
      "-------------------------\n",
      "step: 91      file: ./BIN_laser_900/u0091.bin      time: 4.500064e-09 [s]\n",
      "-------------------------\n",
      "step: 92      file: ./BIN_laser_900/u0092.bin      time: 4.5502433e-09 [s]\n",
      "-------------------------\n",
      "step: 93      file: ./BIN_laser_900/u0093.bin      time: 4.600234e-09 [s]\n",
      "-------------------------\n",
      "step: 94      file: ./BIN_laser_900/u0094.bin      time: 4.6500364e-09 [s]\n",
      "-------------------------\n",
      "step: 95      file: ./BIN_laser_900/u0095.bin      time: 4.700176e-09 [s]\n",
      "-------------------------\n",
      "step: 96      file: ./BIN_laser_900/u0096.bin      time: 4.750109e-09 [s]\n",
      "-------------------------\n",
      "step: 97      file: ./BIN_laser_900/u0097.bin      time: 4.8000923e-09 [s]\n",
      "-------------------------\n",
      "step: 98      file: ./BIN_laser_900/u0098.bin      time: 4.8501336e-09 [s]\n",
      "-------------------------\n",
      "step: 99      file: ./BIN_laser_900/u0099.bin      time: 4.9002313e-09 [s]\n",
      "-------------------------\n",
      "step: 100      file: ./BIN_laser_900/u0100.bin      time: 4.9501083e-09 [s]\n",
      "-------------------------\n",
      "step: 101      file: ./BIN_laser_900/u0101.bin      time: 5.0000475e-09 [s]\n",
      "-------------------------\n",
      "step: 102      file: ./BIN_laser_900/u0102.bin      time: 5.0502083e-09 [s]\n",
      "-------------------------\n",
      "step: 103      file: ./BIN_laser_900/u0103.bin      time: 5.1001976e-09 [s]\n",
      "-------------------------\n",
      "step: 104      file: ./BIN_laser_900/u0104.bin      time: 5.150208e-09 [s]\n",
      "-------------------------\n",
      "step: 105      file: ./BIN_laser_900/u0105.bin      time: 5.2002e-09 [s]\n",
      "-------------------------\n",
      "step: 106      file: ./BIN_laser_900/u0106.bin      time: 5.2500786e-09 [s]\n",
      "-------------------------\n",
      "step: 107      file: ./BIN_laser_900/u0107.bin      time: 5.300002e-09 [s]\n",
      "-------------------------\n",
      "step: 108      file: ./BIN_laser_900/u0108.bin      time: 5.350234e-09 [s]\n",
      "-------------------------\n",
      "step: 109      file: ./BIN_laser_900/u0109.bin      time: 5.4001768e-09 [s]\n",
      "-------------------------\n",
      "step: 110      file: ./BIN_laser_900/u0110.bin      time: 5.450202e-09 [s]\n",
      "-------------------------\n",
      "step: 111      file: ./BIN_laser_900/u0111.bin      time: 5.500237e-09 [s]\n",
      "-------------------------\n",
      "step: 112      file: ./BIN_laser_900/u0112.bin      time: 5.550013e-09 [s]\n",
      "-------------------------\n",
      "step: 113      file: ./BIN_laser_900/u0113.bin      time: 5.60018e-09 [s]\n",
      "-------------------------\n",
      "step: 114      file: ./BIN_laser_900/u0114.bin      time: 5.6501084e-09 [s]\n",
      "-------------------------\n",
      "step: 115      file: ./BIN_laser_900/u0115.bin      time: 5.7000364e-09 [s]\n",
      "-------------------------\n",
      "step: 116      file: ./BIN_laser_900/u0116.bin      time: 5.750175e-09 [s]\n",
      "-------------------------\n",
      "step: 117      file: ./BIN_laser_900/u0117.bin      time: 5.8002656e-09 [s]\n",
      "-------------------------\n",
      "step: 118      file: ./BIN_laser_900/u0118.bin      time: 5.850048e-09 [s]\n",
      "-------------------------\n",
      "step: 119      file: ./BIN_laser_900/u0119.bin      time: 5.900111e-09 [s]\n",
      "-------------------------\n",
      "step: 120      file: ./BIN_laser_900/u0120.bin      time: 5.950091e-09 [s]\n",
      "-------------------------\n",
      "step: 121      file: ./BIN_laser_900/u0121.bin      time: 6.000249e-09 [s]\n",
      "-------------------------\n",
      "step: 122      file: ./BIN_laser_900/u0122.bin      time: 6.0500374e-09 [s]\n",
      "-------------------------\n",
      "step: 123      file: ./BIN_laser_900/u0123.bin      time: 6.100148e-09 [s]\n",
      "-------------------------\n",
      "step: 124      file: ./BIN_laser_900/u0124.bin      time: 6.1502816e-09 [s]\n",
      "-------------------------\n",
      "step: 125      file: ./BIN_laser_900/u0125.bin      time: 6.2000267e-09 [s]\n",
      "-------------------------\n",
      "step: 126      file: ./BIN_laser_900/u0126.bin      time: 6.250066e-09 [s]\n",
      "-------------------------\n",
      "step: 127      file: ./BIN_laser_900/u0127.bin      time: 6.300102e-09 [s]\n",
      "-------------------------\n",
      "step: 128      file: ./BIN_laser_900/u0128.bin      time: 6.350177e-09 [s]\n",
      "-------------------------\n",
      "step: 129      file: ./BIN_laser_900/u0129.bin      time: 6.400256e-09 [s]\n",
      "-------------------------\n",
      "step: 130      file: ./BIN_laser_900/u0130.bin      time: 6.450168e-09 [s]\n",
      "-------------------------\n",
      "step: 131      file: ./BIN_laser_900/u0131.bin      time: 6.5002737e-09 [s]\n",
      "-------------------------\n",
      "step: 132      file: ./BIN_laser_900/u0132.bin      time: 6.5500116e-09 [s]\n",
      "-------------------------\n",
      "step: 133      file: ./BIN_laser_900/u0133.bin      time: 6.600151e-09 [s]\n",
      "-------------------------\n",
      "step: 134      file: ./BIN_laser_900/u0134.bin      time: 6.65004e-09 [s]\n",
      "-------------------------\n",
      "step: 135      file: ./BIN_laser_900/u0135.bin      time: 6.7000117e-09 [s]\n",
      "-------------------------\n",
      "step: 136      file: ./BIN_laser_900/u0136.bin      time: 6.7503656e-09 [s]\n",
      "-------------------------\n",
      "step: 137      file: ./BIN_laser_900/u0137.bin      time: 6.800257e-09 [s]\n",
      "-------------------------\n",
      "step: 138      file: ./BIN_laser_900/u0138.bin      time: 6.8503243e-09 [s]\n",
      "-------------------------\n",
      "step: 139      file: ./BIN_laser_900/u0139.bin      time: 6.900067e-09 [s]\n",
      "-------------------------\n",
      "step: 140      file: ./BIN_laser_900/u0140.bin      time: 6.950293e-09 [s]\n",
      "-------------------------\n",
      "step: 141      file: ./BIN_laser_900/u0141.bin      time: 7.000031e-09 [s]\n",
      "-------------------------\n",
      "step: 142      file: ./BIN_laser_900/u0142.bin      time: 7.0502244e-09 [s]\n",
      "-------------------------\n",
      "step: 143      file: ./BIN_laser_900/u0143.bin      time: 7.100081e-09 [s]\n",
      "-------------------------\n",
      "step: 144      file: ./BIN_laser_900/u0144.bin      time: 7.1503963e-09 [s]\n",
      "-------------------------\n",
      "step: 145      file: ./BIN_laser_900/u0145.bin      time: 7.200289e-09 [s]\n",
      "-------------------------\n",
      "step: 146      file: ./BIN_laser_900/u0146.bin      time: 7.2501134e-09 [s]\n",
      "-------------------------\n",
      "step: 147      file: ./BIN_laser_900/u0147.bin      time: 7.3002484e-09 [s]\n",
      "-------------------------\n",
      "step: 148      file: ./BIN_laser_900/u0148.bin      time: 7.350199e-09 [s]\n",
      "-------------------------\n",
      "step: 149      file: ./BIN_laser_900/u0149.bin      time: 7.400338e-09 [s]\n",
      "-------------------------\n",
      "step: 150      file: ./BIN_laser_900/u0150.bin      time: 7.4501383e-09 [s]\n",
      "-------------------------\n",
      "step: 151      file: ./BIN_laser_900/u0151.bin      time: 7.5000175e-09 [s]\n",
      "-------------------------\n",
      "step: 152      file: ./BIN_laser_900/u0152.bin      time: 7.550104e-09 [s]\n",
      "-------------------------\n",
      "step: 153      file: ./BIN_laser_900/u0153.bin      time: 7.600145e-09 [s]\n",
      "-------------------------\n",
      "step: 154      file: ./BIN_laser_900/u0154.bin      time: 7.650239e-09 [s]\n",
      "-------------------------\n",
      "step: 155      file: ./BIN_laser_900/u0155.bin      time: 7.700369e-09 [s]\n",
      "-------------------------\n",
      "step: 156      file: ./BIN_laser_900/u0156.bin      time: 7.750487e-09 [s]\n",
      "-------------------------\n",
      "step: 157      file: ./BIN_laser_900/u0157.bin      time: 7.8000095e-09 [s]\n",
      "-------------------------\n",
      "step: 158      file: ./BIN_laser_900/u0158.bin      time: 7.850434e-09 [s]\n",
      "-------------------------\n",
      "step: 159      file: ./BIN_laser_900/u0159.bin      time: 7.900136e-09 [s]\n",
      "-------------------------\n",
      "step: 160      file: ./BIN_laser_900/u0160.bin      time: 7.950126e-09 [s]\n",
      "-------------------------\n",
      "step: 161      file: ./BIN_laser_900/u0161.bin      time: 8.0003835e-09 [s]\n",
      "-------------------------\n",
      "step: 162      file: ./BIN_laser_900/u0162.bin      time: 8.050325e-09 [s]\n",
      "-------------------------\n",
      "step: 163      file: ./BIN_laser_900/u0163.bin      time: 8.100482e-09 [s]\n",
      "-------------------------\n",
      "step: 164      file: ./BIN_laser_900/u0164.bin      time: 8.150257e-09 [s]\n",
      "-------------------------\n",
      "step: 165      file: ./BIN_laser_900/u0165.bin      time: 8.200211e-09 [s]\n",
      "-------------------------\n",
      "step: 166      file: ./BIN_laser_900/u0166.bin      time: 8.250361e-09 [s]\n",
      "-------------------------\n",
      "step: 167      file: ./BIN_laser_900/u0167.bin      time: 8.300133e-09 [s]\n",
      "-------------------------\n",
      "step: 168      file: ./BIN_laser_900/u0168.bin      time: 8.350164e-09 [s]\n",
      "-------------------------\n",
      "step: 169      file: ./BIN_laser_900/u0169.bin      time: 8.40049e-09 [s]\n",
      "-------------------------\n",
      "step: 170      file: ./BIN_laser_900/u0170.bin      time: 8.450482e-09 [s]\n",
      "-------------------------\n",
      "step: 171      file: ./BIN_laser_900/u0171.bin      time: 8.500113e-09 [s]\n",
      "-------------------------\n",
      "step: 172      file: ./BIN_laser_900/u0172.bin      time: 8.550015e-09 [s]\n",
      "-------------------------\n",
      "step: 173      file: ./BIN_laser_900/u0173.bin      time: 8.600188e-09 [s]\n",
      "-------------------------\n",
      "step: 174      file: ./BIN_laser_900/u0174.bin      time: 8.650626e-09 [s]\n",
      "-------------------------\n",
      "step: 175      file: ./BIN_laser_900/u0175.bin      time: 8.700608e-09 [s]\n",
      "-------------------------\n",
      "step: 176      file: ./BIN_laser_900/u0176.bin      time: 8.7500815e-09 [s]\n",
      "-------------------------\n",
      "step: 177      file: ./BIN_laser_900/u0177.bin      time: 8.800459e-09 [s]\n",
      "-------------------------\n",
      "step: 178      file: ./BIN_laser_900/u0178.bin      time: 8.850257e-09 [s]\n",
      "-------------------------\n",
      "step: 179      file: ./BIN_laser_900/u0179.bin      time: 8.900175e-09 [s]\n",
      "-------------------------\n",
      "step: 180      file: ./BIN_laser_900/u0180.bin      time: 8.9501855e-09 [s]\n",
      "-------------------------\n",
      "step: 181      file: ./BIN_laser_900/u0181.bin      time: 9.000257e-09 [s]\n",
      "-------------------------\n",
      "step: 182      file: ./BIN_laser_900/u0182.bin      time: 9.05036e-09 [s]\n",
      "-------------------------\n",
      "step: 183      file: ./BIN_laser_900/u0183.bin      time: 9.100455e-09 [s]\n",
      "-------------------------\n",
      "step: 184      file: ./BIN_laser_900/u0184.bin      time: 9.150505e-09 [s]\n",
      "-------------------------\n",
      "step: 185      file: ./BIN_laser_900/u0185.bin      time: 9.200469e-09 [s]\n",
      "-------------------------\n",
      "step: 186      file: ./BIN_laser_900/u0186.bin      time: 9.250296e-09 [s]\n",
      "-------------------------\n",
      "step: 187      file: ./BIN_laser_900/u0187.bin      time: 9.30079e-09 [s]\n",
      "-------------------------\n",
      "step: 188      file: ./BIN_laser_900/u0188.bin      time: 9.350198e-09 [s]\n",
      "-------------------------\n",
      "step: 189      file: ./BIN_laser_900/u0189.bin      time: 9.400209e-09 [s]\n",
      "-------------------------\n",
      "step: 190      file: ./BIN_laser_900/u0190.bin      time: 9.450803e-09 [s]\n",
      "-------------------------\n",
      "step: 191      file: ./BIN_laser_900/u0191.bin      time: 9.50015e-09 [s]\n",
      "-------------------------\n",
      "step: 192      file: ./BIN_laser_900/u0192.bin      time: 9.5509085e-09 [s]\n",
      "-------------------------\n",
      "step: 193      file: ./BIN_laser_900/u0193.bin      time: 9.600332e-09 [s]\n",
      "-------------------------\n",
      "step: 194      file: ./BIN_laser_900/u0194.bin      time: 9.650218e-09 [s]\n",
      "-------------------------\n",
      "step: 195      file: ./BIN_laser_900/u0195.bin      time: 9.700566e-09 [s]\n",
      "-------------------------\n",
      "step: 196      file: ./BIN_laser_900/u0196.bin      time: 9.750433e-09 [s]\n",
      "-------------------------\n",
      "step: 197      file: ./BIN_laser_900/u0197.bin      time: 9.8007655e-09 [s]\n",
      "-------------------------\n",
      "step: 198      file: ./BIN_laser_900/u0198.bin      time: 9.85062e-09 [s]\n",
      "-------------------------\n",
      "step: 199      file: ./BIN_laser_900/u0199.bin      time: 9.900969e-09 [s]\n",
      "-------------------------\n",
      "step: 200      file: ./BIN_laser_900/u0200.bin      time: 9.950869e-09 [s]\n",
      "-------------------------\n",
      "step: 201      file: ./BIN_laser_900/u0201.bin      time: 1.0000327e-08 [s]\n",
      "-------------------------\n",
      "step: 202      file: ./BIN_laser_900/u0202.bin      time: 1.0050358e-08 [s]\n",
      "-------------------------\n",
      "step: 203      file: ./BIN_laser_900/u0203.bin      time: 1.0101001e-08 [s]\n",
      "-------------------------\n",
      "step: 204      file: ./BIN_laser_900/u0204.bin      time: 1.0150229e-08 [s]\n",
      "-------------------------\n",
      "step: 205      file: ./BIN_laser_900/u0205.bin      time: 1.0200077e-08 [s]\n",
      "-------------------------\n",
      "step: 206      file: ./BIN_laser_900/u0206.bin      time: 1.025055e-08 [s]\n",
      "-------------------------\n",
      "step: 207      file: ./BIN_laser_900/u0207.bin      time: 1.030051e-08 [s]\n",
      "-------------------------\n",
      "step: 208      file: ./BIN_laser_900/u0208.bin      time: 1.0350958e-08 [s]\n",
      "-------------------------\n",
      "step: 209      file: ./BIN_laser_900/u0209.bin      time: 1.04008e-08 [s]\n",
      "-------------------------\n",
      "step: 210      file: ./BIN_laser_900/u0210.bin      time: 1.0450005e-08 [s]\n",
      "-------------------------\n",
      "step: 211      file: ./BIN_laser_900/u0211.bin      time: 1.0500763e-08 [s]\n",
      "-------------------------\n",
      "step: 212      file: ./BIN_laser_900/u0212.bin      time: 1.0550867e-08 [s]\n",
      "-------------------------\n",
      "step: 213      file: ./BIN_laser_900/u0213.bin      time: 1.060029e-08 [s]\n",
      "-------------------------\n",
      "step: 214      file: ./BIN_laser_900/u0214.bin      time: 1.0650143e-08 [s]\n",
      "-------------------------\n",
      "step: 215      file: ./BIN_laser_900/u0215.bin      time: 1.0700427e-08 [s]\n",
      "-------------------------\n",
      "step: 216      file: ./BIN_laser_900/u0216.bin      time: 1.0751147e-08 [s]\n",
      "-------------------------\n",
      "step: 217      file: ./BIN_laser_900/u0217.bin      time: 1.0801137e-08 [s]\n",
      "-------------------------\n",
      "step: 218      file: ./BIN_laser_900/u0218.bin      time: 1.0850377e-08 [s]\n",
      "-------------------------\n",
      "step: 219      file: ./BIN_laser_900/u0219.bin      time: 1.0900029e-08 [s]\n",
      "-------------------------\n",
      "step: 220      file: ./BIN_laser_900/u0220.bin      time: 1.0950104e-08 [s]\n",
      "-------------------------\n",
      "step: 221      file: ./BIN_laser_900/u0221.bin      time: 1.1000606e-08 [s]\n",
      "-------------------------\n",
      "step: 222      file: ./BIN_laser_900/u0222.bin      time: 1.1050318e-08 [s]\n",
      "-------------------------\n",
      "step: 223      file: ./BIN_laser_900/u0223.bin      time: 1.1100424e-08 [s]\n",
      "-------------------------\n",
      "step: 224      file: ./BIN_laser_900/u0224.bin      time: 1.1150909e-08 [s]\n",
      "-------------------------\n",
      "step: 225      file: ./BIN_laser_900/u0225.bin      time: 1.1200529e-08 [s]\n",
      "-------------------------\n",
      "step: 226      file: ./BIN_laser_900/u0226.bin      time: 1.1250511e-08 [s]\n",
      "-------------------------\n",
      "step: 227      file: ./BIN_laser_900/u0227.bin      time: 1.1300853e-08 [s]\n",
      "-------------------------\n",
      "step: 228      file: ./BIN_laser_900/u0228.bin      time: 1.1350285e-08 [s]\n",
      "-------------------------\n",
      "step: 229      file: ./BIN_laser_900/u0229.bin      time: 1.1400067e-08 [s]\n",
      "-------------------------\n",
      "step: 230      file: ./BIN_laser_900/u0230.bin      time: 1.1450208e-08 [s]\n",
      "-------------------------\n",
      "step: 231      file: ./BIN_laser_900/u0231.bin      time: 1.15007275e-08 [s]\n",
      "-------------------------\n",
      "step: 232      file: ./BIN_laser_900/u0232.bin      time: 1.1550344e-08 [s]\n",
      "-------------------------\n",
      "step: 233      file: ./BIN_laser_900/u0233.bin      time: 1.1600378e-08 [s]\n",
      "-------------------------\n",
      "step: 234      file: ./BIN_laser_900/u0234.bin      time: 1.1650858e-08 [s]\n",
      "-------------------------\n",
      "step: 235      file: ./BIN_laser_900/u0235.bin      time: 1.1700458e-08 [s]\n",
      "-------------------------\n",
      "step: 236      file: ./BIN_laser_900/u0236.bin      time: 1.1750518e-08 [s]\n",
      "-------------------------\n",
      "step: 237      file: ./BIN_laser_900/u0237.bin      time: 1.180106e-08 [s]\n",
      "-------------------------\n",
      "step: 238      file: ./BIN_laser_900/u0238.bin      time: 1.1850726e-08 [s]\n",
      "-------------------------\n",
      "step: 239      file: ./BIN_laser_900/u0239.bin      time: 1.1900906e-08 [s]\n",
      "-------------------------\n",
      "step: 240      file: ./BIN_laser_900/u0240.bin      time: 1.1950171e-08 [s]\n",
      "-------------------------\n",
      "step: 241      file: ./BIN_laser_900/u0241.bin      time: 1.2001222e-08 [s]\n",
      "-------------------------\n",
      "step: 242      file: ./BIN_laser_900/u0242.bin      time: 1.20512205e-08 [s]\n",
      "-------------------------\n",
      "step: 243      file: ./BIN_laser_900/u0243.bin      time: 1.21001325e-08 [s]\n",
      "-------------------------\n",
      "step: 244      file: ./BIN_laser_900/u0244.bin      time: 1.2150834e-08 [s]\n",
      "-------------------------\n",
      "step: 245      file: ./BIN_laser_900/u0245.bin      time: 1.2200422e-08 [s]\n",
      "-------------------------\n",
      "step: 246      file: ./BIN_laser_900/u0246.bin      time: 1.2250328e-08 [s]\n",
      "-------------------------\n",
      "step: 247      file: ./BIN_laser_900/u0247.bin      time: 1.2300546e-08 [s]\n",
      "-------------------------\n",
      "step: 248      file: ./BIN_laser_900/u0248.bin      time: 1.2351077e-08 [s]\n",
      "-------------------------\n",
      "step: 249      file: ./BIN_laser_900/u0249.bin      time: 1.2400411e-08 [s]\n",
      "-------------------------\n",
      "step: 250      file: ./BIN_laser_900/u0250.bin      time: 1.2450026e-08 [s]\n",
      "-------------------------\n",
      "step: 251      file: ./BIN_laser_900/u0251.bin      time: 1.2501425e-08 [s]\n",
      "-------------------------\n",
      "step: 252      file: ./BIN_laser_900/u0252.bin      time: 1.2550047e-08 [s]\n",
      "-------------------------\n",
      "step: 253      file: ./BIN_laser_900/u0253.bin      time: 1.2600429e-08 [s]\n",
      "-------------------------\n",
      "step: 254      file: ./BIN_laser_900/u0254.bin      time: 1.2651046e-08 [s]\n",
      "-------------------------\n",
      "step: 255      file: ./BIN_laser_900/u0255.bin      time: 1.2700354e-08 [s]\n",
      "-------------------------\n",
      "step: 256      file: ./BIN_laser_900/u0256.bin      time: 1.2751438e-08 [s]\n",
      "-------------------------\n",
      "step: 257      file: ./BIN_laser_900/u0257.bin      time: 1.2801221e-08 [s]\n",
      "-------------------------\n",
      "step: 258      file: ./BIN_laser_900/u0258.bin      time: 1.2851258e-08 [s]\n",
      "-------------------------\n",
      "step: 259      file: ./BIN_laser_900/u0259.bin      time: 1.2900057e-08 [s]\n",
      "-------------------------\n",
      "step: 260      file: ./BIN_laser_900/u0260.bin      time: 1.2950593e-08 [s]\n",
      "-------------------------\n",
      "step: 261      file: ./BIN_laser_900/u0261.bin      time: 1.300088e-08 [s]\n",
      "-------------------------\n",
      "step: 262      file: ./BIN_laser_900/u0262.bin      time: 1.3051445e-08 [s]\n",
      "-------------------------\n",
      "step: 263      file: ./BIN_laser_900/u0263.bin      time: 1.3100914e-08 [s]\n",
      "-------------------------\n",
      "step: 264      file: ./BIN_laser_900/u0264.bin      time: 1.3150265e-08 [s]\n",
      "-------------------------\n",
      "step: 265      file: ./BIN_laser_900/u0265.bin      time: 1.3201097e-08 [s]\n",
      "-------------------------\n",
      "step: 266      file: ./BIN_laser_900/u0266.bin      time: 1.32507525e-08 [s]\n",
      "-------------------------\n",
      "step: 267      file: ./BIN_laser_900/u0267.bin      time: 1.3300194e-08 [s]\n",
      "-------------------------\n",
      "step: 268      file: ./BIN_laser_900/u0268.bin      time: 1.3350679e-08 [s]\n",
      "-------------------------\n",
      "step: 269      file: ./BIN_laser_900/u0269.bin      time: 1.3400483e-08 [s]\n",
      "-------------------------\n",
      "step: 270      file: ./BIN_laser_900/u0270.bin      time: 1.3451293e-08 [s]\n",
      "-------------------------\n",
      "step: 271      file: ./BIN_laser_900/u0271.bin      time: 1.3501125e-08 [s]\n",
      "-------------------------\n",
      "step: 272      file: ./BIN_laser_900/u0272.bin      time: 1.35511735e-08 [s]\n",
      "-------------------------\n",
      "step: 273      file: ./BIN_laser_900/u0273.bin      time: 1.3601241e-08 [s]\n",
      "-------------------------\n",
      "step: 274      file: ./BIN_laser_900/u0274.bin      time: 1.3650461e-08 [s]\n",
      "-------------------------\n",
      "step: 275      file: ./BIN_laser_900/u0275.bin      time: 1.3700196e-08 [s]\n",
      "-------------------------\n",
      "step: 276      file: ./BIN_laser_900/u0276.bin      time: 1.3750143e-08 [s]\n",
      "-------------------------\n",
      "step: 277      file: ./BIN_laser_900/u0277.bin      time: 1.3800046e-08 [s]\n",
      "-------------------------\n",
      "step: 278      file: ./BIN_laser_900/u0278.bin      time: 1.38511655e-08 [s]\n",
      "-------------------------\n",
      "step: 279      file: ./BIN_laser_900/u0279.bin      time: 1.3900022e-08 [s]\n",
      "-------------------------\n",
      "step: 280      file: ./BIN_laser_900/u0280.bin      time: 1.3950632e-08 [s]\n",
      "-------------------------\n",
      "step: 281      file: ./BIN_laser_900/u0281.bin      time: 1.400034e-08 [s]\n",
      "-------------------------\n",
      "step: 282      file: ./BIN_laser_900/u0282.bin      time: 1.4051388e-08 [s]\n",
      "-------------------------\n",
      "step: 283      file: ./BIN_laser_900/u0283.bin      time: 1.4100511e-08 [s]\n",
      "-------------------------\n",
      "step: 284      file: ./BIN_laser_900/u0284.bin      time: 1.4150534e-08 [s]\n",
      "-------------------------\n",
      "step: 285      file: ./BIN_laser_900/u0285.bin      time: 1.4201015e-08 [s]\n",
      "-------------------------\n",
      "step: 286      file: ./BIN_laser_900/u0286.bin      time: 1.4250199e-08 [s]\n",
      "-------------------------\n",
      "step: 287      file: ./BIN_laser_900/u0287.bin      time: 1.4301301e-08 [s]\n",
      "-------------------------\n",
      "step: 288      file: ./BIN_laser_900/u0288.bin      time: 1.4350114e-08 [s]\n",
      "-------------------------\n",
      "step: 289      file: ./BIN_laser_900/u0289.bin      time: 1.44005e-08 [s]\n",
      "-------------------------\n",
      "step: 290      file: ./BIN_laser_900/u0290.bin      time: 1.4450865e-08 [s]\n",
      "-------------------------\n",
      "step: 291      file: ./BIN_laser_900/u0291.bin      time: 1.4500392e-08 [s]\n",
      "-------------------------\n",
      "step: 292      file: ./BIN_laser_900/u0292.bin      time: 1.4550895e-08 [s]\n",
      "-------------------------\n",
      "step: 293      file: ./BIN_laser_900/u0293.bin      time: 1.4601041e-08 [s]\n",
      "-------------------------\n",
      "step: 294      file: ./BIN_laser_900/u0294.bin      time: 1.4651523e-08 [s]\n",
      "-------------------------\n",
      "step: 295      file: ./BIN_laser_900/u0295.bin      time: 1.4700185e-08 [s]\n",
      "-------------------------\n",
      "step: 296      file: ./BIN_laser_900/u0296.bin      time: 1.4751154e-08 [s]\n",
      "-------------------------\n",
      "step: 297      file: ./BIN_laser_900/u0297.bin      time: 1.4801488e-08 [s]\n",
      "-------------------------\n",
      "step: 298      file: ./BIN_laser_900/u0298.bin      time: 1.4851416e-08 [s]\n",
      "-------------------------\n",
      "step: 299      file: ./BIN_laser_900/u0299.bin      time: 1.4901031e-08 [s]\n",
      "-------------------------\n",
      "step: 300      file: ./BIN_laser_900/u0300.bin      time: 1.4951219e-08 [s]\n",
      "-------------------------\n",
      "step: 301      file: ./BIN_laser_900/u0301.bin      time: 1.5000944e-08 [s]\n",
      "-------------------------\n"
     ]
    },
    {
     "ename": "NameError",
     "evalue": "name 'image_files' is not defined",
     "output_type": "error",
     "traceback": [
      "\u001b[0;31m---------------------------------------------------------------------------\u001b[0m",
      "\u001b[0;31mNameError\u001b[0m                                 Traceback (most recent call last)",
      "Cell \u001b[0;32mIn[33], line 287\u001b[0m\n\u001b[1;32m    284\u001b[0m image_files_2 \u001b[38;5;241m=\u001b[39m \u001b[38;5;28msorted\u001b[39m([os\u001b[38;5;241m.\u001b[39mpath\u001b[38;5;241m.\u001b[39mjoin(output_dir_2, f) \u001b[38;5;28;01mfor\u001b[39;00m f \u001b[38;5;129;01min\u001b[39;00m os\u001b[38;5;241m.\u001b[39mlistdir(output_dir_2) \u001b[38;5;28;01mif\u001b[39;00m f\u001b[38;5;241m.\u001b[39mendswith(\u001b[38;5;124m'\u001b[39m\u001b[38;5;124m.png\u001b[39m\u001b[38;5;124m'\u001b[39m)])\n\u001b[1;32m    285\u001b[0m image_files_3 \u001b[38;5;241m=\u001b[39m \u001b[38;5;28msorted\u001b[39m([os\u001b[38;5;241m.\u001b[39mpath\u001b[38;5;241m.\u001b[39mjoin(output_dir_3, f) \u001b[38;5;28;01mfor\u001b[39;00m f \u001b[38;5;129;01min\u001b[39;00m os\u001b[38;5;241m.\u001b[39mlistdir(output_dir_3) \u001b[38;5;28;01mif\u001b[39;00m f\u001b[38;5;241m.\u001b[39mendswith(\u001b[38;5;124m'\u001b[39m\u001b[38;5;124m.png\u001b[39m\u001b[38;5;124m'\u001b[39m)])\n\u001b[0;32m--> 287\u001b[0m \u001b[38;5;28;01mif\u001b[39;00m \u001b[38;5;28mlen\u001b[39m(\u001b[43mimage_files\u001b[49m) \u001b[38;5;241m>\u001b[39m \u001b[38;5;241m0\u001b[39m:\n\u001b[1;32m    288\u001b[0m     \u001b[38;5;28mprint\u001b[39m(\u001b[38;5;124mf\u001b[39m\u001b[38;5;124m\"\u001b[39m\u001b[38;5;124mFound \u001b[39m\u001b[38;5;132;01m{\u001b[39;00m\u001b[38;5;28mlen\u001b[39m(image_files_1)\u001b[38;5;132;01m}\u001b[39;00m\u001b[38;5;124m images. Creating/updating GIF...\u001b[39m\u001b[38;5;124m\"\u001b[39m)\n\u001b[1;32m    289\u001b[0m     \u001b[38;5;66;03m# Read and write images to GIF\u001b[39;00m\n",
      "\u001b[0;31mNameError\u001b[0m: name 'image_files' is not defined"
     ]
    },
    {
     "data": {
      "text/plain": [
       "<Figure size 800x600 with 0 Axes>"
      ]
     },
     "metadata": {},
     "output_type": "display_data"
    },
    {
     "data": {
      "text/plain": [
       "<Figure size 800x600 with 0 Axes>"
      ]
     },
     "metadata": {},
     "output_type": "display_data"
    },
    {
     "data": {
      "text/plain": [
       "<Figure size 800x600 with 0 Axes>"
      ]
     },
     "metadata": {},
     "output_type": "display_data"
    },
    {
     "data": {
      "text/plain": [
       "<Figure size 800x600 with 0 Axes>"
      ]
     },
     "metadata": {},
     "output_type": "display_data"
    },
    {
     "data": {
      "text/plain": [
       "<Figure size 800x600 with 0 Axes>"
      ]
     },
     "metadata": {},
     "output_type": "display_data"
    },
    {
     "data": {
      "text/plain": [
       "<Figure size 800x600 with 0 Axes>"
      ]
     },
     "metadata": {},
     "output_type": "display_data"
    },
    {
     "data": {
      "text/plain": [
       "<Figure size 800x600 with 0 Axes>"
      ]
     },
     "metadata": {},
     "output_type": "display_data"
    },
    {
     "data": {
      "text/plain": [
       "<Figure size 800x600 with 0 Axes>"
      ]
     },
     "metadata": {},
     "output_type": "display_data"
    },
    {
     "data": {
      "text/plain": [
       "<Figure size 800x600 with 0 Axes>"
      ]
     },
     "metadata": {},
     "output_type": "display_data"
    },
    {
     "data": {
      "text/plain": [
       "<Figure size 800x600 with 0 Axes>"
      ]
     },
     "metadata": {},
     "output_type": "display_data"
    },
    {
     "data": {
      "text/plain": [
       "<Figure size 800x600 with 0 Axes>"
      ]
     },
     "metadata": {},
     "output_type": "display_data"
    },
    {
     "data": {
      "text/plain": [
       "<Figure size 800x600 with 0 Axes>"
      ]
     },
     "metadata": {},
     "output_type": "display_data"
    },
    {
     "data": {
      "text/plain": [
       "<Figure size 800x600 with 0 Axes>"
      ]
     },
     "metadata": {},
     "output_type": "display_data"
    },
    {
     "data": {
      "text/plain": [
       "<Figure size 800x600 with 0 Axes>"
      ]
     },
     "metadata": {},
     "output_type": "display_data"
    },
    {
     "data": {
      "text/plain": [
       "<Figure size 800x600 with 0 Axes>"
      ]
     },
     "metadata": {},
     "output_type": "display_data"
    },
    {
     "data": {
      "text/plain": [
       "<Figure size 800x600 with 0 Axes>"
      ]
     },
     "metadata": {},
     "output_type": "display_data"
    },
    {
     "data": {
      "text/plain": [
       "<Figure size 800x600 with 0 Axes>"
      ]
     },
     "metadata": {},
     "output_type": "display_data"
    },
    {
     "data": {
      "text/plain": [
       "<Figure size 800x600 with 0 Axes>"
      ]
     },
     "metadata": {},
     "output_type": "display_data"
    },
    {
     "data": {
      "text/plain": [
       "<Figure size 800x600 with 0 Axes>"
      ]
     },
     "metadata": {},
     "output_type": "display_data"
    },
    {
     "data": {
      "text/plain": [
       "<Figure size 800x600 with 0 Axes>"
      ]
     },
     "metadata": {},
     "output_type": "display_data"
    },
    {
     "data": {
      "text/plain": [
       "<Figure size 800x600 with 0 Axes>"
      ]
     },
     "metadata": {},
     "output_type": "display_data"
    },
    {
     "data": {
      "text/plain": [
       "<Figure size 800x600 with 0 Axes>"
      ]
     },
     "metadata": {},
     "output_type": "display_data"
    },
    {
     "data": {
      "text/plain": [
       "<Figure size 800x600 with 0 Axes>"
      ]
     },
     "metadata": {},
     "output_type": "display_data"
    },
    {
     "data": {
      "text/plain": [
       "<Figure size 800x600 with 0 Axes>"
      ]
     },
     "metadata": {},
     "output_type": "display_data"
    },
    {
     "data": {
      "text/plain": [
       "<Figure size 800x600 with 0 Axes>"
      ]
     },
     "metadata": {},
     "output_type": "display_data"
    },
    {
     "data": {
      "text/plain": [
       "<Figure size 800x600 with 0 Axes>"
      ]
     },
     "metadata": {},
     "output_type": "display_data"
    },
    {
     "data": {
      "text/plain": [
       "<Figure size 800x600 with 0 Axes>"
      ]
     },
     "metadata": {},
     "output_type": "display_data"
    },
    {
     "data": {
      "text/plain": [
       "<Figure size 800x600 with 0 Axes>"
      ]
     },
     "metadata": {},
     "output_type": "display_data"
    },
    {
     "data": {
      "text/plain": [
       "<Figure size 800x600 with 0 Axes>"
      ]
     },
     "metadata": {},
     "output_type": "display_data"
    },
    {
     "data": {
      "text/plain": [
       "<Figure size 800x600 with 0 Axes>"
      ]
     },
     "metadata": {},
     "output_type": "display_data"
    },
    {
     "data": {
      "text/plain": [
       "<Figure size 800x600 with 0 Axes>"
      ]
     },
     "metadata": {},
     "output_type": "display_data"
    },
    {
     "data": {
      "text/plain": [
       "<Figure size 800x600 with 0 Axes>"
      ]
     },
     "metadata": {},
     "output_type": "display_data"
    },
    {
     "data": {
      "text/plain": [
       "<Figure size 800x600 with 0 Axes>"
      ]
     },
     "metadata": {},
     "output_type": "display_data"
    },
    {
     "data": {
      "text/plain": [
       "<Figure size 800x600 with 0 Axes>"
      ]
     },
     "metadata": {},
     "output_type": "display_data"
    },
    {
     "data": {
      "text/plain": [
       "<Figure size 800x600 with 0 Axes>"
      ]
     },
     "metadata": {},
     "output_type": "display_data"
    },
    {
     "data": {
      "text/plain": [
       "<Figure size 800x600 with 0 Axes>"
      ]
     },
     "metadata": {},
     "output_type": "display_data"
    },
    {
     "data": {
      "text/plain": [
       "<Figure size 800x600 with 0 Axes>"
      ]
     },
     "metadata": {},
     "output_type": "display_data"
    },
    {
     "data": {
      "text/plain": [
       "<Figure size 800x600 with 0 Axes>"
      ]
     },
     "metadata": {},
     "output_type": "display_data"
    },
    {
     "data": {
      "text/plain": [
       "<Figure size 800x600 with 0 Axes>"
      ]
     },
     "metadata": {},
     "output_type": "display_data"
    },
    {
     "data": {
      "text/plain": [
       "<Figure size 800x600 with 0 Axes>"
      ]
     },
     "metadata": {},
     "output_type": "display_data"
    },
    {
     "data": {
      "text/plain": [
       "<Figure size 800x600 with 0 Axes>"
      ]
     },
     "metadata": {},
     "output_type": "display_data"
    },
    {
     "data": {
      "text/plain": [
       "<Figure size 800x600 with 0 Axes>"
      ]
     },
     "metadata": {},
     "output_type": "display_data"
    },
    {
     "data": {
      "text/plain": [
       "<Figure size 800x600 with 0 Axes>"
      ]
     },
     "metadata": {},
     "output_type": "display_data"
    },
    {
     "data": {
      "text/plain": [
       "<Figure size 800x600 with 0 Axes>"
      ]
     },
     "metadata": {},
     "output_type": "display_data"
    },
    {
     "data": {
      "text/plain": [
       "<Figure size 800x600 with 0 Axes>"
      ]
     },
     "metadata": {},
     "output_type": "display_data"
    },
    {
     "data": {
      "text/plain": [
       "<Figure size 800x600 with 0 Axes>"
      ]
     },
     "metadata": {},
     "output_type": "display_data"
    },
    {
     "data": {
      "text/plain": [
       "<Figure size 800x600 with 0 Axes>"
      ]
     },
     "metadata": {},
     "output_type": "display_data"
    },
    {
     "data": {
      "text/plain": [
       "<Figure size 800x600 with 0 Axes>"
      ]
     },
     "metadata": {},
     "output_type": "display_data"
    },
    {
     "data": {
      "text/plain": [
       "<Figure size 800x600 with 0 Axes>"
      ]
     },
     "metadata": {},
     "output_type": "display_data"
    },
    {
     "data": {
      "text/plain": [
       "<Figure size 800x600 with 0 Axes>"
      ]
     },
     "metadata": {},
     "output_type": "display_data"
    },
    {
     "data": {
      "text/plain": [
       "<Figure size 800x600 with 0 Axes>"
      ]
     },
     "metadata": {},
     "output_type": "display_data"
    },
    {
     "data": {
      "text/plain": [
       "<Figure size 800x600 with 0 Axes>"
      ]
     },
     "metadata": {},
     "output_type": "display_data"
    },
    {
     "data": {
      "text/plain": [
       "<Figure size 800x600 with 0 Axes>"
      ]
     },
     "metadata": {},
     "output_type": "display_data"
    },
    {
     "data": {
      "text/plain": [
       "<Figure size 800x600 with 0 Axes>"
      ]
     },
     "metadata": {},
     "output_type": "display_data"
    },
    {
     "data": {
      "text/plain": [
       "<Figure size 800x600 with 0 Axes>"
      ]
     },
     "metadata": {},
     "output_type": "display_data"
    },
    {
     "data": {
      "text/plain": [
       "<Figure size 800x600 with 0 Axes>"
      ]
     },
     "metadata": {},
     "output_type": "display_data"
    },
    {
     "data": {
      "text/plain": [
       "<Figure size 800x600 with 0 Axes>"
      ]
     },
     "metadata": {},
     "output_type": "display_data"
    },
    {
     "data": {
      "text/plain": [
       "<Figure size 800x600 with 0 Axes>"
      ]
     },
     "metadata": {},
     "output_type": "display_data"
    },
    {
     "data": {
      "text/plain": [
       "<Figure size 800x600 with 0 Axes>"
      ]
     },
     "metadata": {},
     "output_type": "display_data"
    },
    {
     "data": {
      "text/plain": [
       "<Figure size 800x600 with 0 Axes>"
      ]
     },
     "metadata": {},
     "output_type": "display_data"
    },
    {
     "data": {
      "text/plain": [
       "<Figure size 800x600 with 0 Axes>"
      ]
     },
     "metadata": {},
     "output_type": "display_data"
    },
    {
     "data": {
      "text/plain": [
       "<Figure size 800x600 with 0 Axes>"
      ]
     },
     "metadata": {},
     "output_type": "display_data"
    },
    {
     "data": {
      "text/plain": [
       "<Figure size 800x600 with 0 Axes>"
      ]
     },
     "metadata": {},
     "output_type": "display_data"
    },
    {
     "data": {
      "text/plain": [
       "<Figure size 800x600 with 0 Axes>"
      ]
     },
     "metadata": {},
     "output_type": "display_data"
    },
    {
     "data": {
      "text/plain": [
       "<Figure size 800x600 with 0 Axes>"
      ]
     },
     "metadata": {},
     "output_type": "display_data"
    },
    {
     "data": {
      "text/plain": [
       "<Figure size 800x600 with 0 Axes>"
      ]
     },
     "metadata": {},
     "output_type": "display_data"
    },
    {
     "data": {
      "text/plain": [
       "<Figure size 800x600 with 0 Axes>"
      ]
     },
     "metadata": {},
     "output_type": "display_data"
    },
    {
     "data": {
      "text/plain": [
       "<Figure size 800x600 with 0 Axes>"
      ]
     },
     "metadata": {},
     "output_type": "display_data"
    },
    {
     "data": {
      "text/plain": [
       "<Figure size 800x600 with 0 Axes>"
      ]
     },
     "metadata": {},
     "output_type": "display_data"
    },
    {
     "data": {
      "text/plain": [
       "<Figure size 800x600 with 0 Axes>"
      ]
     },
     "metadata": {},
     "output_type": "display_data"
    },
    {
     "data": {
      "text/plain": [
       "<Figure size 800x600 with 0 Axes>"
      ]
     },
     "metadata": {},
     "output_type": "display_data"
    },
    {
     "data": {
      "text/plain": [
       "<Figure size 800x600 with 0 Axes>"
      ]
     },
     "metadata": {},
     "output_type": "display_data"
    },
    {
     "data": {
      "text/plain": [
       "<Figure size 800x600 with 0 Axes>"
      ]
     },
     "metadata": {},
     "output_type": "display_data"
    },
    {
     "data": {
      "text/plain": [
       "<Figure size 800x600 with 0 Axes>"
      ]
     },
     "metadata": {},
     "output_type": "display_data"
    },
    {
     "data": {
      "text/plain": [
       "<Figure size 800x600 with 0 Axes>"
      ]
     },
     "metadata": {},
     "output_type": "display_data"
    },
    {
     "data": {
      "text/plain": [
       "<Figure size 800x600 with 0 Axes>"
      ]
     },
     "metadata": {},
     "output_type": "display_data"
    },
    {
     "data": {
      "text/plain": [
       "<Figure size 800x600 with 0 Axes>"
      ]
     },
     "metadata": {},
     "output_type": "display_data"
    },
    {
     "data": {
      "text/plain": [
       "<Figure size 800x600 with 0 Axes>"
      ]
     },
     "metadata": {},
     "output_type": "display_data"
    },
    {
     "data": {
      "text/plain": [
       "<Figure size 800x600 with 0 Axes>"
      ]
     },
     "metadata": {},
     "output_type": "display_data"
    },
    {
     "data": {
      "text/plain": [
       "<Figure size 800x600 with 0 Axes>"
      ]
     },
     "metadata": {},
     "output_type": "display_data"
    },
    {
     "data": {
      "text/plain": [
       "<Figure size 800x600 with 0 Axes>"
      ]
     },
     "metadata": {},
     "output_type": "display_data"
    },
    {
     "data": {
      "text/plain": [
       "<Figure size 800x600 with 0 Axes>"
      ]
     },
     "metadata": {},
     "output_type": "display_data"
    },
    {
     "data": {
      "text/plain": [
       "<Figure size 800x600 with 0 Axes>"
      ]
     },
     "metadata": {},
     "output_type": "display_data"
    },
    {
     "data": {
      "text/plain": [
       "<Figure size 800x600 with 0 Axes>"
      ]
     },
     "metadata": {},
     "output_type": "display_data"
    },
    {
     "data": {
      "text/plain": [
       "<Figure size 800x600 with 0 Axes>"
      ]
     },
     "metadata": {},
     "output_type": "display_data"
    },
    {
     "data": {
      "text/plain": [
       "<Figure size 800x600 with 0 Axes>"
      ]
     },
     "metadata": {},
     "output_type": "display_data"
    },
    {
     "data": {
      "text/plain": [
       "<Figure size 800x600 with 0 Axes>"
      ]
     },
     "metadata": {},
     "output_type": "display_data"
    },
    {
     "data": {
      "text/plain": [
       "<Figure size 800x600 with 0 Axes>"
      ]
     },
     "metadata": {},
     "output_type": "display_data"
    },
    {
     "data": {
      "text/plain": [
       "<Figure size 800x600 with 0 Axes>"
      ]
     },
     "metadata": {},
     "output_type": "display_data"
    },
    {
     "data": {
      "text/plain": [
       "<Figure size 800x600 with 0 Axes>"
      ]
     },
     "metadata": {},
     "output_type": "display_data"
    },
    {
     "data": {
      "text/plain": [
       "<Figure size 800x600 with 0 Axes>"
      ]
     },
     "metadata": {},
     "output_type": "display_data"
    },
    {
     "data": {
      "text/plain": [
       "<Figure size 800x600 with 0 Axes>"
      ]
     },
     "metadata": {},
     "output_type": "display_data"
    },
    {
     "data": {
      "text/plain": [
       "<Figure size 800x600 with 0 Axes>"
      ]
     },
     "metadata": {},
     "output_type": "display_data"
    },
    {
     "data": {
      "text/plain": [
       "<Figure size 800x600 with 0 Axes>"
      ]
     },
     "metadata": {},
     "output_type": "display_data"
    },
    {
     "data": {
      "text/plain": [
       "<Figure size 800x600 with 0 Axes>"
      ]
     },
     "metadata": {},
     "output_type": "display_data"
    },
    {
     "data": {
      "text/plain": [
       "<Figure size 800x600 with 0 Axes>"
      ]
     },
     "metadata": {},
     "output_type": "display_data"
    },
    {
     "data": {
      "text/plain": [
       "<Figure size 800x600 with 0 Axes>"
      ]
     },
     "metadata": {},
     "output_type": "display_data"
    },
    {
     "data": {
      "text/plain": [
       "<Figure size 800x600 with 0 Axes>"
      ]
     },
     "metadata": {},
     "output_type": "display_data"
    },
    {
     "data": {
      "text/plain": [
       "<Figure size 800x600 with 0 Axes>"
      ]
     },
     "metadata": {},
     "output_type": "display_data"
    },
    {
     "data": {
      "text/plain": [
       "<Figure size 800x600 with 0 Axes>"
      ]
     },
     "metadata": {},
     "output_type": "display_data"
    },
    {
     "data": {
      "text/plain": [
       "<Figure size 800x600 with 0 Axes>"
      ]
     },
     "metadata": {},
     "output_type": "display_data"
    },
    {
     "data": {
      "text/plain": [
       "<Figure size 800x600 with 0 Axes>"
      ]
     },
     "metadata": {},
     "output_type": "display_data"
    },
    {
     "data": {
      "text/plain": [
       "<Figure size 800x600 with 0 Axes>"
      ]
     },
     "metadata": {},
     "output_type": "display_data"
    },
    {
     "data": {
      "text/plain": [
       "<Figure size 800x600 with 0 Axes>"
      ]
     },
     "metadata": {},
     "output_type": "display_data"
    },
    {
     "data": {
      "text/plain": [
       "<Figure size 800x600 with 0 Axes>"
      ]
     },
     "metadata": {},
     "output_type": "display_data"
    },
    {
     "data": {
      "text/plain": [
       "<Figure size 800x600 with 0 Axes>"
      ]
     },
     "metadata": {},
     "output_type": "display_data"
    },
    {
     "data": {
      "text/plain": [
       "<Figure size 800x600 with 0 Axes>"
      ]
     },
     "metadata": {},
     "output_type": "display_data"
    },
    {
     "data": {
      "text/plain": [
       "<Figure size 800x600 with 0 Axes>"
      ]
     },
     "metadata": {},
     "output_type": "display_data"
    },
    {
     "data": {
      "text/plain": [
       "<Figure size 800x600 with 0 Axes>"
      ]
     },
     "metadata": {},
     "output_type": "display_data"
    },
    {
     "data": {
      "text/plain": [
       "<Figure size 800x600 with 0 Axes>"
      ]
     },
     "metadata": {},
     "output_type": "display_data"
    },
    {
     "data": {
      "text/plain": [
       "<Figure size 800x600 with 0 Axes>"
      ]
     },
     "metadata": {},
     "output_type": "display_data"
    },
    {
     "data": {
      "text/plain": [
       "<Figure size 800x600 with 0 Axes>"
      ]
     },
     "metadata": {},
     "output_type": "display_data"
    },
    {
     "data": {
      "text/plain": [
       "<Figure size 800x600 with 0 Axes>"
      ]
     },
     "metadata": {},
     "output_type": "display_data"
    },
    {
     "data": {
      "text/plain": [
       "<Figure size 800x600 with 0 Axes>"
      ]
     },
     "metadata": {},
     "output_type": "display_data"
    },
    {
     "data": {
      "text/plain": [
       "<Figure size 800x600 with 0 Axes>"
      ]
     },
     "metadata": {},
     "output_type": "display_data"
    },
    {
     "data": {
      "text/plain": [
       "<Figure size 800x600 with 0 Axes>"
      ]
     },
     "metadata": {},
     "output_type": "display_data"
    },
    {
     "data": {
      "text/plain": [
       "<Figure size 800x600 with 0 Axes>"
      ]
     },
     "metadata": {},
     "output_type": "display_data"
    },
    {
     "data": {
      "text/plain": [
       "<Figure size 800x600 with 0 Axes>"
      ]
     },
     "metadata": {},
     "output_type": "display_data"
    },
    {
     "data": {
      "text/plain": [
       "<Figure size 800x600 with 0 Axes>"
      ]
     },
     "metadata": {},
     "output_type": "display_data"
    },
    {
     "data": {
      "text/plain": [
       "<Figure size 800x600 with 0 Axes>"
      ]
     },
     "metadata": {},
     "output_type": "display_data"
    },
    {
     "data": {
      "text/plain": [
       "<Figure size 800x600 with 0 Axes>"
      ]
     },
     "metadata": {},
     "output_type": "display_data"
    },
    {
     "data": {
      "text/plain": [
       "<Figure size 800x600 with 0 Axes>"
      ]
     },
     "metadata": {},
     "output_type": "display_data"
    },
    {
     "data": {
      "text/plain": [
       "<Figure size 800x600 with 0 Axes>"
      ]
     },
     "metadata": {},
     "output_type": "display_data"
    },
    {
     "data": {
      "text/plain": [
       "<Figure size 800x600 with 0 Axes>"
      ]
     },
     "metadata": {},
     "output_type": "display_data"
    },
    {
     "data": {
      "text/plain": [
       "<Figure size 800x600 with 0 Axes>"
      ]
     },
     "metadata": {},
     "output_type": "display_data"
    },
    {
     "data": {
      "text/plain": [
       "<Figure size 800x600 with 0 Axes>"
      ]
     },
     "metadata": {},
     "output_type": "display_data"
    },
    {
     "data": {
      "text/plain": [
       "<Figure size 800x600 with 0 Axes>"
      ]
     },
     "metadata": {},
     "output_type": "display_data"
    },
    {
     "data": {
      "text/plain": [
       "<Figure size 800x600 with 0 Axes>"
      ]
     },
     "metadata": {},
     "output_type": "display_data"
    },
    {
     "data": {
      "text/plain": [
       "<Figure size 800x600 with 0 Axes>"
      ]
     },
     "metadata": {},
     "output_type": "display_data"
    },
    {
     "data": {
      "text/plain": [
       "<Figure size 800x600 with 0 Axes>"
      ]
     },
     "metadata": {},
     "output_type": "display_data"
    },
    {
     "data": {
      "text/plain": [
       "<Figure size 800x600 with 0 Axes>"
      ]
     },
     "metadata": {},
     "output_type": "display_data"
    },
    {
     "data": {
      "text/plain": [
       "<Figure size 800x600 with 0 Axes>"
      ]
     },
     "metadata": {},
     "output_type": "display_data"
    },
    {
     "data": {
      "text/plain": [
       "<Figure size 800x600 with 0 Axes>"
      ]
     },
     "metadata": {},
     "output_type": "display_data"
    },
    {
     "data": {
      "text/plain": [
       "<Figure size 800x600 with 0 Axes>"
      ]
     },
     "metadata": {},
     "output_type": "display_data"
    },
    {
     "data": {
      "text/plain": [
       "<Figure size 800x600 with 0 Axes>"
      ]
     },
     "metadata": {},
     "output_type": "display_data"
    },
    {
     "data": {
      "text/plain": [
       "<Figure size 800x600 with 0 Axes>"
      ]
     },
     "metadata": {},
     "output_type": "display_data"
    },
    {
     "data": {
      "text/plain": [
       "<Figure size 800x600 with 0 Axes>"
      ]
     },
     "metadata": {},
     "output_type": "display_data"
    },
    {
     "data": {
      "text/plain": [
       "<Figure size 800x600 with 0 Axes>"
      ]
     },
     "metadata": {},
     "output_type": "display_data"
    },
    {
     "data": {
      "text/plain": [
       "<Figure size 800x600 with 0 Axes>"
      ]
     },
     "metadata": {},
     "output_type": "display_data"
    },
    {
     "data": {
      "text/plain": [
       "<Figure size 800x600 with 0 Axes>"
      ]
     },
     "metadata": {},
     "output_type": "display_data"
    },
    {
     "data": {
      "text/plain": [
       "<Figure size 800x600 with 0 Axes>"
      ]
     },
     "metadata": {},
     "output_type": "display_data"
    },
    {
     "data": {
      "text/plain": [
       "<Figure size 800x600 with 0 Axes>"
      ]
     },
     "metadata": {},
     "output_type": "display_data"
    },
    {
     "data": {
      "text/plain": [
       "<Figure size 800x600 with 0 Axes>"
      ]
     },
     "metadata": {},
     "output_type": "display_data"
    },
    {
     "data": {
      "text/plain": [
       "<Figure size 800x600 with 0 Axes>"
      ]
     },
     "metadata": {},
     "output_type": "display_data"
    },
    {
     "data": {
      "text/plain": [
       "<Figure size 800x600 with 0 Axes>"
      ]
     },
     "metadata": {},
     "output_type": "display_data"
    },
    {
     "data": {
      "text/plain": [
       "<Figure size 800x600 with 0 Axes>"
      ]
     },
     "metadata": {},
     "output_type": "display_data"
    },
    {
     "data": {
      "text/plain": [
       "<Figure size 800x600 with 0 Axes>"
      ]
     },
     "metadata": {},
     "output_type": "display_data"
    },
    {
     "data": {
      "text/plain": [
       "<Figure size 800x600 with 0 Axes>"
      ]
     },
     "metadata": {},
     "output_type": "display_data"
    },
    {
     "data": {
      "text/plain": [
       "<Figure size 800x600 with 0 Axes>"
      ]
     },
     "metadata": {},
     "output_type": "display_data"
    },
    {
     "data": {
      "text/plain": [
       "<Figure size 800x600 with 0 Axes>"
      ]
     },
     "metadata": {},
     "output_type": "display_data"
    },
    {
     "data": {
      "text/plain": [
       "<Figure size 800x600 with 0 Axes>"
      ]
     },
     "metadata": {},
     "output_type": "display_data"
    },
    {
     "data": {
      "text/plain": [
       "<Figure size 800x600 with 0 Axes>"
      ]
     },
     "metadata": {},
     "output_type": "display_data"
    },
    {
     "data": {
      "text/plain": [
       "<Figure size 800x600 with 0 Axes>"
      ]
     },
     "metadata": {},
     "output_type": "display_data"
    },
    {
     "data": {
      "text/plain": [
       "<Figure size 800x600 with 0 Axes>"
      ]
     },
     "metadata": {},
     "output_type": "display_data"
    },
    {
     "data": {
      "text/plain": [
       "<Figure size 800x600 with 0 Axes>"
      ]
     },
     "metadata": {},
     "output_type": "display_data"
    },
    {
     "data": {
      "text/plain": [
       "<Figure size 800x600 with 0 Axes>"
      ]
     },
     "metadata": {},
     "output_type": "display_data"
    },
    {
     "data": {
      "text/plain": [
       "<Figure size 800x600 with 0 Axes>"
      ]
     },
     "metadata": {},
     "output_type": "display_data"
    },
    {
     "data": {
      "text/plain": [
       "<Figure size 800x600 with 0 Axes>"
      ]
     },
     "metadata": {},
     "output_type": "display_data"
    },
    {
     "data": {
      "text/plain": [
       "<Figure size 800x600 with 0 Axes>"
      ]
     },
     "metadata": {},
     "output_type": "display_data"
    },
    {
     "data": {
      "text/plain": [
       "<Figure size 800x600 with 0 Axes>"
      ]
     },
     "metadata": {},
     "output_type": "display_data"
    },
    {
     "data": {
      "text/plain": [
       "<Figure size 800x600 with 0 Axes>"
      ]
     },
     "metadata": {},
     "output_type": "display_data"
    },
    {
     "data": {
      "text/plain": [
       "<Figure size 800x600 with 0 Axes>"
      ]
     },
     "metadata": {},
     "output_type": "display_data"
    },
    {
     "data": {
      "text/plain": [
       "<Figure size 800x600 with 0 Axes>"
      ]
     },
     "metadata": {},
     "output_type": "display_data"
    },
    {
     "data": {
      "text/plain": [
       "<Figure size 800x600 with 0 Axes>"
      ]
     },
     "metadata": {},
     "output_type": "display_data"
    },
    {
     "data": {
      "text/plain": [
       "<Figure size 800x600 with 0 Axes>"
      ]
     },
     "metadata": {},
     "output_type": "display_data"
    },
    {
     "data": {
      "text/plain": [
       "<Figure size 800x600 with 0 Axes>"
      ]
     },
     "metadata": {},
     "output_type": "display_data"
    },
    {
     "data": {
      "text/plain": [
       "<Figure size 800x600 with 0 Axes>"
      ]
     },
     "metadata": {},
     "output_type": "display_data"
    },
    {
     "data": {
      "text/plain": [
       "<Figure size 800x600 with 0 Axes>"
      ]
     },
     "metadata": {},
     "output_type": "display_data"
    },
    {
     "data": {
      "text/plain": [
       "<Figure size 800x600 with 0 Axes>"
      ]
     },
     "metadata": {},
     "output_type": "display_data"
    },
    {
     "data": {
      "text/plain": [
       "<Figure size 800x600 with 0 Axes>"
      ]
     },
     "metadata": {},
     "output_type": "display_data"
    },
    {
     "data": {
      "text/plain": [
       "<Figure size 800x600 with 0 Axes>"
      ]
     },
     "metadata": {},
     "output_type": "display_data"
    },
    {
     "data": {
      "text/plain": [
       "<Figure size 800x600 with 0 Axes>"
      ]
     },
     "metadata": {},
     "output_type": "display_data"
    },
    {
     "data": {
      "text/plain": [
       "<Figure size 800x600 with 0 Axes>"
      ]
     },
     "metadata": {},
     "output_type": "display_data"
    },
    {
     "data": {
      "text/plain": [
       "<Figure size 800x600 with 0 Axes>"
      ]
     },
     "metadata": {},
     "output_type": "display_data"
    },
    {
     "data": {
      "text/plain": [
       "<Figure size 800x600 with 0 Axes>"
      ]
     },
     "metadata": {},
     "output_type": "display_data"
    },
    {
     "data": {
      "text/plain": [
       "<Figure size 800x600 with 0 Axes>"
      ]
     },
     "metadata": {},
     "output_type": "display_data"
    },
    {
     "data": {
      "text/plain": [
       "<Figure size 800x600 with 0 Axes>"
      ]
     },
     "metadata": {},
     "output_type": "display_data"
    },
    {
     "data": {
      "text/plain": [
       "<Figure size 800x600 with 0 Axes>"
      ]
     },
     "metadata": {},
     "output_type": "display_data"
    },
    {
     "data": {
      "text/plain": [
       "<Figure size 800x600 with 0 Axes>"
      ]
     },
     "metadata": {},
     "output_type": "display_data"
    },
    {
     "data": {
      "text/plain": [
       "<Figure size 800x600 with 0 Axes>"
      ]
     },
     "metadata": {},
     "output_type": "display_data"
    },
    {
     "data": {
      "text/plain": [
       "<Figure size 800x600 with 0 Axes>"
      ]
     },
     "metadata": {},
     "output_type": "display_data"
    },
    {
     "data": {
      "text/plain": [
       "<Figure size 800x600 with 0 Axes>"
      ]
     },
     "metadata": {},
     "output_type": "display_data"
    },
    {
     "data": {
      "text/plain": [
       "<Figure size 800x600 with 0 Axes>"
      ]
     },
     "metadata": {},
     "output_type": "display_data"
    },
    {
     "data": {
      "text/plain": [
       "<Figure size 800x600 with 0 Axes>"
      ]
     },
     "metadata": {},
     "output_type": "display_data"
    },
    {
     "data": {
      "text/plain": [
       "<Figure size 800x600 with 0 Axes>"
      ]
     },
     "metadata": {},
     "output_type": "display_data"
    },
    {
     "data": {
      "text/plain": [
       "<Figure size 800x600 with 0 Axes>"
      ]
     },
     "metadata": {},
     "output_type": "display_data"
    },
    {
     "data": {
      "text/plain": [
       "<Figure size 800x600 with 0 Axes>"
      ]
     },
     "metadata": {},
     "output_type": "display_data"
    },
    {
     "data": {
      "text/plain": [
       "<Figure size 800x600 with 0 Axes>"
      ]
     },
     "metadata": {},
     "output_type": "display_data"
    },
    {
     "data": {
      "text/plain": [
       "<Figure size 800x600 with 0 Axes>"
      ]
     },
     "metadata": {},
     "output_type": "display_data"
    },
    {
     "data": {
      "text/plain": [
       "<Figure size 800x600 with 0 Axes>"
      ]
     },
     "metadata": {},
     "output_type": "display_data"
    },
    {
     "data": {
      "text/plain": [
       "<Figure size 800x600 with 0 Axes>"
      ]
     },
     "metadata": {},
     "output_type": "display_data"
    },
    {
     "data": {
      "text/plain": [
       "<Figure size 800x600 with 0 Axes>"
      ]
     },
     "metadata": {},
     "output_type": "display_data"
    },
    {
     "data": {
      "text/plain": [
       "<Figure size 800x600 with 0 Axes>"
      ]
     },
     "metadata": {},
     "output_type": "display_data"
    },
    {
     "data": {
      "text/plain": [
       "<Figure size 800x600 with 0 Axes>"
      ]
     },
     "metadata": {},
     "output_type": "display_data"
    },
    {
     "data": {
      "text/plain": [
       "<Figure size 800x600 with 0 Axes>"
      ]
     },
     "metadata": {},
     "output_type": "display_data"
    },
    {
     "data": {
      "text/plain": [
       "<Figure size 800x600 with 0 Axes>"
      ]
     },
     "metadata": {},
     "output_type": "display_data"
    },
    {
     "data": {
      "text/plain": [
       "<Figure size 800x600 with 0 Axes>"
      ]
     },
     "metadata": {},
     "output_type": "display_data"
    },
    {
     "data": {
      "text/plain": [
       "<Figure size 800x600 with 0 Axes>"
      ]
     },
     "metadata": {},
     "output_type": "display_data"
    },
    {
     "data": {
      "text/plain": [
       "<Figure size 800x600 with 0 Axes>"
      ]
     },
     "metadata": {},
     "output_type": "display_data"
    },
    {
     "data": {
      "text/plain": [
       "<Figure size 800x600 with 0 Axes>"
      ]
     },
     "metadata": {},
     "output_type": "display_data"
    },
    {
     "data": {
      "text/plain": [
       "<Figure size 800x600 with 0 Axes>"
      ]
     },
     "metadata": {},
     "output_type": "display_data"
    },
    {
     "data": {
      "text/plain": [
       "<Figure size 800x600 with 0 Axes>"
      ]
     },
     "metadata": {},
     "output_type": "display_data"
    },
    {
     "data": {
      "text/plain": [
       "<Figure size 800x600 with 0 Axes>"
      ]
     },
     "metadata": {},
     "output_type": "display_data"
    },
    {
     "data": {
      "text/plain": [
       "<Figure size 800x600 with 0 Axes>"
      ]
     },
     "metadata": {},
     "output_type": "display_data"
    },
    {
     "data": {
      "text/plain": [
       "<Figure size 800x600 with 0 Axes>"
      ]
     },
     "metadata": {},
     "output_type": "display_data"
    },
    {
     "data": {
      "text/plain": [
       "<Figure size 800x600 with 0 Axes>"
      ]
     },
     "metadata": {},
     "output_type": "display_data"
    },
    {
     "data": {
      "text/plain": [
       "<Figure size 800x600 with 0 Axes>"
      ]
     },
     "metadata": {},
     "output_type": "display_data"
    },
    {
     "data": {
      "text/plain": [
       "<Figure size 800x600 with 0 Axes>"
      ]
     },
     "metadata": {},
     "output_type": "display_data"
    },
    {
     "data": {
      "text/plain": [
       "<Figure size 800x600 with 0 Axes>"
      ]
     },
     "metadata": {},
     "output_type": "display_data"
    },
    {
     "data": {
      "text/plain": [
       "<Figure size 800x600 with 0 Axes>"
      ]
     },
     "metadata": {},
     "output_type": "display_data"
    },
    {
     "data": {
      "text/plain": [
       "<Figure size 800x600 with 0 Axes>"
      ]
     },
     "metadata": {},
     "output_type": "display_data"
    },
    {
     "data": {
      "text/plain": [
       "<Figure size 800x600 with 0 Axes>"
      ]
     },
     "metadata": {},
     "output_type": "display_data"
    },
    {
     "data": {
      "text/plain": [
       "<Figure size 800x600 with 0 Axes>"
      ]
     },
     "metadata": {},
     "output_type": "display_data"
    },
    {
     "data": {
      "text/plain": [
       "<Figure size 800x600 with 0 Axes>"
      ]
     },
     "metadata": {},
     "output_type": "display_data"
    },
    {
     "data": {
      "text/plain": [
       "<Figure size 800x600 with 0 Axes>"
      ]
     },
     "metadata": {},
     "output_type": "display_data"
    },
    {
     "data": {
      "text/plain": [
       "<Figure size 800x600 with 0 Axes>"
      ]
     },
     "metadata": {},
     "output_type": "display_data"
    },
    {
     "data": {
      "text/plain": [
       "<Figure size 800x600 with 0 Axes>"
      ]
     },
     "metadata": {},
     "output_type": "display_data"
    },
    {
     "data": {
      "text/plain": [
       "<Figure size 800x600 with 0 Axes>"
      ]
     },
     "metadata": {},
     "output_type": "display_data"
    },
    {
     "data": {
      "text/plain": [
       "<Figure size 800x600 with 0 Axes>"
      ]
     },
     "metadata": {},
     "output_type": "display_data"
    },
    {
     "data": {
      "text/plain": [
       "<Figure size 800x600 with 0 Axes>"
      ]
     },
     "metadata": {},
     "output_type": "display_data"
    },
    {
     "data": {
      "text/plain": [
       "<Figure size 800x600 with 0 Axes>"
      ]
     },
     "metadata": {},
     "output_type": "display_data"
    },
    {
     "data": {
      "text/plain": [
       "<Figure size 800x600 with 0 Axes>"
      ]
     },
     "metadata": {},
     "output_type": "display_data"
    },
    {
     "data": {
      "text/plain": [
       "<Figure size 800x600 with 0 Axes>"
      ]
     },
     "metadata": {},
     "output_type": "display_data"
    },
    {
     "data": {
      "text/plain": [
       "<Figure size 800x600 with 0 Axes>"
      ]
     },
     "metadata": {},
     "output_type": "display_data"
    },
    {
     "data": {
      "text/plain": [
       "<Figure size 800x600 with 0 Axes>"
      ]
     },
     "metadata": {},
     "output_type": "display_data"
    },
    {
     "data": {
      "text/plain": [
       "<Figure size 800x600 with 0 Axes>"
      ]
     },
     "metadata": {},
     "output_type": "display_data"
    },
    {
     "data": {
      "text/plain": [
       "<Figure size 800x600 with 0 Axes>"
      ]
     },
     "metadata": {},
     "output_type": "display_data"
    },
    {
     "data": {
      "text/plain": [
       "<Figure size 800x600 with 0 Axes>"
      ]
     },
     "metadata": {},
     "output_type": "display_data"
    },
    {
     "data": {
      "text/plain": [
       "<Figure size 800x600 with 0 Axes>"
      ]
     },
     "metadata": {},
     "output_type": "display_data"
    },
    {
     "data": {
      "text/plain": [
       "<Figure size 800x600 with 0 Axes>"
      ]
     },
     "metadata": {},
     "output_type": "display_data"
    },
    {
     "data": {
      "text/plain": [
       "<Figure size 800x600 with 0 Axes>"
      ]
     },
     "metadata": {},
     "output_type": "display_data"
    },
    {
     "data": {
      "text/plain": [
       "<Figure size 800x600 with 0 Axes>"
      ]
     },
     "metadata": {},
     "output_type": "display_data"
    },
    {
     "data": {
      "text/plain": [
       "<Figure size 800x600 with 0 Axes>"
      ]
     },
     "metadata": {},
     "output_type": "display_data"
    },
    {
     "data": {
      "text/plain": [
       "<Figure size 800x600 with 0 Axes>"
      ]
     },
     "metadata": {},
     "output_type": "display_data"
    },
    {
     "data": {
      "text/plain": [
       "<Figure size 800x600 with 0 Axes>"
      ]
     },
     "metadata": {},
     "output_type": "display_data"
    },
    {
     "data": {
      "text/plain": [
       "<Figure size 800x600 with 0 Axes>"
      ]
     },
     "metadata": {},
     "output_type": "display_data"
    },
    {
     "data": {
      "text/plain": [
       "<Figure size 800x600 with 0 Axes>"
      ]
     },
     "metadata": {},
     "output_type": "display_data"
    },
    {
     "data": {
      "text/plain": [
       "<Figure size 800x600 with 0 Axes>"
      ]
     },
     "metadata": {},
     "output_type": "display_data"
    },
    {
     "data": {
      "text/plain": [
       "<Figure size 800x600 with 0 Axes>"
      ]
     },
     "metadata": {},
     "output_type": "display_data"
    },
    {
     "data": {
      "text/plain": [
       "<Figure size 800x600 with 0 Axes>"
      ]
     },
     "metadata": {},
     "output_type": "display_data"
    },
    {
     "data": {
      "text/plain": [
       "<Figure size 800x600 with 0 Axes>"
      ]
     },
     "metadata": {},
     "output_type": "display_data"
    },
    {
     "data": {
      "text/plain": [
       "<Figure size 800x600 with 0 Axes>"
      ]
     },
     "metadata": {},
     "output_type": "display_data"
    },
    {
     "data": {
      "text/plain": [
       "<Figure size 800x600 with 0 Axes>"
      ]
     },
     "metadata": {},
     "output_type": "display_data"
    },
    {
     "data": {
      "text/plain": [
       "<Figure size 800x600 with 0 Axes>"
      ]
     },
     "metadata": {},
     "output_type": "display_data"
    },
    {
     "data": {
      "text/plain": [
       "<Figure size 800x600 with 0 Axes>"
      ]
     },
     "metadata": {},
     "output_type": "display_data"
    },
    {
     "data": {
      "text/plain": [
       "<Figure size 800x600 with 0 Axes>"
      ]
     },
     "metadata": {},
     "output_type": "display_data"
    },
    {
     "data": {
      "text/plain": [
       "<Figure size 800x600 with 0 Axes>"
      ]
     },
     "metadata": {},
     "output_type": "display_data"
    },
    {
     "data": {
      "text/plain": [
       "<Figure size 800x600 with 0 Axes>"
      ]
     },
     "metadata": {},
     "output_type": "display_data"
    },
    {
     "data": {
      "text/plain": [
       "<Figure size 800x600 with 0 Axes>"
      ]
     },
     "metadata": {},
     "output_type": "display_data"
    },
    {
     "data": {
      "text/plain": [
       "<Figure size 800x600 with 0 Axes>"
      ]
     },
     "metadata": {},
     "output_type": "display_data"
    },
    {
     "data": {
      "text/plain": [
       "<Figure size 800x600 with 0 Axes>"
      ]
     },
     "metadata": {},
     "output_type": "display_data"
    },
    {
     "data": {
      "text/plain": [
       "<Figure size 800x600 with 0 Axes>"
      ]
     },
     "metadata": {},
     "output_type": "display_data"
    },
    {
     "data": {
      "text/plain": [
       "<Figure size 800x600 with 0 Axes>"
      ]
     },
     "metadata": {},
     "output_type": "display_data"
    },
    {
     "data": {
      "text/plain": [
       "<Figure size 800x600 with 0 Axes>"
      ]
     },
     "metadata": {},
     "output_type": "display_data"
    },
    {
     "data": {
      "text/plain": [
       "<Figure size 800x600 with 0 Axes>"
      ]
     },
     "metadata": {},
     "output_type": "display_data"
    },
    {
     "data": {
      "text/plain": [
       "<Figure size 800x600 with 0 Axes>"
      ]
     },
     "metadata": {},
     "output_type": "display_data"
    },
    {
     "data": {
      "text/plain": [
       "<Figure size 800x600 with 0 Axes>"
      ]
     },
     "metadata": {},
     "output_type": "display_data"
    },
    {
     "data": {
      "text/plain": [
       "<Figure size 800x600 with 0 Axes>"
      ]
     },
     "metadata": {},
     "output_type": "display_data"
    },
    {
     "data": {
      "text/plain": [
       "<Figure size 800x600 with 0 Axes>"
      ]
     },
     "metadata": {},
     "output_type": "display_data"
    },
    {
     "data": {
      "text/plain": [
       "<Figure size 800x600 with 0 Axes>"
      ]
     },
     "metadata": {},
     "output_type": "display_data"
    },
    {
     "data": {
      "text/plain": [
       "<Figure size 800x600 with 0 Axes>"
      ]
     },
     "metadata": {},
     "output_type": "display_data"
    },
    {
     "data": {
      "text/plain": [
       "<Figure size 800x600 with 0 Axes>"
      ]
     },
     "metadata": {},
     "output_type": "display_data"
    },
    {
     "data": {
      "text/plain": [
       "<Figure size 800x600 with 0 Axes>"
      ]
     },
     "metadata": {},
     "output_type": "display_data"
    },
    {
     "data": {
      "text/plain": [
       "<Figure size 800x600 with 0 Axes>"
      ]
     },
     "metadata": {},
     "output_type": "display_data"
    },
    {
     "data": {
      "text/plain": [
       "<Figure size 800x600 with 0 Axes>"
      ]
     },
     "metadata": {},
     "output_type": "display_data"
    },
    {
     "data": {
      "text/plain": [
       "<Figure size 800x600 with 0 Axes>"
      ]
     },
     "metadata": {},
     "output_type": "display_data"
    },
    {
     "data": {
      "text/plain": [
       "<Figure size 800x600 with 0 Axes>"
      ]
     },
     "metadata": {},
     "output_type": "display_data"
    },
    {
     "data": {
      "text/plain": [
       "<Figure size 800x600 with 0 Axes>"
      ]
     },
     "metadata": {},
     "output_type": "display_data"
    },
    {
     "data": {
      "text/plain": [
       "<Figure size 800x600 with 0 Axes>"
      ]
     },
     "metadata": {},
     "output_type": "display_data"
    },
    {
     "data": {
      "text/plain": [
       "<Figure size 800x600 with 0 Axes>"
      ]
     },
     "metadata": {},
     "output_type": "display_data"
    },
    {
     "data": {
      "text/plain": [
       "<Figure size 800x600 with 0 Axes>"
      ]
     },
     "metadata": {},
     "output_type": "display_data"
    },
    {
     "data": {
      "text/plain": [
       "<Figure size 800x600 with 0 Axes>"
      ]
     },
     "metadata": {},
     "output_type": "display_data"
    },
    {
     "data": {
      "text/plain": [
       "<Figure size 800x600 with 0 Axes>"
      ]
     },
     "metadata": {},
     "output_type": "display_data"
    },
    {
     "data": {
      "text/plain": [
       "<Figure size 800x600 with 0 Axes>"
      ]
     },
     "metadata": {},
     "output_type": "display_data"
    },
    {
     "data": {
      "text/plain": [
       "<Figure size 800x600 with 0 Axes>"
      ]
     },
     "metadata": {},
     "output_type": "display_data"
    },
    {
     "data": {
      "text/plain": [
       "<Figure size 800x600 with 0 Axes>"
      ]
     },
     "metadata": {},
     "output_type": "display_data"
    },
    {
     "data": {
      "text/plain": [
       "<Figure size 800x600 with 0 Axes>"
      ]
     },
     "metadata": {},
     "output_type": "display_data"
    },
    {
     "data": {
      "text/plain": [
       "<Figure size 800x600 with 0 Axes>"
      ]
     },
     "metadata": {},
     "output_type": "display_data"
    },
    {
     "data": {
      "text/plain": [
       "<Figure size 800x600 with 0 Axes>"
      ]
     },
     "metadata": {},
     "output_type": "display_data"
    },
    {
     "data": {
      "text/plain": [
       "<Figure size 800x600 with 0 Axes>"
      ]
     },
     "metadata": {},
     "output_type": "display_data"
    },
    {
     "data": {
      "text/plain": [
       "<Figure size 800x600 with 0 Axes>"
      ]
     },
     "metadata": {},
     "output_type": "display_data"
    },
    {
     "data": {
      "text/plain": [
       "<Figure size 800x600 with 0 Axes>"
      ]
     },
     "metadata": {},
     "output_type": "display_data"
    },
    {
     "data": {
      "text/plain": [
       "<Figure size 800x600 with 0 Axes>"
      ]
     },
     "metadata": {},
     "output_type": "display_data"
    },
    {
     "data": {
      "text/plain": [
       "<Figure size 800x600 with 0 Axes>"
      ]
     },
     "metadata": {},
     "output_type": "display_data"
    },
    {
     "data": {
      "text/plain": [
       "<Figure size 800x600 with 0 Axes>"
      ]
     },
     "metadata": {},
     "output_type": "display_data"
    },
    {
     "data": {
      "text/plain": [
       "<Figure size 800x600 with 0 Axes>"
      ]
     },
     "metadata": {},
     "output_type": "display_data"
    },
    {
     "data": {
      "text/plain": [
       "<Figure size 800x600 with 0 Axes>"
      ]
     },
     "metadata": {},
     "output_type": "display_data"
    },
    {
     "data": {
      "text/plain": [
       "<Figure size 800x600 with 0 Axes>"
      ]
     },
     "metadata": {},
     "output_type": "display_data"
    },
    {
     "data": {
      "text/plain": [
       "<Figure size 800x600 with 0 Axes>"
      ]
     },
     "metadata": {},
     "output_type": "display_data"
    },
    {
     "data": {
      "text/plain": [
       "<Figure size 800x600 with 0 Axes>"
      ]
     },
     "metadata": {},
     "output_type": "display_data"
    },
    {
     "data": {
      "text/plain": [
       "<Figure size 800x600 with 0 Axes>"
      ]
     },
     "metadata": {},
     "output_type": "display_data"
    },
    {
     "data": {
      "text/plain": [
       "<Figure size 800x600 with 0 Axes>"
      ]
     },
     "metadata": {},
     "output_type": "display_data"
    },
    {
     "data": {
      "text/plain": [
       "<Figure size 800x600 with 0 Axes>"
      ]
     },
     "metadata": {},
     "output_type": "display_data"
    },
    {
     "data": {
      "text/plain": [
       "<Figure size 800x600 with 0 Axes>"
      ]
     },
     "metadata": {},
     "output_type": "display_data"
    },
    {
     "data": {
      "text/plain": [
       "<Figure size 800x600 with 0 Axes>"
      ]
     },
     "metadata": {},
     "output_type": "display_data"
    },
    {
     "data": {
      "text/plain": [
       "<Figure size 800x600 with 0 Axes>"
      ]
     },
     "metadata": {},
     "output_type": "display_data"
    },
    {
     "data": {
      "text/plain": [
       "<Figure size 800x600 with 0 Axes>"
      ]
     },
     "metadata": {},
     "output_type": "display_data"
    },
    {
     "data": {
      "text/plain": [
       "<Figure size 800x600 with 0 Axes>"
      ]
     },
     "metadata": {},
     "output_type": "display_data"
    },
    {
     "data": {
      "text/plain": [
       "<Figure size 800x600 with 0 Axes>"
      ]
     },
     "metadata": {},
     "output_type": "display_data"
    },
    {
     "data": {
      "text/plain": [
       "<Figure size 800x600 with 0 Axes>"
      ]
     },
     "metadata": {},
     "output_type": "display_data"
    },
    {
     "data": {
      "text/plain": [
       "<Figure size 800x600 with 0 Axes>"
      ]
     },
     "metadata": {},
     "output_type": "display_data"
    },
    {
     "data": {
      "text/plain": [
       "<Figure size 800x600 with 0 Axes>"
      ]
     },
     "metadata": {},
     "output_type": "display_data"
    },
    {
     "data": {
      "text/plain": [
       "<Figure size 800x600 with 0 Axes>"
      ]
     },
     "metadata": {},
     "output_type": "display_data"
    },
    {
     "data": {
      "text/plain": [
       "<Figure size 800x600 with 0 Axes>"
      ]
     },
     "metadata": {},
     "output_type": "display_data"
    },
    {
     "data": {
      "text/plain": [
       "<Figure size 800x600 with 0 Axes>"
      ]
     },
     "metadata": {},
     "output_type": "display_data"
    },
    {
     "data": {
      "text/plain": [
       "<Figure size 800x600 with 0 Axes>"
      ]
     },
     "metadata": {},
     "output_type": "display_data"
    },
    {
     "data": {
      "text/plain": [
       "<Figure size 800x600 with 0 Axes>"
      ]
     },
     "metadata": {},
     "output_type": "display_data"
    },
    {
     "data": {
      "text/plain": [
       "<Figure size 800x600 with 0 Axes>"
      ]
     },
     "metadata": {},
     "output_type": "display_data"
    },
    {
     "data": {
      "text/plain": [
       "<Figure size 800x600 with 0 Axes>"
      ]
     },
     "metadata": {},
     "output_type": "display_data"
    },
    {
     "data": {
      "text/plain": [
       "<Figure size 800x600 with 0 Axes>"
      ]
     },
     "metadata": {},
     "output_type": "display_data"
    },
    {
     "data": {
      "text/plain": [
       "<Figure size 800x600 with 0 Axes>"
      ]
     },
     "metadata": {},
     "output_type": "display_data"
    },
    {
     "data": {
      "text/plain": [
       "<Figure size 800x600 with 0 Axes>"
      ]
     },
     "metadata": {},
     "output_type": "display_data"
    },
    {
     "data": {
      "text/plain": [
       "<Figure size 800x600 with 0 Axes>"
      ]
     },
     "metadata": {},
     "output_type": "display_data"
    },
    {
     "data": {
      "text/plain": [
       "<Figure size 800x600 with 0 Axes>"
      ]
     },
     "metadata": {},
     "output_type": "display_data"
    },
    {
     "data": {
      "text/plain": [
       "<Figure size 800x600 with 0 Axes>"
      ]
     },
     "metadata": {},
     "output_type": "display_data"
    },
    {
     "data": {
      "text/plain": [
       "<Figure size 800x600 with 0 Axes>"
      ]
     },
     "metadata": {},
     "output_type": "display_data"
    },
    {
     "data": {
      "text/plain": [
       "<Figure size 800x600 with 0 Axes>"
      ]
     },
     "metadata": {},
     "output_type": "display_data"
    },
    {
     "data": {
      "text/plain": [
       "<Figure size 800x600 with 0 Axes>"
      ]
     },
     "metadata": {},
     "output_type": "display_data"
    },
    {
     "data": {
      "text/plain": [
       "<Figure size 800x600 with 0 Axes>"
      ]
     },
     "metadata": {},
     "output_type": "display_data"
    },
    {
     "data": {
      "text/plain": [
       "<Figure size 800x600 with 0 Axes>"
      ]
     },
     "metadata": {},
     "output_type": "display_data"
    },
    {
     "data": {
      "text/plain": [
       "<Figure size 800x600 with 0 Axes>"
      ]
     },
     "metadata": {},
     "output_type": "display_data"
    },
    {
     "data": {
      "text/plain": [
       "<Figure size 800x600 with 0 Axes>"
      ]
     },
     "metadata": {},
     "output_type": "display_data"
    },
    {
     "data": {
      "text/plain": [
       "<Figure size 800x600 with 0 Axes>"
      ]
     },
     "metadata": {},
     "output_type": "display_data"
    },
    {
     "data": {
      "text/plain": [
       "<Figure size 800x600 with 0 Axes>"
      ]
     },
     "metadata": {},
     "output_type": "display_data"
    },
    {
     "data": {
      "text/plain": [
       "<Figure size 800x600 with 0 Axes>"
      ]
     },
     "metadata": {},
     "output_type": "display_data"
    },
    {
     "data": {
      "text/plain": [
       "<Figure size 800x600 with 0 Axes>"
      ]
     },
     "metadata": {},
     "output_type": "display_data"
    },
    {
     "data": {
      "text/plain": [
       "<Figure size 800x600 with 0 Axes>"
      ]
     },
     "metadata": {},
     "output_type": "display_data"
    },
    {
     "data": {
      "text/plain": [
       "<Figure size 800x600 with 0 Axes>"
      ]
     },
     "metadata": {},
     "output_type": "display_data"
    },
    {
     "data": {
      "text/plain": [
       "<Figure size 800x600 with 0 Axes>"
      ]
     },
     "metadata": {},
     "output_type": "display_data"
    },
    {
     "data": {
      "text/plain": [
       "<Figure size 800x600 with 0 Axes>"
      ]
     },
     "metadata": {},
     "output_type": "display_data"
    },
    {
     "data": {
      "text/plain": [
       "<Figure size 800x600 with 0 Axes>"
      ]
     },
     "metadata": {},
     "output_type": "display_data"
    },
    {
     "data": {
      "text/plain": [
       "<Figure size 800x600 with 0 Axes>"
      ]
     },
     "metadata": {},
     "output_type": "display_data"
    },
    {
     "data": {
      "text/plain": [
       "<Figure size 800x600 with 0 Axes>"
      ]
     },
     "metadata": {},
     "output_type": "display_data"
    },
    {
     "data": {
      "text/plain": [
       "<Figure size 800x600 with 0 Axes>"
      ]
     },
     "metadata": {},
     "output_type": "display_data"
    },
    {
     "data": {
      "text/plain": [
       "<Figure size 800x600 with 0 Axes>"
      ]
     },
     "metadata": {},
     "output_type": "display_data"
    },
    {
     "data": {
      "text/plain": [
       "<Figure size 800x600 with 0 Axes>"
      ]
     },
     "metadata": {},
     "output_type": "display_data"
    },
    {
     "data": {
      "text/plain": [
       "<Figure size 800x600 with 0 Axes>"
      ]
     },
     "metadata": {},
     "output_type": "display_data"
    },
    {
     "data": {
      "text/plain": [
       "<Figure size 800x600 with 0 Axes>"
      ]
     },
     "metadata": {},
     "output_type": "display_data"
    },
    {
     "data": {
      "text/plain": [
       "<Figure size 800x600 with 0 Axes>"
      ]
     },
     "metadata": {},
     "output_type": "display_data"
    },
    {
     "data": {
      "text/plain": [
       "<Figure size 800x600 with 0 Axes>"
      ]
     },
     "metadata": {},
     "output_type": "display_data"
    },
    {
     "data": {
      "text/plain": [
       "<Figure size 800x600 with 0 Axes>"
      ]
     },
     "metadata": {},
     "output_type": "display_data"
    },
    {
     "data": {
      "text/plain": [
       "<Figure size 800x600 with 0 Axes>"
      ]
     },
     "metadata": {},
     "output_type": "display_data"
    },
    {
     "data": {
      "text/plain": [
       "<Figure size 800x600 with 0 Axes>"
      ]
     },
     "metadata": {},
     "output_type": "display_data"
    },
    {
     "data": {
      "text/plain": [
       "<Figure size 800x600 with 0 Axes>"
      ]
     },
     "metadata": {},
     "output_type": "display_data"
    },
    {
     "data": {
      "text/plain": [
       "<Figure size 800x600 with 0 Axes>"
      ]
     },
     "metadata": {},
     "output_type": "display_data"
    },
    {
     "data": {
      "text/plain": [
       "<Figure size 800x600 with 0 Axes>"
      ]
     },
     "metadata": {},
     "output_type": "display_data"
    },
    {
     "data": {
      "text/plain": [
       "<Figure size 800x600 with 0 Axes>"
      ]
     },
     "metadata": {},
     "output_type": "display_data"
    },
    {
     "data": {
      "text/plain": [
       "<Figure size 800x600 with 0 Axes>"
      ]
     },
     "metadata": {},
     "output_type": "display_data"
    },
    {
     "data": {
      "text/plain": [
       "<Figure size 800x600 with 0 Axes>"
      ]
     },
     "metadata": {},
     "output_type": "display_data"
    },
    {
     "data": {
      "text/plain": [
       "<Figure size 800x600 with 0 Axes>"
      ]
     },
     "metadata": {},
     "output_type": "display_data"
    },
    {
     "data": {
      "text/plain": [
       "<Figure size 800x600 with 0 Axes>"
      ]
     },
     "metadata": {},
     "output_type": "display_data"
    },
    {
     "data": {
      "text/plain": [
       "<Figure size 800x600 with 0 Axes>"
      ]
     },
     "metadata": {},
     "output_type": "display_data"
    },
    {
     "data": {
      "text/plain": [
       "<Figure size 800x600 with 0 Axes>"
      ]
     },
     "metadata": {},
     "output_type": "display_data"
    },
    {
     "data": {
      "text/plain": [
       "<Figure size 800x600 with 0 Axes>"
      ]
     },
     "metadata": {},
     "output_type": "display_data"
    },
    {
     "data": {
      "text/plain": [
       "<Figure size 800x600 with 0 Axes>"
      ]
     },
     "metadata": {},
     "output_type": "display_data"
    },
    {
     "data": {
      "text/plain": [
       "<Figure size 800x600 with 0 Axes>"
      ]
     },
     "metadata": {},
     "output_type": "display_data"
    },
    {
     "data": {
      "text/plain": [
       "<Figure size 800x600 with 0 Axes>"
      ]
     },
     "metadata": {},
     "output_type": "display_data"
    },
    {
     "data": {
      "text/plain": [
       "<Figure size 800x600 with 0 Axes>"
      ]
     },
     "metadata": {},
     "output_type": "display_data"
    },
    {
     "data": {
      "text/plain": [
       "<Figure size 800x600 with 0 Axes>"
      ]
     },
     "metadata": {},
     "output_type": "display_data"
    },
    {
     "data": {
      "text/plain": [
       "<Figure size 800x600 with 0 Axes>"
      ]
     },
     "metadata": {},
     "output_type": "display_data"
    },
    {
     "data": {
      "text/plain": [
       "<Figure size 800x600 with 0 Axes>"
      ]
     },
     "metadata": {},
     "output_type": "display_data"
    },
    {
     "data": {
      "text/plain": [
       "<Figure size 800x600 with 0 Axes>"
      ]
     },
     "metadata": {},
     "output_type": "display_data"
    },
    {
     "data": {
      "text/plain": [
       "<Figure size 800x600 with 0 Axes>"
      ]
     },
     "metadata": {},
     "output_type": "display_data"
    },
    {
     "data": {
      "text/plain": [
       "<Figure size 800x600 with 0 Axes>"
      ]
     },
     "metadata": {},
     "output_type": "display_data"
    },
    {
     "data": {
      "text/plain": [
       "<Figure size 800x600 with 0 Axes>"
      ]
     },
     "metadata": {},
     "output_type": "display_data"
    },
    {
     "data": {
      "text/plain": [
       "<Figure size 800x600 with 0 Axes>"
      ]
     },
     "metadata": {},
     "output_type": "display_data"
    },
    {
     "data": {
      "text/plain": [
       "<Figure size 800x600 with 0 Axes>"
      ]
     },
     "metadata": {},
     "output_type": "display_data"
    },
    {
     "data": {
      "text/plain": [
       "<Figure size 800x600 with 0 Axes>"
      ]
     },
     "metadata": {},
     "output_type": "display_data"
    },
    {
     "data": {
      "text/plain": [
       "<Figure size 800x600 with 0 Axes>"
      ]
     },
     "metadata": {},
     "output_type": "display_data"
    },
    {
     "data": {
      "text/plain": [
       "<Figure size 800x600 with 0 Axes>"
      ]
     },
     "metadata": {},
     "output_type": "display_data"
    },
    {
     "data": {
      "text/plain": [
       "<Figure size 800x600 with 0 Axes>"
      ]
     },
     "metadata": {},
     "output_type": "display_data"
    },
    {
     "data": {
      "text/plain": [
       "<Figure size 800x600 with 0 Axes>"
      ]
     },
     "metadata": {},
     "output_type": "display_data"
    },
    {
     "data": {
      "text/plain": [
       "<Figure size 800x600 with 0 Axes>"
      ]
     },
     "metadata": {},
     "output_type": "display_data"
    },
    {
     "data": {
      "text/plain": [
       "<Figure size 800x600 with 0 Axes>"
      ]
     },
     "metadata": {},
     "output_type": "display_data"
    },
    {
     "data": {
      "text/plain": [
       "<Figure size 800x600 with 0 Axes>"
      ]
     },
     "metadata": {},
     "output_type": "display_data"
    },
    {
     "data": {
      "text/plain": [
       "<Figure size 800x600 with 0 Axes>"
      ]
     },
     "metadata": {},
     "output_type": "display_data"
    },
    {
     "data": {
      "text/plain": [
       "<Figure size 800x600 with 0 Axes>"
      ]
     },
     "metadata": {},
     "output_type": "display_data"
    },
    {
     "data": {
      "text/plain": [
       "<Figure size 800x600 with 0 Axes>"
      ]
     },
     "metadata": {},
     "output_type": "display_data"
    },
    {
     "data": {
      "text/plain": [
       "<Figure size 800x600 with 0 Axes>"
      ]
     },
     "metadata": {},
     "output_type": "display_data"
    },
    {
     "data": {
      "text/plain": [
       "<Figure size 800x600 with 0 Axes>"
      ]
     },
     "metadata": {},
     "output_type": "display_data"
    },
    {
     "data": {
      "text/plain": [
       "<Figure size 800x600 with 0 Axes>"
      ]
     },
     "metadata": {},
     "output_type": "display_data"
    },
    {
     "data": {
      "text/plain": [
       "<Figure size 800x600 with 0 Axes>"
      ]
     },
     "metadata": {},
     "output_type": "display_data"
    },
    {
     "data": {
      "text/plain": [
       "<Figure size 800x600 with 0 Axes>"
      ]
     },
     "metadata": {},
     "output_type": "display_data"
    },
    {
     "data": {
      "text/plain": [
       "<Figure size 800x600 with 0 Axes>"
      ]
     },
     "metadata": {},
     "output_type": "display_data"
    },
    {
     "data": {
      "text/plain": [
       "<Figure size 800x600 with 0 Axes>"
      ]
     },
     "metadata": {},
     "output_type": "display_data"
    },
    {
     "data": {
      "text/plain": [
       "<Figure size 800x600 with 0 Axes>"
      ]
     },
     "metadata": {},
     "output_type": "display_data"
    },
    {
     "data": {
      "text/plain": [
       "<Figure size 800x600 with 0 Axes>"
      ]
     },
     "metadata": {},
     "output_type": "display_data"
    },
    {
     "data": {
      "text/plain": [
       "<Figure size 800x600 with 0 Axes>"
      ]
     },
     "metadata": {},
     "output_type": "display_data"
    },
    {
     "data": {
      "text/plain": [
       "<Figure size 800x600 with 0 Axes>"
      ]
     },
     "metadata": {},
     "output_type": "display_data"
    },
    {
     "data": {
      "text/plain": [
       "<Figure size 800x600 with 0 Axes>"
      ]
     },
     "metadata": {},
     "output_type": "display_data"
    },
    {
     "data": {
      "text/plain": [
       "<Figure size 800x600 with 0 Axes>"
      ]
     },
     "metadata": {},
     "output_type": "display_data"
    },
    {
     "data": {
      "text/plain": [
       "<Figure size 800x600 with 0 Axes>"
      ]
     },
     "metadata": {},
     "output_type": "display_data"
    },
    {
     "data": {
      "text/plain": [
       "<Figure size 800x600 with 0 Axes>"
      ]
     },
     "metadata": {},
     "output_type": "display_data"
    },
    {
     "data": {
      "text/plain": [
       "<Figure size 800x600 with 0 Axes>"
      ]
     },
     "metadata": {},
     "output_type": "display_data"
    },
    {
     "data": {
      "text/plain": [
       "<Figure size 800x600 with 0 Axes>"
      ]
     },
     "metadata": {},
     "output_type": "display_data"
    },
    {
     "data": {
      "text/plain": [
       "<Figure size 800x600 with 0 Axes>"
      ]
     },
     "metadata": {},
     "output_type": "display_data"
    },
    {
     "data": {
      "text/plain": [
       "<Figure size 800x600 with 0 Axes>"
      ]
     },
     "metadata": {},
     "output_type": "display_data"
    },
    {
     "data": {
      "text/plain": [
       "<Figure size 800x600 with 0 Axes>"
      ]
     },
     "metadata": {},
     "output_type": "display_data"
    },
    {
     "data": {
      "text/plain": [
       "<Figure size 800x600 with 0 Axes>"
      ]
     },
     "metadata": {},
     "output_type": "display_data"
    },
    {
     "data": {
      "text/plain": [
       "<Figure size 800x600 with 0 Axes>"
      ]
     },
     "metadata": {},
     "output_type": "display_data"
    },
    {
     "data": {
      "text/plain": [
       "<Figure size 800x600 with 0 Axes>"
      ]
     },
     "metadata": {},
     "output_type": "display_data"
    },
    {
     "data": {
      "text/plain": [
       "<Figure size 800x600 with 0 Axes>"
      ]
     },
     "metadata": {},
     "output_type": "display_data"
    },
    {
     "data": {
      "text/plain": [
       "<Figure size 800x600 with 0 Axes>"
      ]
     },
     "metadata": {},
     "output_type": "display_data"
    },
    {
     "data": {
      "text/plain": [
       "<Figure size 800x600 with 0 Axes>"
      ]
     },
     "metadata": {},
     "output_type": "display_data"
    },
    {
     "data": {
      "text/plain": [
       "<Figure size 800x600 with 0 Axes>"
      ]
     },
     "metadata": {},
     "output_type": "display_data"
    },
    {
     "data": {
      "text/plain": [
       "<Figure size 800x600 with 0 Axes>"
      ]
     },
     "metadata": {},
     "output_type": "display_data"
    },
    {
     "data": {
      "text/plain": [
       "<Figure size 800x600 with 0 Axes>"
      ]
     },
     "metadata": {},
     "output_type": "display_data"
    },
    {
     "data": {
      "text/plain": [
       "<Figure size 800x600 with 0 Axes>"
      ]
     },
     "metadata": {},
     "output_type": "display_data"
    },
    {
     "data": {
      "text/plain": [
       "<Figure size 800x600 with 0 Axes>"
      ]
     },
     "metadata": {},
     "output_type": "display_data"
    },
    {
     "data": {
      "text/plain": [
       "<Figure size 800x600 with 0 Axes>"
      ]
     },
     "metadata": {},
     "output_type": "display_data"
    },
    {
     "data": {
      "text/plain": [
       "<Figure size 800x600 with 0 Axes>"
      ]
     },
     "metadata": {},
     "output_type": "display_data"
    },
    {
     "data": {
      "text/plain": [
       "<Figure size 800x600 with 0 Axes>"
      ]
     },
     "metadata": {},
     "output_type": "display_data"
    },
    {
     "data": {
      "text/plain": [
       "<Figure size 800x600 with 0 Axes>"
      ]
     },
     "metadata": {},
     "output_type": "display_data"
    },
    {
     "data": {
      "text/plain": [
       "<Figure size 800x600 with 0 Axes>"
      ]
     },
     "metadata": {},
     "output_type": "display_data"
    },
    {
     "data": {
      "text/plain": [
       "<Figure size 800x600 with 0 Axes>"
      ]
     },
     "metadata": {},
     "output_type": "display_data"
    },
    {
     "data": {
      "text/plain": [
       "<Figure size 800x600 with 0 Axes>"
      ]
     },
     "metadata": {},
     "output_type": "display_data"
    },
    {
     "data": {
      "text/plain": [
       "<Figure size 800x600 with 0 Axes>"
      ]
     },
     "metadata": {},
     "output_type": "display_data"
    },
    {
     "data": {
      "text/plain": [
       "<Figure size 800x600 with 0 Axes>"
      ]
     },
     "metadata": {},
     "output_type": "display_data"
    },
    {
     "data": {
      "text/plain": [
       "<Figure size 800x600 with 0 Axes>"
      ]
     },
     "metadata": {},
     "output_type": "display_data"
    },
    {
     "data": {
      "text/plain": [
       "<Figure size 800x600 with 0 Axes>"
      ]
     },
     "metadata": {},
     "output_type": "display_data"
    },
    {
     "data": {
      "text/plain": [
       "<Figure size 800x600 with 0 Axes>"
      ]
     },
     "metadata": {},
     "output_type": "display_data"
    },
    {
     "data": {
      "text/plain": [
       "<Figure size 800x600 with 0 Axes>"
      ]
     },
     "metadata": {},
     "output_type": "display_data"
    },
    {
     "data": {
      "text/plain": [
       "<Figure size 800x600 with 0 Axes>"
      ]
     },
     "metadata": {},
     "output_type": "display_data"
    },
    {
     "data": {
      "text/plain": [
       "<Figure size 800x600 with 0 Axes>"
      ]
     },
     "metadata": {},
     "output_type": "display_data"
    },
    {
     "data": {
      "text/plain": [
       "<Figure size 800x600 with 0 Axes>"
      ]
     },
     "metadata": {},
     "output_type": "display_data"
    },
    {
     "data": {
      "text/plain": [
       "<Figure size 800x600 with 0 Axes>"
      ]
     },
     "metadata": {},
     "output_type": "display_data"
    },
    {
     "data": {
      "text/plain": [
       "<Figure size 800x600 with 0 Axes>"
      ]
     },
     "metadata": {},
     "output_type": "display_data"
    },
    {
     "data": {
      "text/plain": [
       "<Figure size 800x600 with 0 Axes>"
      ]
     },
     "metadata": {},
     "output_type": "display_data"
    },
    {
     "data": {
      "text/plain": [
       "<Figure size 800x600 with 0 Axes>"
      ]
     },
     "metadata": {},
     "output_type": "display_data"
    },
    {
     "data": {
      "text/plain": [
       "<Figure size 800x600 with 0 Axes>"
      ]
     },
     "metadata": {},
     "output_type": "display_data"
    },
    {
     "data": {
      "text/plain": [
       "<Figure size 800x600 with 0 Axes>"
      ]
     },
     "metadata": {},
     "output_type": "display_data"
    },
    {
     "data": {
      "text/plain": [
       "<Figure size 800x600 with 0 Axes>"
      ]
     },
     "metadata": {},
     "output_type": "display_data"
    },
    {
     "data": {
      "text/plain": [
       "<Figure size 800x600 with 0 Axes>"
      ]
     },
     "metadata": {},
     "output_type": "display_data"
    },
    {
     "data": {
      "text/plain": [
       "<Figure size 800x600 with 0 Axes>"
      ]
     },
     "metadata": {},
     "output_type": "display_data"
    },
    {
     "data": {
      "text/plain": [
       "<Figure size 800x600 with 0 Axes>"
      ]
     },
     "metadata": {},
     "output_type": "display_data"
    },
    {
     "data": {
      "text/plain": [
       "<Figure size 800x600 with 0 Axes>"
      ]
     },
     "metadata": {},
     "output_type": "display_data"
    },
    {
     "data": {
      "text/plain": [
       "<Figure size 800x600 with 0 Axes>"
      ]
     },
     "metadata": {},
     "output_type": "display_data"
    },
    {
     "data": {
      "text/plain": [
       "<Figure size 800x600 with 0 Axes>"
      ]
     },
     "metadata": {},
     "output_type": "display_data"
    },
    {
     "data": {
      "text/plain": [
       "<Figure size 800x600 with 0 Axes>"
      ]
     },
     "metadata": {},
     "output_type": "display_data"
    },
    {
     "data": {
      "text/plain": [
       "<Figure size 800x600 with 0 Axes>"
      ]
     },
     "metadata": {},
     "output_type": "display_data"
    },
    {
     "data": {
      "text/plain": [
       "<Figure size 800x600 with 0 Axes>"
      ]
     },
     "metadata": {},
     "output_type": "display_data"
    },
    {
     "data": {
      "text/plain": [
       "<Figure size 800x600 with 0 Axes>"
      ]
     },
     "metadata": {},
     "output_type": "display_data"
    },
    {
     "data": {
      "text/plain": [
       "<Figure size 800x600 with 0 Axes>"
      ]
     },
     "metadata": {},
     "output_type": "display_data"
    },
    {
     "data": {
      "text/plain": [
       "<Figure size 800x600 with 0 Axes>"
      ]
     },
     "metadata": {},
     "output_type": "display_data"
    },
    {
     "data": {
      "text/plain": [
       "<Figure size 800x600 with 0 Axes>"
      ]
     },
     "metadata": {},
     "output_type": "display_data"
    },
    {
     "data": {
      "text/plain": [
       "<Figure size 800x600 with 0 Axes>"
      ]
     },
     "metadata": {},
     "output_type": "display_data"
    },
    {
     "data": {
      "text/plain": [
       "<Figure size 800x600 with 0 Axes>"
      ]
     },
     "metadata": {},
     "output_type": "display_data"
    },
    {
     "data": {
      "text/plain": [
       "<Figure size 800x600 with 0 Axes>"
      ]
     },
     "metadata": {},
     "output_type": "display_data"
    },
    {
     "data": {
      "text/plain": [
       "<Figure size 800x600 with 0 Axes>"
      ]
     },
     "metadata": {},
     "output_type": "display_data"
    },
    {
     "data": {
      "text/plain": [
       "<Figure size 800x600 with 0 Axes>"
      ]
     },
     "metadata": {},
     "output_type": "display_data"
    },
    {
     "data": {
      "text/plain": [
       "<Figure size 800x600 with 0 Axes>"
      ]
     },
     "metadata": {},
     "output_type": "display_data"
    },
    {
     "data": {
      "text/plain": [
       "<Figure size 800x600 with 0 Axes>"
      ]
     },
     "metadata": {},
     "output_type": "display_data"
    },
    {
     "data": {
      "text/plain": [
       "<Figure size 800x600 with 0 Axes>"
      ]
     },
     "metadata": {},
     "output_type": "display_data"
    },
    {
     "data": {
      "text/plain": [
       "<Figure size 800x600 with 0 Axes>"
      ]
     },
     "metadata": {},
     "output_type": "display_data"
    },
    {
     "data": {
      "text/plain": [
       "<Figure size 800x600 with 0 Axes>"
      ]
     },
     "metadata": {},
     "output_type": "display_data"
    },
    {
     "data": {
      "text/plain": [
       "<Figure size 800x600 with 0 Axes>"
      ]
     },
     "metadata": {},
     "output_type": "display_data"
    },
    {
     "data": {
      "text/plain": [
       "<Figure size 800x600 with 0 Axes>"
      ]
     },
     "metadata": {},
     "output_type": "display_data"
    },
    {
     "data": {
      "text/plain": [
       "<Figure size 800x600 with 0 Axes>"
      ]
     },
     "metadata": {},
     "output_type": "display_data"
    },
    {
     "data": {
      "text/plain": [
       "<Figure size 800x600 with 0 Axes>"
      ]
     },
     "metadata": {},
     "output_type": "display_data"
    },
    {
     "data": {
      "text/plain": [
       "<Figure size 800x600 with 0 Axes>"
      ]
     },
     "metadata": {},
     "output_type": "display_data"
    },
    {
     "data": {
      "text/plain": [
       "<Figure size 800x600 with 0 Axes>"
      ]
     },
     "metadata": {},
     "output_type": "display_data"
    },
    {
     "data": {
      "text/plain": [
       "<Figure size 800x600 with 0 Axes>"
      ]
     },
     "metadata": {},
     "output_type": "display_data"
    },
    {
     "data": {
      "text/plain": [
       "<Figure size 800x600 with 0 Axes>"
      ]
     },
     "metadata": {},
     "output_type": "display_data"
    },
    {
     "data": {
      "text/plain": [
       "<Figure size 800x600 with 0 Axes>"
      ]
     },
     "metadata": {},
     "output_type": "display_data"
    },
    {
     "data": {
      "text/plain": [
       "<Figure size 800x600 with 0 Axes>"
      ]
     },
     "metadata": {},
     "output_type": "display_data"
    },
    {
     "data": {
      "text/plain": [
       "<Figure size 800x600 with 0 Axes>"
      ]
     },
     "metadata": {},
     "output_type": "display_data"
    },
    {
     "data": {
      "text/plain": [
       "<Figure size 800x600 with 0 Axes>"
      ]
     },
     "metadata": {},
     "output_type": "display_data"
    },
    {
     "data": {
      "text/plain": [
       "<Figure size 800x600 with 0 Axes>"
      ]
     },
     "metadata": {},
     "output_type": "display_data"
    },
    {
     "data": {
      "text/plain": [
       "<Figure size 800x600 with 0 Axes>"
      ]
     },
     "metadata": {},
     "output_type": "display_data"
    },
    {
     "data": {
      "text/plain": [
       "<Figure size 800x600 with 0 Axes>"
      ]
     },
     "metadata": {},
     "output_type": "display_data"
    },
    {
     "data": {
      "text/plain": [
       "<Figure size 800x600 with 0 Axes>"
      ]
     },
     "metadata": {},
     "output_type": "display_data"
    },
    {
     "data": {
      "text/plain": [
       "<Figure size 800x600 with 0 Axes>"
      ]
     },
     "metadata": {},
     "output_type": "display_data"
    },
    {
     "data": {
      "text/plain": [
       "<Figure size 800x600 with 0 Axes>"
      ]
     },
     "metadata": {},
     "output_type": "display_data"
    },
    {
     "data": {
      "text/plain": [
       "<Figure size 800x600 with 0 Axes>"
      ]
     },
     "metadata": {},
     "output_type": "display_data"
    },
    {
     "data": {
      "text/plain": [
       "<Figure size 800x600 with 0 Axes>"
      ]
     },
     "metadata": {},
     "output_type": "display_data"
    },
    {
     "data": {
      "text/plain": [
       "<Figure size 800x600 with 0 Axes>"
      ]
     },
     "metadata": {},
     "output_type": "display_data"
    },
    {
     "data": {
      "text/plain": [
       "<Figure size 800x600 with 0 Axes>"
      ]
     },
     "metadata": {},
     "output_type": "display_data"
    },
    {
     "data": {
      "text/plain": [
       "<Figure size 800x600 with 0 Axes>"
      ]
     },
     "metadata": {},
     "output_type": "display_data"
    },
    {
     "data": {
      "text/plain": [
       "<Figure size 800x600 with 0 Axes>"
      ]
     },
     "metadata": {},
     "output_type": "display_data"
    },
    {
     "data": {
      "text/plain": [
       "<Figure size 800x600 with 0 Axes>"
      ]
     },
     "metadata": {},
     "output_type": "display_data"
    },
    {
     "data": {
      "text/plain": [
       "<Figure size 800x600 with 0 Axes>"
      ]
     },
     "metadata": {},
     "output_type": "display_data"
    },
    {
     "data": {
      "text/plain": [
       "<Figure size 800x600 with 0 Axes>"
      ]
     },
     "metadata": {},
     "output_type": "display_data"
    },
    {
     "data": {
      "text/plain": [
       "<Figure size 800x600 with 0 Axes>"
      ]
     },
     "metadata": {},
     "output_type": "display_data"
    },
    {
     "data": {
      "text/plain": [
       "<Figure size 800x600 with 0 Axes>"
      ]
     },
     "metadata": {},
     "output_type": "display_data"
    },
    {
     "data": {
      "text/plain": [
       "<Figure size 800x600 with 0 Axes>"
      ]
     },
     "metadata": {},
     "output_type": "display_data"
    },
    {
     "data": {
      "text/plain": [
       "<Figure size 800x600 with 0 Axes>"
      ]
     },
     "metadata": {},
     "output_type": "display_data"
    },
    {
     "data": {
      "text/plain": [
       "<Figure size 800x600 with 0 Axes>"
      ]
     },
     "metadata": {},
     "output_type": "display_data"
    },
    {
     "data": {
      "text/plain": [
       "<Figure size 800x600 with 0 Axes>"
      ]
     },
     "metadata": {},
     "output_type": "display_data"
    },
    {
     "data": {
      "text/plain": [
       "<Figure size 800x600 with 0 Axes>"
      ]
     },
     "metadata": {},
     "output_type": "display_data"
    },
    {
     "data": {
      "text/plain": [
       "<Figure size 800x600 with 0 Axes>"
      ]
     },
     "metadata": {},
     "output_type": "display_data"
    },
    {
     "data": {
      "text/plain": [
       "<Figure size 800x600 with 0 Axes>"
      ]
     },
     "metadata": {},
     "output_type": "display_data"
    },
    {
     "data": {
      "text/plain": [
       "<Figure size 800x600 with 0 Axes>"
      ]
     },
     "metadata": {},
     "output_type": "display_data"
    },
    {
     "data": {
      "text/plain": [
       "<Figure size 800x600 with 0 Axes>"
      ]
     },
     "metadata": {},
     "output_type": "display_data"
    },
    {
     "data": {
      "text/plain": [
       "<Figure size 800x600 with 0 Axes>"
      ]
     },
     "metadata": {},
     "output_type": "display_data"
    },
    {
     "data": {
      "text/plain": [
       "<Figure size 800x600 with 0 Axes>"
      ]
     },
     "metadata": {},
     "output_type": "display_data"
    },
    {
     "data": {
      "text/plain": [
       "<Figure size 800x600 with 0 Axes>"
      ]
     },
     "metadata": {},
     "output_type": "display_data"
    },
    {
     "data": {
      "text/plain": [
       "<Figure size 800x600 with 0 Axes>"
      ]
     },
     "metadata": {},
     "output_type": "display_data"
    },
    {
     "data": {
      "text/plain": [
       "<Figure size 800x600 with 0 Axes>"
      ]
     },
     "metadata": {},
     "output_type": "display_data"
    },
    {
     "data": {
      "text/plain": [
       "<Figure size 800x600 with 0 Axes>"
      ]
     },
     "metadata": {},
     "output_type": "display_data"
    },
    {
     "data": {
      "text/plain": [
       "<Figure size 800x600 with 0 Axes>"
      ]
     },
     "metadata": {},
     "output_type": "display_data"
    },
    {
     "data": {
      "text/plain": [
       "<Figure size 800x600 with 0 Axes>"
      ]
     },
     "metadata": {},
     "output_type": "display_data"
    },
    {
     "data": {
      "text/plain": [
       "<Figure size 800x600 with 0 Axes>"
      ]
     },
     "metadata": {},
     "output_type": "display_data"
    },
    {
     "data": {
      "text/plain": [
       "<Figure size 800x600 with 0 Axes>"
      ]
     },
     "metadata": {},
     "output_type": "display_data"
    },
    {
     "data": {
      "text/plain": [
       "<Figure size 800x600 with 0 Axes>"
      ]
     },
     "metadata": {},
     "output_type": "display_data"
    },
    {
     "data": {
      "text/plain": [
       "<Figure size 800x600 with 0 Axes>"
      ]
     },
     "metadata": {},
     "output_type": "display_data"
    },
    {
     "data": {
      "text/plain": [
       "<Figure size 800x600 with 0 Axes>"
      ]
     },
     "metadata": {},
     "output_type": "display_data"
    },
    {
     "data": {
      "text/plain": [
       "<Figure size 800x600 with 0 Axes>"
      ]
     },
     "metadata": {},
     "output_type": "display_data"
    },
    {
     "data": {
      "text/plain": [
       "<Figure size 800x600 with 0 Axes>"
      ]
     },
     "metadata": {},
     "output_type": "display_data"
    },
    {
     "data": {
      "text/plain": [
       "<Figure size 800x600 with 0 Axes>"
      ]
     },
     "metadata": {},
     "output_type": "display_data"
    },
    {
     "data": {
      "text/plain": [
       "<Figure size 800x600 with 0 Axes>"
      ]
     },
     "metadata": {},
     "output_type": "display_data"
    },
    {
     "data": {
      "text/plain": [
       "<Figure size 800x600 with 0 Axes>"
      ]
     },
     "metadata": {},
     "output_type": "display_data"
    },
    {
     "data": {
      "text/plain": [
       "<Figure size 800x600 with 0 Axes>"
      ]
     },
     "metadata": {},
     "output_type": "display_data"
    },
    {
     "data": {
      "text/plain": [
       "<Figure size 800x600 with 0 Axes>"
      ]
     },
     "metadata": {},
     "output_type": "display_data"
    },
    {
     "data": {
      "text/plain": [
       "<Figure size 800x600 with 0 Axes>"
      ]
     },
     "metadata": {},
     "output_type": "display_data"
    },
    {
     "data": {
      "text/plain": [
       "<Figure size 800x600 with 0 Axes>"
      ]
     },
     "metadata": {},
     "output_type": "display_data"
    },
    {
     "data": {
      "text/plain": [
       "<Figure size 800x600 with 0 Axes>"
      ]
     },
     "metadata": {},
     "output_type": "display_data"
    },
    {
     "data": {
      "text/plain": [
       "<Figure size 800x600 with 0 Axes>"
      ]
     },
     "metadata": {},
     "output_type": "display_data"
    },
    {
     "data": {
      "text/plain": [
       "<Figure size 800x600 with 0 Axes>"
      ]
     },
     "metadata": {},
     "output_type": "display_data"
    },
    {
     "data": {
      "text/plain": [
       "<Figure size 800x600 with 0 Axes>"
      ]
     },
     "metadata": {},
     "output_type": "display_data"
    },
    {
     "data": {
      "text/plain": [
       "<Figure size 800x600 with 0 Axes>"
      ]
     },
     "metadata": {},
     "output_type": "display_data"
    },
    {
     "data": {
      "text/plain": [
       "<Figure size 800x600 with 0 Axes>"
      ]
     },
     "metadata": {},
     "output_type": "display_data"
    },
    {
     "data": {
      "text/plain": [
       "<Figure size 800x600 with 0 Axes>"
      ]
     },
     "metadata": {},
     "output_type": "display_data"
    },
    {
     "data": {
      "text/plain": [
       "<Figure size 800x600 with 0 Axes>"
      ]
     },
     "metadata": {},
     "output_type": "display_data"
    },
    {
     "data": {
      "text/plain": [
       "<Figure size 800x600 with 0 Axes>"
      ]
     },
     "metadata": {},
     "output_type": "display_data"
    },
    {
     "data": {
      "text/plain": [
       "<Figure size 800x600 with 0 Axes>"
      ]
     },
     "metadata": {},
     "output_type": "display_data"
    },
    {
     "data": {
      "text/plain": [
       "<Figure size 800x600 with 0 Axes>"
      ]
     },
     "metadata": {},
     "output_type": "display_data"
    },
    {
     "data": {
      "text/plain": [
       "<Figure size 800x600 with 0 Axes>"
      ]
     },
     "metadata": {},
     "output_type": "display_data"
    },
    {
     "data": {
      "text/plain": [
       "<Figure size 800x600 with 0 Axes>"
      ]
     },
     "metadata": {},
     "output_type": "display_data"
    },
    {
     "data": {
      "text/plain": [
       "<Figure size 800x600 with 0 Axes>"
      ]
     },
     "metadata": {},
     "output_type": "display_data"
    },
    {
     "data": {
      "text/plain": [
       "<Figure size 800x600 with 0 Axes>"
      ]
     },
     "metadata": {},
     "output_type": "display_data"
    },
    {
     "data": {
      "text/plain": [
       "<Figure size 800x600 with 0 Axes>"
      ]
     },
     "metadata": {},
     "output_type": "display_data"
    },
    {
     "data": {
      "text/plain": [
       "<Figure size 800x600 with 0 Axes>"
      ]
     },
     "metadata": {},
     "output_type": "display_data"
    },
    {
     "data": {
      "text/plain": [
       "<Figure size 800x600 with 0 Axes>"
      ]
     },
     "metadata": {},
     "output_type": "display_data"
    },
    {
     "data": {
      "text/plain": [
       "<Figure size 800x600 with 0 Axes>"
      ]
     },
     "metadata": {},
     "output_type": "display_data"
    },
    {
     "data": {
      "text/plain": [
       "<Figure size 800x600 with 0 Axes>"
      ]
     },
     "metadata": {},
     "output_type": "display_data"
    },
    {
     "data": {
      "text/plain": [
       "<Figure size 800x600 with 0 Axes>"
      ]
     },
     "metadata": {},
     "output_type": "display_data"
    },
    {
     "data": {
      "text/plain": [
       "<Figure size 800x600 with 0 Axes>"
      ]
     },
     "metadata": {},
     "output_type": "display_data"
    },
    {
     "data": {
      "text/plain": [
       "<Figure size 800x600 with 0 Axes>"
      ]
     },
     "metadata": {},
     "output_type": "display_data"
    },
    {
     "data": {
      "text/plain": [
       "<Figure size 800x600 with 0 Axes>"
      ]
     },
     "metadata": {},
     "output_type": "display_data"
    },
    {
     "data": {
      "text/plain": [
       "<Figure size 800x600 with 0 Axes>"
      ]
     },
     "metadata": {},
     "output_type": "display_data"
    },
    {
     "data": {
      "text/plain": [
       "<Figure size 800x600 with 0 Axes>"
      ]
     },
     "metadata": {},
     "output_type": "display_data"
    },
    {
     "data": {
      "text/plain": [
       "<Figure size 800x600 with 0 Axes>"
      ]
     },
     "metadata": {},
     "output_type": "display_data"
    },
    {
     "data": {
      "text/plain": [
       "<Figure size 800x600 with 0 Axes>"
      ]
     },
     "metadata": {},
     "output_type": "display_data"
    },
    {
     "data": {
      "text/plain": [
       "<Figure size 800x600 with 0 Axes>"
      ]
     },
     "metadata": {},
     "output_type": "display_data"
    },
    {
     "data": {
      "text/plain": [
       "<Figure size 800x600 with 0 Axes>"
      ]
     },
     "metadata": {},
     "output_type": "display_data"
    },
    {
     "data": {
      "text/plain": [
       "<Figure size 800x600 with 0 Axes>"
      ]
     },
     "metadata": {},
     "output_type": "display_data"
    },
    {
     "data": {
      "text/plain": [
       "<Figure size 800x600 with 0 Axes>"
      ]
     },
     "metadata": {},
     "output_type": "display_data"
    },
    {
     "data": {
      "text/plain": [
       "<Figure size 800x600 with 0 Axes>"
      ]
     },
     "metadata": {},
     "output_type": "display_data"
    },
    {
     "data": {
      "text/plain": [
       "<Figure size 800x600 with 0 Axes>"
      ]
     },
     "metadata": {},
     "output_type": "display_data"
    },
    {
     "data": {
      "text/plain": [
       "<Figure size 800x600 with 0 Axes>"
      ]
     },
     "metadata": {},
     "output_type": "display_data"
    },
    {
     "data": {
      "text/plain": [
       "<Figure size 800x600 with 0 Axes>"
      ]
     },
     "metadata": {},
     "output_type": "display_data"
    },
    {
     "data": {
      "text/plain": [
       "<Figure size 800x600 with 0 Axes>"
      ]
     },
     "metadata": {},
     "output_type": "display_data"
    },
    {
     "data": {
      "text/plain": [
       "<Figure size 800x600 with 0 Axes>"
      ]
     },
     "metadata": {},
     "output_type": "display_data"
    },
    {
     "data": {
      "text/plain": [
       "<Figure size 800x600 with 0 Axes>"
      ]
     },
     "metadata": {},
     "output_type": "display_data"
    },
    {
     "data": {
      "text/plain": [
       "<Figure size 800x600 with 0 Axes>"
      ]
     },
     "metadata": {},
     "output_type": "display_data"
    },
    {
     "data": {
      "text/plain": [
       "<Figure size 800x600 with 0 Axes>"
      ]
     },
     "metadata": {},
     "output_type": "display_data"
    },
    {
     "data": {
      "text/plain": [
       "<Figure size 800x600 with 0 Axes>"
      ]
     },
     "metadata": {},
     "output_type": "display_data"
    },
    {
     "data": {
      "text/plain": [
       "<Figure size 800x600 with 0 Axes>"
      ]
     },
     "metadata": {},
     "output_type": "display_data"
    },
    {
     "data": {
      "text/plain": [
       "<Figure size 800x600 with 0 Axes>"
      ]
     },
     "metadata": {},
     "output_type": "display_data"
    },
    {
     "data": {
      "text/plain": [
       "<Figure size 800x600 with 0 Axes>"
      ]
     },
     "metadata": {},
     "output_type": "display_data"
    },
    {
     "data": {
      "text/plain": [
       "<Figure size 800x600 with 0 Axes>"
      ]
     },
     "metadata": {},
     "output_type": "display_data"
    },
    {
     "data": {
      "text/plain": [
       "<Figure size 800x600 with 0 Axes>"
      ]
     },
     "metadata": {},
     "output_type": "display_data"
    },
    {
     "data": {
      "text/plain": [
       "<Figure size 800x600 with 0 Axes>"
      ]
     },
     "metadata": {},
     "output_type": "display_data"
    },
    {
     "data": {
      "text/plain": [
       "<Figure size 800x600 with 0 Axes>"
      ]
     },
     "metadata": {},
     "output_type": "display_data"
    },
    {
     "data": {
      "text/plain": [
       "<Figure size 800x600 with 0 Axes>"
      ]
     },
     "metadata": {},
     "output_type": "display_data"
    },
    {
     "data": {
      "text/plain": [
       "<Figure size 800x600 with 0 Axes>"
      ]
     },
     "metadata": {},
     "output_type": "display_data"
    },
    {
     "data": {
      "text/plain": [
       "<Figure size 800x600 with 0 Axes>"
      ]
     },
     "metadata": {},
     "output_type": "display_data"
    },
    {
     "data": {
      "text/plain": [
       "<Figure size 800x600 with 0 Axes>"
      ]
     },
     "metadata": {},
     "output_type": "display_data"
    },
    {
     "data": {
      "text/plain": [
       "<Figure size 800x600 with 0 Axes>"
      ]
     },
     "metadata": {},
     "output_type": "display_data"
    },
    {
     "data": {
      "text/plain": [
       "<Figure size 800x600 with 0 Axes>"
      ]
     },
     "metadata": {},
     "output_type": "display_data"
    },
    {
     "data": {
      "text/plain": [
       "<Figure size 800x600 with 0 Axes>"
      ]
     },
     "metadata": {},
     "output_type": "display_data"
    },
    {
     "data": {
      "text/plain": [
       "<Figure size 800x600 with 0 Axes>"
      ]
     },
     "metadata": {},
     "output_type": "display_data"
    },
    {
     "data": {
      "text/plain": [
       "<Figure size 800x600 with 0 Axes>"
      ]
     },
     "metadata": {},
     "output_type": "display_data"
    },
    {
     "data": {
      "text/plain": [
       "<Figure size 800x600 with 0 Axes>"
      ]
     },
     "metadata": {},
     "output_type": "display_data"
    },
    {
     "data": {
      "text/plain": [
       "<Figure size 800x600 with 0 Axes>"
      ]
     },
     "metadata": {},
     "output_type": "display_data"
    },
    {
     "data": {
      "text/plain": [
       "<Figure size 800x600 with 0 Axes>"
      ]
     },
     "metadata": {},
     "output_type": "display_data"
    },
    {
     "data": {
      "text/plain": [
       "<Figure size 800x600 with 0 Axes>"
      ]
     },
     "metadata": {},
     "output_type": "display_data"
    },
    {
     "data": {
      "text/plain": [
       "<Figure size 800x600 with 0 Axes>"
      ]
     },
     "metadata": {},
     "output_type": "display_data"
    },
    {
     "data": {
      "text/plain": [
       "<Figure size 800x600 with 0 Axes>"
      ]
     },
     "metadata": {},
     "output_type": "display_data"
    },
    {
     "data": {
      "text/plain": [
       "<Figure size 800x600 with 0 Axes>"
      ]
     },
     "metadata": {},
     "output_type": "display_data"
    },
    {
     "data": {
      "text/plain": [
       "<Figure size 800x600 with 0 Axes>"
      ]
     },
     "metadata": {},
     "output_type": "display_data"
    },
    {
     "data": {
      "text/plain": [
       "<Figure size 800x600 with 0 Axes>"
      ]
     },
     "metadata": {},
     "output_type": "display_data"
    },
    {
     "data": {
      "text/plain": [
       "<Figure size 800x600 with 0 Axes>"
      ]
     },
     "metadata": {},
     "output_type": "display_data"
    },
    {
     "data": {
      "text/plain": [
       "<Figure size 800x600 with 0 Axes>"
      ]
     },
     "metadata": {},
     "output_type": "display_data"
    },
    {
     "data": {
      "text/plain": [
       "<Figure size 800x600 with 0 Axes>"
      ]
     },
     "metadata": {},
     "output_type": "display_data"
    },
    {
     "data": {
      "text/plain": [
       "<Figure size 800x600 with 0 Axes>"
      ]
     },
     "metadata": {},
     "output_type": "display_data"
    },
    {
     "data": {
      "text/plain": [
       "<Figure size 800x600 with 0 Axes>"
      ]
     },
     "metadata": {},
     "output_type": "display_data"
    },
    {
     "data": {
      "text/plain": [
       "<Figure size 800x600 with 0 Axes>"
      ]
     },
     "metadata": {},
     "output_type": "display_data"
    },
    {
     "data": {
      "text/plain": [
       "<Figure size 800x600 with 0 Axes>"
      ]
     },
     "metadata": {},
     "output_type": "display_data"
    },
    {
     "data": {
      "text/plain": [
       "<Figure size 800x600 with 0 Axes>"
      ]
     },
     "metadata": {},
     "output_type": "display_data"
    },
    {
     "data": {
      "text/plain": [
       "<Figure size 800x600 with 0 Axes>"
      ]
     },
     "metadata": {},
     "output_type": "display_data"
    },
    {
     "data": {
      "text/plain": [
       "<Figure size 800x600 with 0 Axes>"
      ]
     },
     "metadata": {},
     "output_type": "display_data"
    },
    {
     "data": {
      "text/plain": [
       "<Figure size 800x600 with 0 Axes>"
      ]
     },
     "metadata": {},
     "output_type": "display_data"
    },
    {
     "data": {
      "text/plain": [
       "<Figure size 800x600 with 0 Axes>"
      ]
     },
     "metadata": {},
     "output_type": "display_data"
    },
    {
     "data": {
      "text/plain": [
       "<Figure size 800x600 with 0 Axes>"
      ]
     },
     "metadata": {},
     "output_type": "display_data"
    },
    {
     "data": {
      "text/plain": [
       "<Figure size 800x600 with 0 Axes>"
      ]
     },
     "metadata": {},
     "output_type": "display_data"
    },
    {
     "data": {
      "text/plain": [
       "<Figure size 800x600 with 0 Axes>"
      ]
     },
     "metadata": {},
     "output_type": "display_data"
    },
    {
     "data": {
      "text/plain": [
       "<Figure size 800x600 with 0 Axes>"
      ]
     },
     "metadata": {},
     "output_type": "display_data"
    },
    {
     "data": {
      "text/plain": [
       "<Figure size 800x600 with 0 Axes>"
      ]
     },
     "metadata": {},
     "output_type": "display_data"
    },
    {
     "data": {
      "text/plain": [
       "<Figure size 800x600 with 0 Axes>"
      ]
     },
     "metadata": {},
     "output_type": "display_data"
    },
    {
     "data": {
      "text/plain": [
       "<Figure size 800x600 with 0 Axes>"
      ]
     },
     "metadata": {},
     "output_type": "display_data"
    },
    {
     "data": {
      "text/plain": [
       "<Figure size 800x600 with 0 Axes>"
      ]
     },
     "metadata": {},
     "output_type": "display_data"
    },
    {
     "data": {
      "text/plain": [
       "<Figure size 800x600 with 0 Axes>"
      ]
     },
     "metadata": {},
     "output_type": "display_data"
    },
    {
     "data": {
      "text/plain": [
       "<Figure size 800x600 with 0 Axes>"
      ]
     },
     "metadata": {},
     "output_type": "display_data"
    },
    {
     "data": {
      "text/plain": [
       "<Figure size 800x600 with 0 Axes>"
      ]
     },
     "metadata": {},
     "output_type": "display_data"
    },
    {
     "data": {
      "text/plain": [
       "<Figure size 800x600 with 0 Axes>"
      ]
     },
     "metadata": {},
     "output_type": "display_data"
    },
    {
     "data": {
      "text/plain": [
       "<Figure size 800x600 with 0 Axes>"
      ]
     },
     "metadata": {},
     "output_type": "display_data"
    },
    {
     "data": {
      "text/plain": [
       "<Figure size 800x600 with 0 Axes>"
      ]
     },
     "metadata": {},
     "output_type": "display_data"
    },
    {
     "data": {
      "text/plain": [
       "<Figure size 800x600 with 0 Axes>"
      ]
     },
     "metadata": {},
     "output_type": "display_data"
    },
    {
     "data": {
      "text/plain": [
       "<Figure size 800x600 with 0 Axes>"
      ]
     },
     "metadata": {},
     "output_type": "display_data"
    },
    {
     "data": {
      "text/plain": [
       "<Figure size 800x600 with 0 Axes>"
      ]
     },
     "metadata": {},
     "output_type": "display_data"
    },
    {
     "data": {
      "text/plain": [
       "<Figure size 800x600 with 0 Axes>"
      ]
     },
     "metadata": {},
     "output_type": "display_data"
    },
    {
     "data": {
      "text/plain": [
       "<Figure size 800x600 with 0 Axes>"
      ]
     },
     "metadata": {},
     "output_type": "display_data"
    },
    {
     "data": {
      "text/plain": [
       "<Figure size 800x600 with 0 Axes>"
      ]
     },
     "metadata": {},
     "output_type": "display_data"
    },
    {
     "data": {
      "text/plain": [
       "<Figure size 800x600 with 0 Axes>"
      ]
     },
     "metadata": {},
     "output_type": "display_data"
    },
    {
     "data": {
      "text/plain": [
       "<Figure size 800x600 with 0 Axes>"
      ]
     },
     "metadata": {},
     "output_type": "display_data"
    },
    {
     "data": {
      "text/plain": [
       "<Figure size 800x600 with 0 Axes>"
      ]
     },
     "metadata": {},
     "output_type": "display_data"
    },
    {
     "data": {
      "text/plain": [
       "<Figure size 800x600 with 0 Axes>"
      ]
     },
     "metadata": {},
     "output_type": "display_data"
    },
    {
     "data": {
      "text/plain": [
       "<Figure size 800x600 with 0 Axes>"
      ]
     },
     "metadata": {},
     "output_type": "display_data"
    },
    {
     "data": {
      "text/plain": [
       "<Figure size 800x600 with 0 Axes>"
      ]
     },
     "metadata": {},
     "output_type": "display_data"
    },
    {
     "data": {
      "text/plain": [
       "<Figure size 800x600 with 0 Axes>"
      ]
     },
     "metadata": {},
     "output_type": "display_data"
    },
    {
     "data": {
      "text/plain": [
       "<Figure size 800x600 with 0 Axes>"
      ]
     },
     "metadata": {},
     "output_type": "display_data"
    },
    {
     "data": {
      "text/plain": [
       "<Figure size 800x600 with 0 Axes>"
      ]
     },
     "metadata": {},
     "output_type": "display_data"
    },
    {
     "data": {
      "text/plain": [
       "<Figure size 800x600 with 0 Axes>"
      ]
     },
     "metadata": {},
     "output_type": "display_data"
    },
    {
     "data": {
      "text/plain": [
       "<Figure size 800x600 with 0 Axes>"
      ]
     },
     "metadata": {},
     "output_type": "display_data"
    },
    {
     "data": {
      "text/plain": [
       "<Figure size 800x600 with 0 Axes>"
      ]
     },
     "metadata": {},
     "output_type": "display_data"
    },
    {
     "data": {
      "text/plain": [
       "<Figure size 800x600 with 0 Axes>"
      ]
     },
     "metadata": {},
     "output_type": "display_data"
    },
    {
     "data": {
      "text/plain": [
       "<Figure size 800x600 with 0 Axes>"
      ]
     },
     "metadata": {},
     "output_type": "display_data"
    },
    {
     "data": {
      "text/plain": [
       "<Figure size 800x600 with 0 Axes>"
      ]
     },
     "metadata": {},
     "output_type": "display_data"
    },
    {
     "data": {
      "text/plain": [
       "<Figure size 800x600 with 0 Axes>"
      ]
     },
     "metadata": {},
     "output_type": "display_data"
    },
    {
     "data": {
      "text/plain": [
       "<Figure size 800x600 with 0 Axes>"
      ]
     },
     "metadata": {},
     "output_type": "display_data"
    },
    {
     "data": {
      "text/plain": [
       "<Figure size 800x600 with 0 Axes>"
      ]
     },
     "metadata": {},
     "output_type": "display_data"
    },
    {
     "data": {
      "text/plain": [
       "<Figure size 800x600 with 0 Axes>"
      ]
     },
     "metadata": {},
     "output_type": "display_data"
    },
    {
     "data": {
      "text/plain": [
       "<Figure size 800x600 with 0 Axes>"
      ]
     },
     "metadata": {},
     "output_type": "display_data"
    },
    {
     "data": {
      "text/plain": [
       "<Figure size 800x600 with 0 Axes>"
      ]
     },
     "metadata": {},
     "output_type": "display_data"
    },
    {
     "data": {
      "text/plain": [
       "<Figure size 800x600 with 0 Axes>"
      ]
     },
     "metadata": {},
     "output_type": "display_data"
    },
    {
     "data": {
      "text/plain": [
       "<Figure size 800x600 with 0 Axes>"
      ]
     },
     "metadata": {},
     "output_type": "display_data"
    },
    {
     "data": {
      "text/plain": [
       "<Figure size 800x600 with 0 Axes>"
      ]
     },
     "metadata": {},
     "output_type": "display_data"
    },
    {
     "data": {
      "text/plain": [
       "<Figure size 800x600 with 0 Axes>"
      ]
     },
     "metadata": {},
     "output_type": "display_data"
    },
    {
     "data": {
      "text/plain": [
       "<Figure size 800x600 with 0 Axes>"
      ]
     },
     "metadata": {},
     "output_type": "display_data"
    },
    {
     "data": {
      "text/plain": [
       "<Figure size 800x600 with 0 Axes>"
      ]
     },
     "metadata": {},
     "output_type": "display_data"
    },
    {
     "data": {
      "text/plain": [
       "<Figure size 800x600 with 0 Axes>"
      ]
     },
     "metadata": {},
     "output_type": "display_data"
    },
    {
     "data": {
      "text/plain": [
       "<Figure size 800x600 with 0 Axes>"
      ]
     },
     "metadata": {},
     "output_type": "display_data"
    },
    {
     "data": {
      "text/plain": [
       "<Figure size 800x600 with 0 Axes>"
      ]
     },
     "metadata": {},
     "output_type": "display_data"
    },
    {
     "data": {
      "text/plain": [
       "<Figure size 800x600 with 0 Axes>"
      ]
     },
     "metadata": {},
     "output_type": "display_data"
    },
    {
     "data": {
      "text/plain": [
       "<Figure size 800x600 with 0 Axes>"
      ]
     },
     "metadata": {},
     "output_type": "display_data"
    },
    {
     "data": {
      "text/plain": [
       "<Figure size 800x600 with 0 Axes>"
      ]
     },
     "metadata": {},
     "output_type": "display_data"
    },
    {
     "data": {
      "text/plain": [
       "<Figure size 800x600 with 0 Axes>"
      ]
     },
     "metadata": {},
     "output_type": "display_data"
    },
    {
     "data": {
      "text/plain": [
       "<Figure size 800x600 with 0 Axes>"
      ]
     },
     "metadata": {},
     "output_type": "display_data"
    },
    {
     "data": {
      "text/plain": [
       "<Figure size 800x600 with 0 Axes>"
      ]
     },
     "metadata": {},
     "output_type": "display_data"
    },
    {
     "data": {
      "text/plain": [
       "<Figure size 800x600 with 0 Axes>"
      ]
     },
     "metadata": {},
     "output_type": "display_data"
    },
    {
     "data": {
      "text/plain": [
       "<Figure size 800x600 with 0 Axes>"
      ]
     },
     "metadata": {},
     "output_type": "display_data"
    },
    {
     "data": {
      "text/plain": [
       "<Figure size 800x600 with 0 Axes>"
      ]
     },
     "metadata": {},
     "output_type": "display_data"
    },
    {
     "data": {
      "text/plain": [
       "<Figure size 800x600 with 0 Axes>"
      ]
     },
     "metadata": {},
     "output_type": "display_data"
    },
    {
     "data": {
      "text/plain": [
       "<Figure size 800x600 with 0 Axes>"
      ]
     },
     "metadata": {},
     "output_type": "display_data"
    },
    {
     "data": {
      "text/plain": [
       "<Figure size 800x600 with 0 Axes>"
      ]
     },
     "metadata": {},
     "output_type": "display_data"
    },
    {
     "data": {
      "text/plain": [
       "<Figure size 800x600 with 0 Axes>"
      ]
     },
     "metadata": {},
     "output_type": "display_data"
    },
    {
     "data": {
      "text/plain": [
       "<Figure size 800x600 with 0 Axes>"
      ]
     },
     "metadata": {},
     "output_type": "display_data"
    },
    {
     "data": {
      "text/plain": [
       "<Figure size 800x600 with 0 Axes>"
      ]
     },
     "metadata": {},
     "output_type": "display_data"
    },
    {
     "data": {
      "text/plain": [
       "<Figure size 800x600 with 0 Axes>"
      ]
     },
     "metadata": {},
     "output_type": "display_data"
    },
    {
     "data": {
      "text/plain": [
       "<Figure size 800x600 with 0 Axes>"
      ]
     },
     "metadata": {},
     "output_type": "display_data"
    },
    {
     "data": {
      "text/plain": [
       "<Figure size 800x600 with 0 Axes>"
      ]
     },
     "metadata": {},
     "output_type": "display_data"
    },
    {
     "data": {
      "text/plain": [
       "<Figure size 800x600 with 0 Axes>"
      ]
     },
     "metadata": {},
     "output_type": "display_data"
    },
    {
     "data": {
      "text/plain": [
       "<Figure size 800x600 with 0 Axes>"
      ]
     },
     "metadata": {},
     "output_type": "display_data"
    },
    {
     "data": {
      "text/plain": [
       "<Figure size 800x600 with 0 Axes>"
      ]
     },
     "metadata": {},
     "output_type": "display_data"
    },
    {
     "data": {
      "text/plain": [
       "<Figure size 800x600 with 0 Axes>"
      ]
     },
     "metadata": {},
     "output_type": "display_data"
    },
    {
     "data": {
      "text/plain": [
       "<Figure size 800x600 with 0 Axes>"
      ]
     },
     "metadata": {},
     "output_type": "display_data"
    },
    {
     "data": {
      "text/plain": [
       "<Figure size 800x600 with 0 Axes>"
      ]
     },
     "metadata": {},
     "output_type": "display_data"
    },
    {
     "data": {
      "text/plain": [
       "<Figure size 800x600 with 0 Axes>"
      ]
     },
     "metadata": {},
     "output_type": "display_data"
    },
    {
     "data": {
      "text/plain": [
       "<Figure size 800x600 with 0 Axes>"
      ]
     },
     "metadata": {},
     "output_type": "display_data"
    },
    {
     "data": {
      "text/plain": [
       "<Figure size 800x600 with 0 Axes>"
      ]
     },
     "metadata": {},
     "output_type": "display_data"
    },
    {
     "data": {
      "text/plain": [
       "<Figure size 800x600 with 0 Axes>"
      ]
     },
     "metadata": {},
     "output_type": "display_data"
    },
    {
     "data": {
      "text/plain": [
       "<Figure size 800x600 with 0 Axes>"
      ]
     },
     "metadata": {},
     "output_type": "display_data"
    },
    {
     "data": {
      "text/plain": [
       "<Figure size 800x600 with 0 Axes>"
      ]
     },
     "metadata": {},
     "output_type": "display_data"
    },
    {
     "data": {
      "text/plain": [
       "<Figure size 800x600 with 0 Axes>"
      ]
     },
     "metadata": {},
     "output_type": "display_data"
    },
    {
     "data": {
      "text/plain": [
       "<Figure size 800x600 with 0 Axes>"
      ]
     },
     "metadata": {},
     "output_type": "display_data"
    },
    {
     "data": {
      "text/plain": [
       "<Figure size 800x600 with 0 Axes>"
      ]
     },
     "metadata": {},
     "output_type": "display_data"
    },
    {
     "data": {
      "text/plain": [
       "<Figure size 800x600 with 0 Axes>"
      ]
     },
     "metadata": {},
     "output_type": "display_data"
    },
    {
     "data": {
      "text/plain": [
       "<Figure size 800x600 with 0 Axes>"
      ]
     },
     "metadata": {},
     "output_type": "display_data"
    },
    {
     "data": {
      "text/plain": [
       "<Figure size 800x600 with 0 Axes>"
      ]
     },
     "metadata": {},
     "output_type": "display_data"
    },
    {
     "data": {
      "text/plain": [
       "<Figure size 800x600 with 0 Axes>"
      ]
     },
     "metadata": {},
     "output_type": "display_data"
    },
    {
     "data": {
      "text/plain": [
       "<Figure size 800x600 with 0 Axes>"
      ]
     },
     "metadata": {},
     "output_type": "display_data"
    },
    {
     "data": {
      "text/plain": [
       "<Figure size 800x600 with 0 Axes>"
      ]
     },
     "metadata": {},
     "output_type": "display_data"
    },
    {
     "data": {
      "text/plain": [
       "<Figure size 800x600 with 0 Axes>"
      ]
     },
     "metadata": {},
     "output_type": "display_data"
    },
    {
     "data": {
      "text/plain": [
       "<Figure size 800x600 with 0 Axes>"
      ]
     },
     "metadata": {},
     "output_type": "display_data"
    },
    {
     "data": {
      "text/plain": [
       "<Figure size 800x600 with 0 Axes>"
      ]
     },
     "metadata": {},
     "output_type": "display_data"
    },
    {
     "data": {
      "text/plain": [
       "<Figure size 800x600 with 0 Axes>"
      ]
     },
     "metadata": {},
     "output_type": "display_data"
    },
    {
     "data": {
      "text/plain": [
       "<Figure size 800x600 with 0 Axes>"
      ]
     },
     "metadata": {},
     "output_type": "display_data"
    },
    {
     "data": {
      "text/plain": [
       "<Figure size 800x600 with 0 Axes>"
      ]
     },
     "metadata": {},
     "output_type": "display_data"
    },
    {
     "data": {
      "text/plain": [
       "<Figure size 800x600 with 0 Axes>"
      ]
     },
     "metadata": {},
     "output_type": "display_data"
    },
    {
     "data": {
      "text/plain": [
       "<Figure size 800x600 with 0 Axes>"
      ]
     },
     "metadata": {},
     "output_type": "display_data"
    },
    {
     "data": {
      "text/plain": [
       "<Figure size 800x600 with 0 Axes>"
      ]
     },
     "metadata": {},
     "output_type": "display_data"
    },
    {
     "data": {
      "text/plain": [
       "<Figure size 800x600 with 0 Axes>"
      ]
     },
     "metadata": {},
     "output_type": "display_data"
    },
    {
     "data": {
      "text/plain": [
       "<Figure size 800x600 with 0 Axes>"
      ]
     },
     "metadata": {},
     "output_type": "display_data"
    },
    {
     "data": {
      "text/plain": [
       "<Figure size 800x600 with 0 Axes>"
      ]
     },
     "metadata": {},
     "output_type": "display_data"
    },
    {
     "data": {
      "text/plain": [
       "<Figure size 800x600 with 0 Axes>"
      ]
     },
     "metadata": {},
     "output_type": "display_data"
    },
    {
     "data": {
      "text/plain": [
       "<Figure size 800x600 with 0 Axes>"
      ]
     },
     "metadata": {},
     "output_type": "display_data"
    },
    {
     "data": {
      "text/plain": [
       "<Figure size 800x600 with 0 Axes>"
      ]
     },
     "metadata": {},
     "output_type": "display_data"
    },
    {
     "data": {
      "text/plain": [
       "<Figure size 800x600 with 0 Axes>"
      ]
     },
     "metadata": {},
     "output_type": "display_data"
    },
    {
     "data": {
      "text/plain": [
       "<Figure size 800x600 with 0 Axes>"
      ]
     },
     "metadata": {},
     "output_type": "display_data"
    },
    {
     "data": {
      "text/plain": [
       "<Figure size 800x600 with 0 Axes>"
      ]
     },
     "metadata": {},
     "output_type": "display_data"
    },
    {
     "data": {
      "text/plain": [
       "<Figure size 800x600 with 0 Axes>"
      ]
     },
     "metadata": {},
     "output_type": "display_data"
    },
    {
     "data": {
      "text/plain": [
       "<Figure size 800x600 with 0 Axes>"
      ]
     },
     "metadata": {},
     "output_type": "display_data"
    },
    {
     "data": {
      "text/plain": [
       "<Figure size 800x600 with 0 Axes>"
      ]
     },
     "metadata": {},
     "output_type": "display_data"
    },
    {
     "data": {
      "text/plain": [
       "<Figure size 800x600 with 0 Axes>"
      ]
     },
     "metadata": {},
     "output_type": "display_data"
    },
    {
     "data": {
      "text/plain": [
       "<Figure size 800x600 with 0 Axes>"
      ]
     },
     "metadata": {},
     "output_type": "display_data"
    },
    {
     "data": {
      "text/plain": [
       "<Figure size 800x600 with 0 Axes>"
      ]
     },
     "metadata": {},
     "output_type": "display_data"
    },
    {
     "data": {
      "text/plain": [
       "<Figure size 800x600 with 0 Axes>"
      ]
     },
     "metadata": {},
     "output_type": "display_data"
    },
    {
     "data": {
      "text/plain": [
       "<Figure size 800x600 with 0 Axes>"
      ]
     },
     "metadata": {},
     "output_type": "display_data"
    },
    {
     "data": {
      "text/plain": [
       "<Figure size 800x600 with 0 Axes>"
      ]
     },
     "metadata": {},
     "output_type": "display_data"
    },
    {
     "data": {
      "text/plain": [
       "<Figure size 800x600 with 0 Axes>"
      ]
     },
     "metadata": {},
     "output_type": "display_data"
    },
    {
     "data": {
      "text/plain": [
       "<Figure size 800x600 with 0 Axes>"
      ]
     },
     "metadata": {},
     "output_type": "display_data"
    },
    {
     "data": {
      "text/plain": [
       "<Figure size 800x600 with 0 Axes>"
      ]
     },
     "metadata": {},
     "output_type": "display_data"
    },
    {
     "data": {
      "text/plain": [
       "<Figure size 800x600 with 0 Axes>"
      ]
     },
     "metadata": {},
     "output_type": "display_data"
    },
    {
     "data": {
      "text/plain": [
       "<Figure size 800x600 with 0 Axes>"
      ]
     },
     "metadata": {},
     "output_type": "display_data"
    },
    {
     "data": {
      "text/plain": [
       "<Figure size 800x600 with 0 Axes>"
      ]
     },
     "metadata": {},
     "output_type": "display_data"
    },
    {
     "data": {
      "text/plain": [
       "<Figure size 800x600 with 0 Axes>"
      ]
     },
     "metadata": {},
     "output_type": "display_data"
    },
    {
     "data": {
      "text/plain": [
       "<Figure size 800x600 with 0 Axes>"
      ]
     },
     "metadata": {},
     "output_type": "display_data"
    },
    {
     "data": {
      "text/plain": [
       "<Figure size 800x600 with 0 Axes>"
      ]
     },
     "metadata": {},
     "output_type": "display_data"
    },
    {
     "data": {
      "text/plain": [
       "<Figure size 800x600 with 0 Axes>"
      ]
     },
     "metadata": {},
     "output_type": "display_data"
    },
    {
     "data": {
      "text/plain": [
       "<Figure size 800x600 with 0 Axes>"
      ]
     },
     "metadata": {},
     "output_type": "display_data"
    },
    {
     "data": {
      "text/plain": [
       "<Figure size 800x600 with 0 Axes>"
      ]
     },
     "metadata": {},
     "output_type": "display_data"
    },
    {
     "data": {
      "text/plain": [
       "<Figure size 800x600 with 0 Axes>"
      ]
     },
     "metadata": {},
     "output_type": "display_data"
    },
    {
     "data": {
      "text/plain": [
       "<Figure size 800x600 with 0 Axes>"
      ]
     },
     "metadata": {},
     "output_type": "display_data"
    },
    {
     "data": {
      "text/plain": [
       "<Figure size 800x600 with 0 Axes>"
      ]
     },
     "metadata": {},
     "output_type": "display_data"
    },
    {
     "data": {
      "text/plain": [
       "<Figure size 800x600 with 0 Axes>"
      ]
     },
     "metadata": {},
     "output_type": "display_data"
    },
    {
     "data": {
      "text/plain": [
       "<Figure size 800x600 with 0 Axes>"
      ]
     },
     "metadata": {},
     "output_type": "display_data"
    },
    {
     "data": {
      "text/plain": [
       "<Figure size 800x600 with 0 Axes>"
      ]
     },
     "metadata": {},
     "output_type": "display_data"
    },
    {
     "data": {
      "text/plain": [
       "<Figure size 800x600 with 0 Axes>"
      ]
     },
     "metadata": {},
     "output_type": "display_data"
    },
    {
     "data": {
      "text/plain": [
       "<Figure size 800x600 with 0 Axes>"
      ]
     },
     "metadata": {},
     "output_type": "display_data"
    },
    {
     "data": {
      "text/plain": [
       "<Figure size 800x600 with 0 Axes>"
      ]
     },
     "metadata": {},
     "output_type": "display_data"
    },
    {
     "data": {
      "text/plain": [
       "<Figure size 800x600 with 0 Axes>"
      ]
     },
     "metadata": {},
     "output_type": "display_data"
    },
    {
     "data": {
      "text/plain": [
       "<Figure size 800x600 with 0 Axes>"
      ]
     },
     "metadata": {},
     "output_type": "display_data"
    },
    {
     "data": {
      "text/plain": [
       "<Figure size 800x600 with 0 Axes>"
      ]
     },
     "metadata": {},
     "output_type": "display_data"
    },
    {
     "data": {
      "text/plain": [
       "<Figure size 800x600 with 0 Axes>"
      ]
     },
     "metadata": {},
     "output_type": "display_data"
    },
    {
     "data": {
      "text/plain": [
       "<Figure size 800x600 with 0 Axes>"
      ]
     },
     "metadata": {},
     "output_type": "display_data"
    },
    {
     "data": {
      "text/plain": [
       "<Figure size 800x600 with 0 Axes>"
      ]
     },
     "metadata": {},
     "output_type": "display_data"
    },
    {
     "data": {
      "text/plain": [
       "<Figure size 800x600 with 0 Axes>"
      ]
     },
     "metadata": {},
     "output_type": "display_data"
    },
    {
     "data": {
      "text/plain": [
       "<Figure size 800x600 with 0 Axes>"
      ]
     },
     "metadata": {},
     "output_type": "display_data"
    },
    {
     "data": {
      "text/plain": [
       "<Figure size 800x600 with 0 Axes>"
      ]
     },
     "metadata": {},
     "output_type": "display_data"
    },
    {
     "data": {
      "text/plain": [
       "<Figure size 800x600 with 0 Axes>"
      ]
     },
     "metadata": {},
     "output_type": "display_data"
    },
    {
     "data": {
      "text/plain": [
       "<Figure size 800x600 with 0 Axes>"
      ]
     },
     "metadata": {},
     "output_type": "display_data"
    },
    {
     "data": {
      "text/plain": [
       "<Figure size 800x600 with 0 Axes>"
      ]
     },
     "metadata": {},
     "output_type": "display_data"
    },
    {
     "data": {
      "text/plain": [
       "<Figure size 800x600 with 0 Axes>"
      ]
     },
     "metadata": {},
     "output_type": "display_data"
    },
    {
     "data": {
      "text/plain": [
       "<Figure size 800x600 with 0 Axes>"
      ]
     },
     "metadata": {},
     "output_type": "display_data"
    },
    {
     "data": {
      "text/plain": [
       "<Figure size 800x600 with 0 Axes>"
      ]
     },
     "metadata": {},
     "output_type": "display_data"
    },
    {
     "data": {
      "text/plain": [
       "<Figure size 800x600 with 0 Axes>"
      ]
     },
     "metadata": {},
     "output_type": "display_data"
    },
    {
     "data": {
      "text/plain": [
       "<Figure size 800x600 with 0 Axes>"
      ]
     },
     "metadata": {},
     "output_type": "display_data"
    },
    {
     "data": {
      "text/plain": [
       "<Figure size 800x600 with 0 Axes>"
      ]
     },
     "metadata": {},
     "output_type": "display_data"
    },
    {
     "data": {
      "text/plain": [
       "<Figure size 800x600 with 0 Axes>"
      ]
     },
     "metadata": {},
     "output_type": "display_data"
    },
    {
     "data": {
      "text/plain": [
       "<Figure size 800x600 with 0 Axes>"
      ]
     },
     "metadata": {},
     "output_type": "display_data"
    },
    {
     "data": {
      "text/plain": [
       "<Figure size 800x600 with 0 Axes>"
      ]
     },
     "metadata": {},
     "output_type": "display_data"
    },
    {
     "data": {
      "text/plain": [
       "<Figure size 800x600 with 0 Axes>"
      ]
     },
     "metadata": {},
     "output_type": "display_data"
    },
    {
     "data": {
      "text/plain": [
       "<Figure size 800x600 with 0 Axes>"
      ]
     },
     "metadata": {},
     "output_type": "display_data"
    },
    {
     "data": {
      "text/plain": [
       "<Figure size 800x600 with 0 Axes>"
      ]
     },
     "metadata": {},
     "output_type": "display_data"
    },
    {
     "data": {
      "text/plain": [
       "<Figure size 800x600 with 0 Axes>"
      ]
     },
     "metadata": {},
     "output_type": "display_data"
    },
    {
     "data": {
      "text/plain": [
       "<Figure size 800x600 with 0 Axes>"
      ]
     },
     "metadata": {},
     "output_type": "display_data"
    },
    {
     "data": {
      "text/plain": [
       "<Figure size 800x600 with 0 Axes>"
      ]
     },
     "metadata": {},
     "output_type": "display_data"
    },
    {
     "data": {
      "text/plain": [
       "<Figure size 800x600 with 0 Axes>"
      ]
     },
     "metadata": {},
     "output_type": "display_data"
    },
    {
     "data": {
      "text/plain": [
       "<Figure size 800x600 with 0 Axes>"
      ]
     },
     "metadata": {},
     "output_type": "display_data"
    },
    {
     "data": {
      "text/plain": [
       "<Figure size 800x600 with 0 Axes>"
      ]
     },
     "metadata": {},
     "output_type": "display_data"
    },
    {
     "data": {
      "text/plain": [
       "<Figure size 800x600 with 0 Axes>"
      ]
     },
     "metadata": {},
     "output_type": "display_data"
    },
    {
     "data": {
      "text/plain": [
       "<Figure size 800x600 with 0 Axes>"
      ]
     },
     "metadata": {},
     "output_type": "display_data"
    },
    {
     "data": {
      "text/plain": [
       "<Figure size 800x600 with 0 Axes>"
      ]
     },
     "metadata": {},
     "output_type": "display_data"
    },
    {
     "data": {
      "text/plain": [
       "<Figure size 800x600 with 0 Axes>"
      ]
     },
     "metadata": {},
     "output_type": "display_data"
    },
    {
     "data": {
      "text/plain": [
       "<Figure size 800x600 with 0 Axes>"
      ]
     },
     "metadata": {},
     "output_type": "display_data"
    },
    {
     "data": {
      "text/plain": [
       "<Figure size 800x600 with 0 Axes>"
      ]
     },
     "metadata": {},
     "output_type": "display_data"
    },
    {
     "data": {
      "text/plain": [
       "<Figure size 800x600 with 0 Axes>"
      ]
     },
     "metadata": {},
     "output_type": "display_data"
    },
    {
     "data": {
      "text/plain": [
       "<Figure size 800x600 with 0 Axes>"
      ]
     },
     "metadata": {},
     "output_type": "display_data"
    },
    {
     "data": {
      "text/plain": [
       "<Figure size 800x600 with 0 Axes>"
      ]
     },
     "metadata": {},
     "output_type": "display_data"
    },
    {
     "data": {
      "text/plain": [
       "<Figure size 800x600 with 0 Axes>"
      ]
     },
     "metadata": {},
     "output_type": "display_data"
    },
    {
     "data": {
      "text/plain": [
       "<Figure size 800x600 with 0 Axes>"
      ]
     },
     "metadata": {},
     "output_type": "display_data"
    },
    {
     "data": {
      "text/plain": [
       "<Figure size 800x600 with 0 Axes>"
      ]
     },
     "metadata": {},
     "output_type": "display_data"
    },
    {
     "data": {
      "text/plain": [
       "<Figure size 800x600 with 0 Axes>"
      ]
     },
     "metadata": {},
     "output_type": "display_data"
    },
    {
     "data": {
      "text/plain": [
       "<Figure size 800x600 with 0 Axes>"
      ]
     },
     "metadata": {},
     "output_type": "display_data"
    },
    {
     "data": {
      "text/plain": [
       "<Figure size 800x600 with 0 Axes>"
      ]
     },
     "metadata": {},
     "output_type": "display_data"
    },
    {
     "data": {
      "text/plain": [
       "<Figure size 800x600 with 0 Axes>"
      ]
     },
     "metadata": {},
     "output_type": "display_data"
    },
    {
     "data": {
      "text/plain": [
       "<Figure size 800x600 with 0 Axes>"
      ]
     },
     "metadata": {},
     "output_type": "display_data"
    },
    {
     "data": {
      "text/plain": [
       "<Figure size 800x600 with 0 Axes>"
      ]
     },
     "metadata": {},
     "output_type": "display_data"
    },
    {
     "data": {
      "text/plain": [
       "<Figure size 800x600 with 0 Axes>"
      ]
     },
     "metadata": {},
     "output_type": "display_data"
    },
    {
     "data": {
      "text/plain": [
       "<Figure size 800x600 with 0 Axes>"
      ]
     },
     "metadata": {},
     "output_type": "display_data"
    },
    {
     "data": {
      "text/plain": [
       "<Figure size 800x600 with 0 Axes>"
      ]
     },
     "metadata": {},
     "output_type": "display_data"
    },
    {
     "data": {
      "text/plain": [
       "<Figure size 800x600 with 0 Axes>"
      ]
     },
     "metadata": {},
     "output_type": "display_data"
    },
    {
     "data": {
      "text/plain": [
       "<Figure size 800x600 with 0 Axes>"
      ]
     },
     "metadata": {},
     "output_type": "display_data"
    },
    {
     "data": {
      "text/plain": [
       "<Figure size 800x600 with 0 Axes>"
      ]
     },
     "metadata": {},
     "output_type": "display_data"
    },
    {
     "data": {
      "text/plain": [
       "<Figure size 800x600 with 0 Axes>"
      ]
     },
     "metadata": {},
     "output_type": "display_data"
    },
    {
     "data": {
      "text/plain": [
       "<Figure size 800x600 with 0 Axes>"
      ]
     },
     "metadata": {},
     "output_type": "display_data"
    },
    {
     "data": {
      "text/plain": [
       "<Figure size 800x600 with 0 Axes>"
      ]
     },
     "metadata": {},
     "output_type": "display_data"
    },
    {
     "data": {
      "text/plain": [
       "<Figure size 800x600 with 0 Axes>"
      ]
     },
     "metadata": {},
     "output_type": "display_data"
    },
    {
     "data": {
      "text/plain": [
       "<Figure size 800x600 with 0 Axes>"
      ]
     },
     "metadata": {},
     "output_type": "display_data"
    },
    {
     "data": {
      "text/plain": [
       "<Figure size 800x600 with 0 Axes>"
      ]
     },
     "metadata": {},
     "output_type": "display_data"
    },
    {
     "data": {
      "text/plain": [
       "<Figure size 800x600 with 0 Axes>"
      ]
     },
     "metadata": {},
     "output_type": "display_data"
    },
    {
     "data": {
      "text/plain": [
       "<Figure size 800x600 with 0 Axes>"
      ]
     },
     "metadata": {},
     "output_type": "display_data"
    },
    {
     "data": {
      "text/plain": [
       "<Figure size 800x600 with 0 Axes>"
      ]
     },
     "metadata": {},
     "output_type": "display_data"
    },
    {
     "data": {
      "text/plain": [
       "<Figure size 800x600 with 0 Axes>"
      ]
     },
     "metadata": {},
     "output_type": "display_data"
    },
    {
     "data": {
      "text/plain": [
       "<Figure size 800x600 with 0 Axes>"
      ]
     },
     "metadata": {},
     "output_type": "display_data"
    },
    {
     "data": {
      "text/plain": [
       "<Figure size 800x600 with 0 Axes>"
      ]
     },
     "metadata": {},
     "output_type": "display_data"
    },
    {
     "data": {
      "text/plain": [
       "<Figure size 800x600 with 0 Axes>"
      ]
     },
     "metadata": {},
     "output_type": "display_data"
    },
    {
     "data": {
      "text/plain": [
       "<Figure size 800x600 with 0 Axes>"
      ]
     },
     "metadata": {},
     "output_type": "display_data"
    },
    {
     "data": {
      "text/plain": [
       "<Figure size 800x600 with 0 Axes>"
      ]
     },
     "metadata": {},
     "output_type": "display_data"
    },
    {
     "data": {
      "text/plain": [
       "<Figure size 800x600 with 0 Axes>"
      ]
     },
     "metadata": {},
     "output_type": "display_data"
    },
    {
     "data": {
      "text/plain": [
       "<Figure size 800x600 with 0 Axes>"
      ]
     },
     "metadata": {},
     "output_type": "display_data"
    },
    {
     "data": {
      "text/plain": [
       "<Figure size 800x600 with 0 Axes>"
      ]
     },
     "metadata": {},
     "output_type": "display_data"
    },
    {
     "data": {
      "text/plain": [
       "<Figure size 800x600 with 0 Axes>"
      ]
     },
     "metadata": {},
     "output_type": "display_data"
    },
    {
     "data": {
      "text/plain": [
       "<Figure size 800x600 with 0 Axes>"
      ]
     },
     "metadata": {},
     "output_type": "display_data"
    },
    {
     "data": {
      "text/plain": [
       "<Figure size 800x600 with 0 Axes>"
      ]
     },
     "metadata": {},
     "output_type": "display_data"
    },
    {
     "data": {
      "text/plain": [
       "<Figure size 800x600 with 0 Axes>"
      ]
     },
     "metadata": {},
     "output_type": "display_data"
    },
    {
     "data": {
      "text/plain": [
       "<Figure size 800x600 with 0 Axes>"
      ]
     },
     "metadata": {},
     "output_type": "display_data"
    },
    {
     "data": {
      "text/plain": [
       "<Figure size 800x600 with 0 Axes>"
      ]
     },
     "metadata": {},
     "output_type": "display_data"
    },
    {
     "data": {
      "text/plain": [
       "<Figure size 800x600 with 0 Axes>"
      ]
     },
     "metadata": {},
     "output_type": "display_data"
    },
    {
     "data": {
      "text/plain": [
       "<Figure size 800x600 with 0 Axes>"
      ]
     },
     "metadata": {},
     "output_type": "display_data"
    },
    {
     "data": {
      "text/plain": [
       "<Figure size 800x600 with 0 Axes>"
      ]
     },
     "metadata": {},
     "output_type": "display_data"
    },
    {
     "data": {
      "text/plain": [
       "<Figure size 800x600 with 0 Axes>"
      ]
     },
     "metadata": {},
     "output_type": "display_data"
    },
    {
     "data": {
      "text/plain": [
       "<Figure size 800x600 with 0 Axes>"
      ]
     },
     "metadata": {},
     "output_type": "display_data"
    },
    {
     "data": {
      "text/plain": [
       "<Figure size 800x600 with 0 Axes>"
      ]
     },
     "metadata": {},
     "output_type": "display_data"
    },
    {
     "data": {
      "text/plain": [
       "<Figure size 800x600 with 0 Axes>"
      ]
     },
     "metadata": {},
     "output_type": "display_data"
    },
    {
     "data": {
      "text/plain": [
       "<Figure size 800x600 with 0 Axes>"
      ]
     },
     "metadata": {},
     "output_type": "display_data"
    },
    {
     "data": {
      "text/plain": [
       "<Figure size 800x600 with 0 Axes>"
      ]
     },
     "metadata": {},
     "output_type": "display_data"
    },
    {
     "data": {
      "text/plain": [
       "<Figure size 800x600 with 0 Axes>"
      ]
     },
     "metadata": {},
     "output_type": "display_data"
    },
    {
     "data": {
      "text/plain": [
       "<Figure size 800x600 with 0 Axes>"
      ]
     },
     "metadata": {},
     "output_type": "display_data"
    },
    {
     "data": {
      "text/plain": [
       "<Figure size 800x600 with 0 Axes>"
      ]
     },
     "metadata": {},
     "output_type": "display_data"
    },
    {
     "data": {
      "text/plain": [
       "<Figure size 800x600 with 0 Axes>"
      ]
     },
     "metadata": {},
     "output_type": "display_data"
    },
    {
     "data": {
      "text/plain": [
       "<Figure size 800x600 with 0 Axes>"
      ]
     },
     "metadata": {},
     "output_type": "display_data"
    },
    {
     "data": {
      "text/plain": [
       "<Figure size 800x600 with 0 Axes>"
      ]
     },
     "metadata": {},
     "output_type": "display_data"
    },
    {
     "data": {
      "text/plain": [
       "<Figure size 800x600 with 0 Axes>"
      ]
     },
     "metadata": {},
     "output_type": "display_data"
    },
    {
     "data": {
      "text/plain": [
       "<Figure size 800x600 with 0 Axes>"
      ]
     },
     "metadata": {},
     "output_type": "display_data"
    },
    {
     "data": {
      "text/plain": [
       "<Figure size 800x600 with 0 Axes>"
      ]
     },
     "metadata": {},
     "output_type": "display_data"
    },
    {
     "data": {
      "text/plain": [
       "<Figure size 800x600 with 0 Axes>"
      ]
     },
     "metadata": {},
     "output_type": "display_data"
    },
    {
     "data": {
      "text/plain": [
       "<Figure size 800x600 with 0 Axes>"
      ]
     },
     "metadata": {},
     "output_type": "display_data"
    },
    {
     "data": {
      "text/plain": [
       "<Figure size 800x600 with 0 Axes>"
      ]
     },
     "metadata": {},
     "output_type": "display_data"
    },
    {
     "data": {
      "text/plain": [
       "<Figure size 800x600 with 0 Axes>"
      ]
     },
     "metadata": {},
     "output_type": "display_data"
    },
    {
     "data": {
      "text/plain": [
       "<Figure size 800x600 with 0 Axes>"
      ]
     },
     "metadata": {},
     "output_type": "display_data"
    },
    {
     "data": {
      "text/plain": [
       "<Figure size 800x600 with 0 Axes>"
      ]
     },
     "metadata": {},
     "output_type": "display_data"
    },
    {
     "data": {
      "text/plain": [
       "<Figure size 800x600 with 0 Axes>"
      ]
     },
     "metadata": {},
     "output_type": "display_data"
    },
    {
     "data": {
      "text/plain": [
       "<Figure size 800x600 with 0 Axes>"
      ]
     },
     "metadata": {},
     "output_type": "display_data"
    },
    {
     "data": {
      "text/plain": [
       "<Figure size 800x600 with 0 Axes>"
      ]
     },
     "metadata": {},
     "output_type": "display_data"
    },
    {
     "data": {
      "text/plain": [
       "<Figure size 800x600 with 0 Axes>"
      ]
     },
     "metadata": {},
     "output_type": "display_data"
    },
    {
     "data": {
      "text/plain": [
       "<Figure size 800x600 with 0 Axes>"
      ]
     },
     "metadata": {},
     "output_type": "display_data"
    },
    {
     "data": {
      "text/plain": [
       "<Figure size 800x600 with 0 Axes>"
      ]
     },
     "metadata": {},
     "output_type": "display_data"
    },
    {
     "data": {
      "text/plain": [
       "<Figure size 800x600 with 0 Axes>"
      ]
     },
     "metadata": {},
     "output_type": "display_data"
    },
    {
     "data": {
      "text/plain": [
       "<Figure size 800x600 with 0 Axes>"
      ]
     },
     "metadata": {},
     "output_type": "display_data"
    },
    {
     "data": {
      "text/plain": [
       "<Figure size 800x600 with 0 Axes>"
      ]
     },
     "metadata": {},
     "output_type": "display_data"
    },
    {
     "data": {
      "text/plain": [
       "<Figure size 800x600 with 0 Axes>"
      ]
     },
     "metadata": {},
     "output_type": "display_data"
    },
    {
     "data": {
      "text/plain": [
       "<Figure size 800x600 with 0 Axes>"
      ]
     },
     "metadata": {},
     "output_type": "display_data"
    },
    {
     "data": {
      "text/plain": [
       "<Figure size 800x600 with 0 Axes>"
      ]
     },
     "metadata": {},
     "output_type": "display_data"
    },
    {
     "data": {
      "text/plain": [
       "<Figure size 800x600 with 0 Axes>"
      ]
     },
     "metadata": {},
     "output_type": "display_data"
    },
    {
     "data": {
      "text/plain": [
       "<Figure size 800x600 with 0 Axes>"
      ]
     },
     "metadata": {},
     "output_type": "display_data"
    },
    {
     "data": {
      "text/plain": [
       "<Figure size 800x600 with 0 Axes>"
      ]
     },
     "metadata": {},
     "output_type": "display_data"
    },
    {
     "data": {
      "text/plain": [
       "<Figure size 800x600 with 0 Axes>"
      ]
     },
     "metadata": {},
     "output_type": "display_data"
    },
    {
     "data": {
      "text/plain": [
       "<Figure size 800x600 with 0 Axes>"
      ]
     },
     "metadata": {},
     "output_type": "display_data"
    },
    {
     "data": {
      "text/plain": [
       "<Figure size 800x600 with 0 Axes>"
      ]
     },
     "metadata": {},
     "output_type": "display_data"
    },
    {
     "data": {
      "text/plain": [
       "<Figure size 800x600 with 0 Axes>"
      ]
     },
     "metadata": {},
     "output_type": "display_data"
    },
    {
     "data": {
      "text/plain": [
       "<Figure size 800x600 with 0 Axes>"
      ]
     },
     "metadata": {},
     "output_type": "display_data"
    },
    {
     "data": {
      "text/plain": [
       "<Figure size 800x600 with 0 Axes>"
      ]
     },
     "metadata": {},
     "output_type": "display_data"
    },
    {
     "data": {
      "text/plain": [
       "<Figure size 800x600 with 0 Axes>"
      ]
     },
     "metadata": {},
     "output_type": "display_data"
    },
    {
     "data": {
      "text/plain": [
       "<Figure size 800x600 with 0 Axes>"
      ]
     },
     "metadata": {},
     "output_type": "display_data"
    },
    {
     "data": {
      "text/plain": [
       "<Figure size 800x600 with 0 Axes>"
      ]
     },
     "metadata": {},
     "output_type": "display_data"
    },
    {
     "data": {
      "text/plain": [
       "<Figure size 800x600 with 0 Axes>"
      ]
     },
     "metadata": {},
     "output_type": "display_data"
    },
    {
     "data": {
      "text/plain": [
       "<Figure size 800x600 with 0 Axes>"
      ]
     },
     "metadata": {},
     "output_type": "display_data"
    },
    {
     "data": {
      "text/plain": [
       "<Figure size 800x600 with 0 Axes>"
      ]
     },
     "metadata": {},
     "output_type": "display_data"
    },
    {
     "data": {
      "text/plain": [
       "<Figure size 800x600 with 0 Axes>"
      ]
     },
     "metadata": {},
     "output_type": "display_data"
    },
    {
     "data": {
      "text/plain": [
       "<Figure size 800x600 with 0 Axes>"
      ]
     },
     "metadata": {},
     "output_type": "display_data"
    },
    {
     "data": {
      "text/plain": [
       "<Figure size 800x600 with 0 Axes>"
      ]
     },
     "metadata": {},
     "output_type": "display_data"
    },
    {
     "data": {
      "text/plain": [
       "<Figure size 800x600 with 0 Axes>"
      ]
     },
     "metadata": {},
     "output_type": "display_data"
    },
    {
     "data": {
      "text/plain": [
       "<Figure size 800x600 with 0 Axes>"
      ]
     },
     "metadata": {},
     "output_type": "display_data"
    },
    {
     "data": {
      "text/plain": [
       "<Figure size 800x600 with 0 Axes>"
      ]
     },
     "metadata": {},
     "output_type": "display_data"
    },
    {
     "data": {
      "text/plain": [
       "<Figure size 800x600 with 0 Axes>"
      ]
     },
     "metadata": {},
     "output_type": "display_data"
    },
    {
     "data": {
      "text/plain": [
       "<Figure size 800x600 with 0 Axes>"
      ]
     },
     "metadata": {},
     "output_type": "display_data"
    },
    {
     "data": {
      "text/plain": [
       "<Figure size 800x600 with 0 Axes>"
      ]
     },
     "metadata": {},
     "output_type": "display_data"
    },
    {
     "data": {
      "text/plain": [
       "<Figure size 800x600 with 0 Axes>"
      ]
     },
     "metadata": {},
     "output_type": "display_data"
    },
    {
     "data": {
      "text/plain": [
       "<Figure size 800x600 with 0 Axes>"
      ]
     },
     "metadata": {},
     "output_type": "display_data"
    },
    {
     "data": {
      "text/plain": [
       "<Figure size 800x600 with 0 Axes>"
      ]
     },
     "metadata": {},
     "output_type": "display_data"
    },
    {
     "data": {
      "text/plain": [
       "<Figure size 800x600 with 0 Axes>"
      ]
     },
     "metadata": {},
     "output_type": "display_data"
    },
    {
     "data": {
      "text/plain": [
       "<Figure size 800x600 with 0 Axes>"
      ]
     },
     "metadata": {},
     "output_type": "display_data"
    },
    {
     "data": {
      "text/plain": [
       "<Figure size 800x600 with 0 Axes>"
      ]
     },
     "metadata": {},
     "output_type": "display_data"
    },
    {
     "data": {
      "text/plain": [
       "<Figure size 800x600 with 0 Axes>"
      ]
     },
     "metadata": {},
     "output_type": "display_data"
    },
    {
     "data": {
      "text/plain": [
       "<Figure size 800x600 with 0 Axes>"
      ]
     },
     "metadata": {},
     "output_type": "display_data"
    },
    {
     "data": {
      "text/plain": [
       "<Figure size 800x600 with 0 Axes>"
      ]
     },
     "metadata": {},
     "output_type": "display_data"
    },
    {
     "data": {
      "text/plain": [
       "<Figure size 800x600 with 0 Axes>"
      ]
     },
     "metadata": {},
     "output_type": "display_data"
    },
    {
     "data": {
      "text/plain": [
       "<Figure size 800x600 with 0 Axes>"
      ]
     },
     "metadata": {},
     "output_type": "display_data"
    },
    {
     "data": {
      "text/plain": [
       "<Figure size 800x600 with 0 Axes>"
      ]
     },
     "metadata": {},
     "output_type": "display_data"
    },
    {
     "data": {
      "text/plain": [
       "<Figure size 800x600 with 0 Axes>"
      ]
     },
     "metadata": {},
     "output_type": "display_data"
    },
    {
     "data": {
      "text/plain": [
       "<Figure size 800x600 with 0 Axes>"
      ]
     },
     "metadata": {},
     "output_type": "display_data"
    },
    {
     "data": {
      "text/plain": [
       "<Figure size 800x600 with 0 Axes>"
      ]
     },
     "metadata": {},
     "output_type": "display_data"
    },
    {
     "data": {
      "text/plain": [
       "<Figure size 800x600 with 0 Axes>"
      ]
     },
     "metadata": {},
     "output_type": "display_data"
    },
    {
     "data": {
      "text/plain": [
       "<Figure size 800x600 with 0 Axes>"
      ]
     },
     "metadata": {},
     "output_type": "display_data"
    },
    {
     "data": {
      "text/plain": [
       "<Figure size 800x600 with 0 Axes>"
      ]
     },
     "metadata": {},
     "output_type": "display_data"
    },
    {
     "data": {
      "text/plain": [
       "<Figure size 800x600 with 0 Axes>"
      ]
     },
     "metadata": {},
     "output_type": "display_data"
    },
    {
     "data": {
      "text/plain": [
       "<Figure size 800x600 with 0 Axes>"
      ]
     },
     "metadata": {},
     "output_type": "display_data"
    },
    {
     "data": {
      "text/plain": [
       "<Figure size 800x600 with 0 Axes>"
      ]
     },
     "metadata": {},
     "output_type": "display_data"
    },
    {
     "data": {
      "text/plain": [
       "<Figure size 800x600 with 0 Axes>"
      ]
     },
     "metadata": {},
     "output_type": "display_data"
    },
    {
     "data": {
      "text/plain": [
       "<Figure size 800x600 with 0 Axes>"
      ]
     },
     "metadata": {},
     "output_type": "display_data"
    },
    {
     "data": {
      "text/plain": [
       "<Figure size 800x600 with 0 Axes>"
      ]
     },
     "metadata": {},
     "output_type": "display_data"
    },
    {
     "data": {
      "text/plain": [
       "<Figure size 800x600 with 0 Axes>"
      ]
     },
     "metadata": {},
     "output_type": "display_data"
    },
    {
     "data": {
      "text/plain": [
       "<Figure size 800x600 with 0 Axes>"
      ]
     },
     "metadata": {},
     "output_type": "display_data"
    },
    {
     "data": {
      "text/plain": [
       "<Figure size 800x600 with 0 Axes>"
      ]
     },
     "metadata": {},
     "output_type": "display_data"
    },
    {
     "data": {
      "text/plain": [
       "<Figure size 800x600 with 0 Axes>"
      ]
     },
     "metadata": {},
     "output_type": "display_data"
    },
    {
     "data": {
      "text/plain": [
       "<Figure size 800x600 with 0 Axes>"
      ]
     },
     "metadata": {},
     "output_type": "display_data"
    },
    {
     "data": {
      "text/plain": [
       "<Figure size 800x600 with 0 Axes>"
      ]
     },
     "metadata": {},
     "output_type": "display_data"
    },
    {
     "data": {
      "text/plain": [
       "<Figure size 800x600 with 0 Axes>"
      ]
     },
     "metadata": {},
     "output_type": "display_data"
    },
    {
     "data": {
      "text/plain": [
       "<Figure size 800x600 with 0 Axes>"
      ]
     },
     "metadata": {},
     "output_type": "display_data"
    },
    {
     "data": {
      "text/plain": [
       "<Figure size 800x600 with 0 Axes>"
      ]
     },
     "metadata": {},
     "output_type": "display_data"
    },
    {
     "data": {
      "text/plain": [
       "<Figure size 800x600 with 0 Axes>"
      ]
     },
     "metadata": {},
     "output_type": "display_data"
    },
    {
     "data": {
      "text/plain": [
       "<Figure size 800x600 with 0 Axes>"
      ]
     },
     "metadata": {},
     "output_type": "display_data"
    },
    {
     "data": {
      "text/plain": [
       "<Figure size 800x600 with 0 Axes>"
      ]
     },
     "metadata": {},
     "output_type": "display_data"
    },
    {
     "data": {
      "text/plain": [
       "<Figure size 800x600 with 0 Axes>"
      ]
     },
     "metadata": {},
     "output_type": "display_data"
    }
   ],
   "source": [
    "import matplotlib as mpl\n",
    "#mpl.use('Cairo') #for png, ps, pdf, svg, ...\n",
    "import matplotlib.pyplot as plt\n",
    "import numpy as np\n",
    "import os\n",
    "from mpl_toolkits.axes_grid1 import make_axes_locatable\n",
    "from scipy.optimize import curve_fit\n",
    "import glob\n",
    "from scipy.interpolate import griddata\n",
    "import imageio.v2 as imageio\n",
    "\n",
    "\n",
    "print(\"\\n\\n#################################\")\n",
    "print(\"#### P4P_images.py ####\")\n",
    "print(\"#################################\\n\")\n",
    "\n",
    "\n",
    "# path= os.getcwd()\n",
    "# d_name   = os.path.basename(path)\n",
    "d_name = \"BIN_laser_900\"\n",
    "os.makedirs('./Python/P4P_images/P4P_DenPre_{}'.format(d_name), exist_ok=True)\n",
    "os.makedirs('./Python/P4P_images/P4P_IETmp_{}'.format(d_name), exist_ok=True)\n",
    "os.makedirs('./Python/P4P_images/P4P_ZiMtl_{}'.format(d_name), exist_ok=True)\n",
    "\n",
    "#テスト/本番設定\n",
    "# operation = \"test_1\"\n",
    "# operation = \"test_2\"\n",
    "operation = \"actual\"\n",
    "if operation == \"test_1\":\n",
    "  l = 1\n",
    "  file = 0\n",
    "  file_path = \"./{}/u0000.bin\".format(d_name)\n",
    "if operation == \"test_2\":\n",
    "  l = 10\n",
    "  file_path = \"./{}/u0000.bin\".format(d_name)\n",
    "if operation == \"actual\":\n",
    "  # l = 100\n",
    "  files = sorted([os.path.join(d_name, f) for f in os.listdir(d_name) if f.endswith('.bin')])\n",
    "  l = len(files)\n",
    "  file_path = \"./{}/u0000.bin\".format(d_name)\n",
    "\n",
    "print(\"file_number :\",l)\n",
    "\n",
    "\n",
    "data = read_binary_with_structure(file_path)\n",
    "\n",
    "nx = data['nx']\n",
    "ny = data['ny']\n",
    "x4 = data['x']\n",
    "y4 = data['y']\n",
    "u4 = data['u']\n",
    "all_z = data['zi']\n",
    "mtl = data['mtl']\n",
    "rho = data['rho']\n",
    "nrx1 = data['nrx1']\n",
    "nrx2 = data['nrx2']\n",
    "nrx3 = data['nrx3']\n",
    "nrx4 = data['nrx4']\n",
    "nrx5 = data['nrx5']\n",
    "rtthick = data['rtthick']\n",
    "jjfine = data['jjfine']\n",
    "xleft = data['xleft']\n",
    "xright = data['xright']\n",
    "finemesh = data['finemesh']\n",
    "y_out = data['y_out']\n",
    "ts = 5.4*1e-9\n",
    "\n",
    "#grid(m)\n",
    "grid_x = rthick/(nxr3-nxr2)\n",
    "grid_y = finemesh/(jjfine-1)\n",
    "\n",
    "#密度と電離度の修正値の抽出\n",
    "Target_all = np.where(mtl == 3)\n",
    "projectile_all = np.where(mtl == 2)\n",
    "ambience_all = np.where(mtl == 1)\n",
    "\n",
    "target_density = rho[0,0]\n",
    "projectile_density = rho[projectile_all[0][0],0]\n",
    "print(\"target_density : {:.2e} [g/cc]\".format(target_density))\n",
    "print(\"projectile_density : {:.2e} [g/cc]\".format(projectile_density))\n",
    "\n",
    "ambience_init_ion_deg = np.max(all_z[ambience_all])\n",
    "Target_init_ion_deg = np.max(all_z[Target_all])\n",
    "projectile_init_ion_deg = np.max(all_z[projectile_all])\n",
    "print('ambience_initial_ionization_degree:',ambience_init_ion_deg)\n",
    "print('Target_initial_ionization_degree:',Target_init_ion_deg)\n",
    "print('projectile_initial_ionization_degree:',projectile_init_ion_deg)\n",
    "\n",
    "#計算領域の抽出\n",
    "python_xleft = np.min(x4)*1e6\n",
    "python_xright = np.max(x4)*1e6\n",
    "python_y_out = np.max(y4)*1e6\n",
    "# python_xleft = (-rthick -xleft -(nxr2-nxr1)*grid_x)*1e9\n",
    "# python_xright = ((nxr4-nxr3)*grid_x +xright)*1e9\n",
    "# python_y_out = (finemesh +y_out)*1e9\n",
    "print(\"xleft:\",round(python_xleft,1),\"[um],  xright:\",round(python_xright,1),\"[um], y_max:\",round(python_y_out,1),\"[um]\")\n",
    "\n",
    "\n",
    "## 抽出したい範囲(cell number)\n",
    "x_min = 0\n",
    "x_max = nx\n",
    "y_max = ny\n",
    "##描画領域(nm)\n",
    "x_nm_min = -50\n",
    "x_nm_max = 200\n",
    "y_nm_max = 200\n",
    "# x_min = round(nxr3-1*solid_ball_radius/grid_x)\n",
    "# x_max = round(nxr3+2*solid_ball_radius/grid_x)\n",
    "# y_max = round(2*solid_ball_radius/grid_y)\n",
    "## 抽出したい範囲(nm)\n",
    "# x_nm_min = round(((x_min-nxr2)*grid_x-100e-9)*1e9,1)\n",
    "# x_nm_max = round(((x_max-nxr2)*grid_x-100e-9)*1e9,1)\n",
    "# y_nm_min = 0\n",
    "# y_nm_max = round((y_max*grid_y)*1e9,1)\n",
    "\n",
    "x_range = (x_min, x_max)\n",
    "y_range = (0, y_max)\n",
    "\n",
    "print(\"extract_xleft:\",x_nm_min,\"[um], extract_xright:\",x_nm_max,\"[um], extract_y_max:\",y_nm_max,\"[um]\")\n",
    "print(\"If the extract region reaches the extended zone, this estimate of the extract resion is not precise.\")\n",
    "\n",
    "\n",
    "print(\"\\n----- start loading -----\")\n",
    "for i in np.arange(0,l,1):\n",
    "\n",
    "  if operation == \"test_1\":\n",
    "    file_path = \"./{}/u{:04d}.bin\".format(d_name, file)\n",
    "  if operation == \"test_2\":\n",
    "    file_path = \"./{}/u{:04d}.bin\".format(d_name, i)\n",
    "  if operation == \"actual\":\n",
    "    file_path = \"./{}/u{:04d}.bin\".format(d_name, i)\n",
    "\n",
    "  print('step:',i,\"     file:\",file_path,\"     time:\",data['time'],\"[s]\")\n",
    "    \n",
    "  # データを読み取る(m to nm)\n",
    "  data = read_binary_with_structure(file_path, x_range, y_range)\n",
    "\n",
    "  all_z = data['zi']\n",
    "  mtl = data['mtl']\n",
    "  all_rho = data['rho']\n",
    "  Target_solid = np.where((mtl == 2)& (all_rho >= target_density))\n",
    "  Target_mix = np.where((mtl == 2)& (all_rho < target_density) &(all_rho >= projectile_density))\n",
    "  Target_plasma = np.where((mtl == 2)& (all_rho < projectile_density))\n",
    "  projectile_solid = np.where((mtl == 3)&(all_rho >= projectile_density))\n",
    "  projectile_plasma = np.where((mtl == 3)&(all_rho < projectile_density))\n",
    "  ambience_all = np.where(mtl == 1)\n",
    "\n",
    "  all_z[Target_solid] = all_z[Target_solid]- Target_init_ion_deg\n",
    "  all_z[Target_mix] = all_z[Target_mix]- projectile_init_ion_deg\n",
    "  all_z[Target_plasma] = all_z[Target_plasma]- ambience_init_ion_deg\n",
    "  all_z[projectile_solid] = all_z[projectile_solid]- projectile_init_ion_deg\n",
    "  all_z[projectile_plasma] = all_z[projectile_plasma]- ambience_init_ion_deg\n",
    "  all_z[ambience_all] = all_z[ambience_all]- ambience_init_ion_deg\n",
    "  \n",
    "  # print(data)\n",
    "  print('-------------------------')\n",
    "  fig=plt.figure(figsize=(8,6))\n",
    "  ax1=fig.add_subplot(111,aspect='equal')\n",
    "  # Set up a pylab figure\n",
    "  # set axis labels\n",
    "  ax1.set_xlabel('x [um]')\n",
    "  ax1.set_ylabel('y [um]')\n",
    "  # set axis limits\n",
    "  ax1.set_ylim([x_nm_min,x_nm_max])\n",
    "  ax1.set_xlim([-y_nm_max,y_nm_max])\n",
    "  # ax1.set_xlim([python_xleft,python_xright])\n",
    "  # ax1.set_ylim([-python_y_out,python_y_out])\n",
    "\n",
    "  # Plot field\n",
    "  p1=ax1.tricontourf(data[\"y\"].flatten()*1e6,data[\"x\"].flatten()*1e6,data[\"P\"].flatten()*1e-9,levels=np.linspace(0,225,11))\n",
    "  p2=ax1.tricontourf(-data[\"y\"].flatten()*1e6,data[\"x\"].flatten()*1e6,data[\"rho\"].flatten(),levels=np.linspace(0,20,21))\n",
    "\n",
    "  # add color bar\n",
    "  # create colorbars to either side of the plot\n",
    "  divider = make_axes_locatable(ax1)\n",
    "  cx1=divider.append_axes(\"right\", size=\"5%\", pad=0.8)\n",
    "  cx2=divider.append_axes(\"left\", size=\"5%\", pad=0.8)\n",
    "  cb3=fig.colorbar(p1,cax=cx1)\n",
    "  cb3.set_label('Pressure [GPa]')\n",
    "  cb4=fig.colorbar(p2,cax=cx2)\n",
    "  cb4.set_label('Density [g/cc]')\n",
    "\n",
    "  # set labels on left for left side colorbar\n",
    "  cx2.yaxis.tick_left()\n",
    "  cx2.yaxis.set_label_position('left')\n",
    "\n",
    "    # set title\n",
    "  ax1.set_title('{: 5.2f} us'.format(data[\"time\"]*1e9))\n",
    "\n",
    "  if operation == \"actual\":\n",
    "    fig.savefig('./Python/P4P_images/P4P_DenPre_{}/P4P_DenPre_{:05d}.png'.format(d_name,i))\n",
    "    # clear axis for next step\n",
    "  plt.clf()\n",
    "\n",
    "  fig=plt.figure(figsize=(8,6))\n",
    "  ax1=fig.add_subplot(111,aspect='equal')\n",
    "  # set axis labels\n",
    "  ax1.set_xlabel('x [um]')\n",
    "  ax1.set_ylabel('y [um]')\n",
    "  # set axis limits\n",
    "  ax1.set_ylim([x_nm_min,x_nm_max])\n",
    "  ax1.set_xlim([-y_nm_max,y_nm_max])\n",
    "  # ax.set_xlim([python_xleft,python_xright])\n",
    "  # ax.set_ylim([-python_y_out,python_y_out])\n",
    "\n",
    "  # Plot field\n",
    "  p5=ax1.tricontourf(data[\"y\"].flatten()*1e6,data[\"x\"].flatten()*1e6,data[\"ti\"].flatten(),levels=np.linspace(0,10,21))\n",
    "  p6=ax1.tricontourf(-data[\"y\"].flatten()*1e6,data[\"x\"].flatten()*1e6,data[\"te\"].flatten(),levels=np.linspace(0,10,21))\n",
    "\n",
    "  # add color bar\n",
    "  # create colorbars to either side of the plot\n",
    "  divider = make_axes_locatable(ax1)\n",
    "  cx5=divider.append_axes(\"right\", size=\"5%\", pad=0.8)\n",
    "  cx6=divider.append_axes(\"left\", size=\"5%\", pad=0.8)\n",
    "  cb7=fig.colorbar(p5,cax=cx5)\n",
    "  cb7.set_label('Ion energy [eV]')\n",
    "  cb8=fig.colorbar(p6,cax=cx6)\n",
    "  cb8.set_label('electron energy [eV]')\n",
    "\n",
    "  # set labels on left for left side colorbar\n",
    "  cx6.yaxis.tick_left()\n",
    "  cx6.yaxis.set_label_position('left')\n",
    "  # set title\n",
    "  ax1.set_title('{: 5.2f} ns'.format(data[\"time\"]*1e9))\n",
    "\n",
    "  if operation == \"actual\":\n",
    "    fig.savefig('./Python/P4P_images/P4P_IETmp_{}/P4P_IETmp_{:05d}.png'.format(d_name,i))\n",
    "    # clear axis for next step\n",
    "  plt.clf()\n",
    "\n",
    "    \n",
    "  fig=plt.figure(figsize=(8,6))\n",
    "  ax1=fig.add_subplot(111,aspect='equal')    \n",
    "  # set axis labels\n",
    "  ax1.set_xlabel('x [um]')\n",
    "  ax1.set_ylabel('y [um]')\n",
    "  # set axis limits\n",
    "  ax1.set_ylim([x_nm_min,x_nm_max])\n",
    "  ax1.set_xlim([-y_nm_max,y_nm_max])\n",
    "  # ax.set_xlim([python_xleft,python_xright])\n",
    "  # ax.set_ylim([-python_y_out,python_y_out])\n",
    "    \n",
    "  p7=ax1.tricontourf(data[\"y\"].flatten()*1e6,data[\"x\"].flatten()*1e6,(data[\"mtl\"]-0.1).flatten(),levels=np.linspace(0,3,4))\n",
    "  p8=ax1.tricontourf(-data[\"y\"].flatten()*1e6,data[\"x\"].flatten()*1e6,all_z.flatten(),levels=np.linspace(-1,1,11))\n",
    "\n",
    "  # add color bar\n",
    "\n",
    "  # create colorbars to either side of the plot\n",
    "  divider = make_axes_locatable(ax1)\n",
    "  cx9=divider.append_axes(\"right\", size=\"5%\", pad=0.8)\n",
    "  cx10=divider.append_axes(\"left\", size=\"5%\", pad=0.8)\n",
    "  cb11=fig.colorbar(p7,cax=cx9)\n",
    "  cb11.set_label('Material')\n",
    "  cb12=fig.colorbar(p8,cax=cx10)\n",
    "  cb12.set_label('Ionization degree')\n",
    "  # set labels on left for left side colorbar\n",
    "  cx10.yaxis.tick_left()\n",
    "  cx10.yaxis.set_label_position('left')\n",
    "  # set title\n",
    "  ax1.set_title('{: 5.2f} ns'.format(data[\"time\"]*1e9))\n",
    "      \n",
    "  # save the figure    \n",
    "  if operation == \"actual\":\n",
    "    fig.savefig('./Python/P4P_images/P4P_ZiMtl_{}/P4P_ZiMtl_{:05d}.png'.format(d_name,i))\n",
    "    # clear axis for next step\n",
    "    plt.clf()\n",
    "\n",
    "  \n",
    "\n",
    "if operation == \"actual\":\n",
    "    # Directory to save images\n",
    "    output_dir_1 = './Python/P4P_images/P4P_DenPre_{}/'.format(d_name)\n",
    "    output_dir_2 = './Python/P4P_images/P4P_IETmp_{}/'.format(d_name)\n",
    "    output_dir_3 = './Python/P4P_images/P4P_ZiMtl_{}/'.format(d_name)\n",
    "    output_gif_1 = './Python/P4P_images/P4P_DenPre_{}.gif'.format(d_name)  # Output GIF path\n",
    "    output_gif_2 = './Python/P4P_images/P4P_IETmp_{}.gif'.format(d_name)  # Output GIF path\n",
    "    output_gif_3 = './Python/P4P_images/P4P_ZiMtl_{}.gif'.format(d_name)  # Output GIF path\n",
    "    fps = 60  # 1秒あたりのフレーム数を指定（30FPSなら高速）\n",
    "    # FPSからフレーム間隔を計算\n",
    "    frame_duration = 1 / fps\n",
    "    \n",
    "  \n",
    "    image_files_1 = sorted([os.path.join(output_dir_1, f) for f in os.listdir(output_dir_1) if f.endswith('.png')])\n",
    "    image_files_2 = sorted([os.path.join(output_dir_2, f) for f in os.listdir(output_dir_2) if f.endswith('.png')])\n",
    "    image_files_3 = sorted([os.path.join(output_dir_3, f) for f in os.listdir(output_dir_3) if f.endswith('.png')])\n",
    "    \n",
    "    if len(image_files_1) > 0:\n",
    "        print(f\"Found {len(image_files_1)} images. Creating/updating GIF...\")\n",
    "        # Read and write images to GIF\n",
    "        images = [imageio.imread(img) for img in image_files_1]\n",
    "        imageio.mimsave(output_gif_1, images, duration=frame_duration, loop=0)     \n",
    "        print(\"GIF created/updated successfully:\", output_gif_1)\n",
    "        \n",
    "        print(f\"Found {len(image_files_2)} images. Creating/updating GIF...\")\n",
    "        # Read and write images to GIF\n",
    "        images = [imageio.imread(img) for img in image_files_2]\n",
    "        imageio.mimsave(output_gif_2, images, duration=frame_duration, loop=0)     \n",
    "        print(\"GIF created/updated successfully:\", output_gif_2)\n",
    "        \n",
    "        print(f\"Found {len(image_files_3)} images. Creating/updating GIF...\")\n",
    "        # Read and write images to GIF\n",
    "        images = [imageio.imread(img) for img in image_files_3]\n",
    "        imageio.mimsave(output_gif_3, images, duration=frame_duration, loop=0)     \n",
    "        print(\"GIF created/updated successfully:\", output_gif_3)\n"
   ]
  },
  {
   "cell_type": "code",
   "execution_count": 45,
   "id": "6d547199-f890-4fa1-8294-270248e4b120",
   "metadata": {
    "scrolled": true
   },
   "outputs": [
    {
     "name": "stdout",
     "output_type": "stream",
     "text": [
      "\n",
      "\n",
      "############################\n",
      "#### P4P_charge+plot.py ####\n",
      "############################\n",
      "\n",
      "d_name :  B20      file_number : 502\n"
     ]
    },
    {
     "ename": "ValueError",
     "evalue": "cannot reshape array of size 563739 into shape (1250,451)",
     "output_type": "error",
     "traceback": [
      "\u001b[0;31m---------------------------------------------------------------------------\u001b[0m",
      "\u001b[0;31mValueError\u001b[0m                                Traceback (most recent call last)",
      "Cell \u001b[0;32mIn[45], line 44\u001b[0m\n\u001b[1;32m     39\u001b[0m   file_path \u001b[38;5;241m=\u001b[39m \u001b[38;5;124m\"\u001b[39m\u001b[38;5;124m./\u001b[39m\u001b[38;5;132;01m{}\u001b[39;00m\u001b[38;5;124m/u0000.bin\u001b[39m\u001b[38;5;124m\"\u001b[39m\u001b[38;5;241m.\u001b[39mformat(d_name)\n\u001b[1;32m     41\u001b[0m \u001b[38;5;28mprint\u001b[39m(\u001b[38;5;124m\"\u001b[39m\u001b[38;5;124md_name : \u001b[39m\u001b[38;5;124m\"\u001b[39m,d_name,\u001b[38;5;124m\"\u001b[39m\u001b[38;5;124m     file_number :\u001b[39m\u001b[38;5;124m\"\u001b[39m,l)\n\u001b[0;32m---> 44\u001b[0m data \u001b[38;5;241m=\u001b[39m \u001b[43mread_binary_with_structure\u001b[49m\u001b[43m(\u001b[49m\u001b[43mfile_path\u001b[49m\u001b[43m)\u001b[49m\n\u001b[1;32m     46\u001b[0m nx \u001b[38;5;241m=\u001b[39m data[\u001b[38;5;124m'\u001b[39m\u001b[38;5;124mnx\u001b[39m\u001b[38;5;124m'\u001b[39m]\n\u001b[1;32m     47\u001b[0m ny \u001b[38;5;241m=\u001b[39m data[\u001b[38;5;124m'\u001b[39m\u001b[38;5;124mny\u001b[39m\u001b[38;5;124m'\u001b[39m]\n",
      "Cell \u001b[0;32mIn[37], line 64\u001b[0m, in \u001b[0;36mread_binary_with_structure\u001b[0;34m(file_path, x_range, y_range)\u001b[0m\n\u001b[1;32m     62\u001b[0m finemesh \u001b[38;5;241m=\u001b[39m np\u001b[38;5;241m.\u001b[39mfromfile(f, dtype\u001b[38;5;241m=\u001b[39mnp\u001b[38;5;241m.\u001b[39mfloat32,count\u001b[38;5;241m=\u001b[39m\u001b[38;5;241m1\u001b[39m)[\u001b[38;5;241m0\u001b[39m]\u001b[38;5;241m*\u001b[39m\u001b[38;5;241m1e-2\u001b[39m\n\u001b[1;32m     63\u001b[0m y_out \u001b[38;5;241m=\u001b[39m np\u001b[38;5;241m.\u001b[39mfromfile(f, dtype\u001b[38;5;241m=\u001b[39mnp\u001b[38;5;241m.\u001b[39mfloat32,count\u001b[38;5;241m=\u001b[39m\u001b[38;5;241m1\u001b[39m)[\u001b[38;5;241m0\u001b[39m]\u001b[38;5;241m*\u001b[39m\u001b[38;5;241m1e-2\u001b[39m\n\u001b[0;32m---> 64\u001b[0m rhsp14 \u001b[38;5;241m=\u001b[39m \u001b[43mread_2d_array\u001b[49m\u001b[43m(\u001b[49m\u001b[43m)\u001b[49m\n\u001b[1;32m     65\u001b[0m rhsp24 \u001b[38;5;241m=\u001b[39m read_2d_array()\n\u001b[1;32m     66\u001b[0m rhsp34 \u001b[38;5;241m=\u001b[39m read_2d_array()\n",
      "Cell \u001b[0;32mIn[37], line 34\u001b[0m, in \u001b[0;36mread_binary_with_structure.<locals>.read_2d_array\u001b[0;34m()\u001b[0m\n\u001b[1;32m     33\u001b[0m \u001b[38;5;28;01mdef\u001b[39;00m\u001b[38;5;250m \u001b[39m\u001b[38;5;21mread_2d_array\u001b[39m():\n\u001b[0;32m---> 34\u001b[0m     \u001b[38;5;28;01mreturn\u001b[39;00m \u001b[43mnp\u001b[49m\u001b[38;5;241;43m.\u001b[39;49m\u001b[43mfromfile\u001b[49m\u001b[43m(\u001b[49m\u001b[43mf\u001b[49m\u001b[43m,\u001b[49m\u001b[43m \u001b[49m\u001b[43mdtype\u001b[49m\u001b[38;5;241;43m=\u001b[39;49m\u001b[43mnp\u001b[49m\u001b[38;5;241;43m.\u001b[39;49m\u001b[43mfloat32\u001b[49m\u001b[43m,\u001b[49m\u001b[43m \u001b[49m\u001b[43mcount\u001b[49m\u001b[38;5;241;43m=\u001b[39;49m\u001b[43m(\u001b[49m\u001b[43mnx\u001b[49m\u001b[43m)\u001b[49m\u001b[43m \u001b[49m\u001b[38;5;241;43m*\u001b[39;49m\u001b[43m \u001b[49m\u001b[43m(\u001b[49m\u001b[43mny\u001b[49m\u001b[43m)\u001b[49m\u001b[43m)\u001b[49m\u001b[38;5;241;43m.\u001b[39;49m\u001b[43mreshape\u001b[49m\u001b[43m(\u001b[49m\u001b[43m(\u001b[49m\u001b[43mnx\u001b[49m\u001b[43m,\u001b[49m\u001b[43mny\u001b[49m\u001b[43m)\u001b[49m\u001b[43m,\u001b[49m\u001b[43m \u001b[49m\u001b[43morder\u001b[49m\u001b[38;5;241;43m=\u001b[39;49m\u001b[38;5;124;43m'\u001b[39;49m\u001b[38;5;124;43mF\u001b[39;49m\u001b[38;5;124;43m'\u001b[39;49m\u001b[43m)\u001b[49m[:,\u001b[38;5;241m1\u001b[39m:]\n",
      "\u001b[0;31mValueError\u001b[0m: cannot reshape array of size 563739 into shape (1250,451)"
     ]
    }
   ],
   "source": [
    "import matplotlib as mpl\n",
    "#mpl.use('Cairo') #for png, ps, pdf, svg, ...\n",
    "import matplotlib.pyplot as plt\n",
    "import numpy as np\n",
    "import os\n",
    "from mpl_toolkits.axes_grid1 import make_axes_locatable\n",
    "from scipy.optimize import curve_fit\n",
    "import glob\n",
    "from scipy.interpolate import griddata\n",
    "import matplotlib.gridspec as gridspec\n",
    "\n",
    "\n",
    "print(\"\\n\\n############################\")\n",
    "print(\"#### P4P_charge+plot.py ####\")\n",
    "print(\"############################\\n\")\n",
    "\n",
    "\n",
    "d_names = [\"B20\",\"BIN_laser_54\",\"B8\",\"BIN_laser_135\",\"B12\",\"BIN_laser_270\"]\n",
    "\n",
    "for k in range(0,len(d_names),1):\n",
    "    d_name = d_names[k]\n",
    "    # os.makedirs('./Python/P4P_charge/'.format(d_name), exist_ok=True)\n",
    "\n",
    "    #テスト/本番設定\n",
    "    # operation = \"test_1\"\n",
    "    # operation = \"test_2\"\n",
    "    operation = \"actual\"\n",
    "    if operation == \"test_1\":\n",
    "      l = 1\n",
    "      file = 20\n",
    "      file_path = \"./{}/u0000.bin\".format(d_name)\n",
    "    if operation == \"test_2\":\n",
    "      l = 25\n",
    "      file_path = \"./{}/u0000.bin\".format(d_name)\n",
    "    if operation == \"actual\":\n",
    "      # l = 100\n",
    "      files = sorted([os.path.join(d_name, f) for f in os.listdir(d_name) if f.endswith('.bin')])\n",
    "      l = len(files)\n",
    "      file_path = \"./{}/u0000.bin\".format(d_name)\n",
    "    \n",
    "    print(\"d_name : \",d_name,\"     file_number :\",l)\n",
    "    \n",
    "    \n",
    "    data = read_binary_with_structure(file_path)\n",
    "    \n",
    "    nx = data['nx']\n",
    "    ny = data['ny']\n",
    "    x4 = data['x']\n",
    "    y4 = data['y']\n",
    "    u4 = data['u']\n",
    "    all_z = data['zi']\n",
    "    mtl = data['mtl']\n",
    "    rho = data['rho']\n",
    "    # nrx1 = data['nrx1']\n",
    "    # nrx2 = data['nrx2']\n",
    "    # nrx3 = data['nrx3']\n",
    "    # nrx4 = data['nrx4']\n",
    "    # nrx5 = data['nrx5']\n",
    "    # rtthick = data['rtthick']\n",
    "    # jjfine = data['jjfine']\n",
    "    # xleft = data['xleft']\n",
    "    # xright = data['xright']\n",
    "    # finemesh = data['finemesh']\n",
    "    # y_out = data['y_out']\n",
    "\n",
    "        #パラメータ(cell)\n",
    "    nxr1=50\n",
    "    nxr2=150\n",
    "    nxr3=250\n",
    "    nxr4=300\n",
    "    nxr5=nx\n",
    "    ny=451\n",
    "    nx=1251\n",
    "    jj2=201\n",
    "    \n",
    "    #パラメータ(cm to m)\n",
    "    rtthick = 25e-4*1e-2\n",
    "    xleft = 30e-4*1e-2\n",
    "    xright = 230e-4*1e-2\n",
    "    finemesh = 100e-4*1e-2\n",
    "    y_out = 200e-4*1e-2\n",
    "    \n",
    "    #grid(m)\n",
    "    grid_x = rtthick/(nxr3-nxr2)\n",
    "    grid_y = finemesh/(jj2-1)\n",
    "    \n",
    "    ts=5.4*1e-9\n",
    "\n",
    "    \n",
    "    #密度と電離度の修正値の抽出\n",
    "    Target_all = np.where(mtl == 3)\n",
    "    projectile_all = np.where(mtl == 2)\n",
    "    ambience_all = np.where(mtl == 1)\n",
    "    \n",
    "    target_density = rho[0,0]\n",
    "    projectile_density = rho[projectile_all[0][0],0]\n",
    "    print(\"target_density : {:.2e} [g/cc]\".format(target_density))\n",
    "    print(\"projectile_density : {:.2e} [g/cc]\".format(projectile_density))\n",
    "    \n",
    "    ambience_init_ion_deg = np.max(all_z[ambience_all])\n",
    "    Target_init_ion_deg = np.max(all_z[Target_all])\n",
    "    projectile_init_ion_deg = np.max(all_z[projectile_all])\n",
    "    print('ambience_initial_ionization_degree:',ambience_init_ion_deg)\n",
    "    print('Target_initial_ionization_degree:',Target_init_ion_deg)\n",
    "    print('projectile_initial_ionization_degree:',projectile_init_ion_deg)\n",
    "    \n",
    "    #計算領域の抽出\n",
    "    python_xleft = np.min(x4)*1e6\n",
    "    python_xright = np.max(x4)*1e6\n",
    "    python_y_out = np.max(y4)*1e6\n",
    "    # python_xleft = (-rthick -xleft -(nxr2-nxr1)*grid_x)*1e9\n",
    "    # python_xright = ((nxr4-nxr3)*grid_x +xright)*1e9\n",
    "    # python_y_out = (finemesh +y_out)*1e9\n",
    "    print(\"xleft:\",round(python_xleft,1),\"[um],  xright:\",round(python_xright,1),\"[um], y_max:\",round(python_y_out,1),\"[um]\")\n",
    "    \n",
    "    \n",
    "    ## 抽出したい範囲(cell number)\n",
    "    x_min = nxr1+1\n",
    "    x_max = nxr4\n",
    "    y_max = jj2\n",
    "    y_min=0\n",
    "    # y_max = jjfine\n",
    "    ##描画領域(nm)\n",
    "    # x_nm_min = -50\n",
    "    # x_nm_max = 200\n",
    "    # y_nm_max = 200\n",
    "    # x_min = round(nxr3-1*solid_ball_radius/grid_x)\n",
    "    # x_max = round(nxr3+2*solid_ball_radius/grid_x)\n",
    "    # y_max = round(2*solid_ball_radius/grid_y)\n",
    "    ## 抽出したい範囲(um)\n",
    "    x_nm_min = round(((x_min-nxr2)*grid_x)*1e6,1)\n",
    "    x_nm_max = round(((x_max-nxr2)*grid_x)*1e6,1)\n",
    "    y_nm_min = 0\n",
    "    y_nm_max = round((y_max*grid_y)*1e6,1)\n",
    "    \n",
    "    x_range = (x_min, x_max)\n",
    "    y_range = (y_min, y_max)\n",
    "    \n",
    "    print(\"extract_xleft:\",x_nm_min,\"[um], extract_xright:\",x_nm_max,\"[um], extract_y_max:\",y_nm_max,\"[um]\")\n",
    "    print(\"If the extract region reaches the extended zone, this estimate of the extract resion is not precise.\")\n",
    "    \n",
    "        \n",
    "    \n",
    "    \n",
    "    #phisical const.\n",
    "    k = 1.38e-23\n",
    "    eV = 1.602e-19\n",
    "    F = 96485.3321\n",
    "    \n",
    "    time = []\n",
    "    Target_q_all = []\n",
    "    Projectile_q_all = []\n",
    "    tot_q_all = []\n",
    "    Ion_T_Target_ave_all = []\n",
    "    Ion_T_Projectile_ave_all = []\n",
    "    Ion_R_Target_ave_all = []\n",
    "    Ion_R_Projectile_ave_all = []\n",
    "    Ion_e_Target_ave_all = []\n",
    "    Ion_e_Projectile_ave_all = []\n",
    "    electron_density_ave = []\n",
    "    Num_Ion_Target_all = []\n",
    "    Num_Ion_Projectile_all = []\n",
    "\n",
    "\n",
    "    all_maxp = []\n",
    "    Target_impact_maxp = []\n",
    "    projectile_impact_maxp = []\n",
    "    Target_all_maxp = []\n",
    "    projectile_all_maxp = []\n",
    "    ambience_all_maxp = []\n",
    "    \n",
    "    all_maxi = []\n",
    "    Target_impact_maxi = []\n",
    "    projectile_impact_maxi = []\n",
    "    Target_all_maxi = []\n",
    "    projectile_all_maxi = []\n",
    "    ambience_all_maxi = []\n",
    "    \n",
    "    all_maxe = []\n",
    "    Target_impact_maxe = []\n",
    "    projectile_impact_maxe = []\n",
    "    Target_all_maxe = []\n",
    "    projectile_all_maxe = []\n",
    "    ambience_all_maxe = []\n",
    "    \n",
    "    all_maxz = []\n",
    "    Target_impact_maxz = []\n",
    "    projectile_impact_maxz = []\n",
    "    Target_all_maxz = []\n",
    "    projectile_all_maxz = []\n",
    "    ambience_all_maxz = []\n",
    "    \n",
    "    all_maxr = []\n",
    "    Target_impact_maxr = []\n",
    "    projectile_impact_maxr = []\n",
    "    Target_all_maxr = []\n",
    "    projectile_all_maxr = []\n",
    "    ambience_all_maxr = []\n",
    "    \n",
    "    all_maxed = []\n",
    "    Target_impact_maxed = []\n",
    "    projectile_impact_maxed = []\n",
    "    Target_all_maxed = []\n",
    "    projectile_all_maxed = []\n",
    "    ambience_all_maxed = []\n",
    "    \n",
    "    Target_1 =[]\n",
    "    projectile_1 = []\n",
    "    i_1 = []\n",
    "    \n",
    "    print(\"\\n----- start loading -----\")\n",
    "    for i in np.arange(0,l,1):\n",
    "      if operation == \"test_1\":\n",
    "        file_path = \"./{}/u{:04d}.bin\".format(d_name, file)\n",
    "      if operation == \"test_2\":\n",
    "        file_path = \"./{}/u{:04d}.bin\".format(d_name,i)\n",
    "      if operation == \"actual\":\n",
    "        file_path = \"./{}/u{:04d}.bin\".format(d_name,i)\n",
    "      # データを読み取る(m to nm)\n",
    "      data = read_binary_with_structure(file_path, x_range, y_range)\n",
    "      # print(data)\n",
    "      print('step:',i,\"     file:\",file_path,\"     time:\",data['time'],\"[s]\")\n",
    "\n",
    "        \n",
    "      time.append(data['time']*1e9)\n",
    "      all_x = data['x']\n",
    "      all_y = data['y']\n",
    "      all_rho = data['rho']\n",
    "      all_p = data['P']\n",
    "      all_ed = data['en']\n",
    "      all_e = data['te']\n",
    "      all_T = data['ti']\n",
    "      all_z = data['zi']\n",
    "      mtl = data['mtl']\n",
    "      Target_mol = data['Target_mol']\n",
    "      Projectile_mol = data['Projectile_mol']\n",
    "\n",
    "\n",
    "\n",
    "      ##plot.py\n",
    "      nx = mtl.shape[0]\n",
    "      for x in np.arange(0,nx-2,1):\n",
    "        if mtl[x,1] == 3  and mtl[x+1,1] == 2:\n",
    "          Target_impact = x\n",
    "          projectile_impact = x+1\n",
    "          j = 0\n",
    "        # elif mtl[x,1] == 2  and mtl[x+1,1] == 1:\n",
    "        #   Target_impact = x\n",
    "        #   j = 1\n",
    "        # elif mtl[x,1] == 1  and mtl[x+1,1] == 3:\n",
    "        #   projectile_impact = x+1\n",
    "        #   j = 1\n",
    "      Target_all = np.where(mtl == 3)\n",
    "      projectile_all = np.where(mtl == 2)\n",
    "      ambience_all = np.where(mtl == 1)\n",
    "      # 空の場合\n",
    "      if Target_all[0].size == 0:\n",
    "        Target_all = np.array([0])\n",
    "      if  projectile_all[0].size == 0:\n",
    "         projectile_all = np.array([0])\n",
    "      if ambience_all[0].size == 0:\n",
    "        ambience_all = np.array([0])\n",
    "    \n",
    "      all_p = data['P']\n",
    "      all_maxp.append(np.max(all_p)*1e-9)\n",
    "      Target_impact_maxp.append(all_p[Target_impact,1]*1e-9)\n",
    "      projectile_impact_maxp.append(all_p[projectile_impact,1]*1e-9)\n",
    "      Target_all_maxp.append(np.max(all_p[Target_all])*1e-9)\n",
    "      projectile_all_maxp.append(np.max(all_p[projectile_all])*1e-9)\n",
    "      ambience_all_maxp.append(np.max(all_p[ambience_all])*1e-9)\n",
    "    \n",
    "      all_r = data['rho']\n",
    "      all_maxr.append(np.max(all_r))\n",
    "      Target_impact_maxr.append(all_r[Target_impact,1])\n",
    "      projectile_impact_maxr.append(all_r[projectile_impact,1])\n",
    "      Target_all_maxr.append(np.max(all_r[Target_all]))\n",
    "      projectile_all_maxr.append(np.max(all_r[projectile_all]))\n",
    "      ambience_all_maxr.append(np.max(all_r[ambience_all]))\n",
    "    \n",
    "      all_i = data['ti']\n",
    "      all_maxi.append(np.max(all_i))\n",
    "      Target_impact_maxi.append(all_i[Target_impact,1])\n",
    "      projectile_impact_maxi.append(all_i[projectile_impact,1])\n",
    "      Target_all_maxi.append(np.max(all_i[Target_all]))\n",
    "      projectile_all_maxi.append(np.max(all_i[projectile_all]))\n",
    "      ambience_all_maxi.append(np.max(all_i[ambience_all]))\n",
    "    \n",
    "      all_e = data['te']\n",
    "      all_maxe.append(np.max(all_e))\n",
    "      Target_impact_maxe.append(all_e[Target_impact,1])\n",
    "      projectile_impact_maxe.append(all_e[projectile_impact,1])\n",
    "      Target_all_maxe.append(np.max(all_e[Target_all]))\n",
    "      projectile_all_maxe.append(np.max(all_e[projectile_all]))\n",
    "      ambience_all_maxe.append(np.max(all_e[ambience_all]))\n",
    "    \n",
    "      all_z = data['zi']\n",
    "      all_maxz.append(np.max(all_z))\n",
    "      Target_impact_maxz.append(all_z[Target_impact,1])\n",
    "      projectile_impact_maxz.append(all_z[projectile_impact,1])\n",
    "      Target_all_maxz.append(np.max(all_z[Target_all]))\n",
    "      projectile_all_maxz.append(np.max(all_z[projectile_all]))\n",
    "      ambience_all_maxz.append(np.max(all_z[ambience_all]))\n",
    "    \n",
    "      all_ed = data['en']\n",
    "      all_maxed.append(np.max(all_ed))\n",
    "      Target_impact_maxed.append(all_ed[Target_impact,1])\n",
    "      projectile_impact_maxed.append(all_ed[projectile_impact,1])\n",
    "      Target_all_maxed.append(np.max(all_ed[Target_all]))\n",
    "      projectile_all_maxed.append(np.max(all_ed[projectile_all]))\n",
    "      ambience_all_maxed.append(np.max(all_ed[ambience_all]))\n",
    "    \n",
    "      projectile_1.append(projectile_impact)\n",
    "      Target_1.append(Target_impact)\n",
    "      i_1.append(j)\n",
    "\n",
    "\n",
    "      ##charge.py    \n",
    "      Target = (mtl == 3)\n",
    "      Projectile = (mtl == 2)\n",
    "      Target_solid = (mtl == 3)& (all_rho >= target_density)\n",
    "      Target_mix = (mtl == 3)& (all_rho < target_density) &(all_rho >= projectile_density)\n",
    "      Target_plasma = (mtl == 3)& (all_rho < projectile_density)\n",
    "      projectile_solid = (mtl == 2)&(all_rho >= projectile_density)\n",
    "      projectile_plasma =(mtl == 2)&(all_rho < projectile_density)\n",
    "      ambience_all = (mtl == 1)\n",
    "    \n",
    "      all_z[Target_solid] = all_z[Target_solid]- Target_init_ion_deg\n",
    "      all_z[Target_mix] = all_z[Target_mix]- projectile_init_ion_deg\n",
    "      all_z[Target_plasma] = all_z[Target_plasma]- ambience_init_ion_deg\n",
    "      all_z[projectile_solid] = all_z[projectile_solid]- projectile_init_ion_deg\n",
    "      all_z[projectile_plasma] = all_z[projectile_plasma]- ambience_init_ion_deg\n",
    "      all_z[ambience_all] = all_z[ambience_all]- ambience_init_ion_deg\n",
    "\n",
    "      ##amount of Q\n",
    "      #Extract para.\n",
    "      Target_z = np.where(Target,all_z,np.nan)\n",
    "      Projectile_z = np.where(Projectile,all_z,np.nan)\n",
    "      Target_rho = np.where(Target,all_rho,np.nan)\n",
    "      Projectile_rho = np.where(Projectile,all_rho,np.nan)\n",
    "      Target_y = np.where(Target,all_y,np.nan)\n",
    "      Projectile_y = np.where(Projectile,all_y,np.nan)\n",
    "    \n",
    "      Ion_Target = (all_z>0) & (mtl==3)\n",
    "      Ion_Projectile = (all_z>0) & (mtl == 2)\n",
    "       \n",
    "      Ion_rho_Target = np.where(Target_plasma,all_rho,np.nan)\n",
    "      Ion_rho_Projectile = np.where(projectile_plasma,all_rho,np.nan)\n",
    "      Target_T = np.where(Target_plasma,all_T,np.nan)\n",
    "      Projectile_T = np.where(projectile_plasma,all_T,np.nan)\n",
    "      Ion_z_Target = np.where(Target_plasma,all_z,np.nan)\n",
    "      Ion_z_Projectile = np.where(projectile_plasma,all_z,np.nan)\n",
    "      Target_e = np.where(Target_plasma,all_e,np.nan)\n",
    "      Projectile_e = np.where(projectile_plasma,all_e,np.nan)\n",
    "      Target_ed = np.where(Target_plasma,all_ed,np.nan)\n",
    "      Projectile_ed = np.where(projectile_plasma,all_ed,np.nan)\n",
    "      Ion_y_Target = np.where(Target_plasma,all_y,np.nan)\n",
    "      Ion_y_Projectile = np.where(projectile_plasma,all_y,np.nan)\n",
    "      \n",
    "      #sum up\n",
    "      sum_Target_q =  np.nansum(2*np.pi*Ion_y_Target*1e2*(grid_x*1e2)*(grid_y*1e2)*Ion_rho_Target/Target_mol*Ion_z_Target*F)\n",
    "      sum_Projectile_q = np.nansum(2*np.pi*Ion_y_Projectile*1e2*(grid_x*1e2)*(grid_y*1e2)*Ion_rho_Projectile/Projectile_mol*Ion_z_Projectile*F)\n",
    "      sum_tot_q = sum_Target_q+sum_Projectile_q\n",
    "          \n",
    "      #append\n",
    "      Target_q_all.append(sum_Target_q)\n",
    "      Projectile_q_all.append(sum_Projectile_q)\n",
    "      tot_q_all.append(sum_tot_q)\n",
    "    \n",
    "      #electlon density average\n",
    "      electron_density_ave.append(np.nansum(2*np.pi*(all_y/grid_y)*all_ed)/np.sum(2*np.pi*(all_y/grid_y)*data[\"one\"]))\n",
    "    \n",
    "      ##energy\n",
    "      #Extract para.\n",
    "    \n",
    "      #Total mol for culc. ave.\n",
    "      Target_mol_sum = np.nansum(2*np.pi*Ion_y_Target*1e2*(grid_x*1e2)*(grid_y*1e2)*Ion_rho_Target/Target_mol) #mol/cc\n",
    "      Projectile_mol_sum = np.nansum(2*np.pi*Ion_y_Projectile*1e2*(grid_x*1e2)*(grid_y*1e2)*Ion_rho_Projectile/Projectile_mol)\n",
    "      Target_ed_sum = np.nansum(2*np.pi*Ion_y_Target*1e2*(grid_x*1e2)*(grid_y*1e2)*Target_ed) #\n",
    "      Projectile_ed_sum = np.nansum(2*np.pi*Ion_y_Projectile*1e2*(grid_x*1e2)*(grid_y*1e2)*Projectile_ed)\n",
    "    \n",
    "      #Culc. ave.T\n",
    "      Ion_T_Target_ave = np.nansum(Target_T*(Ion_rho_Target*2*np.pi*Ion_y_Target*1e2*(grid_x*1e2)*(grid_y*1e2)/Target_mol)/Target_mol_sum) #integral(eV*(mol/cc) / (mol/cc))\n",
    "      Ion_T_Projectile_ave = np.nansum(Projectile_T*(Ion_rho_Projectile*2*np.pi*Ion_y_Projectile*1e2*(grid_x*1e2)*(grid_y*1e2)/Projectile_mol)/Projectile_mol_sum)\n",
    "      Ion_R_Target_ave = np.nansum((Ion_rho_Target/Target_mol*6.022e23)*(Ion_rho_Target*2*np.pi*Ion_y_Target*1e2*(grid_x*1e2)*(grid_y*1e2)/Target_mol)/Target_mol_sum) #integral(/cc)*(mol/cc) / (mol/cc))\n",
    "      Ion_R_Projectile_ave = np.nansum((Ion_rho_Projectile/Projectile_mol*6.022e23)*(Ion_rho_Projectile*2*np.pi*Ion_y_Projectile*1e2*(grid_x*1e2)*(grid_y*1e2)/Projectile_mol)/Projectile_mol_sum)\n",
    "      Ion_e_Target_ave = np.nansum(Target_e*(Target_ed*2*np.pi*Ion_y_Target*1e2*(grid_x*1e2)*(grid_y*1e2))/Target_ed_sum) #integral(eV*(/cc) / (/cc))\n",
    "      Ion_e_Projectile_ave = np.nansum(Projectile_e*(Projectile_ed*2*np.pi*Ion_y_Projectile*1e2*(grid_x*1e2)*(grid_y*1e2))/Projectile_ed_sum)\n",
    "    \n",
    "    \n",
    "      #append\n",
    "      Ion_T_Target_ave_all.append(Ion_T_Target_ave)\n",
    "      Ion_T_Projectile_ave_all.append(Ion_T_Projectile_ave)\n",
    "      Ion_R_Target_ave_all.append(Ion_R_Target_ave)\n",
    "      Ion_R_Projectile_ave_all.append(Ion_R_Projectile_ave)\n",
    "      Ion_e_Target_ave_all.append(Ion_e_Target_ave)\n",
    "      Ion_e_Projectile_ave_all.append(Ion_e_Projectile_ave)\n",
    "    \n",
    "      #Relative yield\n",
    "      #Number of ions\n",
    "      Num_Ion_Target = np.nansum(2*np.pi*Ion_y_Target*1e2*Ion_rho_Target/Target_mol*6.022e23)*grid_y*1e2*grid_x*1e2\n",
    "      Num_Ion_Projectile = np.nansum(2*np.pi*Ion_y_Projectile*1e2*Ion_rho_Projectile/Projectile_mol*6.022e23)*grid_y*1e2*grid_x*1e2\n",
    "      total_ions = Num_Ion_Target + Num_Ion_Projectile \n",
    "      if i ==0:\n",
    "          total_ions=1\n",
    "    \n",
    "      Num_Ion_Target = Num_Ion_Target/total_ions*100\n",
    "      Num_Ion_Projectile = Num_Ion_Projectile/total_ions*100\n",
    "    \n",
    "      #append\n",
    "      Num_Ion_Target_all.append(Num_Ion_Target)\n",
    "      Num_Ion_Projectile_all.append(Num_Ion_Projectile)\n",
    "\n",
    "    \n",
    "    max_all_maxp = max(all_maxp)\n",
    "    max_Target_impact_maxp = max(Target_impact_maxp)\n",
    "    max_projectile_impact_maxp = max(projectile_impact_maxp)\n",
    "    max_Target_all_maxp = max(Target_all_maxp)\n",
    "    max_projectile_all_maxp = max(projectile_all_maxp)\n",
    "    max_ambience_all_maxp = max(ambience_all_maxp)\n",
    "    \n",
    "    max_all_maxi = max(all_maxi)\n",
    "    max_Target_impact_maxi = max(Target_impact_maxi)\n",
    "    max_projectile_impact_maxi = max(projectile_impact_maxi)\n",
    "    max_Target_all_maxi = max(Target_all_maxi)\n",
    "    max_projectile_all_maxi = max(projectile_all_maxi)\n",
    "    max_ambience_all_maxi = max(ambience_all_maxi)\n",
    "    \n",
    "    max_all_maxe =  max(all_maxe)\n",
    "    max_Target_impact_maxe = max(Target_impact_maxe)\n",
    "    max_projectile_impact_maxe = max(projectile_impact_maxe)\n",
    "    max_Target_all_maxe = max(Target_all_maxe)\n",
    "    max_projectile_all_maxe = max(projectile_all_maxe)\n",
    "    max_ambience_all_maxe = max(ambience_all_maxe)\n",
    "    \n",
    "    max_all_maxz = max(all_maxz)\n",
    "    max_Target_impact_maxz = max(Target_impact_maxz)\n",
    "    max_projectile_impact_maxz = max(projectile_impact_maxz)\n",
    "    max_Target_all_maxz = max(Target_all_maxz)\n",
    "    max_projectile_all_maxz = max(projectile_all_maxz)\n",
    "    max_ambience_all_maxz = max(ambience_all_maxz)\n",
    "    \n",
    "    max_all_maxr = max(all_maxr)\n",
    "    max_Target_impact_maxr = max(Target_impact_maxr)\n",
    "    max_projectile_impact_maxr = max(projectile_impact_maxr)\n",
    "    max_Target_all_maxr = max(Target_all_maxr)\n",
    "    max_projectile_all_maxr = max(projectile_all_maxr)\n",
    "    max_ambience_all_maxr = max(ambience_all_maxr)\n",
    "    \n",
    "    max_all_maxed = max(all_maxed)\n",
    "    max_Target_impact_maxed = max(Target_impact_maxed)\n",
    "    max_projectile_impact_maxed = max(projectile_impact_maxed)\n",
    "    max_Target_all_maxed = max(Target_all_maxed)\n",
    "    max_projectile_all_maxed = max(projectile_all_maxed)\n",
    "    max_ambience_all_maxed = max(ambience_all_maxed)\n",
    "    \n",
    "    \n",
    "    Target_impact = np.array([max_Target_impact_maxp,max_Target_impact_maxi, max_Target_impact_maxe, max_Target_impact_maxz, max_Target_impact_maxr, max_Target_impact_maxed])\n",
    "    Projectile_impact = np.array([max_projectile_impact_maxp,max_projectile_impact_maxi, max_projectile_impact_maxe, max_projectile_impact_maxz, max_projectile_impact_maxr, max_projectile_impact_maxed])\n",
    "    Target_all = np.array([max_Target_all_maxp,max_Target_all_maxi, max_Target_all_maxe, max_Target_all_maxz, max_Target_all_maxr, max_Target_all_maxed])\n",
    "    Projectile_all = np.array([max_projectile_all_maxp,max_projectile_all_maxi, max_projectile_all_maxe, max_projectile_all_maxz, max_projectile_all_maxr, max_projectile_all_maxed])\n",
    "    ambience_all = np.array([max_ambience_all_maxp,max_ambience_all_maxi, max_ambience_all_maxe, max_ambience_all_maxz, max_ambience_all_maxr, max_ambience_all_maxed])\n",
    "    \n",
    "    \n",
    "    # 各配列の有効数字を変換\n",
    "    def to_scientific_notation(arr):\n",
    "        return [f\"{x:.3e}\" for x in arr]\n",
    "    Target_impact = to_scientific_notation(Target_impact)\n",
    "    Projectile_impact = to_scientific_notation(Projectile_impact)\n",
    "    Target_all = to_scientific_notation(Target_all)\n",
    "    Projectile_all = to_scientific_notation(Projectile_all)\n",
    "    ambience_all = to_scientific_notation(ambience_all)\n",
    "    \n",
    "    label = ['Pressure [GPa]', 'Ion Temperature [eV]', 'Electron Temperature [eV]', 'Ionization Degree','Density [g/cc]','Electron Density [g/cc]' ]\n",
    "    columns  = ['parameters', 'Target_impact_max', 'projectile_impact_max', 'Target_all_max', 'projectile_all_max', 'ambient_all_max']\n",
    "    texts = [[] for i in range(len(label))]\n",
    "    for i in range(len(label)):\n",
    "      texts[i].append(label[i])\n",
    "      texts[i].append(Target_impact[i])\n",
    "      texts[i].append(Projectile_impact[i])\n",
    "      texts[i].append(Target_all[i])\n",
    "      texts[i].append(Projectile_all[i])\n",
    "      texts[i].append(ambience_all[i])\n",
    "    print(columns)\n",
    "    print(texts)\n",
    "    \n",
    "    # Set up a pyplot figure\n",
    "    fig = plt.figure(figsize=(30,7), tight_layout=True)\n",
    "    gs = gridspec.GridSpec(2, 7)\n",
    "    ax1=fig.add_subplot(gs[0,0])\n",
    "    ax2=fig.add_subplot(gs[0,1])\n",
    "    ax3=fig.add_subplot(gs[0,2])\n",
    "    ax4=fig.add_subplot(gs[0,3])\n",
    "    ax5=fig.add_subplot(gs[1,:])\n",
    "    ax6=fig.add_subplot(gs[0,4])\n",
    "    ax7=fig.add_subplot(gs[0,5])\n",
    "    ax9=fig.add_subplot(gs[0,6])\n",
    "    ax8 = ax7.twinx()\n",
    "    \n",
    "    ax5.axis('off')\n",
    "    table = ax5.table(cellText=texts, colLabels=columns, cellLoc='center',loc='center',colColours=['#e9f7ed','#e9f7ed', '#e9f7ed', '#e9f7ed','#e9f7ed','#e9f7ed'])\n",
    "    table.auto_set_font_size(False)\n",
    "    table.set_fontsize(10)\n",
    "    \n",
    "    \n",
    "    # set axis labels\n",
    "    ax1.set_xlabel('t  [ns]')\n",
    "    ax1.set_ylabel('Pressure [GPa]')\n",
    "    ax1.axvspan(0, ts*1e9, color='yellow', alpha=0.3)\n",
    "    \n",
    "    ax1.plot(time,Target_impact_maxp, linewidth = 1.0,c=\"red\",zorder=1,label=\"Target_impact\")\n",
    "    ax1.plot(time,projectile_impact_maxp, linewidth = 1.0,c=\"green\",zorder=1,label=\"projectile_impact\")\n",
    "    ax1.plot(time,Target_all_maxp, linewidth = 1.0,c=\"red\",zorder=1,label=\"Target_all\",ls='--')\n",
    "    ax1.plot(time,projectile_all_maxp, linewidth = 1.0,c=\"green\",zorder=1,label=\"Projectile_all\",ls='--')\n",
    "    ax1.plot(time,ambience_all_maxp, linewidth = 1.0,c=\"blue\",zorder=1,label=\"Ambience_all\",ls='--')\n",
    "    \n",
    "    ax1.axhline(max_Target_impact_maxp, color = \"black\", alpha = 0.2, lw=1, linestyle = \"dashed\")\n",
    "    ax1.axhline(max_projectile_impact_maxp, color = \"black\", alpha = 0.2, lw=1, linestyle = \"dashed\")\n",
    "    ax1.axhline(max_Target_all_maxp, color = \"black\", alpha = 0.2, lw=1, linestyle = \"dashed\")\n",
    "    ax1.axhline(max_projectile_all_maxp, color = \"black\", alpha = 0.2, lw=1, linestyle = \"dashed\")\n",
    "    ax1.axhline(max_ambience_all_maxp, color = \"black\", alpha = 0.2, lw=1, linestyle = \"dashed\")\n",
    "    \n",
    "    ax1.text(0,max_Target_impact_maxp,\"{: 5.1e}\".format(max_Target_impact_maxp),ha='left', va='bottom')\n",
    "    ax1.text(0,max_projectile_impact_maxp,\"{: 5.1e}\".format(max_projectile_impact_maxp),ha='left', va='bottom')\n",
    "    ax1.text(0,max_Target_all_maxp,\"{: 5.1e}\".format(max_Target_all_maxp),ha='left', va='bottom')\n",
    "    ax1.text(0,max_projectile_all_maxp,\"{: 5.1e}\".format(max_projectile_all_maxp),ha='left', va='bottom')\n",
    "    ax1.text(0,max_ambience_all_maxp,\"{: 5.1e}\".format(max_ambience_all_maxp),ha='left', va='bottom')\n",
    "    \n",
    "    ax1.legend(fontsize=8)\n",
    "    #ax1.set_aspect ('equal')\n",
    "    \n",
    "    \n",
    "    # set axis labels\n",
    "    ax2.set_xlabel('t  [ns]')\n",
    "    ax2.set_ylabel('Ion Tempareture [eV]')\n",
    "    ax2.axvspan(0, ts*1e9, color='yellow', alpha=0.3)\n",
    "    \n",
    "    ax2.plot(time,Target_impact_maxi, linewidth = 1.0,c=\"red\",zorder=1,label=\"Target_impact\")\n",
    "    ax2.plot(time,projectile_impact_maxi, linewidth = 1.0,c=\"green\",zorder=1,label=\"projectile_impact\")\n",
    "    ax2.plot(time,Target_all_maxi, linewidth = 1.0,c=\"red\",zorder=1,label=\"Target_all\",ls='--')\n",
    "    ax2.plot(time,projectile_all_maxi, linewidth = 1.0,c=\"green\",zorder=1,label=\"Projectile_all\",ls='--')\n",
    "    ax2.plot(time,ambience_all_maxi, linewidth = 1.0,c=\"blue\",zorder=1,label=\"Ambience_all\",ls='--')\n",
    "    \n",
    "    ax2.axhline(max_Target_impact_maxi, color = \"black\", alpha = 0.2, lw=1, linestyle = \"dashed\")\n",
    "    ax2.axhline(max_projectile_impact_maxi, color = \"black\", alpha = 0.2, lw=1, linestyle = \"dashed\")\n",
    "    ax2.axhline(max_Target_all_maxi, color = \"black\", alpha = 0.2, lw=1, linestyle = \"dashed\")\n",
    "    ax2.axhline(max_projectile_all_maxi, color = \"black\", alpha = 0.2, lw=1, linestyle = \"dashed\")\n",
    "    ax2.axhline(max_ambience_all_maxi, color = \"black\", alpha = 0.2, lw=1, linestyle = \"dashed\")\n",
    "    \n",
    "    ax2.text(0,max_Target_impact_maxi,\"{: 5.1e}\".format(max_Target_impact_maxi),ha='left', va='bottom')\n",
    "    ax2.text(0,max_projectile_impact_maxi,\"{: 5.1e}\".format(max_projectile_impact_maxi),ha='left', va='bottom')\n",
    "    ax2.text(0,max_Target_all_maxi,\"{: 5.1e}\".format(max_Target_all_maxi),ha='left', va='bottom')\n",
    "    ax2.text(0,max_projectile_all_maxi,\"{: 5.1e}\".format(max_projectile_all_maxi),ha='left', va='bottom')\n",
    "    ax2.text(0,max_ambience_all_maxi,\"{: 5.1e}\".format(max_ambience_all_maxi),ha='left', va='bottom')\n",
    "    \n",
    "    ax2.legend(fontsize=8)\n",
    "    #ax2.set_aspect ('equal')\n",
    "    \n",
    "    \n",
    "    # set axis labels\n",
    "    ax3.set_xlabel('t  [ns]')\n",
    "    ax3.set_ylabel('Electron Tempareture [eV]')\n",
    "    ax3.axvspan(0, ts*1e9, color='yellow', alpha=0.3)\n",
    "    \n",
    "    \n",
    "    ax3.plot(time,Target_impact_maxe, linewidth = 1.0,c=\"red\",zorder=1,label=\"Target_impact\")\n",
    "    ax3.plot(time,projectile_impact_maxe, linewidth = 1.0,c=\"green\",zorder=1,label=\"projectile_impact\")\n",
    "    ax3.plot(time,Target_all_maxe, linewidth = 1.0,c=\"red\",zorder=1,label=\"Target_all\",ls='--')\n",
    "    ax3.plot(time,projectile_all_maxe, linewidth = 1.0,c=\"green\",zorder=1,label=\"Projectile_all\",ls='--')\n",
    "    ax3.plot(time,ambience_all_maxe, linewidth = 1.0,c=\"blue\",zorder=1,label=\"Ambience_all\",ls='--')\n",
    "    \n",
    "    ax3.axhline(max_Target_impact_maxe, color = \"black\", alpha = 0.2, lw=1, linestyle = \"dashed\")\n",
    "    ax3.axhline(max_projectile_impact_maxe, color = \"black\", alpha = 0.2, lw=1, linestyle = \"dashed\")\n",
    "    ax3.axhline(max_Target_all_maxe, color = \"black\", alpha = 0.2, lw=1, linestyle = \"dashed\")\n",
    "    ax3.axhline(max_projectile_all_maxe, color = \"black\", alpha = 0.2, lw=1, linestyle = \"dashed\")\n",
    "    ax3.axhline(max_ambience_all_maxe, color = \"black\", alpha = 0.2, lw=1, linestyle = \"dashed\")\n",
    "    \n",
    "    ax3.text(0,max_Target_impact_maxe,\"{: 5.1e}\".format(max_Target_impact_maxe),ha='left', va='bottom')\n",
    "    ax3.text(0,max_projectile_impact_maxe,\"{: 5.1e}\".format(max_projectile_impact_maxe),ha='left', va='bottom')\n",
    "    ax3.text(0,max_Target_all_maxe,\"{: 5.1e}\".format(max_Target_all_maxe),ha='left', va='bottom')\n",
    "    ax3.text(0,max_projectile_all_maxe,\"{: 5.1e}\".format(max_projectile_all_maxe),ha='left', va='bottom')\n",
    "    ax3.text(0,max_ambience_all_maxe,\"{: 5.1e}\".format(max_ambience_all_maxe),ha='left', va='bottom')\n",
    "    \n",
    "    ax3.legend(fontsize=8)\n",
    "    #ax3.set_aspect ('equal')\n",
    "    \n",
    "    # set axis labels\n",
    "    ax4.set_xlabel('t  [ns]')\n",
    "    ax4.set_ylabel('Ionization degree')\n",
    "    ax4.axvspan(0, ts*1e9, color='yellow', alpha=0.3)\n",
    "    \n",
    "    \n",
    "    ax4.plot(time,Target_impact_maxz, linewidth = 1.0,c=\"red\",zorder=1,label=\"Target_impact\")\n",
    "    ax4.plot(time,projectile_impact_maxz, linewidth = 1.0,c=\"green\",zorder=1,label=\"projectile_impact\")\n",
    "    ax4.plot(time,Target_all_maxz, linewidth = 1.0,c=\"red\",zorder=1,label=\"Target_all\",ls='--')\n",
    "    ax4.plot(time,projectile_all_maxz, linewidth = 1.0,c=\"green\",zorder=1,label=\"Projectile_all\",ls='--')\n",
    "    ax4.plot(time,ambience_all_maxz, linewidth = 1.0,c=\"blue\",zorder=1,label=\"Ambience_all\",ls='--')\n",
    "    \n",
    "    ax4.axhline(max_Target_impact_maxz, color = \"black\", alpha = 0.2, lw=1, linestyle = \"dashed\")\n",
    "    ax4.axhline(max_projectile_impact_maxz, color = \"black\", alpha = 0.2, lw=1, linestyle = \"dashed\")\n",
    "    ax4.axhline(max_Target_all_maxz, color = \"black\", alpha = 0.2, lw=1, linestyle = \"dashed\")\n",
    "    ax4.axhline(max_projectile_all_maxz, color = \"black\", alpha = 0.2, lw=1, linestyle = \"dashed\")\n",
    "    ax4.axhline(max_ambience_all_maxz, color = \"black\", alpha = 0.2, lw=1, linestyle = \"dashed\")\n",
    "    \n",
    "    ax4.text(0,max_Target_impact_maxz,\"{: 5.1e}\".format(max_Target_impact_maxz),ha='left', va='bottom')\n",
    "    ax4.text(0,max_projectile_impact_maxz,\"{: 5.1e}\".format(max_projectile_impact_maxz),ha='left', va='bottom')\n",
    "    ax4.text(0,max_Target_all_maxz,\"{: 5.1e}\".format(max_Target_all_maxz),ha='left', va='bottom')\n",
    "    ax4.text(0,max_projectile_all_maxz,\"{: 5.1e}\".format(max_projectile_all_maxz),ha='left', va='bottom')\n",
    "    ax4.text(0,max_ambience_all_maxz,\"{: 5.1e}\".format(max_ambience_all_maxz),ha='left', va='bottom')\n",
    "    \n",
    "    ax4.legend(fontsize=8)\n",
    "    #ax4.set_aspect ('equal')\n",
    "    \n",
    "    \n",
    "    # set axis labels\n",
    "    ax6.set_xlabel('t  [ns]')\n",
    "    ax6.set_ylabel('Density [g/cc]')\n",
    "    ax6.axvspan(0, ts*1e9, color='yellow', alpha=0.3)\n",
    "    \n",
    "    \n",
    "    ax6.plot(time,Target_impact_maxr, linewidth = 1.0,c=\"red\",zorder=1,label=\"Target_impact\")\n",
    "    ax6.plot(time,projectile_impact_maxr, linewidth = 1.0,c=\"green\",zorder=1,label=\"projectile_impact\")\n",
    "    ax6.plot(time,Target_all_maxr, linewidth = 1.0,c=\"red\",zorder=1,label=\"Target_all\",ls='--')\n",
    "    ax6.plot(time,projectile_all_maxr, linewidth = 1.0,c=\"green\",zorder=1,label=\"Projectile_all\",ls='--')\n",
    "    ax6.plot(time,ambience_all_maxr, linewidth = 1.0,c=\"blue\",zorder=1,label=\"Ambience_all\",ls='--')\n",
    "    \n",
    "    ax6.axhline(max_Target_impact_maxr, color = \"black\", alpha = 0.2, lw=1, linestyle = \"dashed\")\n",
    "    ax6.axhline(max_projectile_impact_maxr, color = \"black\", alpha = 0.2, lw=1, linestyle = \"dashed\")\n",
    "    ax6.axhline(max_Target_all_maxr, color = \"black\", alpha = 0.2, lw=1, linestyle = \"dashed\")\n",
    "    ax6.axhline(max_projectile_all_maxr, color = \"black\", alpha = 0.2, lw=1, linestyle = \"dashed\")\n",
    "    ax6.axhline(max_ambience_all_maxr, color = \"black\", alpha = 0.2, lw=1, linestyle = \"dashed\")\n",
    "    \n",
    "    ax6.text(0,max_Target_impact_maxr,\"{: 5.1e}\".format(max_Target_impact_maxr),ha='left', va='bottom')\n",
    "    ax6.text(0,max_projectile_impact_maxr,\"{: 5.1e}\".format(max_projectile_impact_maxr),ha='left', va='bottom')\n",
    "    ax6.text(0,max_Target_all_maxr,\"{: 5.1e}\".format(max_Target_all_maxr),ha='left', va='bottom')\n",
    "    ax6.text(0,max_projectile_all_maxr,\"{: 5.1e}\".format(max_projectile_all_maxr),ha='left', va='bottom')\n",
    "    ax6.text(0,max_ambience_all_maxr,\"{: 5.1e}\".format(max_ambience_all_maxr),ha='left', va='bottom')\n",
    "    \n",
    "    ax6.legend(fontsize=8)\n",
    "    #ax6.set_aspect ('equal')\n",
    "    \n",
    "    ax7.axvspan(0, ts*1e9, color='yellow', alpha=0.3)\n",
    "    ax7.plot(time,Target_1, linewidth = 1.0,c=\"red\",zorder=1,label=\"target\")\n",
    "    ax7.plot(time,projectile_1, linewidth = 1.0,c=\"green\",zorder=1,label=\"projectile\")\n",
    "    # set axis labels\n",
    "    ax7.set_xlabel('t  [ns]')\n",
    "    ax7.set_ylabel('material')\n",
    "    ax7.legend(fontsize=8)\n",
    "    \n",
    "    # set axis labels\n",
    "    ax9.set_xlabel('t  [ns]')\n",
    "    ax9.set_ylabel('Electron Density [/cc]')\n",
    "    ax9.axvspan(0, ts*1e9, color='yellow', alpha=0.3)\n",
    "    \n",
    "    ax9.plot(time,Target_impact_maxed, linewidth = 1.0,c=\"red\",zorder=1,label=\"Target_impact\")\n",
    "    ax9.plot(time,projectile_impact_maxed, linewidth = 1.0,c=\"green\",zorder=1,label=\"projectile_impact\")\n",
    "    ax9.plot(time,Target_all_maxed, linewidth = 1.0,c=\"red\",zorder=1,label=\"Target_all\",ls='--')\n",
    "    ax9.plot(time,projectile_all_maxed, linewidth = 1.0,c=\"green\",zorder=1,label=\"Projectile_all\",ls='--')\n",
    "    ax9.plot(time,ambience_all_maxed, linewidth = 1.0,c=\"blue\",zorder=1,label=\"Ambience_all\",ls='--')\n",
    "    \n",
    "    ax9.axhline(max_Target_impact_maxed, color = \"black\", alpha = 0.2, lw=1, linestyle = \"dashed\")\n",
    "    ax9.axhline(max_projectile_impact_maxed, color = \"black\", alpha = 0.2, lw=1, linestyle = \"dashed\")\n",
    "    ax9.axhline(max_Target_all_maxed, color = \"black\", alpha = 0.2, lw=1, linestyle = \"dashed\")\n",
    "    ax9.axhline(max_projectile_all_maxed, color = \"black\", alpha = 0.2, lw=1, linestyle = \"dashed\")\n",
    "    ax9.axhline(max_ambience_all_maxed, color = \"black\", alpha = 0.2, lw=1, linestyle = \"dashed\")\n",
    "    \n",
    "    ax9.text(0,max_Target_impact_maxed,\"{: 5.1e}\".format(max_Target_impact_maxed),ha='left', va='bottom')\n",
    "    ax9.text(0,max_projectile_impact_maxed,\"{: 5.1e}\".format(max_projectile_impact_maxed),ha='left', va='bottom')\n",
    "    ax9.text(0,max_Target_all_maxed,\"{: 5.1e}\".format(max_Target_all_maxed),ha='left', va='bottom')\n",
    "    ax9.text(0,max_projectile_all_maxed,\"{: 5.1e}\".format(max_projectile_all_maxed),ha='left', va='bottom')\n",
    "    ax9.text(0,max_ambience_all_maxed,\"{: 5.1e}\".format(max_ambience_all_maxed),ha='left', va='bottom')\n",
    "    \n",
    "    ax9.legend(fontsize=8)\n",
    "    \n",
    "    ax8.plot(time,i_1, linewidth = 1.0,c=\"blue\",zorder=1,label=\"j\")\n",
    "    ax8.set_ylabel('j')\n",
    "    ax8.set_yticks([0,1])\n",
    "    ax8.set_yticklabels(['0','1'])\n",
    "    \n",
    "    \n",
    "    h1, l1 = ax7.get_legend_handles_labels()\n",
    "    h2, l2 = ax8.get_legend_handles_labels()\n",
    "    ax7.legend(h1+h2, l1+l2, loc='upper right')\n",
    "    \n",
    "    if operation == \"actual\":\n",
    "      fig.savefig('./Python/P4P_plots/plots_{}.png'.format(d_name))\n",
    "    plt.show()\n",
    "    plt.close(fig)\n",
    "    \n",
    "    \n",
    "    max_tot_q = max(tot_q_all)\n",
    "    max_Ion_T_Target_ave_all = max(Ion_T_Target_ave_all)\n",
    "    max_Ion_T_Projectile_ave_all = max(Ion_T_Projectile_ave_all)\n",
    "    max_electron_density_ave = max(electron_density_ave)\n",
    "    max_Num_Ion_Target_all = max(Num_Ion_Target_all)\n",
    "    max_Num_Ion_Projectile_all = max(Num_Ion_Projectile_all)\n",
    "    \n",
    "    #time average\n",
    "    dt = np.zeros((len(time)), dtype=np.float32)\n",
    "    for i in np.arange(1,len(time),1):\n",
    "      dt[i] = time[i] - time[i-1]\n",
    "    if dt[i] == 0:\n",
    "        dt[i]=1\n",
    "    Ion_T_target_time_average = np.nansum(Ion_T_Target_ave_all * dt) / np.sum(dt)\n",
    "    Ion_T_projectile_time_average = np.nansum(Ion_T_Projectile_ave_all * dt) / np.sum(dt)\n",
    "    Ion_R_target_time_average = np.nansum(Ion_R_Target_ave_all * dt) / np.sum(dt)\n",
    "    Ion_R_projectile_time_average = np.nansum(Ion_R_Projectile_ave_all * dt) / np.sum(dt)\n",
    "    Ele_T_target_time_average = np.nansum(Ion_e_Target_ave_all * dt) / np.sum(dt)\n",
    "    Ele_T_projectile_time_average = np.nansum(Ion_e_Projectile_ave_all * dt) / np.sum(dt)\n",
    "    electron_density_time_average = np.nansum(electron_density_ave * dt) / np.sum(dt)\n",
    "    charge_time_average = np.nansum(tot_q_all * dt) / np.sum(dt)\n",
    "    Num_Ion_Target_time_average = np.nansum(Num_Ion_Target_all * dt) / np.sum(dt)\n",
    "    Num_Ion_Projectile_time_average = np.nansum(Num_Ion_Projectile_all * dt) / np.sum(dt)\n",
    "    \n",
    "    print(\"target_mol:\",Target_mol,\"[g/mol]\")\n",
    "    print(\"projectile_mol:\",Projectile_mol,\"[g/mol]\")\n",
    "    print(\"Ion_target_time_average:\",Ion_T_target_time_average,\"[eV]\")\n",
    "    print(\"Ion_projectile_time_average:\",Ion_T_projectile_time_average,\"[eV]\")\n",
    "    print(\"Ion_R_target_time_average:\",Ion_R_target_time_average,\"[/cc]\")\n",
    "    print(\"Ion_R_projectile_time_average:\",Ion_R_projectile_time_average,\"[/cc]\")\n",
    "    print(\"Ele_target_time_average:\",Ele_T_target_time_average,\"[eV]\")\n",
    "    print(\"Ele_projectile_time_average:\",Ele_T_projectile_time_average,\"[eV]\")\n",
    "    print(\"electron_density_time_average:\",electron_density_time_average,\"[/cc]\")\n",
    "    \n",
    "    #plots\n",
    "    fig = plt.figure(figsize=(27,7))\n",
    "    ax1 = fig.add_subplot(141)\n",
    "    ax2 = fig.add_subplot(142)\n",
    "    ax3 = fig.add_subplot(143)\n",
    "    ax4 = fig.add_subplot(144)\n",
    "    \n",
    "    #ax1 time vs Q\n",
    "    ax1.axvspan(0, ts*1e9, color='yellow', alpha=0.3)\n",
    "    ax1.plot(time,Target_q_all, linewidth = 1.0,c=\"red\",zorder=1,label=\"Target\")\n",
    "    ax1.plot(time,Projectile_q_all, linewidth = 1.0,c=\"green\",zorder=1,label=\"Projectile\")\n",
    "    ax1.plot(time,tot_q_all, linewidth = 1.0,c=\"blue\",zorder=1,label=\"Total\\nTime average:\\n {:.2e} [Q/kg]\".format(charge_time_average))\n",
    "    ax1.axhline(max_tot_q, color = \"black\", alpha = 0.2, lw=1, linestyle = \"dashed\")\n",
    "    ax1.text(0,max_tot_q,\"{: 5.2e}\".format(max_tot_q),ha='left', va='bottom')\n",
    "    ax1.set_xlabel('t  [ns]')\n",
    "    ax1.set_ylabel('Ion yield [Q]')\n",
    "    ax1.legend(fontsize=10)\n",
    "    \n",
    "    #ax2 time vs Erg\n",
    "    ax2.axvspan(0, ts*1e9, color='yellow', alpha=0.3)\n",
    "    ax2.plot(time,Ion_T_Target_ave_all, linewidth = 1.0,c=\"red\",zorder=1,label=\"Target\\nTime average:\\n {:.2e} [eV]\".format(Ion_T_target_time_average))\n",
    "    ax2.axhline(max_Ion_T_Target_ave_all, color = \"black\", alpha = 0.2, lw=1, linestyle = \"dashed\")\n",
    "    ax2.text(0,max_Ion_T_Target_ave_all,\"{: 5.2e}\".format(max_Ion_T_Target_ave_all),ha='left', va='bottom')\n",
    "    ax2.plot(time,Ion_T_Projectile_ave_all, linewidth = 1.0,c=\"green\",zorder=1,label=\"Projectile\\nTime average:\\n {:.2e} [eV]\".format(Ion_T_projectile_time_average))\n",
    "    ax2.axhline(max_Ion_T_Projectile_ave_all, color = \"black\", alpha = 0.2, lw=1, linestyle = \"dashed\")\n",
    "    ax2.text(0,max_Ion_T_Projectile_ave_all,\"{: 5.2e}\".format(max_Ion_T_Projectile_ave_all),ha='left', va='bottom')\n",
    "    ax2.set_xlabel('t  [ns]')\n",
    "    ax2.set_ylabel('Average Ion energy [eV]')\n",
    "    ax2.legend(fontsize=10)\n",
    "    \n",
    "    #ax3 time vs %\n",
    "    ax3.axvspan(0, ts*1e9, color='yellow', alpha=0.3)\n",
    "    ax3.plot(time,Num_Ion_Target_all, linewidth = 1.0,c=\"red\",zorder=1,label=\"Target\\nTime average:\\n {:.2e} [%]\".format(Num_Ion_Target_time_average))\n",
    "    ax3.axhline(max_Num_Ion_Target_all, color = \"black\", alpha = 0.2, lw=1, linestyle = \"dashed\")\n",
    "    ax3.text(0,max_Num_Ion_Target_all,\"{: 5.2e}\".format(max_Num_Ion_Target_all),ha='left', va='bottom')\n",
    "    ax3.plot(time,Num_Ion_Projectile_all, linewidth = 1.0,c=\"green\",zorder=1,label=\"Projectile\\nTime average:\\n {:.2e} [%]\".format(Num_Ion_Projectile_time_average))\n",
    "    ax3.axhline(max_Num_Ion_Projectile_all, color = \"black\", alpha = 0.2, lw=1, linestyle = \"dashed\")\n",
    "    ax3.text(0,max_Num_Ion_Projectile_all,\"{: 5.2e}\".format(max_Num_Ion_Projectile_all),ha='left', va='bottom')\n",
    "    ax3.set_xlabel('t  [ns]')\n",
    "    ax3.set_ylabel('Percentage of ion species [%]')\n",
    "    ax3.legend(fontsize=10)\n",
    "    \n",
    "    \n",
    "    ax4.axvspan(0, ts*1e9, color='yellow', alpha=0.3)\n",
    "    ax4.plot(time,electron_density_ave, linewidth = 1.0,c=\"blue\",zorder=1,label=\"Total\\nTime average:\\n {:.2e} [/cc]\".format(electron_density_time_average))\n",
    "    ax4.axhline(max_electron_density_ave, color = \"black\", alpha = 0.2, lw=1, linestyle = \"dashed\")\n",
    "    ax4.text(0,max_electron_density_ave,\"{: 5.2e}\".format(max_electron_density_ave),ha='left', va='bottom')\n",
    "    ax4.set_xlabel('t  [ns]')\n",
    "    ax4.set_ylabel('Electron density [/cc]')\n",
    "    ax4.legend(fontsize=10)\n",
    "    \n",
    "    if operation == \"actual\":\n",
    "      #Savefig\n",
    "      fig.savefig('./Python/P4P_charge/charge_{}.png'.format(d_name))\n",
    "    plt.show()\n",
    "    plt.close(fig)\n"
   ]
  },
  {
   "cell_type": "code",
   "execution_count": 42,
   "id": "66cddb7b-0360-4bfb-9212-601a15839854",
   "metadata": {},
   "outputs": [
    {
     "data": {
      "text/plain": [
       "(250, 202)"
      ]
     },
     "execution_count": 42,
     "metadata": {},
     "output_type": "execute_result"
    }
   ],
   "source": [
    "data[\"x\"].shape"
   ]
  },
  {
   "cell_type": "code",
   "execution_count": 13,
   "id": "a7684e37-3a0a-4433-981b-8d5249096937",
   "metadata": {},
   "outputs": [
    {
     "name": "stdout",
     "output_type": "stream",
     "text": [
      "impact_velocity: 17.800001 [km/s]\n",
      "251\n",
      "solid_ball_radius: 2.50e-08 [m]\n",
      "ts: 2.81e-12 [s]\n"
     ]
    }
   ],
   "source": [
    "file_path = \"./BIN_17/u0000.bin\"\n",
    "data = read_binary_with_structure(file_path)\n",
    "    \n",
    "x4 = data['x']\n",
    "y4 = data['y']\n",
    "u4 = data['u']\n",
    "all_z = data['zi']\n",
    "mtl = data['mtl']\n",
    "rho = data['rho']\n",
    "v_impact = -np.min(u4)\n",
    "print(\"impact_velocity:\",v_impact*1e-3,\"[km/s]\")\n",
    "projectile = np.where(u4[:,0] < 0)[0]\n",
    "print(len(projectile))\n",
    "solid_ball_radius = (len(projectile)-1)*grid_x/2\n",
    "print(\"solid_ball_radius: {:.2e} [m]\".format(solid_ball_radius))\n",
    "ts = 2*solid_ball_radius/(v_impact)\n",
    "print(\"ts: {:.2e} [s]\".format(ts))\n",
    "    "
   ]
  },
  {
   "cell_type": "code",
   "execution_count": 18,
   "id": "2349ccf8-2a4a-42df-8cf2-000bf878190b",
   "metadata": {},
   "outputs": [
    {
     "data": {
      "text/plain": [
       "251"
      ]
     },
     "execution_count": 18,
     "metadata": {},
     "output_type": "execute_result"
    }
   ],
   "source": [
    "len(np.where(u4[:,0] < 0)[0])"
   ]
  },
  {
   "cell_type": "code",
   "execution_count": 31,
   "id": "39e32e2f-fcdc-42e4-81ac-45203ec08301",
   "metadata": {},
   "outputs": [
    {
     "name": "stdout",
     "output_type": "stream",
     "text": [
      "Fitted parameters: c = 2.79e+03, beta = 1.92\n",
      "Fitted parameters: c = 4.24e+02, beta = 2.28\n",
      "Fitted parameters: c = 2.43e+03, beta = 1.38\n",
      "Fitted parameters: c = 4.82e+03, beta = 0.86\n"
     ]
    },
    {
     "data": {
      "image/png": "[encoded data removed]",
      "text/plain": [
       "<Figure size 600x500 with 1 Axes>"
      ]
     },
     "metadata": {},
     "output_type": "display_data"
    }
   ],
   "source": [
    "import numpy as np\n",
    "from scipy.optimize import curve_fit\n",
    "import matplotlib.pyplot as plt\n",
    "\n",
    "# Data\n",
    "velocity = np.array([17.8, 23.0, 27.3, 33.6, 44.0])  # km/s\n",
    "# q_per_kg = np.array([71121.35, 271019.16, 419758.98, 748169.50, 1644371.72])  # Q/kg\n",
    "q_per_kg_1 = np.array([3.30E+05,\n",
    "1.32E+06,\n",
    "1.75E+06,\n",
    "2.36E+06,\n",
    "3.95E+06])  # Q/kg\n",
    "q_per_kg_2 = np.array([1.44E+05,\n",
    "6.67E+05,\n",
    "7.26E+05,\n",
    "1.35E+06,\n",
    "2.34E+06])  # Q/kg\n",
    "q_per_kg_3 = np.array([2.08E+04,\n",
    "2.64E+05,\n",
    "2.54E+05,\n",
    "3.31E+05,\n",
    "4.34E+05])  # Q/kg\n",
    "q_per_kg_4 = np.array([6.72E+03,\n",
    "9.95E+04,\n",
    "1.05E+05,\n",
    "1.13E+05,\n",
    "1.04E+05])  # Q/kg\n",
    "\n",
    "\n",
    "\n",
    "\n",
    "# Define the power-law function (Q = c * v^beta)\n",
    "def power_law(v, c, beta):\n",
    "    return c * v ** beta\n",
    "\n",
    "# Fit the data\n",
    "popt, pcov = curve_fit(power_law, velocity, q_per_kg_1)\n",
    "c_1, beta_1 = popt\n",
    "# Print fitting results\n",
    "print(f\"Fitted parameters: c = {c_1:.2e}, beta = {beta_1:.2f}\")\n",
    "popt, pcov = curve_fit(power_law, velocity, q_per_kg_2)\n",
    "c_2, beta_2 = popt\n",
    "# Print fitting results\n",
    "print(f\"Fitted parameters: c = {c_2:.2e}, beta = {beta_2:.2f}\")\n",
    "popt, pcov = curve_fit(power_law, velocity, q_per_kg_3)\n",
    "c_3, beta_3 = popt\n",
    "# Print fitting results\n",
    "print(f\"Fitted parameters: c = {c_3:.2e}, beta = {beta_3:.2f}\")\n",
    "popt, pcov = curve_fit(power_law, velocity, q_per_kg_4)\n",
    "c_4, beta_4 = popt\n",
    "# Print fitting results\n",
    "print(f\"Fitted parameters: c = {c_4:.2e}, beta = {beta_4:.2f}\")\n",
    "\n",
    "# Generate data for plotting the fit curve\n",
    "v_fit = np.linspace(min(velocity), max(velocity), 100)\n",
    "q_fit_1 = power_law(v_fit, c_1, beta_1)\n",
    "q_fit_2 = power_law(v_fit, c_2, beta_2)\n",
    "q_fit_3 = power_law(v_fit, c_3, beta_3)\n",
    "q_fit_4 = power_law(v_fit, c_4, beta_4)\n",
    "q_fit_0= power_law(v_fit, 8.5e-3,4.74)\n",
    "\n",
    "# Plot the data and the fit on a log-log scale\n",
    "plt.figure(figsize=(6, 5))\n",
    "plt.loglog(velocity, q_per_kg_1, 'o', color=\"red\")  # Log-log scatter plot\n",
    "plt.loglog(velocity, q_per_kg_2, 'o', color=\"green\")  # Log-log scatter plot\n",
    "plt.loglog(velocity, q_per_kg_3, 'o', color=\"brown\")  # Log-log scatter plot\n",
    "plt.loglog(velocity, q_per_kg_4, 'o', color=\"purple\")  # Log-log scatter plot\n",
    "plt.loglog(v_fit, q_fit_1, label=f\"Q/m = {c_1:.2e} * v^{beta_1:.2f}\", color=\"red\")  # Log-log fit curve\n",
    "plt.loglog(v_fit, q_fit_2, label=f\"Q/m = {c_2:.2e} * v^{beta_2:.2f}\", color=\"green\")  # Log-log fit curve\n",
    "plt.loglog(v_fit, q_fit_3, label=f\"Q/m = {c_3:.2e} * v^{beta_3:.2f}\", color=\"brown\")  # Log-log fit curve\n",
    "plt.loglog(v_fit, q_fit_4, label=f\"Q/m = {c_4:.2e} * v^{beta_4:.2f}\", color=\"purple\")  # Log-log fit curve\n",
    "plt.loglog(v_fit, q_fit_0, label=f\"Q/m = 8.5e-3* v^4.74\", color=\"blue\")  # Log-log fit curve\n",
    "plt.xlabel(\"Velocity [km/s]\")\n",
    "plt.ylabel(\"Ion yield [Q/kg]\")\n",
    "plt.legend()\n",
    "plt.grid(which=\"both\", linestyle=\"--\", linewidth=0.5)\n",
    "plt.title(\"Log-Log Plot of Charge per Mass vs Velocity\")\n",
    "plt.show()\n"
   ]
  },
  {
   "cell_type": "code",
   "execution_count": 7,
   "id": "43fb44ca-2618-4715-b2ba-48ac56479e59",
   "metadata": {},
   "outputs": [
    {
     "name": "stdout",
     "output_type": "stream",
     "text": [
      "c = 8.5000e-03, a = 1.0000, b = 4.7400\n"
     ]
    }
   ],
   "source": [
    "import numpy as np\n",
    "from scipy.optimize import curve_fit\n",
    "\n",
    "# 実験データ\n",
    "Q = np.array([9.75E-13, 6.06E-13, 4.43E-13, 2.64E-13])\n",
    "m = np.array([3.69E-18, 2.38E-18, 1.34E-18, 6.08E-19])\n",
    "v = np.array([23.0, 27.3, 33.6, 44.0])\n",
    "\n",
    "# フィッティング関数\n",
    "def model_func(vars, c, a, b):\n",
    "    m, v = vars\n",
    "    return c * m**a * v**b\n",
    "\n",
    "# フィッティング\n",
    "initial_guess = [8.5e-3, 1.0, 4.74]  # 実験値に近い初期値\n",
    "params, covariance = curve_fit(\n",
    "    model_func, (m, v), Q, p0=initial_guess, maxfev=10000, bounds=([1e-5, 0, 0], [1e-1, 2, 10])\n",
    ")\n",
    "\n",
    "# 結果の出力\n",
    "c, a, b = params\n",
    "print(f\"c = {c:.4e}, a = {a:.4f}, b = {b:.4f}\")\n"
   ]
  },
  {
   "cell_type": "code",
   "execution_count": 16,
   "id": "ded39692-105b-43e5-bc80-d9bd5c786a7c",
   "metadata": {},
   "outputs": [
    {
     "data": {
      "image/png": "[encoded data removed]",
      "text/plain": [
       "<Figure size 640x480 with 1 Axes>"
      ]
     },
     "metadata": {},
     "output_type": "display_data"
    }
   ],
   "source": [
    "import numpy as np\n",
    "import matplotlib.pyplot as plt\n",
    "from scipy.optimize import minimize\n",
    "\n",
    "# 実験データ\n",
    "Q = np.array([9.75E-13, 6.06E-13, 4.43E-13, 2.64E-13])\n",
    "m = np.array([3.69E-18, 2.38E-18, 1.34E-18, 6.08E-19])\n",
    "v = np.array([23.0, 27.3, 33.6, 44.0])\n",
    "\n",
    "# コスト関数を定義（相対誤差）\n",
    "def cost_function(params, m, v, Q):\n",
    "    c, a, b = params\n",
    "    Q_pred = c * m**a * v**b\n",
    "    return np.sum(((Q - Q_pred) / Q)**2)  # 相対誤差の二乗を合計\n",
    "\n",
    "# 最適化\n",
    "initial_guess = [8.5e-3, 1.0, 4.74]\n",
    "result = minimize(cost_function, initial_guess, args=(m, v, Q), method='Nelder-Mead')\n",
    "c_fit, a_fit, b_fit = result.x\n",
    "\n",
    "# フィッティング結果で Q を計算\n",
    "Q_fit = c_fit * m**a_fit * v**b_fit\n",
    "\n",
    "# 先行研究の結果で Q を計算\n",
    "c_ref, a_ref, b_ref = 8.5e-3, 1.0, 4.74\n",
    "Q_ref = c_ref * m**a_ref * v**b_ref\n",
    "\n",
    "# グラフをプロット\n",
    "plt.scatter(v, Q, label='Observed Q', color='blue')        # 観測値\n",
    "plt.scatter(v, Q_fit, label='Fitted Q (this study)', color='red', marker='x')  # フィッティング値\n",
    "plt.scatter(v, Q_ref, label='Reference Q (previous study)', color='green', marker='s')  # 先行研究値\n",
    "\n",
    "# グラフの装飾\n",
    "plt.legend()\n",
    "plt.xlabel('v (km/s)')\n",
    "plt.ylabel('Q')\n",
    "plt.title('Observed vs Fitted Q with Reference Values')\n",
    "plt.grid(True)\n",
    "plt.show()\n"
   ]
  }
 ],
 "metadata": {
  "kernelspec": {
   "display_name": "Python 3 (ipykernel)",
   "language": "python",
   "name": "python3"
  },
  "language_info": {
   "codemirror_mode": {
    "name": "ipython",
    "version": 3
   },
   "file_extension": ".py",
   "mimetype": "text/x-python",
   "name": "python",
   "nbconvert_exporter": "python",
   "pygments_lexer": "ipython3",
   "version": "3.12.3"
  }
 },
 "nbformat": 4,
 "nbformat_minor": 5
}
